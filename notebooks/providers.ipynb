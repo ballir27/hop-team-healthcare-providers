{
 "cells": [
  {
   "cell_type": "code",
   "execution_count": 1,
   "id": "44c96c51",
   "metadata": {},
   "outputs": [],
   "source": [
    "import pandas as pd\n",
    "import numpy as np\n",
    "import sqlite3\n",
    "import time\n",
    "import matplotlib.pyplot as plt\n",
    "import plotly.express as px\n",
    "import plotly.graph_objects as go"
   ]
  },
  {
   "cell_type": "markdown",
   "id": "a641ba81",
   "metadata": {},
   "source": [
    "How many records does each dataset have in the sqlite db? "
   ]
  },
  {
   "cell_type": "code",
   "execution_count": 2,
   "id": "eb7e6403",
   "metadata": {},
   "outputs": [
    {
     "data": {
      "text/html": [
       "<div>\n",
       "<style scoped>\n",
       "    .dataframe tbody tr th:only-of-type {\n",
       "        vertical-align: middle;\n",
       "    }\n",
       "\n",
       "    .dataframe tbody tr th {\n",
       "        vertical-align: top;\n",
       "    }\n",
       "\n",
       "    .dataframe thead th {\n",
       "        text-align: right;\n",
       "    }\n",
       "</style>\n",
       "<table border=\"1\" class=\"dataframe\">\n",
       "  <thead>\n",
       "    <tr style=\"text-align: right;\">\n",
       "      <th></th>\n",
       "      <th>hopteaming_count</th>\n",
       "    </tr>\n",
       "  </thead>\n",
       "  <tbody>\n",
       "    <tr>\n",
       "      <th>0</th>\n",
       "      <td>34184634</td>\n",
       "    </tr>\n",
       "  </tbody>\n",
       "</table>\n",
       "</div>"
      ],
      "text/plain": [
       "   hopteaming_count\n",
       "0          34184634"
      ]
     },
     "execution_count": 2,
     "metadata": {},
     "output_type": "execute_result"
    }
   ],
   "source": [
    "query = \"\"\"\n",
    "SELECT COUNT(*) AS hopteaming_count\n",
    "FROM hopteaming\n",
    "\"\"\"\n",
    "\n",
    "with sqlite3.connect('../data/hop_teaming.sqlite') as db:\n",
    "    hopteaming_count = pd.read_sql(query, db)\n",
    "\n",
    "hopteaming_count.head(3)"
   ]
  },
  {
   "cell_type": "code",
   "execution_count": 3,
   "id": "beea9168",
   "metadata": {},
   "outputs": [
    {
     "data": {
      "text/html": [
       "<div>\n",
       "<style scoped>\n",
       "    .dataframe tbody tr th:only-of-type {\n",
       "        vertical-align: middle;\n",
       "    }\n",
       "\n",
       "    .dataframe tbody tr th {\n",
       "        vertical-align: top;\n",
       "    }\n",
       "\n",
       "    .dataframe thead th {\n",
       "        text-align: right;\n",
       "    }\n",
       "</style>\n",
       "<table border=\"1\" class=\"dataframe\">\n",
       "  <thead>\n",
       "    <tr style=\"text-align: right;\">\n",
       "      <th></th>\n",
       "      <th>taxonomy_count</th>\n",
       "    </tr>\n",
       "  </thead>\n",
       "  <tbody>\n",
       "    <tr>\n",
       "      <th>0</th>\n",
       "      <td>874</td>\n",
       "    </tr>\n",
       "  </tbody>\n",
       "</table>\n",
       "</div>"
      ],
      "text/plain": [
       "   taxonomy_count\n",
       "0             874"
      ]
     },
     "execution_count": 3,
     "metadata": {},
     "output_type": "execute_result"
    }
   ],
   "source": [
    "query = \"\"\"\n",
    "SELECT COUNT(*) AS taxonomy_count\n",
    "FROM taxonomy\n",
    "\"\"\"\n",
    "\n",
    "with sqlite3.connect('../data/hop_teaming.sqlite') as db:\n",
    "    taxonomy_count = pd.read_sql(query, db)\n",
    "\n",
    "taxonomy_count.head(3)"
   ]
  },
  {
   "cell_type": "code",
   "execution_count": 4,
   "id": "5d9705f4",
   "metadata": {},
   "outputs": [
    {
     "data": {
      "text/html": [
       "<div>\n",
       "<style scoped>\n",
       "    .dataframe tbody tr th:only-of-type {\n",
       "        vertical-align: middle;\n",
       "    }\n",
       "\n",
       "    .dataframe tbody tr th {\n",
       "        vertical-align: top;\n",
       "    }\n",
       "\n",
       "    .dataframe thead th {\n",
       "        text-align: right;\n",
       "    }\n",
       "</style>\n",
       "<table border=\"1\" class=\"dataframe\">\n",
       "  <thead>\n",
       "    <tr style=\"text-align: right;\">\n",
       "      <th></th>\n",
       "      <th>npi_count</th>\n",
       "    </tr>\n",
       "  </thead>\n",
       "  <tbody>\n",
       "    <tr>\n",
       "      <th>0</th>\n",
       "      <td>8180697</td>\n",
       "    </tr>\n",
       "  </tbody>\n",
       "</table>\n",
       "</div>"
      ],
      "text/plain": [
       "   npi_count\n",
       "0    8180697"
      ]
     },
     "execution_count": 4,
     "metadata": {},
     "output_type": "execute_result"
    }
   ],
   "source": [
    "query = \"\"\"\n",
    "SELECT COUNT(*) AS npi_count\n",
    "FROM npi\n",
    "\"\"\"\n",
    "\n",
    "with sqlite3.connect('../data/hop_teaming.sqlite') as db:\n",
    "    npi_count = pd.read_sql(query, db)\n",
    "\n",
    "npi_count.head(3)"
   ]
  },
  {
   "cell_type": "code",
   "execution_count": 5,
   "id": "75ad5041",
   "metadata": {},
   "outputs": [
    {
     "data": {
      "text/html": [
       "<div>\n",
       "<style scoped>\n",
       "    .dataframe tbody tr th:only-of-type {\n",
       "        vertical-align: middle;\n",
       "    }\n",
       "\n",
       "    .dataframe tbody tr th {\n",
       "        vertical-align: top;\n",
       "    }\n",
       "\n",
       "    .dataframe thead th {\n",
       "        text-align: right;\n",
       "    }\n",
       "</style>\n",
       "<table border=\"1\" class=\"dataframe\">\n",
       "  <thead>\n",
       "    <tr style=\"text-align: right;\">\n",
       "      <th></th>\n",
       "      <th>zip_count</th>\n",
       "    </tr>\n",
       "  </thead>\n",
       "  <tbody>\n",
       "    <tr>\n",
       "      <th>0</th>\n",
       "      <td>47598</td>\n",
       "    </tr>\n",
       "  </tbody>\n",
       "</table>\n",
       "</div>"
      ],
      "text/plain": [
       "   zip_count\n",
       "0      47598"
      ]
     },
     "execution_count": 5,
     "metadata": {},
     "output_type": "execute_result"
    }
   ],
   "source": [
    "query = \"\"\"\n",
    "SELECT COUNT(*) AS zip_count\n",
    "FROM zip_cbsa\n",
    "\"\"\"\n",
    "\n",
    "with sqlite3.connect('../data/hop_teaming.sqlite') as db:\n",
    "    zip_count = pd.read_sql(query, db)\n",
    "\n",
    "zip_count.head(3)"
   ]
  },
  {
   "cell_type": "code",
   "execution_count": 6,
   "id": "370b9b8a",
   "metadata": {},
   "outputs": [
    {
     "name": "stdout",
     "output_type": "stream",
     "text": [
      "Execution time: 0.036902666091918945 seconds\n"
     ]
    },
    {
     "data": {
      "text/html": [
       "<div>\n",
       "<style scoped>\n",
       "    .dataframe tbody tr th:only-of-type {\n",
       "        vertical-align: middle;\n",
       "    }\n",
       "\n",
       "    .dataframe tbody tr th {\n",
       "        vertical-align: top;\n",
       "    }\n",
       "\n",
       "    .dataframe thead th {\n",
       "        text-align: right;\n",
       "    }\n",
       "</style>\n",
       "<table border=\"1\" class=\"dataframe\">\n",
       "  <thead>\n",
       "    <tr style=\"text-align: right;\">\n",
       "      <th></th>\n",
       "      <th>zip</th>\n",
       "      <th>cbsa</th>\n",
       "      <th>usps_zip_pref_city</th>\n",
       "      <th>usps_zip_pref_state</th>\n",
       "      <th>res_ratio</th>\n",
       "      <th>bus_ratio</th>\n",
       "      <th>oth_ratio</th>\n",
       "      <th>tot_ratio</th>\n",
       "    </tr>\n",
       "  </thead>\n",
       "  <tbody>\n",
       "    <tr>\n",
       "      <th>0</th>\n",
       "      <td>37010</td>\n",
       "      <td>34980</td>\n",
       "      <td>ADAMS</td>\n",
       "      <td>TN</td>\n",
       "      <td>0.358611</td>\n",
       "      <td>0.909091</td>\n",
       "      <td>1.0</td>\n",
       "      <td>0.370867</td>\n",
       "    </tr>\n",
       "    <tr>\n",
       "      <th>1</th>\n",
       "      <td>37011</td>\n",
       "      <td>34980</td>\n",
       "      <td>ANTIOCH</td>\n",
       "      <td>TN</td>\n",
       "      <td>1.000000</td>\n",
       "      <td>1.000000</td>\n",
       "      <td>1.0</td>\n",
       "      <td>1.000000</td>\n",
       "    </tr>\n",
       "    <tr>\n",
       "      <th>2</th>\n",
       "      <td>37012</td>\n",
       "      <td>34980</td>\n",
       "      <td>ALEXANDRIA</td>\n",
       "      <td>TN</td>\n",
       "      <td>0.219592</td>\n",
       "      <td>0.043478</td>\n",
       "      <td>0.0</td>\n",
       "      <td>0.211719</td>\n",
       "    </tr>\n",
       "  </tbody>\n",
       "</table>\n",
       "</div>"
      ],
      "text/plain": [
       "     zip   cbsa usps_zip_pref_city usps_zip_pref_state  res_ratio  bus_ratio  \\\n",
       "0  37010  34980              ADAMS                  TN   0.358611   0.909091   \n",
       "1  37011  34980            ANTIOCH                  TN   1.000000   1.000000   \n",
       "2  37012  34980         ALEXANDRIA                  TN   0.219592   0.043478   \n",
       "\n",
       "   oth_ratio  tot_ratio  \n",
       "0        1.0   0.370867  \n",
       "1        1.0   1.000000  \n",
       "2        0.0   0.211719  "
      ]
     },
     "execution_count": 6,
     "metadata": {},
     "output_type": "execute_result"
    }
   ],
   "source": [
    "query = \"\"\"\n",
    "SELECT * \n",
    "FROM zip_cbsa\n",
    "WHERE cbsa = 34980\n",
    "\"\"\"\n",
    "start_time = time.time()\n",
    "\n",
    "with sqlite3.connect('../data/data2/hop_teaming.sqlite') as db:\n",
    "    nashville_cbsa = pd.read_sql(query, db)\n",
    "    \n",
    "end_time = time.time()\n",
    "print(\"Execution time:\", end_time - start_time, \"seconds\")\n",
    "\n",
    "nashville_cbsa.head(3)"
   ]
  },
  {
   "cell_type": "markdown",
   "id": "386174c4",
   "metadata": {},
   "source": [
    "After creating the sqlite database for the four datasets (hopteaming, taxonomy, zip_cbsa, and npi), merge datasets. \n",
    "- Next, download the **taxonomy** code to classification crosswalk from the National Uniform Claim Committee (https://www.nucc.org/index.php/code-sets-mainmenu-41/provider-taxonomy-mainmenu-40/csv-mainmenu-57). Using the primary taxonomy code, match each provider to a classification (from the Classification column).\n",
    "- Finally, you need the **Zip code** to CBSA crosswalk from here: https://www.huduser.gov/portal/datasets/usps_crosswalk.html. Match each provider to a CBSA using the Business Zip code. Note that the zipcodes in the nppes dataset are either 5 or 9 digits, and be mindful that leading zeros might be dropped when reading the dataset into a dataframe. This can be used if you want to filter to providers just in the Nashville CBSA."
   ]
  },
  {
   "cell_type": "code",
   "execution_count": 7,
   "id": "3546852d",
   "metadata": {
    "scrolled": true
   },
   "outputs": [
    {
     "name": "stdout",
     "output_type": "stream",
     "text": [
      "Execution time: 14.13221526145935 seconds\n"
     ]
    },
    {
     "data": {
      "text/html": [
       "<div>\n",
       "<style scoped>\n",
       "    .dataframe tbody tr th:only-of-type {\n",
       "        vertical-align: middle;\n",
       "    }\n",
       "\n",
       "    .dataframe tbody tr th {\n",
       "        vertical-align: top;\n",
       "    }\n",
       "\n",
       "    .dataframe thead th {\n",
       "        text-align: right;\n",
       "    }\n",
       "</style>\n",
       "<table border=\"1\" class=\"dataframe\">\n",
       "  <thead>\n",
       "    <tr style=\"text-align: right;\">\n",
       "      <th></th>\n",
       "      <th>npi</th>\n",
       "      <th>entity_type_code</th>\n",
       "      <th>provider_organization_name_(legal_business_name)</th>\n",
       "      <th>provider_last_name_(legal_name)</th>\n",
       "      <th>provider_first_name</th>\n",
       "      <th>provider_middle_name</th>\n",
       "      <th>provider_name_prefix_text</th>\n",
       "      <th>provider_name_suffix_text</th>\n",
       "      <th>provider_credential_text</th>\n",
       "      <th>provider_first_line_business_practice_location_address</th>\n",
       "      <th>...</th>\n",
       "      <th>display_name</th>\n",
       "      <th>section</th>\n",
       "      <th>zip</th>\n",
       "      <th>cbsa</th>\n",
       "      <th>usps_zip_pref_city</th>\n",
       "      <th>usps_zip_pref_state</th>\n",
       "      <th>res_ratio</th>\n",
       "      <th>bus_ratio</th>\n",
       "      <th>oth_ratio</th>\n",
       "      <th>tot_ratio</th>\n",
       "    </tr>\n",
       "  </thead>\n",
       "  <tbody>\n",
       "    <tr>\n",
       "      <th>0</th>\n",
       "      <td>1013983808</td>\n",
       "      <td>1.0</td>\n",
       "      <td>None</td>\n",
       "      <td>SMITH</td>\n",
       "      <td>BEVERLY</td>\n",
       "      <td>KAY</td>\n",
       "      <td>MRS.</td>\n",
       "      <td>None</td>\n",
       "      <td>NP</td>\n",
       "      <td>836 DIXIE BEE RD</td>\n",
       "      <td>...</td>\n",
       "      <td>Family Nurse Practitioner</td>\n",
       "      <td>Individual</td>\n",
       "      <td>37010</td>\n",
       "      <td>34980</td>\n",
       "      <td>ADAMS</td>\n",
       "      <td>TN</td>\n",
       "      <td>0.358611</td>\n",
       "      <td>0.909091</td>\n",
       "      <td>1.0</td>\n",
       "      <td>0.370867</td>\n",
       "    </tr>\n",
       "    <tr>\n",
       "      <th>1</th>\n",
       "      <td>1346216199</td>\n",
       "      <td>1.0</td>\n",
       "      <td>None</td>\n",
       "      <td>GERTONSON</td>\n",
       "      <td>STEVEN</td>\n",
       "      <td>FREDRICK</td>\n",
       "      <td>MR.</td>\n",
       "      <td>None</td>\n",
       "      <td>CRNA</td>\n",
       "      <td>1950 BRADBURY RD</td>\n",
       "      <td>...</td>\n",
       "      <td>Certified Registered Nurse Anesthetist</td>\n",
       "      <td>Individual</td>\n",
       "      <td>37010</td>\n",
       "      <td>34980</td>\n",
       "      <td>ADAMS</td>\n",
       "      <td>TN</td>\n",
       "      <td>0.358611</td>\n",
       "      <td>0.909091</td>\n",
       "      <td>1.0</td>\n",
       "      <td>0.370867</td>\n",
       "    </tr>\n",
       "    <tr>\n",
       "      <th>2</th>\n",
       "      <td>1649660085</td>\n",
       "      <td>1.0</td>\n",
       "      <td>None</td>\n",
       "      <td>SMITH</td>\n",
       "      <td>KALEENA</td>\n",
       "      <td>DANIELLE</td>\n",
       "      <td>None</td>\n",
       "      <td>None</td>\n",
       "      <td>M.S., CCC-SLP</td>\n",
       "      <td>948 NECTAR CT</td>\n",
       "      <td>...</td>\n",
       "      <td>Speech-Language Pathologist</td>\n",
       "      <td>Individual</td>\n",
       "      <td>37010</td>\n",
       "      <td>34980</td>\n",
       "      <td>ADAMS</td>\n",
       "      <td>TN</td>\n",
       "      <td>0.358611</td>\n",
       "      <td>0.909091</td>\n",
       "      <td>1.0</td>\n",
       "      <td>0.370867</td>\n",
       "    </tr>\n",
       "  </tbody>\n",
       "</table>\n",
       "<p>3 rows × 31 columns</p>\n",
       "</div>"
      ],
      "text/plain": [
       "          npi  entity_type_code  \\\n",
       "0  1013983808               1.0   \n",
       "1  1346216199               1.0   \n",
       "2  1649660085               1.0   \n",
       "\n",
       "  provider_organization_name_(legal_business_name)  \\\n",
       "0                                             None   \n",
       "1                                             None   \n",
       "2                                             None   \n",
       "\n",
       "  provider_last_name_(legal_name) provider_first_name provider_middle_name  \\\n",
       "0                           SMITH             BEVERLY                  KAY   \n",
       "1                       GERTONSON              STEVEN             FREDRICK   \n",
       "2                           SMITH             KALEENA             DANIELLE   \n",
       "\n",
       "  provider_name_prefix_text provider_name_suffix_text  \\\n",
       "0                      MRS.                      None   \n",
       "1                       MR.                      None   \n",
       "2                      None                      None   \n",
       "\n",
       "  provider_credential_text  \\\n",
       "0                       NP   \n",
       "1                     CRNA   \n",
       "2            M.S., CCC-SLP   \n",
       "\n",
       "  provider_first_line_business_practice_location_address  ...  \\\n",
       "0                                   836 DIXIE BEE RD      ...   \n",
       "1                                   1950 BRADBURY RD      ...   \n",
       "2                                      948 NECTAR CT      ...   \n",
       "\n",
       "                             display_name     section    zip   cbsa  \\\n",
       "0               Family Nurse Practitioner  Individual  37010  34980   \n",
       "1  Certified Registered Nurse Anesthetist  Individual  37010  34980   \n",
       "2             Speech-Language Pathologist  Individual  37010  34980   \n",
       "\n",
       "   usps_zip_pref_city usps_zip_pref_state res_ratio bus_ratio oth_ratio  \\\n",
       "0               ADAMS                  TN  0.358611  0.909091       1.0   \n",
       "1               ADAMS                  TN  0.358611  0.909091       1.0   \n",
       "2               ADAMS                  TN  0.358611  0.909091       1.0   \n",
       "\n",
       "  tot_ratio  \n",
       "0  0.370867  \n",
       "1  0.370867  \n",
       "2  0.370867  \n",
       "\n",
       "[3 rows x 31 columns]"
      ]
     },
     "execution_count": 7,
     "metadata": {},
     "output_type": "execute_result"
    }
   ],
   "source": [
    "query = \"\"\"\n",
    "SELECT *\n",
    "FROM npi \n",
    "LEFT JOIN taxonomy\n",
    "ON npi.healthcare_provider_taxonomy_code = taxonomy.code\n",
    "INNER JOIN zip_cbsa\n",
    "ON npi.zip = zip_cbsa.zip\n",
    "WHERE cbsa = 34980;\n",
    "\"\"\"\n",
    "start_time = time.time()\n",
    "\n",
    "with sqlite3.connect('../data/hop_teaming.sqlite') as db:\n",
    "    npi_nash  = pd.read_sql(query, db)\n",
    "    \n",
    "end_time = time.time()\n",
    "print(\"Execution time:\", end_time - start_time, \"seconds\")\n",
    "    \n",
    "npi_nash.head(3)"
   ]
  },
  {
   "cell_type": "code",
   "execution_count": 8,
   "id": "a545d97e",
   "metadata": {
    "scrolled": false
   },
   "outputs": [
    {
     "data": {
      "text/plain": [
       "50824"
      ]
     },
     "execution_count": 8,
     "metadata": {},
     "output_type": "execute_result"
    }
   ],
   "source": [
    "len(npi_nash)"
   ]
  },
  {
   "cell_type": "markdown",
   "id": "5a8e59bf",
   "metadata": {},
   "source": [
    "**Tasks:**\n",
    "\n",
    "- **First, build a profile of providers referring patients to the major hospitals in Nashville. Are certain specialties more likely to refer to a particular hospital over the others?**"
   ]
  },
  {
   "cell_type": "code",
   "execution_count": 9,
   "id": "087b09e4",
   "metadata": {
    "scrolled": true
   },
   "outputs": [
    {
     "data": {
      "text/plain": [
       "provider_organization_name_(legal_business_name)\n",
       "WALGREEN CO                                 97\n",
       "RESULTS-AST JV, LLC                         86\n",
       "KROGER LIMITED PARTNERSHIP I                56\n",
       "ADVANCED DIAGNOSTIC IMAGING, PC             53\n",
       "VANDERBILT UNIVERSITY MEDICAL CENTER        39\n",
       "WAL-MART STORES EAST LP                     37\n",
       "TENNESSEE ONCOLOGY PHARMACY DISPENSING      35\n",
       "STATE OF TENNESSEE                          34\n",
       "PUBLIX TENNESSEE LLC                        30\n",
       "WAL-MART STORES EAST, LP                    29\n",
       "TENNESSEE ONCOLOGY PLLC                     28\n",
       "TENNESSEE CVS PHARMACY, L.L.C.              27\n",
       "TENNESSEE ORTHOPAEDIC ALLIANCE PA           25\n",
       "HCA HEALTH SERVICES OF TENNESSEE, INC.      23\n",
       "MONOGRAM HEALTH PROFESSIONAL SERVICES PC    22\n",
       "VANDERBILT UNIVERSITY                       20\n",
       "TENNESSEE DENTAL PROFESSIONALS PC           18\n",
       "TENNESSEE CVS PHARMACY LLC                  18\n",
       "CENTERSTONE                                 17\n",
       "MINDCARE SOLUTIONS, P.C.                    17\n",
       "Name: npi, dtype: int64"
      ]
     },
     "execution_count": 9,
     "metadata": {},
     "output_type": "execute_result"
    }
   ],
   "source": [
    "top_businesses = npi_nash.groupby(\"provider_organization_name_(legal_business_name)\")[\"npi\"].count()\n",
    "\n",
    "top_businesses.sort_values(ascending = False).head(20)"
   ]
  },
  {
   "cell_type": "markdown",
   "id": "c8c582bc",
   "metadata": {},
   "source": [
    "**Create a dataframe from the list of *from providers* and *to providers* after merging npi_nash df to hopteaming df.**"
   ]
  },
  {
   "cell_type": "code",
   "execution_count": 10,
   "id": "69b785a0",
   "metadata": {
    "scrolled": true
   },
   "outputs": [
    {
     "name": "stdout",
     "output_type": "stream",
     "text": [
      "Execution time: 43.22754096984863 seconds\n"
     ]
    },
    {
     "data": {
      "text/html": [
       "<div>\n",
       "<style scoped>\n",
       "    .dataframe tbody tr th:only-of-type {\n",
       "        vertical-align: middle;\n",
       "    }\n",
       "\n",
       "    .dataframe tbody tr th {\n",
       "        vertical-align: top;\n",
       "    }\n",
       "\n",
       "    .dataframe thead th {\n",
       "        text-align: right;\n",
       "    }\n",
       "</style>\n",
       "<table border=\"1\" class=\"dataframe\">\n",
       "  <thead>\n",
       "    <tr style=\"text-align: right;\">\n",
       "      <th></th>\n",
       "      <th>npi</th>\n",
       "      <th>entity_type_code</th>\n",
       "      <th>provider_organization_name_(legal_business_name)</th>\n",
       "      <th>provider_last_name_(legal_name)</th>\n",
       "      <th>provider_first_name</th>\n",
       "      <th>provider_middle_name</th>\n",
       "      <th>provider_name_prefix_text</th>\n",
       "      <th>provider_name_suffix_text</th>\n",
       "      <th>provider_credential_text</th>\n",
       "      <th>provider_first_line_business_practice_location_address</th>\n",
       "      <th>...</th>\n",
       "      <th>res_ratio</th>\n",
       "      <th>bus_ratio</th>\n",
       "      <th>oth_ratio</th>\n",
       "      <th>tot_ratio</th>\n",
       "      <th>from_npi</th>\n",
       "      <th>to_npi</th>\n",
       "      <th>patient_count</th>\n",
       "      <th>transaction_count</th>\n",
       "      <th>average_day_wait</th>\n",
       "      <th>std_day_wait</th>\n",
       "    </tr>\n",
       "  </thead>\n",
       "  <tbody>\n",
       "    <tr>\n",
       "      <th>0</th>\n",
       "      <td>1013012616</td>\n",
       "      <td>2.0</td>\n",
       "      <td>CRIPPS, HOOPER &amp; RHODY, PLLC</td>\n",
       "      <td>None</td>\n",
       "      <td>None</td>\n",
       "      <td>None</td>\n",
       "      <td>None</td>\n",
       "      <td>None</td>\n",
       "      <td>None</td>\n",
       "      <td>400 E PUBLIC SQUARE</td>\n",
       "      <td>...</td>\n",
       "      <td>0.219592</td>\n",
       "      <td>0.043478</td>\n",
       "      <td>0.0</td>\n",
       "      <td>0.211719</td>\n",
       "      <td>1013012616</td>\n",
       "      <td>1093741464</td>\n",
       "      <td>57</td>\n",
       "      <td>72</td>\n",
       "      <td>46.208</td>\n",
       "      <td>58.027</td>\n",
       "    </tr>\n",
       "    <tr>\n",
       "      <th>1</th>\n",
       "      <td>1013012616</td>\n",
       "      <td>2.0</td>\n",
       "      <td>CRIPPS, HOOPER &amp; RHODY, PLLC</td>\n",
       "      <td>None</td>\n",
       "      <td>None</td>\n",
       "      <td>None</td>\n",
       "      <td>None</td>\n",
       "      <td>None</td>\n",
       "      <td>None</td>\n",
       "      <td>400 E PUBLIC SQUARE</td>\n",
       "      <td>...</td>\n",
       "      <td>0.219592</td>\n",
       "      <td>0.043478</td>\n",
       "      <td>0.0</td>\n",
       "      <td>0.211719</td>\n",
       "      <td>1013012616</td>\n",
       "      <td>1104202761</td>\n",
       "      <td>47</td>\n",
       "      <td>65</td>\n",
       "      <td>39.769</td>\n",
       "      <td>38.317</td>\n",
       "    </tr>\n",
       "    <tr>\n",
       "      <th>2</th>\n",
       "      <td>1013012616</td>\n",
       "      <td>2.0</td>\n",
       "      <td>CRIPPS, HOOPER &amp; RHODY, PLLC</td>\n",
       "      <td>None</td>\n",
       "      <td>None</td>\n",
       "      <td>None</td>\n",
       "      <td>None</td>\n",
       "      <td>None</td>\n",
       "      <td>None</td>\n",
       "      <td>400 E PUBLIC SQUARE</td>\n",
       "      <td>...</td>\n",
       "      <td>0.219592</td>\n",
       "      <td>0.043478</td>\n",
       "      <td>0.0</td>\n",
       "      <td>0.211719</td>\n",
       "      <td>1013012616</td>\n",
       "      <td>1295726032</td>\n",
       "      <td>160</td>\n",
       "      <td>303</td>\n",
       "      <td>7.868</td>\n",
       "      <td>28.727</td>\n",
       "    </tr>\n",
       "  </tbody>\n",
       "</table>\n",
       "<p>3 rows × 37 columns</p>\n",
       "</div>"
      ],
      "text/plain": [
       "          npi  entity_type_code  \\\n",
       "0  1013012616               2.0   \n",
       "1  1013012616               2.0   \n",
       "2  1013012616               2.0   \n",
       "\n",
       "  provider_organization_name_(legal_business_name)  \\\n",
       "0                     CRIPPS, HOOPER & RHODY, PLLC   \n",
       "1                     CRIPPS, HOOPER & RHODY, PLLC   \n",
       "2                     CRIPPS, HOOPER & RHODY, PLLC   \n",
       "\n",
       "  provider_last_name_(legal_name) provider_first_name provider_middle_name  \\\n",
       "0                            None                None                 None   \n",
       "1                            None                None                 None   \n",
       "2                            None                None                 None   \n",
       "\n",
       "  provider_name_prefix_text provider_name_suffix_text  \\\n",
       "0                      None                      None   \n",
       "1                      None                      None   \n",
       "2                      None                      None   \n",
       "\n",
       "  provider_credential_text  \\\n",
       "0                     None   \n",
       "1                     None   \n",
       "2                     None   \n",
       "\n",
       "  provider_first_line_business_practice_location_address  ... res_ratio  \\\n",
       "0                                400 E PUBLIC SQUARE      ...  0.219592   \n",
       "1                                400 E PUBLIC SQUARE      ...  0.219592   \n",
       "2                                400 E PUBLIC SQUARE      ...  0.219592   \n",
       "\n",
       "  bus_ratio oth_ratio tot_ratio    from_npi      to_npi patient_count  \\\n",
       "0  0.043478       0.0  0.211719  1013012616  1093741464            57   \n",
       "1  0.043478       0.0  0.211719  1013012616  1104202761            47   \n",
       "2  0.043478       0.0  0.211719  1013012616  1295726032           160   \n",
       "\n",
       "  transaction_count average_day_wait std_day_wait  \n",
       "0                72           46.208       58.027  \n",
       "1                65           39.769       38.317  \n",
       "2               303            7.868       28.727  \n",
       "\n",
       "[3 rows x 37 columns]"
      ]
     },
     "execution_count": 10,
     "metadata": {},
     "output_type": "execute_result"
    }
   ],
   "source": [
    "query = \"\"\"\n",
    "SELECT *\n",
    "FROM npi \n",
    "LEFT JOIN taxonomy\n",
    "ON npi.healthcare_provider_taxonomy_code = taxonomy.code\n",
    "INNER JOIN zip_cbsa\n",
    "ON npi.zip = zip_cbsa.zip\n",
    "INNER JOIN hopteaming\n",
    "ON npi.npi = hopteaming.from_npi\n",
    "WHERE cbsa = 34980;\n",
    "\"\"\"\n",
    "start_time = time.time()\n",
    "\n",
    "with sqlite3.connect('../data/hop_teaming.sqlite') as db:\n",
    "    nashnpi_from_npi  = pd.read_sql(query, db)\n",
    "    \n",
    "end_time = time.time()\n",
    "print(\"Execution time:\", end_time - start_time, \"seconds\")\n",
    "    \n",
    "nashnpi_from_npi.head(3)"
   ]
  },
  {
   "cell_type": "code",
   "execution_count": 11,
   "id": "efa3022f",
   "metadata": {
    "scrolled": false
   },
   "outputs": [
    {
     "name": "stdout",
     "output_type": "stream",
     "text": [
      "Execution time: 25.166149854660034 seconds\n"
     ]
    },
    {
     "data": {
      "text/html": [
       "<div>\n",
       "<style scoped>\n",
       "    .dataframe tbody tr th:only-of-type {\n",
       "        vertical-align: middle;\n",
       "    }\n",
       "\n",
       "    .dataframe tbody tr th {\n",
       "        vertical-align: top;\n",
       "    }\n",
       "\n",
       "    .dataframe thead th {\n",
       "        text-align: right;\n",
       "    }\n",
       "</style>\n",
       "<table border=\"1\" class=\"dataframe\">\n",
       "  <thead>\n",
       "    <tr style=\"text-align: right;\">\n",
       "      <th></th>\n",
       "      <th>npi</th>\n",
       "      <th>entity_type_code</th>\n",
       "      <th>provider_organization_name_(legal_business_name)</th>\n",
       "      <th>provider_last_name_(legal_name)</th>\n",
       "      <th>provider_first_name</th>\n",
       "      <th>provider_middle_name</th>\n",
       "      <th>provider_name_prefix_text</th>\n",
       "      <th>provider_name_suffix_text</th>\n",
       "      <th>provider_credential_text</th>\n",
       "      <th>provider_first_line_business_practice_location_address</th>\n",
       "      <th>...</th>\n",
       "      <th>res_ratio</th>\n",
       "      <th>bus_ratio</th>\n",
       "      <th>oth_ratio</th>\n",
       "      <th>tot_ratio</th>\n",
       "      <th>from_npi</th>\n",
       "      <th>to_npi</th>\n",
       "      <th>patient_count</th>\n",
       "      <th>transaction_count</th>\n",
       "      <th>average_day_wait</th>\n",
       "      <th>std_day_wait</th>\n",
       "    </tr>\n",
       "  </thead>\n",
       "  <tbody>\n",
       "    <tr>\n",
       "      <th>0</th>\n",
       "      <td>1013012616</td>\n",
       "      <td>2.0</td>\n",
       "      <td>CRIPPS, HOOPER &amp; RHODY, PLLC</td>\n",
       "      <td>None</td>\n",
       "      <td>None</td>\n",
       "      <td>None</td>\n",
       "      <td>None</td>\n",
       "      <td>None</td>\n",
       "      <td>None</td>\n",
       "      <td>400 E PUBLIC SQUARE</td>\n",
       "      <td>...</td>\n",
       "      <td>0.219592</td>\n",
       "      <td>0.043478</td>\n",
       "      <td>0.0</td>\n",
       "      <td>0.211719</td>\n",
       "      <td>1821080961</td>\n",
       "      <td>1013012616</td>\n",
       "      <td>91</td>\n",
       "      <td>238</td>\n",
       "      <td>9.924</td>\n",
       "      <td>40.266</td>\n",
       "    </tr>\n",
       "    <tr>\n",
       "      <th>1</th>\n",
       "      <td>1013012616</td>\n",
       "      <td>2.0</td>\n",
       "      <td>CRIPPS, HOOPER &amp; RHODY, PLLC</td>\n",
       "      <td>None</td>\n",
       "      <td>None</td>\n",
       "      <td>None</td>\n",
       "      <td>None</td>\n",
       "      <td>None</td>\n",
       "      <td>None</td>\n",
       "      <td>400 E PUBLIC SQUARE</td>\n",
       "      <td>...</td>\n",
       "      <td>0.219592</td>\n",
       "      <td>0.043478</td>\n",
       "      <td>0.0</td>\n",
       "      <td>0.211719</td>\n",
       "      <td>1093741464</td>\n",
       "      <td>1013012616</td>\n",
       "      <td>47</td>\n",
       "      <td>60</td>\n",
       "      <td>36.300</td>\n",
       "      <td>43.394</td>\n",
       "    </tr>\n",
       "    <tr>\n",
       "      <th>2</th>\n",
       "      <td>1013012616</td>\n",
       "      <td>2.0</td>\n",
       "      <td>CRIPPS, HOOPER &amp; RHODY, PLLC</td>\n",
       "      <td>None</td>\n",
       "      <td>None</td>\n",
       "      <td>None</td>\n",
       "      <td>None</td>\n",
       "      <td>None</td>\n",
       "      <td>None</td>\n",
       "      <td>400 E PUBLIC SQUARE</td>\n",
       "      <td>...</td>\n",
       "      <td>0.219592</td>\n",
       "      <td>0.043478</td>\n",
       "      <td>0.0</td>\n",
       "      <td>0.211719</td>\n",
       "      <td>1295726032</td>\n",
       "      <td>1013012616</td>\n",
       "      <td>164</td>\n",
       "      <td>304</td>\n",
       "      <td>7.395</td>\n",
       "      <td>27.308</td>\n",
       "    </tr>\n",
       "  </tbody>\n",
       "</table>\n",
       "<p>3 rows × 37 columns</p>\n",
       "</div>"
      ],
      "text/plain": [
       "          npi  entity_type_code  \\\n",
       "0  1013012616               2.0   \n",
       "1  1013012616               2.0   \n",
       "2  1013012616               2.0   \n",
       "\n",
       "  provider_organization_name_(legal_business_name)  \\\n",
       "0                     CRIPPS, HOOPER & RHODY, PLLC   \n",
       "1                     CRIPPS, HOOPER & RHODY, PLLC   \n",
       "2                     CRIPPS, HOOPER & RHODY, PLLC   \n",
       "\n",
       "  provider_last_name_(legal_name) provider_first_name provider_middle_name  \\\n",
       "0                            None                None                 None   \n",
       "1                            None                None                 None   \n",
       "2                            None                None                 None   \n",
       "\n",
       "  provider_name_prefix_text provider_name_suffix_text  \\\n",
       "0                      None                      None   \n",
       "1                      None                      None   \n",
       "2                      None                      None   \n",
       "\n",
       "  provider_credential_text  \\\n",
       "0                     None   \n",
       "1                     None   \n",
       "2                     None   \n",
       "\n",
       "  provider_first_line_business_practice_location_address  ... res_ratio  \\\n",
       "0                                400 E PUBLIC SQUARE      ...  0.219592   \n",
       "1                                400 E PUBLIC SQUARE      ...  0.219592   \n",
       "2                                400 E PUBLIC SQUARE      ...  0.219592   \n",
       "\n",
       "  bus_ratio oth_ratio tot_ratio    from_npi      to_npi patient_count  \\\n",
       "0  0.043478       0.0  0.211719  1821080961  1013012616            91   \n",
       "1  0.043478       0.0  0.211719  1093741464  1013012616            47   \n",
       "2  0.043478       0.0  0.211719  1295726032  1013012616           164   \n",
       "\n",
       "  transaction_count average_day_wait std_day_wait  \n",
       "0               238            9.924       40.266  \n",
       "1                60           36.300       43.394  \n",
       "2               304            7.395       27.308  \n",
       "\n",
       "[3 rows x 37 columns]"
      ]
     },
     "execution_count": 11,
     "metadata": {},
     "output_type": "execute_result"
    }
   ],
   "source": [
    "query = \"\"\"\n",
    "SELECT *\n",
    "FROM npi \n",
    "LEFT JOIN taxonomy\n",
    "ON npi.healthcare_provider_taxonomy_code = taxonomy.code\n",
    "INNER JOIN zip_cbsa\n",
    "ON npi.zip = zip_cbsa.zip\n",
    "INNER JOIN hopteaming\n",
    "ON npi.npi = hopteaming.to_npi\n",
    "WHERE cbsa = 34980;\n",
    "\"\"\"\n",
    "start_time = time.time()\n",
    "\n",
    "with sqlite3.connect('../data/hop_teaming.sqlite') as db:\n",
    "    nashnpi_to_npi  = pd.read_sql(query, db)\n",
    "    \n",
    "end_time = time.time()\n",
    "print(\"Execution time:\", end_time - start_time, \"seconds\")\n",
    "    \n",
    "nashnpi_to_npi.head(3)"
   ]
  },
  {
   "cell_type": "markdown",
   "id": "684dd946",
   "metadata": {},
   "source": [
    "How many records does each dataframe have?"
   ]
  },
  {
   "cell_type": "code",
   "execution_count": 12,
   "id": "44d8a05d",
   "metadata": {
    "scrolled": false
   },
   "outputs": [
    {
     "name": "stdout",
     "output_type": "stream",
     "text": [
      "nashnpi_to_npi has 241712 rows\n",
      "nashnpi_from_npi has 242490 rows\n"
     ]
    }
   ],
   "source": [
    "print(\"nashnpi_to_npi has\", len(nashnpi_to_npi), \"rows\")\n",
    "print(\"nashnpi_from_npi has\", len(nashnpi_from_npi), \"rows\")"
   ]
  },
  {
   "cell_type": "markdown",
   "id": "3aadfb06",
   "metadata": {},
   "source": [
    "**Create a provider name column, which would be a combination of hospital and doctor names.**"
   ]
  },
  {
   "cell_type": "code",
   "execution_count": 13,
   "id": "2af8af60",
   "metadata": {},
   "outputs": [],
   "source": [
    "# Fill the provider name column with provider first and last names (not the legal business name)\n",
    "nashnpi_to_npi[\"provider_name\"] = nashnpi_to_npi[\"provider_first_name\"] + \" \" + nashnpi_to_npi[\"provider_last_name_(legal_name)\"]\n",
    "nashnpi_from_npi[\"provider_name\"] = nashnpi_from_npi[\"provider_first_name\"] + \" \" + nashnpi_from_npi[\"provider_last_name_(legal_name)\"]\n",
    "npi_nash[\"provider_name\"] = npi_nash[\"provider_first_name\"] + \" \" + npi_nash[\"provider_last_name_(legal_name)\"] \n",
    "\n",
    "# Fill the rest of the empty provider name columns with the legal business name column\n",
    "nashnpi_to_npi[\"provider_name\"].fillna(nashnpi_to_npi[\"provider_organization_name_(legal_business_name)\"], inplace=True)\n",
    "nashnpi_from_npi[\"provider_name\"].fillna(nashnpi_from_npi[\"provider_organization_name_(legal_business_name)\"], inplace=True)\n",
    "npi_nash[\"provider_name\"].fillna(npi_nash[\"provider_organization_name_(legal_business_name)\"], inplace=True)\n",
    "\n",
    "# One record still has a null provider name column, but it only has info from the last name and middle name column\n",
    "for df in [nashnpi_to_npi, nashnpi_from_npi, npi_nash]:\n",
    "    df[\"provider_name\"].fillna(df[\"provider_last_name_(legal_name)\"] + \" \" + \n",
    "                                  df[\"provider_middle_name\"], inplace=True)\n",
    "\n",
    "# One other record is null, but it only has info from the provider first name and middle name column \n",
    "for df in [nashnpi_to_npi, nashnpi_from_npi, npi_nash]:\n",
    "    df[\"provider_name\"].fillna(df[\"provider_first_name\"] + \" \" + \n",
    "                                  df[\"provider_middle_name\"], inplace=True)\n"
   ]
  },
  {
   "cell_type": "code",
   "execution_count": 14,
   "id": "ef95e5b7",
   "metadata": {
    "scrolled": true
   },
   "outputs": [
    {
     "data": {
      "text/html": [
       "<div>\n",
       "<style scoped>\n",
       "    .dataframe tbody tr th:only-of-type {\n",
       "        vertical-align: middle;\n",
       "    }\n",
       "\n",
       "    .dataframe tbody tr th {\n",
       "        vertical-align: top;\n",
       "    }\n",
       "\n",
       "    .dataframe thead th {\n",
       "        text-align: right;\n",
       "    }\n",
       "</style>\n",
       "<table border=\"1\" class=\"dataframe\">\n",
       "  <thead>\n",
       "    <tr style=\"text-align: right;\">\n",
       "      <th></th>\n",
       "      <th>npi</th>\n",
       "      <th>entity_type_code</th>\n",
       "      <th>provider_organization_name_(legal_business_name)</th>\n",
       "      <th>provider_last_name_(legal_name)</th>\n",
       "      <th>provider_first_name</th>\n",
       "      <th>provider_middle_name</th>\n",
       "      <th>provider_name_prefix_text</th>\n",
       "      <th>provider_name_suffix_text</th>\n",
       "      <th>provider_credential_text</th>\n",
       "      <th>provider_first_line_business_practice_location_address</th>\n",
       "      <th>...</th>\n",
       "      <th>bus_ratio</th>\n",
       "      <th>oth_ratio</th>\n",
       "      <th>tot_ratio</th>\n",
       "      <th>from_npi</th>\n",
       "      <th>to_npi</th>\n",
       "      <th>patient_count</th>\n",
       "      <th>transaction_count</th>\n",
       "      <th>average_day_wait</th>\n",
       "      <th>std_day_wait</th>\n",
       "      <th>provider_name</th>\n",
       "    </tr>\n",
       "  </thead>\n",
       "  <tbody>\n",
       "    <tr>\n",
       "      <th>7</th>\n",
       "      <td>1043218654</td>\n",
       "      <td>1.0</td>\n",
       "      <td>None</td>\n",
       "      <td>MILLER</td>\n",
       "      <td>TIMOTHY</td>\n",
       "      <td>H</td>\n",
       "      <td>DR.</td>\n",
       "      <td>None</td>\n",
       "      <td>M.D.</td>\n",
       "      <td>5801 CROSSINGS BLVD</td>\n",
       "      <td>...</td>\n",
       "      <td>1.0</td>\n",
       "      <td>1.0</td>\n",
       "      <td>1.0</td>\n",
       "      <td>1518998764</td>\n",
       "      <td>1043218654</td>\n",
       "      <td>475</td>\n",
       "      <td>905</td>\n",
       "      <td>11.782</td>\n",
       "      <td>35.223</td>\n",
       "      <td>TIMOTHY MILLER</td>\n",
       "    </tr>\n",
       "    <tr>\n",
       "      <th>8</th>\n",
       "      <td>1043218654</td>\n",
       "      <td>1.0</td>\n",
       "      <td>None</td>\n",
       "      <td>MILLER</td>\n",
       "      <td>TIMOTHY</td>\n",
       "      <td>H</td>\n",
       "      <td>DR.</td>\n",
       "      <td>None</td>\n",
       "      <td>M.D.</td>\n",
       "      <td>5801 CROSSINGS BLVD</td>\n",
       "      <td>...</td>\n",
       "      <td>1.0</td>\n",
       "      <td>1.0</td>\n",
       "      <td>1.0</td>\n",
       "      <td>1538109103</td>\n",
       "      <td>1043218654</td>\n",
       "      <td>116</td>\n",
       "      <td>116</td>\n",
       "      <td>33.750</td>\n",
       "      <td>56.887</td>\n",
       "      <td>TIMOTHY MILLER</td>\n",
       "    </tr>\n",
       "    <tr>\n",
       "      <th>9</th>\n",
       "      <td>1043218654</td>\n",
       "      <td>1.0</td>\n",
       "      <td>None</td>\n",
       "      <td>MILLER</td>\n",
       "      <td>TIMOTHY</td>\n",
       "      <td>H</td>\n",
       "      <td>DR.</td>\n",
       "      <td>None</td>\n",
       "      <td>M.D.</td>\n",
       "      <td>5801 CROSSINGS BLVD</td>\n",
       "      <td>...</td>\n",
       "      <td>1.0</td>\n",
       "      <td>1.0</td>\n",
       "      <td>1.0</td>\n",
       "      <td>1548284060</td>\n",
       "      <td>1043218654</td>\n",
       "      <td>59</td>\n",
       "      <td>87</td>\n",
       "      <td>48.839</td>\n",
       "      <td>66.008</td>\n",
       "      <td>TIMOTHY MILLER</td>\n",
       "    </tr>\n",
       "    <tr>\n",
       "      <th>10</th>\n",
       "      <td>1043218654</td>\n",
       "      <td>1.0</td>\n",
       "      <td>None</td>\n",
       "      <td>MILLER</td>\n",
       "      <td>TIMOTHY</td>\n",
       "      <td>H</td>\n",
       "      <td>DR.</td>\n",
       "      <td>None</td>\n",
       "      <td>M.D.</td>\n",
       "      <td>5801 CROSSINGS BLVD</td>\n",
       "      <td>...</td>\n",
       "      <td>1.0</td>\n",
       "      <td>1.0</td>\n",
       "      <td>1.0</td>\n",
       "      <td>1811955917</td>\n",
       "      <td>1043218654</td>\n",
       "      <td>49</td>\n",
       "      <td>68</td>\n",
       "      <td>41.412</td>\n",
       "      <td>48.227</td>\n",
       "      <td>TIMOTHY MILLER</td>\n",
       "    </tr>\n",
       "    <tr>\n",
       "      <th>11</th>\n",
       "      <td>1043218654</td>\n",
       "      <td>1.0</td>\n",
       "      <td>None</td>\n",
       "      <td>MILLER</td>\n",
       "      <td>TIMOTHY</td>\n",
       "      <td>H</td>\n",
       "      <td>DR.</td>\n",
       "      <td>None</td>\n",
       "      <td>M.D.</td>\n",
       "      <td>5801 CROSSINGS BLVD</td>\n",
       "      <td>...</td>\n",
       "      <td>1.0</td>\n",
       "      <td>1.0</td>\n",
       "      <td>1.0</td>\n",
       "      <td>1063870137</td>\n",
       "      <td>1043218654</td>\n",
       "      <td>180</td>\n",
       "      <td>331</td>\n",
       "      <td>6.574</td>\n",
       "      <td>17.696</td>\n",
       "      <td>TIMOTHY MILLER</td>\n",
       "    </tr>\n",
       "    <tr>\n",
       "      <th>...</th>\n",
       "      <td>...</td>\n",
       "      <td>...</td>\n",
       "      <td>...</td>\n",
       "      <td>...</td>\n",
       "      <td>...</td>\n",
       "      <td>...</td>\n",
       "      <td>...</td>\n",
       "      <td>...</td>\n",
       "      <td>...</td>\n",
       "      <td>...</td>\n",
       "      <td>...</td>\n",
       "      <td>...</td>\n",
       "      <td>...</td>\n",
       "      <td>...</td>\n",
       "      <td>...</td>\n",
       "      <td>...</td>\n",
       "      <td>...</td>\n",
       "      <td>...</td>\n",
       "      <td>...</td>\n",
       "      <td>...</td>\n",
       "      <td>...</td>\n",
       "    </tr>\n",
       "    <tr>\n",
       "      <th>241683</th>\n",
       "      <td>1912156696</td>\n",
       "      <td>1.0</td>\n",
       "      <td>None</td>\n",
       "      <td>GREGORY</td>\n",
       "      <td>KIMBERLY</td>\n",
       "      <td>D</td>\n",
       "      <td>None</td>\n",
       "      <td>None</td>\n",
       "      <td>MSN, FNP-BC</td>\n",
       "      <td>8 NEW MIDDLETON HWY</td>\n",
       "      <td>...</td>\n",
       "      <td>1.0</td>\n",
       "      <td>1.0</td>\n",
       "      <td>1.0</td>\n",
       "      <td>1861433633</td>\n",
       "      <td>1912156696</td>\n",
       "      <td>36</td>\n",
       "      <td>56</td>\n",
       "      <td>11.768</td>\n",
       "      <td>23.002</td>\n",
       "      <td>KIMBERLY GREGORY</td>\n",
       "    </tr>\n",
       "    <tr>\n",
       "      <th>241684</th>\n",
       "      <td>1912156696</td>\n",
       "      <td>1.0</td>\n",
       "      <td>None</td>\n",
       "      <td>GREGORY</td>\n",
       "      <td>KIMBERLY</td>\n",
       "      <td>D</td>\n",
       "      <td>None</td>\n",
       "      <td>None</td>\n",
       "      <td>MSN, FNP-BC</td>\n",
       "      <td>8 NEW MIDDLETON HWY</td>\n",
       "      <td>...</td>\n",
       "      <td>1.0</td>\n",
       "      <td>1.0</td>\n",
       "      <td>1.0</td>\n",
       "      <td>1104202761</td>\n",
       "      <td>1912156696</td>\n",
       "      <td>28</td>\n",
       "      <td>52</td>\n",
       "      <td>33.923</td>\n",
       "      <td>53.643</td>\n",
       "      <td>KIMBERLY GREGORY</td>\n",
       "    </tr>\n",
       "    <tr>\n",
       "      <th>241685</th>\n",
       "      <td>1912156696</td>\n",
       "      <td>1.0</td>\n",
       "      <td>None</td>\n",
       "      <td>GREGORY</td>\n",
       "      <td>KIMBERLY</td>\n",
       "      <td>D</td>\n",
       "      <td>None</td>\n",
       "      <td>None</td>\n",
       "      <td>MSN, FNP-BC</td>\n",
       "      <td>8 NEW MIDDLETON HWY</td>\n",
       "      <td>...</td>\n",
       "      <td>1.0</td>\n",
       "      <td>1.0</td>\n",
       "      <td>1.0</td>\n",
       "      <td>1922319037</td>\n",
       "      <td>1912156696</td>\n",
       "      <td>42</td>\n",
       "      <td>103</td>\n",
       "      <td>7.718</td>\n",
       "      <td>16.916</td>\n",
       "      <td>KIMBERLY GREGORY</td>\n",
       "    </tr>\n",
       "    <tr>\n",
       "      <th>241686</th>\n",
       "      <td>1598098600</td>\n",
       "      <td>1.0</td>\n",
       "      <td>None</td>\n",
       "      <td>CARPENTER</td>\n",
       "      <td>BETHANY</td>\n",
       "      <td>N</td>\n",
       "      <td>None</td>\n",
       "      <td>None</td>\n",
       "      <td>DPT</td>\n",
       "      <td>112 BRADFORD BLVD STE 500</td>\n",
       "      <td>...</td>\n",
       "      <td>1.0</td>\n",
       "      <td>1.0</td>\n",
       "      <td>1.0</td>\n",
       "      <td>1326550674</td>\n",
       "      <td>1598098600</td>\n",
       "      <td>55</td>\n",
       "      <td>149</td>\n",
       "      <td>5.081</td>\n",
       "      <td>12.553</td>\n",
       "      <td>BETHANY CARPENTER</td>\n",
       "    </tr>\n",
       "    <tr>\n",
       "      <th>241687</th>\n",
       "      <td>1598098600</td>\n",
       "      <td>1.0</td>\n",
       "      <td>None</td>\n",
       "      <td>CARPENTER</td>\n",
       "      <td>BETHANY</td>\n",
       "      <td>N</td>\n",
       "      <td>None</td>\n",
       "      <td>None</td>\n",
       "      <td>DPT</td>\n",
       "      <td>112 BRADFORD BLVD STE 500</td>\n",
       "      <td>...</td>\n",
       "      <td>1.0</td>\n",
       "      <td>1.0</td>\n",
       "      <td>1.0</td>\n",
       "      <td>1689099939</td>\n",
       "      <td>1598098600</td>\n",
       "      <td>81</td>\n",
       "      <td>589</td>\n",
       "      <td>0.000</td>\n",
       "      <td>0.000</td>\n",
       "      <td>BETHANY CARPENTER</td>\n",
       "    </tr>\n",
       "  </tbody>\n",
       "</table>\n",
       "<p>118402 rows × 38 columns</p>\n",
       "</div>"
      ],
      "text/plain": [
       "               npi  entity_type_code  \\\n",
       "7       1043218654               1.0   \n",
       "8       1043218654               1.0   \n",
       "9       1043218654               1.0   \n",
       "10      1043218654               1.0   \n",
       "11      1043218654               1.0   \n",
       "...            ...               ...   \n",
       "241683  1912156696               1.0   \n",
       "241684  1912156696               1.0   \n",
       "241685  1912156696               1.0   \n",
       "241686  1598098600               1.0   \n",
       "241687  1598098600               1.0   \n",
       "\n",
       "       provider_organization_name_(legal_business_name)  \\\n",
       "7                                                  None   \n",
       "8                                                  None   \n",
       "9                                                  None   \n",
       "10                                                 None   \n",
       "11                                                 None   \n",
       "...                                                 ...   \n",
       "241683                                             None   \n",
       "241684                                             None   \n",
       "241685                                             None   \n",
       "241686                                             None   \n",
       "241687                                             None   \n",
       "\n",
       "       provider_last_name_(legal_name) provider_first_name  \\\n",
       "7                               MILLER             TIMOTHY   \n",
       "8                               MILLER             TIMOTHY   \n",
       "9                               MILLER             TIMOTHY   \n",
       "10                              MILLER             TIMOTHY   \n",
       "11                              MILLER             TIMOTHY   \n",
       "...                                ...                 ...   \n",
       "241683                         GREGORY            KIMBERLY   \n",
       "241684                         GREGORY            KIMBERLY   \n",
       "241685                         GREGORY            KIMBERLY   \n",
       "241686                       CARPENTER             BETHANY   \n",
       "241687                       CARPENTER             BETHANY   \n",
       "\n",
       "       provider_middle_name provider_name_prefix_text  \\\n",
       "7                         H                       DR.   \n",
       "8                         H                       DR.   \n",
       "9                         H                       DR.   \n",
       "10                        H                       DR.   \n",
       "11                        H                       DR.   \n",
       "...                     ...                       ...   \n",
       "241683                    D                      None   \n",
       "241684                    D                      None   \n",
       "241685                    D                      None   \n",
       "241686                    N                      None   \n",
       "241687                    N                      None   \n",
       "\n",
       "       provider_name_suffix_text provider_credential_text  \\\n",
       "7                           None                     M.D.   \n",
       "8                           None                     M.D.   \n",
       "9                           None                     M.D.   \n",
       "10                          None                     M.D.   \n",
       "11                          None                     M.D.   \n",
       "...                          ...                      ...   \n",
       "241683                      None              MSN, FNP-BC   \n",
       "241684                      None              MSN, FNP-BC   \n",
       "241685                      None              MSN, FNP-BC   \n",
       "241686                      None                      DPT   \n",
       "241687                      None                      DPT   \n",
       "\n",
       "       provider_first_line_business_practice_location_address  ... bus_ratio  \\\n",
       "7                                     5801 CROSSINGS BLVD      ...       1.0   \n",
       "8                                     5801 CROSSINGS BLVD      ...       1.0   \n",
       "9                                     5801 CROSSINGS BLVD      ...       1.0   \n",
       "10                                    5801 CROSSINGS BLVD      ...       1.0   \n",
       "11                                    5801 CROSSINGS BLVD      ...       1.0   \n",
       "...                                                   ...      ...       ...   \n",
       "241683                                8 NEW MIDDLETON HWY      ...       1.0   \n",
       "241684                                8 NEW MIDDLETON HWY      ...       1.0   \n",
       "241685                                8 NEW MIDDLETON HWY      ...       1.0   \n",
       "241686                          112 BRADFORD BLVD STE 500      ...       1.0   \n",
       "241687                          112 BRADFORD BLVD STE 500      ...       1.0   \n",
       "\n",
       "       oth_ratio tot_ratio    from_npi      to_npi patient_count  \\\n",
       "7            1.0       1.0  1518998764  1043218654           475   \n",
       "8            1.0       1.0  1538109103  1043218654           116   \n",
       "9            1.0       1.0  1548284060  1043218654            59   \n",
       "10           1.0       1.0  1811955917  1043218654            49   \n",
       "11           1.0       1.0  1063870137  1043218654           180   \n",
       "...          ...       ...         ...         ...           ...   \n",
       "241683       1.0       1.0  1861433633  1912156696            36   \n",
       "241684       1.0       1.0  1104202761  1912156696            28   \n",
       "241685       1.0       1.0  1922319037  1912156696            42   \n",
       "241686       1.0       1.0  1326550674  1598098600            55   \n",
       "241687       1.0       1.0  1689099939  1598098600            81   \n",
       "\n",
       "       transaction_count average_day_wait std_day_wait      provider_name  \n",
       "7                    905           11.782       35.223     TIMOTHY MILLER  \n",
       "8                    116           33.750       56.887     TIMOTHY MILLER  \n",
       "9                     87           48.839       66.008     TIMOTHY MILLER  \n",
       "10                    68           41.412       48.227     TIMOTHY MILLER  \n",
       "11                   331            6.574       17.696     TIMOTHY MILLER  \n",
       "...                  ...              ...          ...                ...  \n",
       "241683                56           11.768       23.002   KIMBERLY GREGORY  \n",
       "241684                52           33.923       53.643   KIMBERLY GREGORY  \n",
       "241685               103            7.718       16.916   KIMBERLY GREGORY  \n",
       "241686               149            5.081       12.553  BETHANY CARPENTER  \n",
       "241687               589            0.000        0.000  BETHANY CARPENTER  \n",
       "\n",
       "[118402 rows x 38 columns]"
      ]
     },
     "execution_count": 14,
     "metadata": {},
     "output_type": "execute_result"
    }
   ],
   "source": [
    "nashnpi_to_npi[nashnpi_to_npi['entity_type_code'] == 1]"
   ]
  },
  {
   "cell_type": "code",
   "execution_count": 268,
   "id": "a0ef841f",
   "metadata": {
    "scrolled": false
   },
   "outputs": [
    {
     "data": {
      "text/html": [
       "<div>\n",
       "<style scoped>\n",
       "    .dataframe tbody tr th:only-of-type {\n",
       "        vertical-align: middle;\n",
       "    }\n",
       "\n",
       "    .dataframe tbody tr th {\n",
       "        vertical-align: top;\n",
       "    }\n",
       "\n",
       "    .dataframe thead th {\n",
       "        text-align: right;\n",
       "    }\n",
       "</style>\n",
       "<table border=\"1\" class=\"dataframe\">\n",
       "  <thead>\n",
       "    <tr style=\"text-align: right;\">\n",
       "      <th></th>\n",
       "      <th>npi</th>\n",
       "      <th>entity_type_code</th>\n",
       "      <th>provider_organization_name_(legal_business_name)</th>\n",
       "      <th>provider_last_name_(legal_name)</th>\n",
       "      <th>provider_first_name</th>\n",
       "      <th>provider_middle_name</th>\n",
       "      <th>provider_name_prefix_text</th>\n",
       "      <th>provider_name_suffix_text</th>\n",
       "      <th>provider_credential_text</th>\n",
       "      <th>provider_first_line_business_practice_location_address</th>\n",
       "      <th>...</th>\n",
       "      <th>bus_ratio</th>\n",
       "      <th>oth_ratio</th>\n",
       "      <th>tot_ratio</th>\n",
       "      <th>from_npi</th>\n",
       "      <th>to_npi</th>\n",
       "      <th>patient_count</th>\n",
       "      <th>transaction_count</th>\n",
       "      <th>average_day_wait</th>\n",
       "      <th>std_day_wait</th>\n",
       "      <th>provider_name</th>\n",
       "    </tr>\n",
       "  </thead>\n",
       "  <tbody>\n",
       "  </tbody>\n",
       "</table>\n",
       "<p>0 rows × 38 columns</p>\n",
       "</div>"
      ],
      "text/plain": [
       "Empty DataFrame\n",
       "Columns: [npi, entity_type_code, provider_organization_name_(legal_business_name), provider_last_name_(legal_name), provider_first_name, provider_middle_name, provider_name_prefix_text, provider_name_suffix_text, provider_credential_text, provider_first_line_business_practice_location_address, provider_second_line_business_practice_location_address, provider_business_practice_location_address_city_name, provider_business_practice_location_address_postal_code, healthcare_provider_taxonomy_code, zip, code, grouping, classification, specialization, definition, notes, display_name, section, zip, cbsa, usps_zip_pref_city, usps_zip_pref_state, res_ratio, bus_ratio, oth_ratio, tot_ratio, from_npi, to_npi, patient_count, transaction_count, average_day_wait, std_day_wait, provider_name]\n",
       "Index: []\n",
       "\n",
       "[0 rows x 38 columns]"
      ]
     },
     "metadata": {},
     "output_type": "display_data"
    },
    {
     "data": {
      "text/html": [
       "<div>\n",
       "<style scoped>\n",
       "    .dataframe tbody tr th:only-of-type {\n",
       "        vertical-align: middle;\n",
       "    }\n",
       "\n",
       "    .dataframe tbody tr th {\n",
       "        vertical-align: top;\n",
       "    }\n",
       "\n",
       "    .dataframe thead th {\n",
       "        text-align: right;\n",
       "    }\n",
       "</style>\n",
       "<table border=\"1\" class=\"dataframe\">\n",
       "  <thead>\n",
       "    <tr style=\"text-align: right;\">\n",
       "      <th></th>\n",
       "      <th>npi</th>\n",
       "      <th>entity_type_code</th>\n",
       "      <th>provider_organization_name_(legal_business_name)</th>\n",
       "      <th>provider_last_name_(legal_name)</th>\n",
       "      <th>provider_first_name</th>\n",
       "      <th>provider_middle_name</th>\n",
       "      <th>provider_name_prefix_text</th>\n",
       "      <th>provider_name_suffix_text</th>\n",
       "      <th>provider_credential_text</th>\n",
       "      <th>provider_first_line_business_practice_location_address</th>\n",
       "      <th>...</th>\n",
       "      <th>section</th>\n",
       "      <th>zip</th>\n",
       "      <th>cbsa</th>\n",
       "      <th>usps_zip_pref_city</th>\n",
       "      <th>usps_zip_pref_state</th>\n",
       "      <th>res_ratio</th>\n",
       "      <th>bus_ratio</th>\n",
       "      <th>oth_ratio</th>\n",
       "      <th>tot_ratio</th>\n",
       "      <th>provider_name</th>\n",
       "    </tr>\n",
       "  </thead>\n",
       "  <tbody>\n",
       "    <tr>\n",
       "      <th>549</th>\n",
       "      <td>1588340491</td>\n",
       "      <td>1.0</td>\n",
       "      <td>None</td>\n",
       "      <td>KIM</td>\n",
       "      <td>None</td>\n",
       "      <td>YON</td>\n",
       "      <td>None</td>\n",
       "      <td>None</td>\n",
       "      <td>None</td>\n",
       "      <td>4065 CANE RIDGE PKWY #433</td>\n",
       "      <td>...</td>\n",
       "      <td>Individual</td>\n",
       "      <td>37013</td>\n",
       "      <td>34980</td>\n",
       "      <td>ANTIOCH</td>\n",
       "      <td>TN</td>\n",
       "      <td>1.0</td>\n",
       "      <td>1.0</td>\n",
       "      <td>1.0</td>\n",
       "      <td>1.0</td>\n",
       "      <td>KIM YON</td>\n",
       "    </tr>\n",
       "  </tbody>\n",
       "</table>\n",
       "<p>1 rows × 32 columns</p>\n",
       "</div>"
      ],
      "text/plain": [
       "            npi  entity_type_code  \\\n",
       "549  1588340491               1.0   \n",
       "\n",
       "    provider_organization_name_(legal_business_name)  \\\n",
       "549                                             None   \n",
       "\n",
       "    provider_last_name_(legal_name) provider_first_name provider_middle_name  \\\n",
       "549                             KIM                None                  YON   \n",
       "\n",
       "    provider_name_prefix_text provider_name_suffix_text  \\\n",
       "549                      None                      None   \n",
       "\n",
       "    provider_credential_text  \\\n",
       "549                     None   \n",
       "\n",
       "    provider_first_line_business_practice_location_address  ...     section  \\\n",
       "549                          4065 CANE RIDGE PKWY #433      ...  Individual   \n",
       "\n",
       "       zip   cbsa usps_zip_pref_city  usps_zip_pref_state res_ratio bus_ratio  \\\n",
       "549  37013  34980            ANTIOCH                   TN       1.0       1.0   \n",
       "\n",
       "    oth_ratio tot_ratio provider_name  \n",
       "549       1.0       1.0       KIM YON  \n",
       "\n",
       "[1 rows x 32 columns]"
      ]
     },
     "metadata": {},
     "output_type": "display_data"
    }
   ],
   "source": [
    "# Check for empty provider name columns in the DataFrames\n",
    "\n",
    "display(nashnpi_to_npi[nashnpi_to_npi['provider_name'].isnull()])\n",
    "\n",
    "# Checking a known provider with a previous Null in the provider name column \n",
    "display(npi_nash[npi_nash[\"npi\"] == 1588340491])"
   ]
  },
  {
   "cell_type": "markdown",
   "id": "47301c99",
   "metadata": {},
   "source": [
    "Note that there are two entity types in the data: 1 and 2. Entity type code 1 is for individual providers. Type 2 is for hospital providers. \n",
    "- How many unique type 1 providers are there? How many hospitals? "
   ]
  },
  {
   "cell_type": "code",
   "execution_count": 17,
   "id": "4c9bc2e2",
   "metadata": {},
   "outputs": [
    {
     "name": "stdout",
     "output_type": "stream",
     "text": [
      "To providers\n",
      "unique type 1 providers:  7592\n",
      "unique type 2 hospitals:  1327\n",
      "-------\n",
      "From providers\n",
      "unique type 1 providers:  7595\n",
      "unique type 2 hospitals:  1326\n"
     ]
    }
   ],
   "source": [
    "print(\"To providers\")\n",
    "print(\"unique type 1 providers: \", nashnpi_to_npi[nashnpi_to_npi['entity_type_code'] == 1]['provider_name'].nunique())\n",
    "\n",
    "print(\"unique type 2 hospitals: \", nashnpi_to_npi[nashnpi_to_npi['entity_type_code'] == 2]['provider_name'].nunique())\n",
    "\n",
    "print('-------')\n",
    "print(\"From providers\")\n",
    "print(\"unique type 1 providers: \", nashnpi_from_npi[nashnpi_from_npi['entity_type_code'] == 1]['provider_name'].nunique())\n",
    "\n",
    "print(\"unique type 2 hospitals: \", nashnpi_from_npi[nashnpi_from_npi['entity_type_code'] == 2]['provider_name'].nunique())"
   ]
  },
  {
   "cell_type": "markdown",
   "id": "adf30ec7",
   "metadata": {},
   "source": [
    "Which classifications/ specializations refer the most? How many classifications are there? \n",
    "- Create a bar chart. "
   ]
  },
  {
   "cell_type": "code",
   "execution_count": 274,
   "id": "f6084a58",
   "metadata": {},
   "outputs": [
    {
     "data": {
      "text/plain": [
       "91"
      ]
     },
     "execution_count": 274,
     "metadata": {},
     "output_type": "execute_result"
    }
   ],
   "source": [
    "nashnpi_from_npi['classification'].nunique()"
   ]
  },
  {
   "cell_type": "code",
   "execution_count": 218,
   "id": "cb398898",
   "metadata": {
    "scrolled": true
   },
   "outputs": [
    {
     "data": {
      "text/html": [
       "<div>\n",
       "<style scoped>\n",
       "    .dataframe tbody tr th:only-of-type {\n",
       "        vertical-align: middle;\n",
       "    }\n",
       "\n",
       "    .dataframe tbody tr th {\n",
       "        vertical-align: top;\n",
       "    }\n",
       "\n",
       "    .dataframe thead th {\n",
       "        text-align: right;\n",
       "    }\n",
       "</style>\n",
       "<table border=\"1\" class=\"dataframe\">\n",
       "  <thead>\n",
       "    <tr style=\"text-align: right;\">\n",
       "      <th></th>\n",
       "      <th>classification</th>\n",
       "      <th>count</th>\n",
       "    </tr>\n",
       "  </thead>\n",
       "  <tbody>\n",
       "    <tr>\n",
       "      <th>35</th>\n",
       "      <td>Internal Medicine</td>\n",
       "      <td>61445</td>\n",
       "    </tr>\n",
       "    <tr>\n",
       "      <th>75</th>\n",
       "      <td>Radiology</td>\n",
       "      <td>34482</td>\n",
       "    </tr>\n",
       "    <tr>\n",
       "      <th>10</th>\n",
       "      <td>Clinical Medical Laboratory</td>\n",
       "      <td>14596</td>\n",
       "    </tr>\n",
       "    <tr>\n",
       "      <th>55</th>\n",
       "      <td>Pathology</td>\n",
       "      <td>14502</td>\n",
       "    </tr>\n",
       "    <tr>\n",
       "      <th>27</th>\n",
       "      <td>General Acute Care Hospital</td>\n",
       "      <td>13796</td>\n",
       "    </tr>\n",
       "    <tr>\n",
       "      <th>45</th>\n",
       "      <td>Nurse Practitioner</td>\n",
       "      <td>12526</td>\n",
       "    </tr>\n",
       "    <tr>\n",
       "      <th>26</th>\n",
       "      <td>Family Medicine</td>\n",
       "      <td>10469</td>\n",
       "    </tr>\n",
       "    <tr>\n",
       "      <th>23</th>\n",
       "      <td>Emergency Medicine</td>\n",
       "      <td>9689</td>\n",
       "    </tr>\n",
       "    <tr>\n",
       "      <th>22</th>\n",
       "      <td>Durable Medical Equipment &amp; Medical Supplies</td>\n",
       "      <td>7013</td>\n",
       "    </tr>\n",
       "    <tr>\n",
       "      <th>4</th>\n",
       "      <td>Anesthesiology</td>\n",
       "      <td>6990</td>\n",
       "    </tr>\n",
       "    <tr>\n",
       "      <th>84</th>\n",
       "      <td>Specialist</td>\n",
       "      <td>6072</td>\n",
       "    </tr>\n",
       "    <tr>\n",
       "      <th>52</th>\n",
       "      <td>Orthopaedic Surgery</td>\n",
       "      <td>4478</td>\n",
       "    </tr>\n",
       "    <tr>\n",
       "      <th>44</th>\n",
       "      <td>Nurse Anesthetist, Certified Registered</td>\n",
       "      <td>3905</td>\n",
       "    </tr>\n",
       "    <tr>\n",
       "      <th>9</th>\n",
       "      <td>Clinic/Center</td>\n",
       "      <td>3796</td>\n",
       "    </tr>\n",
       "    <tr>\n",
       "      <th>2</th>\n",
       "      <td>Ambulance</td>\n",
       "      <td>3753</td>\n",
       "    </tr>\n",
       "    <tr>\n",
       "      <th>72</th>\n",
       "      <td>Psychiatry &amp; Neurology</td>\n",
       "      <td>3676</td>\n",
       "    </tr>\n",
       "    <tr>\n",
       "      <th>87</th>\n",
       "      <td>Surgery</td>\n",
       "      <td>3111</td>\n",
       "    </tr>\n",
       "    <tr>\n",
       "      <th>62</th>\n",
       "      <td>Physician Assistant</td>\n",
       "      <td>2460</td>\n",
       "    </tr>\n",
       "    <tr>\n",
       "      <th>32</th>\n",
       "      <td>Hospitalist</td>\n",
       "      <td>1986</td>\n",
       "    </tr>\n",
       "    <tr>\n",
       "      <th>90</th>\n",
       "      <td>Urology</td>\n",
       "      <td>1935</td>\n",
       "    </tr>\n",
       "  </tbody>\n",
       "</table>\n",
       "</div>"
      ],
      "text/plain": [
       "                                  classification  count\n",
       "35                             Internal Medicine  61445\n",
       "75                                     Radiology  34482\n",
       "10                   Clinical Medical Laboratory  14596\n",
       "55                                     Pathology  14502\n",
       "27                   General Acute Care Hospital  13796\n",
       "45                            Nurse Practitioner  12526\n",
       "26                               Family Medicine  10469\n",
       "23                            Emergency Medicine   9689\n",
       "22  Durable Medical Equipment & Medical Supplies   7013\n",
       "4                                 Anesthesiology   6990\n",
       "84                                    Specialist   6072\n",
       "52                           Orthopaedic Surgery   4478\n",
       "44       Nurse Anesthetist, Certified Registered   3905\n",
       "9                                  Clinic/Center   3796\n",
       "2                                      Ambulance   3753\n",
       "72                        Psychiatry & Neurology   3676\n",
       "87                                       Surgery   3111\n",
       "62                           Physician Assistant   2460\n",
       "32                                   Hospitalist   1986\n",
       "90                                       Urology   1935"
      ]
     },
     "execution_count": 218,
     "metadata": {},
     "output_type": "execute_result"
    }
   ],
   "source": [
    "top_classifications_from = nashnpi_from_npi.groupby(\"classification\")[\"npi\"].count().reset_index(name=\"count\")\n",
    "top_classifications_from.sort_values(by=\"count\", ascending = False).head(20)"
   ]
  },
  {
   "cell_type": "code",
   "execution_count": 272,
   "id": "a81b56e6",
   "metadata": {
    "scrolled": false
   },
   "outputs": [
    {
     "data": {
      "application/vnd.plotly.v1+json": {
       "config": {
        "plotlyServerURL": "https://plot.ly"
       },
       "data": [
        {
         "alignmentgroup": "True",
         "cliponaxis": false,
         "hovertemplate": "classification=%{x}<br>count=%{y}<extra></extra>",
         "legendgroup": "",
         "marker": {
          "color": "#636efa",
          "pattern": {
           "shape": ""
          }
         },
         "name": "",
         "offsetgroup": "",
         "orientation": "v",
         "showlegend": false,
         "textangle": 0,
         "textfont": {
          "size": 12
         },
         "textposition": "outside",
         "texttemplate": "%{y:.2s}",
         "type": "bar",
         "x": [
          "Internal Medicine",
          "Radiology",
          "Clinical Medical Laboratory",
          "Pathology",
          "General Acute Care Hospital",
          "Nurse Practitioner",
          "Family Medicine",
          "Emergency Medicine",
          "Durable Medical Equipment & Medical Supplies",
          "Anesthesiology",
          "Specialist",
          "Orthopaedic Surgery",
          "Nurse Anesthetist, Certified Registered",
          "Clinic/Center",
          "Ambulance",
          "Psychiatry & Neurology",
          "Surgery",
          "Physician Assistant",
          "Hospitalist",
          "Urology"
         ],
         "xaxis": "x",
         "y": [
          61445,
          34482,
          14596,
          14502,
          13796,
          12526,
          10469,
          9689,
          7013,
          6990,
          6072,
          4478,
          3905,
          3796,
          3753,
          3676,
          3111,
          2460,
          1986,
          1935
         ],
         "yaxis": "y"
        }
       ],
       "layout": {
        "barmode": "relative",
        "height": 600,
        "legend": {
         "tracegroupgap": 0
        },
        "template": {
         "data": {
          "bar": [
           {
            "error_x": {
             "color": "#2a3f5f"
            },
            "error_y": {
             "color": "#2a3f5f"
            },
            "marker": {
             "line": {
              "color": "#E5ECF6",
              "width": 0.5
             },
             "pattern": {
              "fillmode": "overlay",
              "size": 10,
              "solidity": 0.2
             }
            },
            "type": "bar"
           }
          ],
          "barpolar": [
           {
            "marker": {
             "line": {
              "color": "#E5ECF6",
              "width": 0.5
             },
             "pattern": {
              "fillmode": "overlay",
              "size": 10,
              "solidity": 0.2
             }
            },
            "type": "barpolar"
           }
          ],
          "carpet": [
           {
            "aaxis": {
             "endlinecolor": "#2a3f5f",
             "gridcolor": "white",
             "linecolor": "white",
             "minorgridcolor": "white",
             "startlinecolor": "#2a3f5f"
            },
            "baxis": {
             "endlinecolor": "#2a3f5f",
             "gridcolor": "white",
             "linecolor": "white",
             "minorgridcolor": "white",
             "startlinecolor": "#2a3f5f"
            },
            "type": "carpet"
           }
          ],
          "choropleth": [
           {
            "colorbar": {
             "outlinewidth": 0,
             "ticks": ""
            },
            "type": "choropleth"
           }
          ],
          "contour": [
           {
            "colorbar": {
             "outlinewidth": 0,
             "ticks": ""
            },
            "colorscale": [
             [
              0,
              "#0d0887"
             ],
             [
              0.1111111111111111,
              "#46039f"
             ],
             [
              0.2222222222222222,
              "#7201a8"
             ],
             [
              0.3333333333333333,
              "#9c179e"
             ],
             [
              0.4444444444444444,
              "#bd3786"
             ],
             [
              0.5555555555555556,
              "#d8576b"
             ],
             [
              0.6666666666666666,
              "#ed7953"
             ],
             [
              0.7777777777777778,
              "#fb9f3a"
             ],
             [
              0.8888888888888888,
              "#fdca26"
             ],
             [
              1,
              "#f0f921"
             ]
            ],
            "type": "contour"
           }
          ],
          "contourcarpet": [
           {
            "colorbar": {
             "outlinewidth": 0,
             "ticks": ""
            },
            "type": "contourcarpet"
           }
          ],
          "heatmap": [
           {
            "colorbar": {
             "outlinewidth": 0,
             "ticks": ""
            },
            "colorscale": [
             [
              0,
              "#0d0887"
             ],
             [
              0.1111111111111111,
              "#46039f"
             ],
             [
              0.2222222222222222,
              "#7201a8"
             ],
             [
              0.3333333333333333,
              "#9c179e"
             ],
             [
              0.4444444444444444,
              "#bd3786"
             ],
             [
              0.5555555555555556,
              "#d8576b"
             ],
             [
              0.6666666666666666,
              "#ed7953"
             ],
             [
              0.7777777777777778,
              "#fb9f3a"
             ],
             [
              0.8888888888888888,
              "#fdca26"
             ],
             [
              1,
              "#f0f921"
             ]
            ],
            "type": "heatmap"
           }
          ],
          "heatmapgl": [
           {
            "colorbar": {
             "outlinewidth": 0,
             "ticks": ""
            },
            "colorscale": [
             [
              0,
              "#0d0887"
             ],
             [
              0.1111111111111111,
              "#46039f"
             ],
             [
              0.2222222222222222,
              "#7201a8"
             ],
             [
              0.3333333333333333,
              "#9c179e"
             ],
             [
              0.4444444444444444,
              "#bd3786"
             ],
             [
              0.5555555555555556,
              "#d8576b"
             ],
             [
              0.6666666666666666,
              "#ed7953"
             ],
             [
              0.7777777777777778,
              "#fb9f3a"
             ],
             [
              0.8888888888888888,
              "#fdca26"
             ],
             [
              1,
              "#f0f921"
             ]
            ],
            "type": "heatmapgl"
           }
          ],
          "histogram": [
           {
            "marker": {
             "pattern": {
              "fillmode": "overlay",
              "size": 10,
              "solidity": 0.2
             }
            },
            "type": "histogram"
           }
          ],
          "histogram2d": [
           {
            "colorbar": {
             "outlinewidth": 0,
             "ticks": ""
            },
            "colorscale": [
             [
              0,
              "#0d0887"
             ],
             [
              0.1111111111111111,
              "#46039f"
             ],
             [
              0.2222222222222222,
              "#7201a8"
             ],
             [
              0.3333333333333333,
              "#9c179e"
             ],
             [
              0.4444444444444444,
              "#bd3786"
             ],
             [
              0.5555555555555556,
              "#d8576b"
             ],
             [
              0.6666666666666666,
              "#ed7953"
             ],
             [
              0.7777777777777778,
              "#fb9f3a"
             ],
             [
              0.8888888888888888,
              "#fdca26"
             ],
             [
              1,
              "#f0f921"
             ]
            ],
            "type": "histogram2d"
           }
          ],
          "histogram2dcontour": [
           {
            "colorbar": {
             "outlinewidth": 0,
             "ticks": ""
            },
            "colorscale": [
             [
              0,
              "#0d0887"
             ],
             [
              0.1111111111111111,
              "#46039f"
             ],
             [
              0.2222222222222222,
              "#7201a8"
             ],
             [
              0.3333333333333333,
              "#9c179e"
             ],
             [
              0.4444444444444444,
              "#bd3786"
             ],
             [
              0.5555555555555556,
              "#d8576b"
             ],
             [
              0.6666666666666666,
              "#ed7953"
             ],
             [
              0.7777777777777778,
              "#fb9f3a"
             ],
             [
              0.8888888888888888,
              "#fdca26"
             ],
             [
              1,
              "#f0f921"
             ]
            ],
            "type": "histogram2dcontour"
           }
          ],
          "mesh3d": [
           {
            "colorbar": {
             "outlinewidth": 0,
             "ticks": ""
            },
            "type": "mesh3d"
           }
          ],
          "parcoords": [
           {
            "line": {
             "colorbar": {
              "outlinewidth": 0,
              "ticks": ""
             }
            },
            "type": "parcoords"
           }
          ],
          "pie": [
           {
            "automargin": true,
            "type": "pie"
           }
          ],
          "scatter": [
           {
            "fillpattern": {
             "fillmode": "overlay",
             "size": 10,
             "solidity": 0.2
            },
            "type": "scatter"
           }
          ],
          "scatter3d": [
           {
            "line": {
             "colorbar": {
              "outlinewidth": 0,
              "ticks": ""
             }
            },
            "marker": {
             "colorbar": {
              "outlinewidth": 0,
              "ticks": ""
             }
            },
            "type": "scatter3d"
           }
          ],
          "scattercarpet": [
           {
            "marker": {
             "colorbar": {
              "outlinewidth": 0,
              "ticks": ""
             }
            },
            "type": "scattercarpet"
           }
          ],
          "scattergeo": [
           {
            "marker": {
             "colorbar": {
              "outlinewidth": 0,
              "ticks": ""
             }
            },
            "type": "scattergeo"
           }
          ],
          "scattergl": [
           {
            "marker": {
             "colorbar": {
              "outlinewidth": 0,
              "ticks": ""
             }
            },
            "type": "scattergl"
           }
          ],
          "scattermapbox": [
           {
            "marker": {
             "colorbar": {
              "outlinewidth": 0,
              "ticks": ""
             }
            },
            "type": "scattermapbox"
           }
          ],
          "scatterpolar": [
           {
            "marker": {
             "colorbar": {
              "outlinewidth": 0,
              "ticks": ""
             }
            },
            "type": "scatterpolar"
           }
          ],
          "scatterpolargl": [
           {
            "marker": {
             "colorbar": {
              "outlinewidth": 0,
              "ticks": ""
             }
            },
            "type": "scatterpolargl"
           }
          ],
          "scatterternary": [
           {
            "marker": {
             "colorbar": {
              "outlinewidth": 0,
              "ticks": ""
             }
            },
            "type": "scatterternary"
           }
          ],
          "surface": [
           {
            "colorbar": {
             "outlinewidth": 0,
             "ticks": ""
            },
            "colorscale": [
             [
              0,
              "#0d0887"
             ],
             [
              0.1111111111111111,
              "#46039f"
             ],
             [
              0.2222222222222222,
              "#7201a8"
             ],
             [
              0.3333333333333333,
              "#9c179e"
             ],
             [
              0.4444444444444444,
              "#bd3786"
             ],
             [
              0.5555555555555556,
              "#d8576b"
             ],
             [
              0.6666666666666666,
              "#ed7953"
             ],
             [
              0.7777777777777778,
              "#fb9f3a"
             ],
             [
              0.8888888888888888,
              "#fdca26"
             ],
             [
              1,
              "#f0f921"
             ]
            ],
            "type": "surface"
           }
          ],
          "table": [
           {
            "cells": {
             "fill": {
              "color": "#EBF0F8"
             },
             "line": {
              "color": "white"
             }
            },
            "header": {
             "fill": {
              "color": "#C8D4E3"
             },
             "line": {
              "color": "white"
             }
            },
            "type": "table"
           }
          ]
         },
         "layout": {
          "annotationdefaults": {
           "arrowcolor": "#2a3f5f",
           "arrowhead": 0,
           "arrowwidth": 1
          },
          "autotypenumbers": "strict",
          "coloraxis": {
           "colorbar": {
            "outlinewidth": 0,
            "ticks": ""
           }
          },
          "colorscale": {
           "diverging": [
            [
             0,
             "#8e0152"
            ],
            [
             0.1,
             "#c51b7d"
            ],
            [
             0.2,
             "#de77ae"
            ],
            [
             0.3,
             "#f1b6da"
            ],
            [
             0.4,
             "#fde0ef"
            ],
            [
             0.5,
             "#f7f7f7"
            ],
            [
             0.6,
             "#e6f5d0"
            ],
            [
             0.7,
             "#b8e186"
            ],
            [
             0.8,
             "#7fbc41"
            ],
            [
             0.9,
             "#4d9221"
            ],
            [
             1,
             "#276419"
            ]
           ],
           "sequential": [
            [
             0,
             "#0d0887"
            ],
            [
             0.1111111111111111,
             "#46039f"
            ],
            [
             0.2222222222222222,
             "#7201a8"
            ],
            [
             0.3333333333333333,
             "#9c179e"
            ],
            [
             0.4444444444444444,
             "#bd3786"
            ],
            [
             0.5555555555555556,
             "#d8576b"
            ],
            [
             0.6666666666666666,
             "#ed7953"
            ],
            [
             0.7777777777777778,
             "#fb9f3a"
            ],
            [
             0.8888888888888888,
             "#fdca26"
            ],
            [
             1,
             "#f0f921"
            ]
           ],
           "sequentialminus": [
            [
             0,
             "#0d0887"
            ],
            [
             0.1111111111111111,
             "#46039f"
            ],
            [
             0.2222222222222222,
             "#7201a8"
            ],
            [
             0.3333333333333333,
             "#9c179e"
            ],
            [
             0.4444444444444444,
             "#bd3786"
            ],
            [
             0.5555555555555556,
             "#d8576b"
            ],
            [
             0.6666666666666666,
             "#ed7953"
            ],
            [
             0.7777777777777778,
             "#fb9f3a"
            ],
            [
             0.8888888888888888,
             "#fdca26"
            ],
            [
             1,
             "#f0f921"
            ]
           ]
          },
          "colorway": [
           "#636efa",
           "#EF553B",
           "#00cc96",
           "#ab63fa",
           "#FFA15A",
           "#19d3f3",
           "#FF6692",
           "#B6E880",
           "#FF97FF",
           "#FECB52"
          ],
          "font": {
           "color": "#2a3f5f"
          },
          "geo": {
           "bgcolor": "white",
           "lakecolor": "white",
           "landcolor": "#E5ECF6",
           "showlakes": true,
           "showland": true,
           "subunitcolor": "white"
          },
          "hoverlabel": {
           "align": "left"
          },
          "hovermode": "closest",
          "mapbox": {
           "style": "light"
          },
          "paper_bgcolor": "white",
          "plot_bgcolor": "#E5ECF6",
          "polar": {
           "angularaxis": {
            "gridcolor": "white",
            "linecolor": "white",
            "ticks": ""
           },
           "bgcolor": "#E5ECF6",
           "radialaxis": {
            "gridcolor": "white",
            "linecolor": "white",
            "ticks": ""
           }
          },
          "scene": {
           "xaxis": {
            "backgroundcolor": "#E5ECF6",
            "gridcolor": "white",
            "gridwidth": 2,
            "linecolor": "white",
            "showbackground": true,
            "ticks": "",
            "zerolinecolor": "white"
           },
           "yaxis": {
            "backgroundcolor": "#E5ECF6",
            "gridcolor": "white",
            "gridwidth": 2,
            "linecolor": "white",
            "showbackground": true,
            "ticks": "",
            "zerolinecolor": "white"
           },
           "zaxis": {
            "backgroundcolor": "#E5ECF6",
            "gridcolor": "white",
            "gridwidth": 2,
            "linecolor": "white",
            "showbackground": true,
            "ticks": "",
            "zerolinecolor": "white"
           }
          },
          "shapedefaults": {
           "line": {
            "color": "#2a3f5f"
           }
          },
          "ternary": {
           "aaxis": {
            "gridcolor": "white",
            "linecolor": "white",
            "ticks": ""
           },
           "baxis": {
            "gridcolor": "white",
            "linecolor": "white",
            "ticks": ""
           },
           "bgcolor": "#E5ECF6",
           "caxis": {
            "gridcolor": "white",
            "linecolor": "white",
            "ticks": ""
           }
          },
          "title": {
           "x": 0.05
          },
          "xaxis": {
           "automargin": true,
           "gridcolor": "white",
           "linecolor": "white",
           "ticks": "",
           "title": {
            "standoff": 15
           },
           "zerolinecolor": "white",
           "zerolinewidth": 2
          },
          "yaxis": {
           "automargin": true,
           "gridcolor": "white",
           "linecolor": "white",
           "ticks": "",
           "title": {
            "standoff": 15
           },
           "zerolinecolor": "white",
           "zerolinewidth": 2
          }
         }
        },
        "title": {
         "text": "Top 20 Classifications That Refer The Most"
        },
        "width": 800,
        "xaxis": {
         "anchor": "y",
         "domain": [
          0,
          1
         ],
         "title": {
          "text": "classification"
         }
        },
        "yaxis": {
         "anchor": "x",
         "domain": [
          0,
          1
         ],
         "title": {
          "text": "count"
         }
        }
       }
      },
      "text/html": [
       "<div>                            <div id=\"93264589-d5d5-4e3e-9dcc-18448f188726\" class=\"plotly-graph-div\" style=\"height:600px; width:800px;\"></div>            <script type=\"text/javascript\">                require([\"plotly\"], function(Plotly) {                    window.PLOTLYENV=window.PLOTLYENV || {};                                    if (document.getElementById(\"93264589-d5d5-4e3e-9dcc-18448f188726\")) {                    Plotly.newPlot(                        \"93264589-d5d5-4e3e-9dcc-18448f188726\",                        [{\"alignmentgroup\":\"True\",\"hovertemplate\":\"classification=%{x}<br>count=%{y}<extra></extra>\",\"legendgroup\":\"\",\"marker\":{\"color\":\"#636efa\",\"pattern\":{\"shape\":\"\"}},\"name\":\"\",\"offsetgroup\":\"\",\"orientation\":\"v\",\"showlegend\":false,\"textposition\":\"outside\",\"texttemplate\":\"%{y:.2s}\",\"x\":[\"Internal Medicine\",\"Radiology\",\"Clinical Medical Laboratory\",\"Pathology\",\"General Acute Care Hospital\",\"Nurse Practitioner\",\"Family Medicine\",\"Emergency Medicine\",\"Durable Medical Equipment & Medical Supplies\",\"Anesthesiology\",\"Specialist\",\"Orthopaedic Surgery\",\"Nurse Anesthetist, Certified Registered\",\"Clinic/Center\",\"Ambulance\",\"Psychiatry & Neurology\",\"Surgery\",\"Physician Assistant\",\"Hospitalist\",\"Urology\"],\"xaxis\":\"x\",\"y\":[61445,34482,14596,14502,13796,12526,10469,9689,7013,6990,6072,4478,3905,3796,3753,3676,3111,2460,1986,1935],\"yaxis\":\"y\",\"type\":\"bar\",\"textfont\":{\"size\":12},\"cliponaxis\":false,\"textangle\":0}],                        {\"template\":{\"data\":{\"histogram2dcontour\":[{\"type\":\"histogram2dcontour\",\"colorbar\":{\"outlinewidth\":0,\"ticks\":\"\"},\"colorscale\":[[0.0,\"#0d0887\"],[0.1111111111111111,\"#46039f\"],[0.2222222222222222,\"#7201a8\"],[0.3333333333333333,\"#9c179e\"],[0.4444444444444444,\"#bd3786\"],[0.5555555555555556,\"#d8576b\"],[0.6666666666666666,\"#ed7953\"],[0.7777777777777778,\"#fb9f3a\"],[0.8888888888888888,\"#fdca26\"],[1.0,\"#f0f921\"]]}],\"choropleth\":[{\"type\":\"choropleth\",\"colorbar\":{\"outlinewidth\":0,\"ticks\":\"\"}}],\"histogram2d\":[{\"type\":\"histogram2d\",\"colorbar\":{\"outlinewidth\":0,\"ticks\":\"\"},\"colorscale\":[[0.0,\"#0d0887\"],[0.1111111111111111,\"#46039f\"],[0.2222222222222222,\"#7201a8\"],[0.3333333333333333,\"#9c179e\"],[0.4444444444444444,\"#bd3786\"],[0.5555555555555556,\"#d8576b\"],[0.6666666666666666,\"#ed7953\"],[0.7777777777777778,\"#fb9f3a\"],[0.8888888888888888,\"#fdca26\"],[1.0,\"#f0f921\"]]}],\"heatmap\":[{\"type\":\"heatmap\",\"colorbar\":{\"outlinewidth\":0,\"ticks\":\"\"},\"colorscale\":[[0.0,\"#0d0887\"],[0.1111111111111111,\"#46039f\"],[0.2222222222222222,\"#7201a8\"],[0.3333333333333333,\"#9c179e\"],[0.4444444444444444,\"#bd3786\"],[0.5555555555555556,\"#d8576b\"],[0.6666666666666666,\"#ed7953\"],[0.7777777777777778,\"#fb9f3a\"],[0.8888888888888888,\"#fdca26\"],[1.0,\"#f0f921\"]]}],\"heatmapgl\":[{\"type\":\"heatmapgl\",\"colorbar\":{\"outlinewidth\":0,\"ticks\":\"\"},\"colorscale\":[[0.0,\"#0d0887\"],[0.1111111111111111,\"#46039f\"],[0.2222222222222222,\"#7201a8\"],[0.3333333333333333,\"#9c179e\"],[0.4444444444444444,\"#bd3786\"],[0.5555555555555556,\"#d8576b\"],[0.6666666666666666,\"#ed7953\"],[0.7777777777777778,\"#fb9f3a\"],[0.8888888888888888,\"#fdca26\"],[1.0,\"#f0f921\"]]}],\"contourcarpet\":[{\"type\":\"contourcarpet\",\"colorbar\":{\"outlinewidth\":0,\"ticks\":\"\"}}],\"contour\":[{\"type\":\"contour\",\"colorbar\":{\"outlinewidth\":0,\"ticks\":\"\"},\"colorscale\":[[0.0,\"#0d0887\"],[0.1111111111111111,\"#46039f\"],[0.2222222222222222,\"#7201a8\"],[0.3333333333333333,\"#9c179e\"],[0.4444444444444444,\"#bd3786\"],[0.5555555555555556,\"#d8576b\"],[0.6666666666666666,\"#ed7953\"],[0.7777777777777778,\"#fb9f3a\"],[0.8888888888888888,\"#fdca26\"],[1.0,\"#f0f921\"]]}],\"surface\":[{\"type\":\"surface\",\"colorbar\":{\"outlinewidth\":0,\"ticks\":\"\"},\"colorscale\":[[0.0,\"#0d0887\"],[0.1111111111111111,\"#46039f\"],[0.2222222222222222,\"#7201a8\"],[0.3333333333333333,\"#9c179e\"],[0.4444444444444444,\"#bd3786\"],[0.5555555555555556,\"#d8576b\"],[0.6666666666666666,\"#ed7953\"],[0.7777777777777778,\"#fb9f3a\"],[0.8888888888888888,\"#fdca26\"],[1.0,\"#f0f921\"]]}],\"mesh3d\":[{\"type\":\"mesh3d\",\"colorbar\":{\"outlinewidth\":0,\"ticks\":\"\"}}],\"scatter\":[{\"fillpattern\":{\"fillmode\":\"overlay\",\"size\":10,\"solidity\":0.2},\"type\":\"scatter\"}],\"parcoords\":[{\"type\":\"parcoords\",\"line\":{\"colorbar\":{\"outlinewidth\":0,\"ticks\":\"\"}}}],\"scatterpolargl\":[{\"type\":\"scatterpolargl\",\"marker\":{\"colorbar\":{\"outlinewidth\":0,\"ticks\":\"\"}}}],\"bar\":[{\"error_x\":{\"color\":\"#2a3f5f\"},\"error_y\":{\"color\":\"#2a3f5f\"},\"marker\":{\"line\":{\"color\":\"#E5ECF6\",\"width\":0.5},\"pattern\":{\"fillmode\":\"overlay\",\"size\":10,\"solidity\":0.2}},\"type\":\"bar\"}],\"scattergeo\":[{\"type\":\"scattergeo\",\"marker\":{\"colorbar\":{\"outlinewidth\":0,\"ticks\":\"\"}}}],\"scatterpolar\":[{\"type\":\"scatterpolar\",\"marker\":{\"colorbar\":{\"outlinewidth\":0,\"ticks\":\"\"}}}],\"histogram\":[{\"marker\":{\"pattern\":{\"fillmode\":\"overlay\",\"size\":10,\"solidity\":0.2}},\"type\":\"histogram\"}],\"scattergl\":[{\"type\":\"scattergl\",\"marker\":{\"colorbar\":{\"outlinewidth\":0,\"ticks\":\"\"}}}],\"scatter3d\":[{\"type\":\"scatter3d\",\"line\":{\"colorbar\":{\"outlinewidth\":0,\"ticks\":\"\"}},\"marker\":{\"colorbar\":{\"outlinewidth\":0,\"ticks\":\"\"}}}],\"scattermapbox\":[{\"type\":\"scattermapbox\",\"marker\":{\"colorbar\":{\"outlinewidth\":0,\"ticks\":\"\"}}}],\"scatterternary\":[{\"type\":\"scatterternary\",\"marker\":{\"colorbar\":{\"outlinewidth\":0,\"ticks\":\"\"}}}],\"scattercarpet\":[{\"type\":\"scattercarpet\",\"marker\":{\"colorbar\":{\"outlinewidth\":0,\"ticks\":\"\"}}}],\"carpet\":[{\"aaxis\":{\"endlinecolor\":\"#2a3f5f\",\"gridcolor\":\"white\",\"linecolor\":\"white\",\"minorgridcolor\":\"white\",\"startlinecolor\":\"#2a3f5f\"},\"baxis\":{\"endlinecolor\":\"#2a3f5f\",\"gridcolor\":\"white\",\"linecolor\":\"white\",\"minorgridcolor\":\"white\",\"startlinecolor\":\"#2a3f5f\"},\"type\":\"carpet\"}],\"table\":[{\"cells\":{\"fill\":{\"color\":\"#EBF0F8\"},\"line\":{\"color\":\"white\"}},\"header\":{\"fill\":{\"color\":\"#C8D4E3\"},\"line\":{\"color\":\"white\"}},\"type\":\"table\"}],\"barpolar\":[{\"marker\":{\"line\":{\"color\":\"#E5ECF6\",\"width\":0.5},\"pattern\":{\"fillmode\":\"overlay\",\"size\":10,\"solidity\":0.2}},\"type\":\"barpolar\"}],\"pie\":[{\"automargin\":true,\"type\":\"pie\"}]},\"layout\":{\"autotypenumbers\":\"strict\",\"colorway\":[\"#636efa\",\"#EF553B\",\"#00cc96\",\"#ab63fa\",\"#FFA15A\",\"#19d3f3\",\"#FF6692\",\"#B6E880\",\"#FF97FF\",\"#FECB52\"],\"font\":{\"color\":\"#2a3f5f\"},\"hovermode\":\"closest\",\"hoverlabel\":{\"align\":\"left\"},\"paper_bgcolor\":\"white\",\"plot_bgcolor\":\"#E5ECF6\",\"polar\":{\"bgcolor\":\"#E5ECF6\",\"angularaxis\":{\"gridcolor\":\"white\",\"linecolor\":\"white\",\"ticks\":\"\"},\"radialaxis\":{\"gridcolor\":\"white\",\"linecolor\":\"white\",\"ticks\":\"\"}},\"ternary\":{\"bgcolor\":\"#E5ECF6\",\"aaxis\":{\"gridcolor\":\"white\",\"linecolor\":\"white\",\"ticks\":\"\"},\"baxis\":{\"gridcolor\":\"white\",\"linecolor\":\"white\",\"ticks\":\"\"},\"caxis\":{\"gridcolor\":\"white\",\"linecolor\":\"white\",\"ticks\":\"\"}},\"coloraxis\":{\"colorbar\":{\"outlinewidth\":0,\"ticks\":\"\"}},\"colorscale\":{\"sequential\":[[0.0,\"#0d0887\"],[0.1111111111111111,\"#46039f\"],[0.2222222222222222,\"#7201a8\"],[0.3333333333333333,\"#9c179e\"],[0.4444444444444444,\"#bd3786\"],[0.5555555555555556,\"#d8576b\"],[0.6666666666666666,\"#ed7953\"],[0.7777777777777778,\"#fb9f3a\"],[0.8888888888888888,\"#fdca26\"],[1.0,\"#f0f921\"]],\"sequentialminus\":[[0.0,\"#0d0887\"],[0.1111111111111111,\"#46039f\"],[0.2222222222222222,\"#7201a8\"],[0.3333333333333333,\"#9c179e\"],[0.4444444444444444,\"#bd3786\"],[0.5555555555555556,\"#d8576b\"],[0.6666666666666666,\"#ed7953\"],[0.7777777777777778,\"#fb9f3a\"],[0.8888888888888888,\"#fdca26\"],[1.0,\"#f0f921\"]],\"diverging\":[[0,\"#8e0152\"],[0.1,\"#c51b7d\"],[0.2,\"#de77ae\"],[0.3,\"#f1b6da\"],[0.4,\"#fde0ef\"],[0.5,\"#f7f7f7\"],[0.6,\"#e6f5d0\"],[0.7,\"#b8e186\"],[0.8,\"#7fbc41\"],[0.9,\"#4d9221\"],[1,\"#276419\"]]},\"xaxis\":{\"gridcolor\":\"white\",\"linecolor\":\"white\",\"ticks\":\"\",\"title\":{\"standoff\":15},\"zerolinecolor\":\"white\",\"automargin\":true,\"zerolinewidth\":2},\"yaxis\":{\"gridcolor\":\"white\",\"linecolor\":\"white\",\"ticks\":\"\",\"title\":{\"standoff\":15},\"zerolinecolor\":\"white\",\"automargin\":true,\"zerolinewidth\":2},\"scene\":{\"xaxis\":{\"backgroundcolor\":\"#E5ECF6\",\"gridcolor\":\"white\",\"linecolor\":\"white\",\"showbackground\":true,\"ticks\":\"\",\"zerolinecolor\":\"white\",\"gridwidth\":2},\"yaxis\":{\"backgroundcolor\":\"#E5ECF6\",\"gridcolor\":\"white\",\"linecolor\":\"white\",\"showbackground\":true,\"ticks\":\"\",\"zerolinecolor\":\"white\",\"gridwidth\":2},\"zaxis\":{\"backgroundcolor\":\"#E5ECF6\",\"gridcolor\":\"white\",\"linecolor\":\"white\",\"showbackground\":true,\"ticks\":\"\",\"zerolinecolor\":\"white\",\"gridwidth\":2}},\"shapedefaults\":{\"line\":{\"color\":\"#2a3f5f\"}},\"annotationdefaults\":{\"arrowcolor\":\"#2a3f5f\",\"arrowhead\":0,\"arrowwidth\":1},\"geo\":{\"bgcolor\":\"white\",\"landcolor\":\"#E5ECF6\",\"subunitcolor\":\"white\",\"showland\":true,\"showlakes\":true,\"lakecolor\":\"white\"},\"title\":{\"x\":0.05},\"mapbox\":{\"style\":\"light\"}}},\"xaxis\":{\"anchor\":\"y\",\"domain\":[0.0,1.0],\"title\":{\"text\":\"classification\"}},\"yaxis\":{\"anchor\":\"x\",\"domain\":[0.0,1.0],\"title\":{\"text\":\"count\"}},\"legend\":{\"tracegroupgap\":0},\"title\":{\"text\":\"Top 20 Classifications That Refer The Most\"},\"barmode\":\"relative\",\"height\":600,\"width\":800},                        {\"responsive\": true}                    ).then(function(){\n",
       "                            \n",
       "var gd = document.getElementById('93264589-d5d5-4e3e-9dcc-18448f188726');\n",
       "var x = new MutationObserver(function (mutations, observer) {{\n",
       "        var display = window.getComputedStyle(gd).display;\n",
       "        if (!display || display === 'none') {{\n",
       "            console.log([gd, 'removed!']);\n",
       "            Plotly.purge(gd);\n",
       "            observer.disconnect();\n",
       "        }}\n",
       "}});\n",
       "\n",
       "// Listen for the removal of the full notebook cells\n",
       "var notebookContainer = gd.closest('#notebook-container');\n",
       "if (notebookContainer) {{\n",
       "    x.observe(notebookContainer, {childList: true});\n",
       "}}\n",
       "\n",
       "// Listen for the clearing of the current output cell\n",
       "var outputEl = gd.closest('.output');\n",
       "if (outputEl) {{\n",
       "    x.observe(outputEl, {childList: true});\n",
       "}}\n",
       "\n",
       "                        })                };                });            </script>        </div>"
      ]
     },
     "metadata": {},
     "output_type": "display_data"
    }
   ],
   "source": [
    "top20_classifications = top_classifications_from.sort_values(by=\"count\", ascending = False).head(20)\n",
    "# Pull the classifications to a list\n",
    "top20_classifications_list = top20_classifications['classification'].tolist()\n",
    "\n",
    "fig = px.bar(top20_classifications, x = 'classification', y = 'count', text_auto = '.2s', \n",
    "            title = \"Top 20 Classifications That Refer The Most\", width = 800, height = 600)\n",
    "fig.update_traces(textfont_size=12, textangle=0, textposition=\"outside\", cliponaxis=False)\n",
    "fig.show()"
   ]
  },
  {
   "cell_type": "code",
   "execution_count": 273,
   "id": "5d5d1ab0",
   "metadata": {},
   "outputs": [
    {
     "data": {
      "text/plain": [
       "['Internal Medicine',\n",
       " 'Radiology',\n",
       " 'Clinical Medical Laboratory',\n",
       " 'Pathology',\n",
       " 'General Acute Care Hospital',\n",
       " 'Nurse Practitioner',\n",
       " 'Family Medicine',\n",
       " 'Emergency Medicine',\n",
       " 'Durable Medical Equipment & Medical Supplies',\n",
       " 'Anesthesiology',\n",
       " 'Specialist',\n",
       " 'Orthopaedic Surgery',\n",
       " 'Nurse Anesthetist, Certified Registered',\n",
       " 'Clinic/Center',\n",
       " 'Ambulance',\n",
       " 'Psychiatry & Neurology',\n",
       " 'Surgery',\n",
       " 'Physician Assistant',\n",
       " 'Hospitalist',\n",
       " 'Urology']"
      ]
     },
     "execution_count": 273,
     "metadata": {},
     "output_type": "execute_result"
    }
   ],
   "source": [
    "top20_classifications_list"
   ]
  },
  {
   "cell_type": "markdown",
   "id": "544eb569",
   "metadata": {},
   "source": [
    "Similarly, which classifications/ specializations get the most referral?"
   ]
  },
  {
   "cell_type": "code",
   "execution_count": 219,
   "id": "f930ea1f",
   "metadata": {
    "scrolled": true
   },
   "outputs": [
    {
     "data": {
      "text/html": [
       "<div>\n",
       "<style scoped>\n",
       "    .dataframe tbody tr th:only-of-type {\n",
       "        vertical-align: middle;\n",
       "    }\n",
       "\n",
       "    .dataframe tbody tr th {\n",
       "        vertical-align: top;\n",
       "    }\n",
       "\n",
       "    .dataframe thead th {\n",
       "        text-align: right;\n",
       "    }\n",
       "</style>\n",
       "<table border=\"1\" class=\"dataframe\">\n",
       "  <thead>\n",
       "    <tr style=\"text-align: right;\">\n",
       "      <th></th>\n",
       "      <th>classification</th>\n",
       "      <th>count</th>\n",
       "    </tr>\n",
       "  </thead>\n",
       "  <tbody>\n",
       "    <tr>\n",
       "      <th>35</th>\n",
       "      <td>Internal Medicine</td>\n",
       "      <td>65030</td>\n",
       "    </tr>\n",
       "    <tr>\n",
       "      <th>76</th>\n",
       "      <td>Radiology</td>\n",
       "      <td>29098</td>\n",
       "    </tr>\n",
       "    <tr>\n",
       "      <th>56</th>\n",
       "      <td>Pathology</td>\n",
       "      <td>13857</td>\n",
       "    </tr>\n",
       "    <tr>\n",
       "      <th>27</th>\n",
       "      <td>General Acute Care Hospital</td>\n",
       "      <td>13755</td>\n",
       "    </tr>\n",
       "    <tr>\n",
       "      <th>46</th>\n",
       "      <td>Nurse Practitioner</td>\n",
       "      <td>13525</td>\n",
       "    </tr>\n",
       "    <tr>\n",
       "      <th>10</th>\n",
       "      <td>Clinical Medical Laboratory</td>\n",
       "      <td>13207</td>\n",
       "    </tr>\n",
       "    <tr>\n",
       "      <th>26</th>\n",
       "      <td>Family Medicine</td>\n",
       "      <td>10542</td>\n",
       "    </tr>\n",
       "    <tr>\n",
       "      <th>4</th>\n",
       "      <td>Anesthesiology</td>\n",
       "      <td>7774</td>\n",
       "    </tr>\n",
       "    <tr>\n",
       "      <th>22</th>\n",
       "      <td>Durable Medical Equipment &amp; Medical Supplies</td>\n",
       "      <td>7649</td>\n",
       "    </tr>\n",
       "    <tr>\n",
       "      <th>23</th>\n",
       "      <td>Emergency Medicine</td>\n",
       "      <td>6821</td>\n",
       "    </tr>\n",
       "    <tr>\n",
       "      <th>85</th>\n",
       "      <td>Specialist</td>\n",
       "      <td>6055</td>\n",
       "    </tr>\n",
       "    <tr>\n",
       "      <th>53</th>\n",
       "      <td>Orthopaedic Surgery</td>\n",
       "      <td>4842</td>\n",
       "    </tr>\n",
       "    <tr>\n",
       "      <th>45</th>\n",
       "      <td>Nurse Anesthetist, Certified Registered</td>\n",
       "      <td>4275</td>\n",
       "    </tr>\n",
       "    <tr>\n",
       "      <th>73</th>\n",
       "      <td>Psychiatry &amp; Neurology</td>\n",
       "      <td>4039</td>\n",
       "    </tr>\n",
       "    <tr>\n",
       "      <th>9</th>\n",
       "      <td>Clinic/Center</td>\n",
       "      <td>3929</td>\n",
       "    </tr>\n",
       "    <tr>\n",
       "      <th>88</th>\n",
       "      <td>Surgery</td>\n",
       "      <td>3476</td>\n",
       "    </tr>\n",
       "    <tr>\n",
       "      <th>2</th>\n",
       "      <td>Ambulance</td>\n",
       "      <td>3430</td>\n",
       "    </tr>\n",
       "    <tr>\n",
       "      <th>63</th>\n",
       "      <td>Physician Assistant</td>\n",
       "      <td>2390</td>\n",
       "    </tr>\n",
       "    <tr>\n",
       "      <th>32</th>\n",
       "      <td>Hospitalist</td>\n",
       "      <td>2332</td>\n",
       "    </tr>\n",
       "    <tr>\n",
       "      <th>82</th>\n",
       "      <td>Skilled Nursing Facility</td>\n",
       "      <td>2242</td>\n",
       "    </tr>\n",
       "  </tbody>\n",
       "</table>\n",
       "</div>"
      ],
      "text/plain": [
       "                                  classification  count\n",
       "35                             Internal Medicine  65030\n",
       "76                                     Radiology  29098\n",
       "56                                     Pathology  13857\n",
       "27                   General Acute Care Hospital  13755\n",
       "46                            Nurse Practitioner  13525\n",
       "10                   Clinical Medical Laboratory  13207\n",
       "26                               Family Medicine  10542\n",
       "4                                 Anesthesiology   7774\n",
       "22  Durable Medical Equipment & Medical Supplies   7649\n",
       "23                            Emergency Medicine   6821\n",
       "85                                    Specialist   6055\n",
       "53                           Orthopaedic Surgery   4842\n",
       "45       Nurse Anesthetist, Certified Registered   4275\n",
       "73                        Psychiatry & Neurology   4039\n",
       "9                                  Clinic/Center   3929\n",
       "88                                       Surgery   3476\n",
       "2                                      Ambulance   3430\n",
       "63                           Physician Assistant   2390\n",
       "32                                   Hospitalist   2332\n",
       "82                      Skilled Nursing Facility   2242"
      ]
     },
     "execution_count": 219,
     "metadata": {},
     "output_type": "execute_result"
    }
   ],
   "source": [
    "top_classifications_to = nashnpi_to_npi.groupby(\"classification\")[\"npi\"].count().reset_index(name=\"count\")\n",
    "\n",
    "top_classifications_to.sort_values(by = \"count\", ascending = False).head(20)"
   ]
  },
  {
   "cell_type": "code",
   "execution_count": 220,
   "id": "b6054755",
   "metadata": {
    "scrolled": false
   },
   "outputs": [
    {
     "data": {
      "application/vnd.plotly.v1+json": {
       "config": {
        "plotlyServerURL": "https://plot.ly"
       },
       "data": [
        {
         "marker": {
          "color": "indianred"
         },
         "name": "From Providers",
         "text": [
          61445,
          34482,
          14596,
          14502,
          13796,
          12526,
          10469,
          9689,
          7013,
          6990,
          6072,
          4478,
          3905,
          3796,
          3753,
          3676,
          3111,
          2460,
          1986,
          1935
         ],
         "textangle": 0,
         "textfont": {
          "size": 12
         },
         "textposition": "outside",
         "texttemplate": "%{text:.2s}",
         "type": "bar",
         "x": [
          "Internal Medicine",
          "Radiology",
          "Clinical Medical Laboratory",
          "Pathology",
          "General Acute Care Hospital",
          "Nurse Practitioner",
          "Family Medicine",
          "Emergency Medicine",
          "Durable Medical Equipment & Medical Supplies",
          "Anesthesiology",
          "Specialist",
          "Orthopaedic Surgery",
          "Nurse Anesthetist, Certified Registered",
          "Clinic/Center",
          "Ambulance",
          "Psychiatry & Neurology",
          "Surgery",
          "Physician Assistant",
          "Hospitalist",
          "Urology"
         ],
         "y": [
          61445,
          34482,
          14596,
          14502,
          13796,
          12526,
          10469,
          9689,
          7013,
          6990,
          6072,
          4478,
          3905,
          3796,
          3753,
          3676,
          3111,
          2460,
          1986,
          1935
         ]
        },
        {
         "marker": {
          "color": "lightsalmon"
         },
         "name": "To Providers",
         "text": [
          65030,
          29098,
          13857,
          13755,
          13525,
          13207,
          10542,
          7774,
          7649,
          6821,
          6055,
          4842,
          4275,
          4039,
          3929,
          3476,
          3430,
          2390,
          2332,
          2242
         ],
         "textangle": 0,
         "textfont": {
          "size": 12
         },
         "textposition": "outside",
         "texttemplate": "%{text:.2s}",
         "type": "bar",
         "x": [
          "Internal Medicine",
          "Radiology",
          "Pathology",
          "General Acute Care Hospital",
          "Nurse Practitioner",
          "Clinical Medical Laboratory",
          "Family Medicine",
          "Anesthesiology",
          "Durable Medical Equipment & Medical Supplies",
          "Emergency Medicine",
          "Specialist",
          "Orthopaedic Surgery",
          "Nurse Anesthetist, Certified Registered",
          "Psychiatry & Neurology",
          "Clinic/Center",
          "Surgery",
          "Ambulance",
          "Physician Assistant",
          "Hospitalist",
          "Skilled Nursing Facility"
         ],
         "y": [
          65030,
          29098,
          13857,
          13755,
          13525,
          13207,
          10542,
          7774,
          7649,
          6821,
          6055,
          4842,
          4275,
          4039,
          3929,
          3476,
          3430,
          2390,
          2332,
          2242
         ]
        }
       ],
       "layout": {
        "barmode": "group",
        "height": 800,
        "template": {
         "data": {
          "bar": [
           {
            "error_x": {
             "color": "#2a3f5f"
            },
            "error_y": {
             "color": "#2a3f5f"
            },
            "marker": {
             "line": {
              "color": "#E5ECF6",
              "width": 0.5
             },
             "pattern": {
              "fillmode": "overlay",
              "size": 10,
              "solidity": 0.2
             }
            },
            "type": "bar"
           }
          ],
          "barpolar": [
           {
            "marker": {
             "line": {
              "color": "#E5ECF6",
              "width": 0.5
             },
             "pattern": {
              "fillmode": "overlay",
              "size": 10,
              "solidity": 0.2
             }
            },
            "type": "barpolar"
           }
          ],
          "carpet": [
           {
            "aaxis": {
             "endlinecolor": "#2a3f5f",
             "gridcolor": "white",
             "linecolor": "white",
             "minorgridcolor": "white",
             "startlinecolor": "#2a3f5f"
            },
            "baxis": {
             "endlinecolor": "#2a3f5f",
             "gridcolor": "white",
             "linecolor": "white",
             "minorgridcolor": "white",
             "startlinecolor": "#2a3f5f"
            },
            "type": "carpet"
           }
          ],
          "choropleth": [
           {
            "colorbar": {
             "outlinewidth": 0,
             "ticks": ""
            },
            "type": "choropleth"
           }
          ],
          "contour": [
           {
            "colorbar": {
             "outlinewidth": 0,
             "ticks": ""
            },
            "colorscale": [
             [
              0,
              "#0d0887"
             ],
             [
              0.1111111111111111,
              "#46039f"
             ],
             [
              0.2222222222222222,
              "#7201a8"
             ],
             [
              0.3333333333333333,
              "#9c179e"
             ],
             [
              0.4444444444444444,
              "#bd3786"
             ],
             [
              0.5555555555555556,
              "#d8576b"
             ],
             [
              0.6666666666666666,
              "#ed7953"
             ],
             [
              0.7777777777777778,
              "#fb9f3a"
             ],
             [
              0.8888888888888888,
              "#fdca26"
             ],
             [
              1,
              "#f0f921"
             ]
            ],
            "type": "contour"
           }
          ],
          "contourcarpet": [
           {
            "colorbar": {
             "outlinewidth": 0,
             "ticks": ""
            },
            "type": "contourcarpet"
           }
          ],
          "heatmap": [
           {
            "colorbar": {
             "outlinewidth": 0,
             "ticks": ""
            },
            "colorscale": [
             [
              0,
              "#0d0887"
             ],
             [
              0.1111111111111111,
              "#46039f"
             ],
             [
              0.2222222222222222,
              "#7201a8"
             ],
             [
              0.3333333333333333,
              "#9c179e"
             ],
             [
              0.4444444444444444,
              "#bd3786"
             ],
             [
              0.5555555555555556,
              "#d8576b"
             ],
             [
              0.6666666666666666,
              "#ed7953"
             ],
             [
              0.7777777777777778,
              "#fb9f3a"
             ],
             [
              0.8888888888888888,
              "#fdca26"
             ],
             [
              1,
              "#f0f921"
             ]
            ],
            "type": "heatmap"
           }
          ],
          "heatmapgl": [
           {
            "colorbar": {
             "outlinewidth": 0,
             "ticks": ""
            },
            "colorscale": [
             [
              0,
              "#0d0887"
             ],
             [
              0.1111111111111111,
              "#46039f"
             ],
             [
              0.2222222222222222,
              "#7201a8"
             ],
             [
              0.3333333333333333,
              "#9c179e"
             ],
             [
              0.4444444444444444,
              "#bd3786"
             ],
             [
              0.5555555555555556,
              "#d8576b"
             ],
             [
              0.6666666666666666,
              "#ed7953"
             ],
             [
              0.7777777777777778,
              "#fb9f3a"
             ],
             [
              0.8888888888888888,
              "#fdca26"
             ],
             [
              1,
              "#f0f921"
             ]
            ],
            "type": "heatmapgl"
           }
          ],
          "histogram": [
           {
            "marker": {
             "pattern": {
              "fillmode": "overlay",
              "size": 10,
              "solidity": 0.2
             }
            },
            "type": "histogram"
           }
          ],
          "histogram2d": [
           {
            "colorbar": {
             "outlinewidth": 0,
             "ticks": ""
            },
            "colorscale": [
             [
              0,
              "#0d0887"
             ],
             [
              0.1111111111111111,
              "#46039f"
             ],
             [
              0.2222222222222222,
              "#7201a8"
             ],
             [
              0.3333333333333333,
              "#9c179e"
             ],
             [
              0.4444444444444444,
              "#bd3786"
             ],
             [
              0.5555555555555556,
              "#d8576b"
             ],
             [
              0.6666666666666666,
              "#ed7953"
             ],
             [
              0.7777777777777778,
              "#fb9f3a"
             ],
             [
              0.8888888888888888,
              "#fdca26"
             ],
             [
              1,
              "#f0f921"
             ]
            ],
            "type": "histogram2d"
           }
          ],
          "histogram2dcontour": [
           {
            "colorbar": {
             "outlinewidth": 0,
             "ticks": ""
            },
            "colorscale": [
             [
              0,
              "#0d0887"
             ],
             [
              0.1111111111111111,
              "#46039f"
             ],
             [
              0.2222222222222222,
              "#7201a8"
             ],
             [
              0.3333333333333333,
              "#9c179e"
             ],
             [
              0.4444444444444444,
              "#bd3786"
             ],
             [
              0.5555555555555556,
              "#d8576b"
             ],
             [
              0.6666666666666666,
              "#ed7953"
             ],
             [
              0.7777777777777778,
              "#fb9f3a"
             ],
             [
              0.8888888888888888,
              "#fdca26"
             ],
             [
              1,
              "#f0f921"
             ]
            ],
            "type": "histogram2dcontour"
           }
          ],
          "mesh3d": [
           {
            "colorbar": {
             "outlinewidth": 0,
             "ticks": ""
            },
            "type": "mesh3d"
           }
          ],
          "parcoords": [
           {
            "line": {
             "colorbar": {
              "outlinewidth": 0,
              "ticks": ""
             }
            },
            "type": "parcoords"
           }
          ],
          "pie": [
           {
            "automargin": true,
            "type": "pie"
           }
          ],
          "scatter": [
           {
            "fillpattern": {
             "fillmode": "overlay",
             "size": 10,
             "solidity": 0.2
            },
            "type": "scatter"
           }
          ],
          "scatter3d": [
           {
            "line": {
             "colorbar": {
              "outlinewidth": 0,
              "ticks": ""
             }
            },
            "marker": {
             "colorbar": {
              "outlinewidth": 0,
              "ticks": ""
             }
            },
            "type": "scatter3d"
           }
          ],
          "scattercarpet": [
           {
            "marker": {
             "colorbar": {
              "outlinewidth": 0,
              "ticks": ""
             }
            },
            "type": "scattercarpet"
           }
          ],
          "scattergeo": [
           {
            "marker": {
             "colorbar": {
              "outlinewidth": 0,
              "ticks": ""
             }
            },
            "type": "scattergeo"
           }
          ],
          "scattergl": [
           {
            "marker": {
             "colorbar": {
              "outlinewidth": 0,
              "ticks": ""
             }
            },
            "type": "scattergl"
           }
          ],
          "scattermapbox": [
           {
            "marker": {
             "colorbar": {
              "outlinewidth": 0,
              "ticks": ""
             }
            },
            "type": "scattermapbox"
           }
          ],
          "scatterpolar": [
           {
            "marker": {
             "colorbar": {
              "outlinewidth": 0,
              "ticks": ""
             }
            },
            "type": "scatterpolar"
           }
          ],
          "scatterpolargl": [
           {
            "marker": {
             "colorbar": {
              "outlinewidth": 0,
              "ticks": ""
             }
            },
            "type": "scatterpolargl"
           }
          ],
          "scatterternary": [
           {
            "marker": {
             "colorbar": {
              "outlinewidth": 0,
              "ticks": ""
             }
            },
            "type": "scatterternary"
           }
          ],
          "surface": [
           {
            "colorbar": {
             "outlinewidth": 0,
             "ticks": ""
            },
            "colorscale": [
             [
              0,
              "#0d0887"
             ],
             [
              0.1111111111111111,
              "#46039f"
             ],
             [
              0.2222222222222222,
              "#7201a8"
             ],
             [
              0.3333333333333333,
              "#9c179e"
             ],
             [
              0.4444444444444444,
              "#bd3786"
             ],
             [
              0.5555555555555556,
              "#d8576b"
             ],
             [
              0.6666666666666666,
              "#ed7953"
             ],
             [
              0.7777777777777778,
              "#fb9f3a"
             ],
             [
              0.8888888888888888,
              "#fdca26"
             ],
             [
              1,
              "#f0f921"
             ]
            ],
            "type": "surface"
           }
          ],
          "table": [
           {
            "cells": {
             "fill": {
              "color": "#EBF0F8"
             },
             "line": {
              "color": "white"
             }
            },
            "header": {
             "fill": {
              "color": "#C8D4E3"
             },
             "line": {
              "color": "white"
             }
            },
            "type": "table"
           }
          ]
         },
         "layout": {
          "annotationdefaults": {
           "arrowcolor": "#2a3f5f",
           "arrowhead": 0,
           "arrowwidth": 1
          },
          "autotypenumbers": "strict",
          "coloraxis": {
           "colorbar": {
            "outlinewidth": 0,
            "ticks": ""
           }
          },
          "colorscale": {
           "diverging": [
            [
             0,
             "#8e0152"
            ],
            [
             0.1,
             "#c51b7d"
            ],
            [
             0.2,
             "#de77ae"
            ],
            [
             0.3,
             "#f1b6da"
            ],
            [
             0.4,
             "#fde0ef"
            ],
            [
             0.5,
             "#f7f7f7"
            ],
            [
             0.6,
             "#e6f5d0"
            ],
            [
             0.7,
             "#b8e186"
            ],
            [
             0.8,
             "#7fbc41"
            ],
            [
             0.9,
             "#4d9221"
            ],
            [
             1,
             "#276419"
            ]
           ],
           "sequential": [
            [
             0,
             "#0d0887"
            ],
            [
             0.1111111111111111,
             "#46039f"
            ],
            [
             0.2222222222222222,
             "#7201a8"
            ],
            [
             0.3333333333333333,
             "#9c179e"
            ],
            [
             0.4444444444444444,
             "#bd3786"
            ],
            [
             0.5555555555555556,
             "#d8576b"
            ],
            [
             0.6666666666666666,
             "#ed7953"
            ],
            [
             0.7777777777777778,
             "#fb9f3a"
            ],
            [
             0.8888888888888888,
             "#fdca26"
            ],
            [
             1,
             "#f0f921"
            ]
           ],
           "sequentialminus": [
            [
             0,
             "#0d0887"
            ],
            [
             0.1111111111111111,
             "#46039f"
            ],
            [
             0.2222222222222222,
             "#7201a8"
            ],
            [
             0.3333333333333333,
             "#9c179e"
            ],
            [
             0.4444444444444444,
             "#bd3786"
            ],
            [
             0.5555555555555556,
             "#d8576b"
            ],
            [
             0.6666666666666666,
             "#ed7953"
            ],
            [
             0.7777777777777778,
             "#fb9f3a"
            ],
            [
             0.8888888888888888,
             "#fdca26"
            ],
            [
             1,
             "#f0f921"
            ]
           ]
          },
          "colorway": [
           "#636efa",
           "#EF553B",
           "#00cc96",
           "#ab63fa",
           "#FFA15A",
           "#19d3f3",
           "#FF6692",
           "#B6E880",
           "#FF97FF",
           "#FECB52"
          ],
          "font": {
           "color": "#2a3f5f"
          },
          "geo": {
           "bgcolor": "white",
           "lakecolor": "white",
           "landcolor": "#E5ECF6",
           "showlakes": true,
           "showland": true,
           "subunitcolor": "white"
          },
          "hoverlabel": {
           "align": "left"
          },
          "hovermode": "closest",
          "mapbox": {
           "style": "light"
          },
          "paper_bgcolor": "white",
          "plot_bgcolor": "#E5ECF6",
          "polar": {
           "angularaxis": {
            "gridcolor": "white",
            "linecolor": "white",
            "ticks": ""
           },
           "bgcolor": "#E5ECF6",
           "radialaxis": {
            "gridcolor": "white",
            "linecolor": "white",
            "ticks": ""
           }
          },
          "scene": {
           "xaxis": {
            "backgroundcolor": "#E5ECF6",
            "gridcolor": "white",
            "gridwidth": 2,
            "linecolor": "white",
            "showbackground": true,
            "ticks": "",
            "zerolinecolor": "white"
           },
           "yaxis": {
            "backgroundcolor": "#E5ECF6",
            "gridcolor": "white",
            "gridwidth": 2,
            "linecolor": "white",
            "showbackground": true,
            "ticks": "",
            "zerolinecolor": "white"
           },
           "zaxis": {
            "backgroundcolor": "#E5ECF6",
            "gridcolor": "white",
            "gridwidth": 2,
            "linecolor": "white",
            "showbackground": true,
            "ticks": "",
            "zerolinecolor": "white"
           }
          },
          "shapedefaults": {
           "line": {
            "color": "#2a3f5f"
           }
          },
          "ternary": {
           "aaxis": {
            "gridcolor": "white",
            "linecolor": "white",
            "ticks": ""
           },
           "baxis": {
            "gridcolor": "white",
            "linecolor": "white",
            "ticks": ""
           },
           "bgcolor": "#E5ECF6",
           "caxis": {
            "gridcolor": "white",
            "linecolor": "white",
            "ticks": ""
           }
          },
          "title": {
           "x": 0.05
          },
          "xaxis": {
           "automargin": true,
           "gridcolor": "white",
           "linecolor": "white",
           "ticks": "",
           "title": {
            "standoff": 15
           },
           "zerolinecolor": "white",
           "zerolinewidth": 2
          },
          "yaxis": {
           "automargin": true,
           "gridcolor": "white",
           "linecolor": "white",
           "ticks": "",
           "title": {
            "standoff": 15
           },
           "zerolinecolor": "white",
           "zerolinewidth": 2
          }
         }
        },
        "width": 1000,
        "xaxis": {
         "tickangle": -45
        }
       }
      },
      "text/html": [
       "<div>                            <div id=\"ea526478-3c2c-476b-98b9-3eb02d9ef2fd\" class=\"plotly-graph-div\" style=\"height:800px; width:1000px;\"></div>            <script type=\"text/javascript\">                require([\"plotly\"], function(Plotly) {                    window.PLOTLYENV=window.PLOTLYENV || {};                                    if (document.getElementById(\"ea526478-3c2c-476b-98b9-3eb02d9ef2fd\")) {                    Plotly.newPlot(                        \"ea526478-3c2c-476b-98b9-3eb02d9ef2fd\",                        [{\"marker\":{\"color\":\"indianred\"},\"name\":\"From Providers\",\"text\":[61445.0,34482.0,14596.0,14502.0,13796.0,12526.0,10469.0,9689.0,7013.0,6990.0,6072.0,4478.0,3905.0,3796.0,3753.0,3676.0,3111.0,2460.0,1986.0,1935.0],\"x\":[\"Internal Medicine\",\"Radiology\",\"Clinical Medical Laboratory\",\"Pathology\",\"General Acute Care Hospital\",\"Nurse Practitioner\",\"Family Medicine\",\"Emergency Medicine\",\"Durable Medical Equipment & Medical Supplies\",\"Anesthesiology\",\"Specialist\",\"Orthopaedic Surgery\",\"Nurse Anesthetist, Certified Registered\",\"Clinic/Center\",\"Ambulance\",\"Psychiatry & Neurology\",\"Surgery\",\"Physician Assistant\",\"Hospitalist\",\"Urology\"],\"y\":[61445,34482,14596,14502,13796,12526,10469,9689,7013,6990,6072,4478,3905,3796,3753,3676,3111,2460,1986,1935],\"type\":\"bar\",\"textfont\":{\"size\":12},\"textangle\":0,\"textposition\":\"outside\",\"texttemplate\":\"%{text:.2s}\"},{\"marker\":{\"color\":\"lightsalmon\"},\"name\":\"To Providers\",\"text\":[65030.0,29098.0,13857.0,13755.0,13525.0,13207.0,10542.0,7774.0,7649.0,6821.0,6055.0,4842.0,4275.0,4039.0,3929.0,3476.0,3430.0,2390.0,2332.0,2242.0],\"x\":[\"Internal Medicine\",\"Radiology\",\"Pathology\",\"General Acute Care Hospital\",\"Nurse Practitioner\",\"Clinical Medical Laboratory\",\"Family Medicine\",\"Anesthesiology\",\"Durable Medical Equipment & Medical Supplies\",\"Emergency Medicine\",\"Specialist\",\"Orthopaedic Surgery\",\"Nurse Anesthetist, Certified Registered\",\"Psychiatry & Neurology\",\"Clinic/Center\",\"Surgery\",\"Ambulance\",\"Physician Assistant\",\"Hospitalist\",\"Skilled Nursing Facility\"],\"y\":[65030,29098,13857,13755,13525,13207,10542,7774,7649,6821,6055,4842,4275,4039,3929,3476,3430,2390,2332,2242],\"type\":\"bar\",\"textfont\":{\"size\":12},\"textangle\":0,\"textposition\":\"outside\",\"texttemplate\":\"%{text:.2s}\"}],                        {\"template\":{\"data\":{\"histogram2dcontour\":[{\"type\":\"histogram2dcontour\",\"colorbar\":{\"outlinewidth\":0,\"ticks\":\"\"},\"colorscale\":[[0.0,\"#0d0887\"],[0.1111111111111111,\"#46039f\"],[0.2222222222222222,\"#7201a8\"],[0.3333333333333333,\"#9c179e\"],[0.4444444444444444,\"#bd3786\"],[0.5555555555555556,\"#d8576b\"],[0.6666666666666666,\"#ed7953\"],[0.7777777777777778,\"#fb9f3a\"],[0.8888888888888888,\"#fdca26\"],[1.0,\"#f0f921\"]]}],\"choropleth\":[{\"type\":\"choropleth\",\"colorbar\":{\"outlinewidth\":0,\"ticks\":\"\"}}],\"histogram2d\":[{\"type\":\"histogram2d\",\"colorbar\":{\"outlinewidth\":0,\"ticks\":\"\"},\"colorscale\":[[0.0,\"#0d0887\"],[0.1111111111111111,\"#46039f\"],[0.2222222222222222,\"#7201a8\"],[0.3333333333333333,\"#9c179e\"],[0.4444444444444444,\"#bd3786\"],[0.5555555555555556,\"#d8576b\"],[0.6666666666666666,\"#ed7953\"],[0.7777777777777778,\"#fb9f3a\"],[0.8888888888888888,\"#fdca26\"],[1.0,\"#f0f921\"]]}],\"heatmap\":[{\"type\":\"heatmap\",\"colorbar\":{\"outlinewidth\":0,\"ticks\":\"\"},\"colorscale\":[[0.0,\"#0d0887\"],[0.1111111111111111,\"#46039f\"],[0.2222222222222222,\"#7201a8\"],[0.3333333333333333,\"#9c179e\"],[0.4444444444444444,\"#bd3786\"],[0.5555555555555556,\"#d8576b\"],[0.6666666666666666,\"#ed7953\"],[0.7777777777777778,\"#fb9f3a\"],[0.8888888888888888,\"#fdca26\"],[1.0,\"#f0f921\"]]}],\"heatmapgl\":[{\"type\":\"heatmapgl\",\"colorbar\":{\"outlinewidth\":0,\"ticks\":\"\"},\"colorscale\":[[0.0,\"#0d0887\"],[0.1111111111111111,\"#46039f\"],[0.2222222222222222,\"#7201a8\"],[0.3333333333333333,\"#9c179e\"],[0.4444444444444444,\"#bd3786\"],[0.5555555555555556,\"#d8576b\"],[0.6666666666666666,\"#ed7953\"],[0.7777777777777778,\"#fb9f3a\"],[0.8888888888888888,\"#fdca26\"],[1.0,\"#f0f921\"]]}],\"contourcarpet\":[{\"type\":\"contourcarpet\",\"colorbar\":{\"outlinewidth\":0,\"ticks\":\"\"}}],\"contour\":[{\"type\":\"contour\",\"colorbar\":{\"outlinewidth\":0,\"ticks\":\"\"},\"colorscale\":[[0.0,\"#0d0887\"],[0.1111111111111111,\"#46039f\"],[0.2222222222222222,\"#7201a8\"],[0.3333333333333333,\"#9c179e\"],[0.4444444444444444,\"#bd3786\"],[0.5555555555555556,\"#d8576b\"],[0.6666666666666666,\"#ed7953\"],[0.7777777777777778,\"#fb9f3a\"],[0.8888888888888888,\"#fdca26\"],[1.0,\"#f0f921\"]]}],\"surface\":[{\"type\":\"surface\",\"colorbar\":{\"outlinewidth\":0,\"ticks\":\"\"},\"colorscale\":[[0.0,\"#0d0887\"],[0.1111111111111111,\"#46039f\"],[0.2222222222222222,\"#7201a8\"],[0.3333333333333333,\"#9c179e\"],[0.4444444444444444,\"#bd3786\"],[0.5555555555555556,\"#d8576b\"],[0.6666666666666666,\"#ed7953\"],[0.7777777777777778,\"#fb9f3a\"],[0.8888888888888888,\"#fdca26\"],[1.0,\"#f0f921\"]]}],\"mesh3d\":[{\"type\":\"mesh3d\",\"colorbar\":{\"outlinewidth\":0,\"ticks\":\"\"}}],\"scatter\":[{\"fillpattern\":{\"fillmode\":\"overlay\",\"size\":10,\"solidity\":0.2},\"type\":\"scatter\"}],\"parcoords\":[{\"type\":\"parcoords\",\"line\":{\"colorbar\":{\"outlinewidth\":0,\"ticks\":\"\"}}}],\"scatterpolargl\":[{\"type\":\"scatterpolargl\",\"marker\":{\"colorbar\":{\"outlinewidth\":0,\"ticks\":\"\"}}}],\"bar\":[{\"error_x\":{\"color\":\"#2a3f5f\"},\"error_y\":{\"color\":\"#2a3f5f\"},\"marker\":{\"line\":{\"color\":\"#E5ECF6\",\"width\":0.5},\"pattern\":{\"fillmode\":\"overlay\",\"size\":10,\"solidity\":0.2}},\"type\":\"bar\"}],\"scattergeo\":[{\"type\":\"scattergeo\",\"marker\":{\"colorbar\":{\"outlinewidth\":0,\"ticks\":\"\"}}}],\"scatterpolar\":[{\"type\":\"scatterpolar\",\"marker\":{\"colorbar\":{\"outlinewidth\":0,\"ticks\":\"\"}}}],\"histogram\":[{\"marker\":{\"pattern\":{\"fillmode\":\"overlay\",\"size\":10,\"solidity\":0.2}},\"type\":\"histogram\"}],\"scattergl\":[{\"type\":\"scattergl\",\"marker\":{\"colorbar\":{\"outlinewidth\":0,\"ticks\":\"\"}}}],\"scatter3d\":[{\"type\":\"scatter3d\",\"line\":{\"colorbar\":{\"outlinewidth\":0,\"ticks\":\"\"}},\"marker\":{\"colorbar\":{\"outlinewidth\":0,\"ticks\":\"\"}}}],\"scattermapbox\":[{\"type\":\"scattermapbox\",\"marker\":{\"colorbar\":{\"outlinewidth\":0,\"ticks\":\"\"}}}],\"scatterternary\":[{\"type\":\"scatterternary\",\"marker\":{\"colorbar\":{\"outlinewidth\":0,\"ticks\":\"\"}}}],\"scattercarpet\":[{\"type\":\"scattercarpet\",\"marker\":{\"colorbar\":{\"outlinewidth\":0,\"ticks\":\"\"}}}],\"carpet\":[{\"aaxis\":{\"endlinecolor\":\"#2a3f5f\",\"gridcolor\":\"white\",\"linecolor\":\"white\",\"minorgridcolor\":\"white\",\"startlinecolor\":\"#2a3f5f\"},\"baxis\":{\"endlinecolor\":\"#2a3f5f\",\"gridcolor\":\"white\",\"linecolor\":\"white\",\"minorgridcolor\":\"white\",\"startlinecolor\":\"#2a3f5f\"},\"type\":\"carpet\"}],\"table\":[{\"cells\":{\"fill\":{\"color\":\"#EBF0F8\"},\"line\":{\"color\":\"white\"}},\"header\":{\"fill\":{\"color\":\"#C8D4E3\"},\"line\":{\"color\":\"white\"}},\"type\":\"table\"}],\"barpolar\":[{\"marker\":{\"line\":{\"color\":\"#E5ECF6\",\"width\":0.5},\"pattern\":{\"fillmode\":\"overlay\",\"size\":10,\"solidity\":0.2}},\"type\":\"barpolar\"}],\"pie\":[{\"automargin\":true,\"type\":\"pie\"}]},\"layout\":{\"autotypenumbers\":\"strict\",\"colorway\":[\"#636efa\",\"#EF553B\",\"#00cc96\",\"#ab63fa\",\"#FFA15A\",\"#19d3f3\",\"#FF6692\",\"#B6E880\",\"#FF97FF\",\"#FECB52\"],\"font\":{\"color\":\"#2a3f5f\"},\"hovermode\":\"closest\",\"hoverlabel\":{\"align\":\"left\"},\"paper_bgcolor\":\"white\",\"plot_bgcolor\":\"#E5ECF6\",\"polar\":{\"bgcolor\":\"#E5ECF6\",\"angularaxis\":{\"gridcolor\":\"white\",\"linecolor\":\"white\",\"ticks\":\"\"},\"radialaxis\":{\"gridcolor\":\"white\",\"linecolor\":\"white\",\"ticks\":\"\"}},\"ternary\":{\"bgcolor\":\"#E5ECF6\",\"aaxis\":{\"gridcolor\":\"white\",\"linecolor\":\"white\",\"ticks\":\"\"},\"baxis\":{\"gridcolor\":\"white\",\"linecolor\":\"white\",\"ticks\":\"\"},\"caxis\":{\"gridcolor\":\"white\",\"linecolor\":\"white\",\"ticks\":\"\"}},\"coloraxis\":{\"colorbar\":{\"outlinewidth\":0,\"ticks\":\"\"}},\"colorscale\":{\"sequential\":[[0.0,\"#0d0887\"],[0.1111111111111111,\"#46039f\"],[0.2222222222222222,\"#7201a8\"],[0.3333333333333333,\"#9c179e\"],[0.4444444444444444,\"#bd3786\"],[0.5555555555555556,\"#d8576b\"],[0.6666666666666666,\"#ed7953\"],[0.7777777777777778,\"#fb9f3a\"],[0.8888888888888888,\"#fdca26\"],[1.0,\"#f0f921\"]],\"sequentialminus\":[[0.0,\"#0d0887\"],[0.1111111111111111,\"#46039f\"],[0.2222222222222222,\"#7201a8\"],[0.3333333333333333,\"#9c179e\"],[0.4444444444444444,\"#bd3786\"],[0.5555555555555556,\"#d8576b\"],[0.6666666666666666,\"#ed7953\"],[0.7777777777777778,\"#fb9f3a\"],[0.8888888888888888,\"#fdca26\"],[1.0,\"#f0f921\"]],\"diverging\":[[0,\"#8e0152\"],[0.1,\"#c51b7d\"],[0.2,\"#de77ae\"],[0.3,\"#f1b6da\"],[0.4,\"#fde0ef\"],[0.5,\"#f7f7f7\"],[0.6,\"#e6f5d0\"],[0.7,\"#b8e186\"],[0.8,\"#7fbc41\"],[0.9,\"#4d9221\"],[1,\"#276419\"]]},\"xaxis\":{\"gridcolor\":\"white\",\"linecolor\":\"white\",\"ticks\":\"\",\"title\":{\"standoff\":15},\"zerolinecolor\":\"white\",\"automargin\":true,\"zerolinewidth\":2},\"yaxis\":{\"gridcolor\":\"white\",\"linecolor\":\"white\",\"ticks\":\"\",\"title\":{\"standoff\":15},\"zerolinecolor\":\"white\",\"automargin\":true,\"zerolinewidth\":2},\"scene\":{\"xaxis\":{\"backgroundcolor\":\"#E5ECF6\",\"gridcolor\":\"white\",\"linecolor\":\"white\",\"showbackground\":true,\"ticks\":\"\",\"zerolinecolor\":\"white\",\"gridwidth\":2},\"yaxis\":{\"backgroundcolor\":\"#E5ECF6\",\"gridcolor\":\"white\",\"linecolor\":\"white\",\"showbackground\":true,\"ticks\":\"\",\"zerolinecolor\":\"white\",\"gridwidth\":2},\"zaxis\":{\"backgroundcolor\":\"#E5ECF6\",\"gridcolor\":\"white\",\"linecolor\":\"white\",\"showbackground\":true,\"ticks\":\"\",\"zerolinecolor\":\"white\",\"gridwidth\":2}},\"shapedefaults\":{\"line\":{\"color\":\"#2a3f5f\"}},\"annotationdefaults\":{\"arrowcolor\":\"#2a3f5f\",\"arrowhead\":0,\"arrowwidth\":1},\"geo\":{\"bgcolor\":\"white\",\"landcolor\":\"#E5ECF6\",\"subunitcolor\":\"white\",\"showland\":true,\"showlakes\":true,\"lakecolor\":\"white\"},\"title\":{\"x\":0.05},\"mapbox\":{\"style\":\"light\"}}},\"xaxis\":{\"tickangle\":-45},\"barmode\":\"group\",\"width\":1000,\"height\":800},                        {\"responsive\": true}                    ).then(function(){\n",
       "                            \n",
       "var gd = document.getElementById('ea526478-3c2c-476b-98b9-3eb02d9ef2fd');\n",
       "var x = new MutationObserver(function (mutations, observer) {{\n",
       "        var display = window.getComputedStyle(gd).display;\n",
       "        if (!display || display === 'none') {{\n",
       "            console.log([gd, 'removed!']);\n",
       "            Plotly.purge(gd);\n",
       "            observer.disconnect();\n",
       "        }}\n",
       "}});\n",
       "\n",
       "// Listen for the removal of the full notebook cells\n",
       "var notebookContainer = gd.closest('#notebook-container');\n",
       "if (notebookContainer) {{\n",
       "    x.observe(notebookContainer, {childList: true});\n",
       "}}\n",
       "\n",
       "// Listen for the clearing of the current output cell\n",
       "var outputEl = gd.closest('.output');\n",
       "if (outputEl) {{\n",
       "    x.observe(outputEl, {childList: true});\n",
       "}}\n",
       "\n",
       "                        })                };                });            </script>        </div>"
      ]
     },
     "metadata": {},
     "output_type": "display_data"
    }
   ],
   "source": [
    "top20_classifications_from = top_classifications_from.sort_values(by=\"count\", ascending = False).head(20)\n",
    "top20_classifications_to = top_classifications_to.sort_values(by = \"count\", ascending = False).head(20)\n",
    "\n",
    "fig = go.Figure()\n",
    "fig.add_trace(go.Bar(\n",
    "    x = top20_classifications_from['classification'],\n",
    "    y = top20_classifications_from['count'],\n",
    "    text = top20_classifications_from['count'], \n",
    "    name = 'From Providers', \n",
    "    marker_color = 'indianred'\n",
    "))\n",
    "fig.add_trace(go.Bar(\n",
    "    x = top20_classifications_to['classification'],\n",
    "    y = top20_classifications_to['count'],\n",
    "    text = top20_classifications_to['count'], \n",
    "    name = 'To Providers', \n",
    "    marker_color = 'lightsalmon'\n",
    "))\n",
    "\n",
    "fig.update_layout(barmode='group', xaxis_tickangle=-45, width = 1000, height = 800)\n",
    "fig.update_traces(texttemplate = '%{text:.2s}', textposition=\"outside\", textangle = 0, textfont_size=12)\n",
    "fig.show()"
   ]
  },
  {
   "cell_type": "markdown",
   "id": "4cb6d174",
   "metadata": {},
   "source": [
    "Question: what would these graphs look like using \"transaction count\" instead of npi's (records of referrals)? \n",
    "- I don't think I would be able to do two bars since the transaction count is the number of interactions between the two npi's. "
   ]
  },
  {
   "cell_type": "markdown",
   "id": "6dccc41e",
   "metadata": {},
   "source": [
    "Which hospitals get the most referrals? "
   ]
  },
  {
   "cell_type": "code",
   "execution_count": 212,
   "id": "3c73b827",
   "metadata": {
    "scrolled": false
   },
   "outputs": [
    {
     "data": {
      "text/html": [
       "<div>\n",
       "<style scoped>\n",
       "    .dataframe tbody tr th:only-of-type {\n",
       "        vertical-align: middle;\n",
       "    }\n",
       "\n",
       "    .dataframe tbody tr th {\n",
       "        vertical-align: top;\n",
       "    }\n",
       "\n",
       "    .dataframe thead th {\n",
       "        text-align: right;\n",
       "    }\n",
       "</style>\n",
       "<table border=\"1\" class=\"dataframe\">\n",
       "  <thead>\n",
       "    <tr style=\"text-align: right;\">\n",
       "      <th></th>\n",
       "      <th>provider_name</th>\n",
       "      <th>count</th>\n",
       "    </tr>\n",
       "  </thead>\n",
       "  <tbody>\n",
       "    <tr>\n",
       "      <th>1266</th>\n",
       "      <td>VANDERBILT UNIVERSITY MEDICAL CENTER</td>\n",
       "      <td>9337</td>\n",
       "    </tr>\n",
       "    <tr>\n",
       "      <th>1172</th>\n",
       "      <td>TENNESSEE ONCOLOGY PLLC</td>\n",
       "      <td>5559</td>\n",
       "    </tr>\n",
       "    <tr>\n",
       "      <th>89</th>\n",
       "      <td>ASSOCIATED PATHOLOGISTS, LLC</td>\n",
       "      <td>5529</td>\n",
       "    </tr>\n",
       "    <tr>\n",
       "      <th>892</th>\n",
       "      <td>PATHGROUP LABS, LLC</td>\n",
       "      <td>4180</td>\n",
       "    </tr>\n",
       "    <tr>\n",
       "      <th>1017</th>\n",
       "      <td>SAINT THOMAS MEDICAL PARTNERS</td>\n",
       "      <td>3662</td>\n",
       "    </tr>\n",
       "    <tr>\n",
       "      <th>15</th>\n",
       "      <td>ADVANCED DIAGNOSTIC IMAGING, PC</td>\n",
       "      <td>3637</td>\n",
       "    </tr>\n",
       "    <tr>\n",
       "      <th>88</th>\n",
       "      <td>ASSOCIATED PATHOLOGISTS LLC</td>\n",
       "      <td>3613</td>\n",
       "    </tr>\n",
       "    <tr>\n",
       "      <th>1270</th>\n",
       "      <td>VERUS HEALTHCARE, LLC</td>\n",
       "      <td>3325</td>\n",
       "    </tr>\n",
       "    <tr>\n",
       "      <th>25</th>\n",
       "      <td>AEGIS SCIENCES CORPORATION</td>\n",
       "      <td>2957</td>\n",
       "    </tr>\n",
       "    <tr>\n",
       "      <th>960</th>\n",
       "      <td>RADIOLOGY ALLIANCE PC</td>\n",
       "      <td>2835</td>\n",
       "    </tr>\n",
       "    <tr>\n",
       "      <th>479</th>\n",
       "      <td>HCA HEALTH SERVICES OF TENNESSEE, INC.</td>\n",
       "      <td>2738</td>\n",
       "    </tr>\n",
       "    <tr>\n",
       "      <th>67</th>\n",
       "      <td>ANESTHESIA MEDICAL GROUP, PC</td>\n",
       "      <td>1937</td>\n",
       "    </tr>\n",
       "    <tr>\n",
       "      <th>1297</th>\n",
       "      <td>WELLNESS SOLUTIONS GERIATRICS, PLLC</td>\n",
       "      <td>1853</td>\n",
       "    </tr>\n",
       "    <tr>\n",
       "      <th>807</th>\n",
       "      <td>NEPHROLOGY ASSOCIATES, PC</td>\n",
       "      <td>1843</td>\n",
       "    </tr>\n",
       "    <tr>\n",
       "      <th>167</th>\n",
       "      <td>CENTENNIAL HEART LLC</td>\n",
       "      <td>1780</td>\n",
       "    </tr>\n",
       "    <tr>\n",
       "      <th>1022</th>\n",
       "      <td>SAINT THOMAS WEST HOSPITAL</td>\n",
       "      <td>1776</td>\n",
       "    </tr>\n",
       "    <tr>\n",
       "      <th>289</th>\n",
       "      <td>DCI LABORATORY LLC</td>\n",
       "      <td>1390</td>\n",
       "    </tr>\n",
       "    <tr>\n",
       "      <th>69</th>\n",
       "      <td>ANESTHESIA SERVICES ASSOCIATES PLLC</td>\n",
       "      <td>1195</td>\n",
       "    </tr>\n",
       "    <tr>\n",
       "      <th>496</th>\n",
       "      <td>HERITAGE MEDICAL ASSOCIATES PC</td>\n",
       "      <td>1156</td>\n",
       "    </tr>\n",
       "    <tr>\n",
       "      <th>1176</th>\n",
       "      <td>TENNESSEE ORTHOPAEDIC ALLIANCE PA</td>\n",
       "      <td>1115</td>\n",
       "    </tr>\n",
       "  </tbody>\n",
       "</table>\n",
       "</div>"
      ],
      "text/plain": [
       "                               provider_name  count\n",
       "1266    VANDERBILT UNIVERSITY MEDICAL CENTER   9337\n",
       "1172                 TENNESSEE ONCOLOGY PLLC   5559\n",
       "89              ASSOCIATED PATHOLOGISTS, LLC   5529\n",
       "892                      PATHGROUP LABS, LLC   4180\n",
       "1017           SAINT THOMAS MEDICAL PARTNERS   3662\n",
       "15           ADVANCED DIAGNOSTIC IMAGING, PC   3637\n",
       "88               ASSOCIATED PATHOLOGISTS LLC   3613\n",
       "1270                   VERUS HEALTHCARE, LLC   3325\n",
       "25                AEGIS SCIENCES CORPORATION   2957\n",
       "960                    RADIOLOGY ALLIANCE PC   2835\n",
       "479   HCA HEALTH SERVICES OF TENNESSEE, INC.   2738\n",
       "67              ANESTHESIA MEDICAL GROUP, PC   1937\n",
       "1297     WELLNESS SOLUTIONS GERIATRICS, PLLC   1853\n",
       "807                NEPHROLOGY ASSOCIATES, PC   1843\n",
       "167                     CENTENNIAL HEART LLC   1780\n",
       "1022              SAINT THOMAS WEST HOSPITAL   1776\n",
       "289                       DCI LABORATORY LLC   1390\n",
       "69       ANESTHESIA SERVICES ASSOCIATES PLLC   1195\n",
       "496           HERITAGE MEDICAL ASSOCIATES PC   1156\n",
       "1176       TENNESSEE ORTHOPAEDIC ALLIANCE PA   1115"
      ]
     },
     "execution_count": 212,
     "metadata": {},
     "output_type": "execute_result"
    }
   ],
   "source": [
    "top_receive_referrals_t2 = nashnpi_to_npi[nashnpi_to_npi['entity_type_code'] == 2].groupby(\"provider_name\")[\"npi\"].count().reset_index(name = \"count\")\n",
    "\n",
    "top_receive_referrals_t2.sort_values(by = \"count\", ascending = False).head(20)"
   ]
  },
  {
   "cell_type": "markdown",
   "id": "1bf7d9ab",
   "metadata": {},
   "source": [
    "Which providers get the most referrals?"
   ]
  },
  {
   "cell_type": "code",
   "execution_count": 215,
   "id": "b9ec52a7",
   "metadata": {},
   "outputs": [
    {
     "data": {
      "text/html": [
       "<div>\n",
       "<style scoped>\n",
       "    .dataframe tbody tr th:only-of-type {\n",
       "        vertical-align: middle;\n",
       "    }\n",
       "\n",
       "    .dataframe tbody tr th {\n",
       "        vertical-align: top;\n",
       "    }\n",
       "\n",
       "    .dataframe thead th {\n",
       "        text-align: right;\n",
       "    }\n",
       "</style>\n",
       "<table border=\"1\" class=\"dataframe\">\n",
       "  <thead>\n",
       "    <tr style=\"text-align: right;\">\n",
       "      <th></th>\n",
       "      <th>provider_name</th>\n",
       "      <th>classification</th>\n",
       "      <th>count</th>\n",
       "    </tr>\n",
       "  </thead>\n",
       "  <tbody>\n",
       "    <tr>\n",
       "      <th>1868</th>\n",
       "      <td>DEREK WELCH</td>\n",
       "      <td>Pathology</td>\n",
       "      <td>2330</td>\n",
       "    </tr>\n",
       "    <tr>\n",
       "      <th>3498</th>\n",
       "      <td>JOHN RIDDICK</td>\n",
       "      <td>Internal Medicine</td>\n",
       "      <td>371</td>\n",
       "    </tr>\n",
       "    <tr>\n",
       "      <th>3929</th>\n",
       "      <td>KATHRYN KNIGHT</td>\n",
       "      <td>Pathology</td>\n",
       "      <td>340</td>\n",
       "    </tr>\n",
       "    <tr>\n",
       "      <th>7389</th>\n",
       "      <td>VIRAJ PARIKH</td>\n",
       "      <td>Radiology</td>\n",
       "      <td>284</td>\n",
       "    </tr>\n",
       "    <tr>\n",
       "      <th>3570</th>\n",
       "      <td>JONATHAN GORDON</td>\n",
       "      <td>Radiology</td>\n",
       "      <td>274</td>\n",
       "    </tr>\n",
       "    <tr>\n",
       "      <th>36</th>\n",
       "      <td>ADAM GUTTENTAG</td>\n",
       "      <td>Radiology</td>\n",
       "      <td>273</td>\n",
       "    </tr>\n",
       "    <tr>\n",
       "      <th>1922</th>\n",
       "      <td>DONALD VOLLMER</td>\n",
       "      <td>Family Medicine</td>\n",
       "      <td>264</td>\n",
       "    </tr>\n",
       "    <tr>\n",
       "      <th>865</th>\n",
       "      <td>BRETT MURDOCK</td>\n",
       "      <td>Radiology</td>\n",
       "      <td>259</td>\n",
       "    </tr>\n",
       "    <tr>\n",
       "      <th>719</th>\n",
       "      <td>BENJAMIN GRIFFIN</td>\n",
       "      <td>Radiology</td>\n",
       "      <td>243</td>\n",
       "    </tr>\n",
       "    <tr>\n",
       "      <th>2469</th>\n",
       "      <td>GREGORY LASSITER</td>\n",
       "      <td>Radiology</td>\n",
       "      <td>239</td>\n",
       "    </tr>\n",
       "    <tr>\n",
       "      <th>295</th>\n",
       "      <td>AMER HAQUE</td>\n",
       "      <td>Radiology</td>\n",
       "      <td>238</td>\n",
       "    </tr>\n",
       "    <tr>\n",
       "      <th>3102</th>\n",
       "      <td>JEFFREY WILLIAMS</td>\n",
       "      <td>Radiology</td>\n",
       "      <td>227</td>\n",
       "    </tr>\n",
       "    <tr>\n",
       "      <th>2025</th>\n",
       "      <td>EDWIN DONNELLY</td>\n",
       "      <td>Radiology</td>\n",
       "      <td>226</td>\n",
       "    </tr>\n",
       "    <tr>\n",
       "      <th>6073</th>\n",
       "      <td>ROBERT AMONETTE</td>\n",
       "      <td>Radiology</td>\n",
       "      <td>226</td>\n",
       "    </tr>\n",
       "    <tr>\n",
       "      <th>5778</th>\n",
       "      <td>PETER KROLL</td>\n",
       "      <td>Anesthesiology</td>\n",
       "      <td>224</td>\n",
       "    </tr>\n",
       "    <tr>\n",
       "      <th>3481</th>\n",
       "      <td>JOHN MOYERS</td>\n",
       "      <td>Radiology</td>\n",
       "      <td>221</td>\n",
       "    </tr>\n",
       "    <tr>\n",
       "      <th>406</th>\n",
       "      <td>ANDREW HUTCHENS</td>\n",
       "      <td>Radiology</td>\n",
       "      <td>220</td>\n",
       "    </tr>\n",
       "    <tr>\n",
       "      <th>6191</th>\n",
       "      <td>ROBERT YOUNG</td>\n",
       "      <td>Radiology</td>\n",
       "      <td>214</td>\n",
       "    </tr>\n",
       "    <tr>\n",
       "      <th>6244</th>\n",
       "      <td>RONALD WATERS</td>\n",
       "      <td>Radiology</td>\n",
       "      <td>209</td>\n",
       "    </tr>\n",
       "    <tr>\n",
       "      <th>3484</th>\n",
       "      <td>JOHN NISBET</td>\n",
       "      <td>Radiology</td>\n",
       "      <td>208</td>\n",
       "    </tr>\n",
       "  </tbody>\n",
       "</table>\n",
       "</div>"
      ],
      "text/plain": [
       "         provider_name     classification  count\n",
       "1868       DEREK WELCH          Pathology   2330\n",
       "3498      JOHN RIDDICK  Internal Medicine    371\n",
       "3929    KATHRYN KNIGHT          Pathology    340\n",
       "7389      VIRAJ PARIKH          Radiology    284\n",
       "3570   JONATHAN GORDON          Radiology    274\n",
       "36      ADAM GUTTENTAG          Radiology    273\n",
       "1922    DONALD VOLLMER    Family Medicine    264\n",
       "865      BRETT MURDOCK          Radiology    259\n",
       "719   BENJAMIN GRIFFIN          Radiology    243\n",
       "2469  GREGORY LASSITER          Radiology    239\n",
       "295         AMER HAQUE          Radiology    238\n",
       "3102  JEFFREY WILLIAMS          Radiology    227\n",
       "2025    EDWIN DONNELLY          Radiology    226\n",
       "6073   ROBERT AMONETTE          Radiology    226\n",
       "5778       PETER KROLL     Anesthesiology    224\n",
       "3481       JOHN MOYERS          Radiology    221\n",
       "406    ANDREW HUTCHENS          Radiology    220\n",
       "6191      ROBERT YOUNG          Radiology    214\n",
       "6244     RONALD WATERS          Radiology    209\n",
       "3484       JOHN NISBET          Radiology    208"
      ]
     },
     "execution_count": 215,
     "metadata": {},
     "output_type": "execute_result"
    }
   ],
   "source": [
    "top_receive_referrals_t1 = nashnpi_to_npi[nashnpi_to_npi['entity_type_code'] == 1].groupby([\"provider_name\", \"classification\"])[\"npi\"].count().reset_index(name = \"count\")\n",
    "\n",
    "top_receive_referrals_t1.sort_values(by = \"count\", ascending = False).head(20)"
   ]
  },
  {
   "cell_type": "code",
   "execution_count": 23,
   "id": "d13211f6",
   "metadata": {
    "scrolled": true
   },
   "outputs": [
    {
     "data": {
      "text/html": [
       "<div>\n",
       "<style scoped>\n",
       "    .dataframe tbody tr th:only-of-type {\n",
       "        vertical-align: middle;\n",
       "    }\n",
       "\n",
       "    .dataframe tbody tr th {\n",
       "        vertical-align: top;\n",
       "    }\n",
       "\n",
       "    .dataframe thead th {\n",
       "        text-align: right;\n",
       "    }\n",
       "</style>\n",
       "<table border=\"1\" class=\"dataframe\">\n",
       "  <thead>\n",
       "    <tr style=\"text-align: right;\">\n",
       "      <th></th>\n",
       "      <th>npi</th>\n",
       "      <th>entity_type_code</th>\n",
       "      <th>provider_organization_name_(legal_business_name)</th>\n",
       "      <th>provider_last_name_(legal_name)</th>\n",
       "      <th>provider_first_name</th>\n",
       "      <th>provider_middle_name</th>\n",
       "      <th>provider_name_prefix_text</th>\n",
       "      <th>provider_name_suffix_text</th>\n",
       "      <th>provider_credential_text</th>\n",
       "      <th>provider_first_line_business_practice_location_address</th>\n",
       "      <th>...</th>\n",
       "      <th>bus_ratio</th>\n",
       "      <th>oth_ratio</th>\n",
       "      <th>tot_ratio</th>\n",
       "      <th>from_npi</th>\n",
       "      <th>to_npi</th>\n",
       "      <th>patient_count</th>\n",
       "      <th>transaction_count</th>\n",
       "      <th>average_day_wait</th>\n",
       "      <th>std_day_wait</th>\n",
       "      <th>provider_name</th>\n",
       "    </tr>\n",
       "  </thead>\n",
       "  <tbody>\n",
       "    <tr>\n",
       "      <th>59253</th>\n",
       "      <td>1821030842</td>\n",
       "      <td>2.0</td>\n",
       "      <td>VANDERBILT UNIVERSITY MEDICAL CENTER</td>\n",
       "      <td>None</td>\n",
       "      <td>None</td>\n",
       "      <td>None</td>\n",
       "      <td>None</td>\n",
       "      <td>None</td>\n",
       "      <td>None</td>\n",
       "      <td>500 PARK AVENUE</td>\n",
       "      <td>...</td>\n",
       "      <td>1.0</td>\n",
       "      <td>1.0</td>\n",
       "      <td>1.0</td>\n",
       "      <td>1083657027</td>\n",
       "      <td>1821030842</td>\n",
       "      <td>102</td>\n",
       "      <td>198</td>\n",
       "      <td>0.000</td>\n",
       "      <td>0.000</td>\n",
       "      <td>VANDERBILT UNIVERSITY MEDICAL CENTER</td>\n",
       "    </tr>\n",
       "    <tr>\n",
       "      <th>59254</th>\n",
       "      <td>1821030842</td>\n",
       "      <td>2.0</td>\n",
       "      <td>VANDERBILT UNIVERSITY MEDICAL CENTER</td>\n",
       "      <td>None</td>\n",
       "      <td>None</td>\n",
       "      <td>None</td>\n",
       "      <td>None</td>\n",
       "      <td>None</td>\n",
       "      <td>None</td>\n",
       "      <td>500 PARK AVENUE</td>\n",
       "      <td>...</td>\n",
       "      <td>1.0</td>\n",
       "      <td>1.0</td>\n",
       "      <td>1.0</td>\n",
       "      <td>1306889597</td>\n",
       "      <td>1821030842</td>\n",
       "      <td>157</td>\n",
       "      <td>250</td>\n",
       "      <td>2.516</td>\n",
       "      <td>2.545</td>\n",
       "      <td>VANDERBILT UNIVERSITY MEDICAL CENTER</td>\n",
       "    </tr>\n",
       "    <tr>\n",
       "      <th>59255</th>\n",
       "      <td>1821030842</td>\n",
       "      <td>2.0</td>\n",
       "      <td>VANDERBILT UNIVERSITY MEDICAL CENTER</td>\n",
       "      <td>None</td>\n",
       "      <td>None</td>\n",
       "      <td>None</td>\n",
       "      <td>None</td>\n",
       "      <td>None</td>\n",
       "      <td>None</td>\n",
       "      <td>500 PARK AVENUE</td>\n",
       "      <td>...</td>\n",
       "      <td>1.0</td>\n",
       "      <td>1.0</td>\n",
       "      <td>1.0</td>\n",
       "      <td>1477873610</td>\n",
       "      <td>1821030842</td>\n",
       "      <td>55</td>\n",
       "      <td>71</td>\n",
       "      <td>7.944</td>\n",
       "      <td>7.500</td>\n",
       "      <td>VANDERBILT UNIVERSITY MEDICAL CENTER</td>\n",
       "    </tr>\n",
       "    <tr>\n",
       "      <th>59256</th>\n",
       "      <td>1821030842</td>\n",
       "      <td>2.0</td>\n",
       "      <td>VANDERBILT UNIVERSITY MEDICAL CENTER</td>\n",
       "      <td>None</td>\n",
       "      <td>None</td>\n",
       "      <td>None</td>\n",
       "      <td>None</td>\n",
       "      <td>None</td>\n",
       "      <td>None</td>\n",
       "      <td>500 PARK AVENUE</td>\n",
       "      <td>...</td>\n",
       "      <td>1.0</td>\n",
       "      <td>1.0</td>\n",
       "      <td>1.0</td>\n",
       "      <td>1629475124</td>\n",
       "      <td>1821030842</td>\n",
       "      <td>144</td>\n",
       "      <td>175</td>\n",
       "      <td>5.200</td>\n",
       "      <td>9.228</td>\n",
       "      <td>VANDERBILT UNIVERSITY MEDICAL CENTER</td>\n",
       "    </tr>\n",
       "    <tr>\n",
       "      <th>59257</th>\n",
       "      <td>1821030842</td>\n",
       "      <td>2.0</td>\n",
       "      <td>VANDERBILT UNIVERSITY MEDICAL CENTER</td>\n",
       "      <td>None</td>\n",
       "      <td>None</td>\n",
       "      <td>None</td>\n",
       "      <td>None</td>\n",
       "      <td>None</td>\n",
       "      <td>None</td>\n",
       "      <td>500 PARK AVENUE</td>\n",
       "      <td>...</td>\n",
       "      <td>1.0</td>\n",
       "      <td>1.0</td>\n",
       "      <td>1.0</td>\n",
       "      <td>1902118623</td>\n",
       "      <td>1821030842</td>\n",
       "      <td>58</td>\n",
       "      <td>60</td>\n",
       "      <td>6.450</td>\n",
       "      <td>15.256</td>\n",
       "      <td>VANDERBILT UNIVERSITY MEDICAL CENTER</td>\n",
       "    </tr>\n",
       "    <tr>\n",
       "      <th>...</th>\n",
       "      <td>...</td>\n",
       "      <td>...</td>\n",
       "      <td>...</td>\n",
       "      <td>...</td>\n",
       "      <td>...</td>\n",
       "      <td>...</td>\n",
       "      <td>...</td>\n",
       "      <td>...</td>\n",
       "      <td>...</td>\n",
       "      <td>...</td>\n",
       "      <td>...</td>\n",
       "      <td>...</td>\n",
       "      <td>...</td>\n",
       "      <td>...</td>\n",
       "      <td>...</td>\n",
       "      <td>...</td>\n",
       "      <td>...</td>\n",
       "      <td>...</td>\n",
       "      <td>...</td>\n",
       "      <td>...</td>\n",
       "      <td>...</td>\n",
       "    </tr>\n",
       "    <tr>\n",
       "      <th>227898</th>\n",
       "      <td>1285091330</td>\n",
       "      <td>2.0</td>\n",
       "      <td>VANDERBILT UNIVERSITY MEDICAL CENTER</td>\n",
       "      <td>None</td>\n",
       "      <td>None</td>\n",
       "      <td>None</td>\n",
       "      <td>None</td>\n",
       "      <td>None</td>\n",
       "      <td>None</td>\n",
       "      <td>1211 MEDICAL CENTER DR</td>\n",
       "      <td>...</td>\n",
       "      <td>1.0</td>\n",
       "      <td>1.0</td>\n",
       "      <td>1.0</td>\n",
       "      <td>1972548089</td>\n",
       "      <td>1285091330</td>\n",
       "      <td>23</td>\n",
       "      <td>87</td>\n",
       "      <td>16.782</td>\n",
       "      <td>24.607</td>\n",
       "      <td>VANDERBILT UNIVERSITY MEDICAL CENTER</td>\n",
       "    </tr>\n",
       "    <tr>\n",
       "      <th>227899</th>\n",
       "      <td>1285091330</td>\n",
       "      <td>2.0</td>\n",
       "      <td>VANDERBILT UNIVERSITY MEDICAL CENTER</td>\n",
       "      <td>None</td>\n",
       "      <td>None</td>\n",
       "      <td>None</td>\n",
       "      <td>None</td>\n",
       "      <td>None</td>\n",
       "      <td>None</td>\n",
       "      <td>1211 MEDICAL CENTER DR</td>\n",
       "      <td>...</td>\n",
       "      <td>1.0</td>\n",
       "      <td>1.0</td>\n",
       "      <td>1.0</td>\n",
       "      <td>1386731404</td>\n",
       "      <td>1285091330</td>\n",
       "      <td>86</td>\n",
       "      <td>108</td>\n",
       "      <td>31.889</td>\n",
       "      <td>44.884</td>\n",
       "      <td>VANDERBILT UNIVERSITY MEDICAL CENTER</td>\n",
       "    </tr>\n",
       "    <tr>\n",
       "      <th>227900</th>\n",
       "      <td>1285091330</td>\n",
       "      <td>2.0</td>\n",
       "      <td>VANDERBILT UNIVERSITY MEDICAL CENTER</td>\n",
       "      <td>None</td>\n",
       "      <td>None</td>\n",
       "      <td>None</td>\n",
       "      <td>None</td>\n",
       "      <td>None</td>\n",
       "      <td>None</td>\n",
       "      <td>1211 MEDICAL CENTER DR</td>\n",
       "      <td>...</td>\n",
       "      <td>1.0</td>\n",
       "      <td>1.0</td>\n",
       "      <td>1.0</td>\n",
       "      <td>1396882205</td>\n",
       "      <td>1285091330</td>\n",
       "      <td>1194</td>\n",
       "      <td>5359</td>\n",
       "      <td>9.470</td>\n",
       "      <td>12.874</td>\n",
       "      <td>VANDERBILT UNIVERSITY MEDICAL CENTER</td>\n",
       "    </tr>\n",
       "    <tr>\n",
       "      <th>227901</th>\n",
       "      <td>1285091330</td>\n",
       "      <td>2.0</td>\n",
       "      <td>VANDERBILT UNIVERSITY MEDICAL CENTER</td>\n",
       "      <td>None</td>\n",
       "      <td>None</td>\n",
       "      <td>None</td>\n",
       "      <td>None</td>\n",
       "      <td>None</td>\n",
       "      <td>None</td>\n",
       "      <td>1211 MEDICAL CENTER DR</td>\n",
       "      <td>...</td>\n",
       "      <td>1.0</td>\n",
       "      <td>1.0</td>\n",
       "      <td>1.0</td>\n",
       "      <td>1407948821</td>\n",
       "      <td>1285091330</td>\n",
       "      <td>18</td>\n",
       "      <td>58</td>\n",
       "      <td>12.310</td>\n",
       "      <td>28.435</td>\n",
       "      <td>VANDERBILT UNIVERSITY MEDICAL CENTER</td>\n",
       "    </tr>\n",
       "    <tr>\n",
       "      <th>227902</th>\n",
       "      <td>1285091330</td>\n",
       "      <td>2.0</td>\n",
       "      <td>VANDERBILT UNIVERSITY MEDICAL CENTER</td>\n",
       "      <td>None</td>\n",
       "      <td>None</td>\n",
       "      <td>None</td>\n",
       "      <td>None</td>\n",
       "      <td>None</td>\n",
       "      <td>None</td>\n",
       "      <td>1211 MEDICAL CENTER DR</td>\n",
       "      <td>...</td>\n",
       "      <td>1.0</td>\n",
       "      <td>1.0</td>\n",
       "      <td>1.0</td>\n",
       "      <td>1417291550</td>\n",
       "      <td>1285091330</td>\n",
       "      <td>275</td>\n",
       "      <td>409</td>\n",
       "      <td>14.421</td>\n",
       "      <td>20.908</td>\n",
       "      <td>VANDERBILT UNIVERSITY MEDICAL CENTER</td>\n",
       "    </tr>\n",
       "  </tbody>\n",
       "</table>\n",
       "<p>9337 rows × 38 columns</p>\n",
       "</div>"
      ],
      "text/plain": [
       "               npi  entity_type_code  \\\n",
       "59253   1821030842               2.0   \n",
       "59254   1821030842               2.0   \n",
       "59255   1821030842               2.0   \n",
       "59256   1821030842               2.0   \n",
       "59257   1821030842               2.0   \n",
       "...            ...               ...   \n",
       "227898  1285091330               2.0   \n",
       "227899  1285091330               2.0   \n",
       "227900  1285091330               2.0   \n",
       "227901  1285091330               2.0   \n",
       "227902  1285091330               2.0   \n",
       "\n",
       "       provider_organization_name_(legal_business_name)  \\\n",
       "59253              VANDERBILT UNIVERSITY MEDICAL CENTER   \n",
       "59254              VANDERBILT UNIVERSITY MEDICAL CENTER   \n",
       "59255              VANDERBILT UNIVERSITY MEDICAL CENTER   \n",
       "59256              VANDERBILT UNIVERSITY MEDICAL CENTER   \n",
       "59257              VANDERBILT UNIVERSITY MEDICAL CENTER   \n",
       "...                                                 ...   \n",
       "227898             VANDERBILT UNIVERSITY MEDICAL CENTER   \n",
       "227899             VANDERBILT UNIVERSITY MEDICAL CENTER   \n",
       "227900             VANDERBILT UNIVERSITY MEDICAL CENTER   \n",
       "227901             VANDERBILT UNIVERSITY MEDICAL CENTER   \n",
       "227902             VANDERBILT UNIVERSITY MEDICAL CENTER   \n",
       "\n",
       "       provider_last_name_(legal_name) provider_first_name  \\\n",
       "59253                             None                None   \n",
       "59254                             None                None   \n",
       "59255                             None                None   \n",
       "59256                             None                None   \n",
       "59257                             None                None   \n",
       "...                                ...                 ...   \n",
       "227898                            None                None   \n",
       "227899                            None                None   \n",
       "227900                            None                None   \n",
       "227901                            None                None   \n",
       "227902                            None                None   \n",
       "\n",
       "       provider_middle_name provider_name_prefix_text  \\\n",
       "59253                  None                      None   \n",
       "59254                  None                      None   \n",
       "59255                  None                      None   \n",
       "59256                  None                      None   \n",
       "59257                  None                      None   \n",
       "...                     ...                       ...   \n",
       "227898                 None                      None   \n",
       "227899                 None                      None   \n",
       "227900                 None                      None   \n",
       "227901                 None                      None   \n",
       "227902                 None                      None   \n",
       "\n",
       "       provider_name_suffix_text provider_credential_text  \\\n",
       "59253                       None                     None   \n",
       "59254                       None                     None   \n",
       "59255                       None                     None   \n",
       "59256                       None                     None   \n",
       "59257                       None                     None   \n",
       "...                          ...                      ...   \n",
       "227898                      None                     None   \n",
       "227899                      None                     None   \n",
       "227900                      None                     None   \n",
       "227901                      None                     None   \n",
       "227902                      None                     None   \n",
       "\n",
       "       provider_first_line_business_practice_location_address  ... bus_ratio  \\\n",
       "59253                                     500 PARK AVENUE      ...       1.0   \n",
       "59254                                     500 PARK AVENUE      ...       1.0   \n",
       "59255                                     500 PARK AVENUE      ...       1.0   \n",
       "59256                                     500 PARK AVENUE      ...       1.0   \n",
       "59257                                     500 PARK AVENUE      ...       1.0   \n",
       "...                                                   ...      ...       ...   \n",
       "227898                             1211 MEDICAL CENTER DR      ...       1.0   \n",
       "227899                             1211 MEDICAL CENTER DR      ...       1.0   \n",
       "227900                             1211 MEDICAL CENTER DR      ...       1.0   \n",
       "227901                             1211 MEDICAL CENTER DR      ...       1.0   \n",
       "227902                             1211 MEDICAL CENTER DR      ...       1.0   \n",
       "\n",
       "       oth_ratio tot_ratio    from_npi      to_npi patient_count  \\\n",
       "59253        1.0       1.0  1083657027  1821030842           102   \n",
       "59254        1.0       1.0  1306889597  1821030842           157   \n",
       "59255        1.0       1.0  1477873610  1821030842            55   \n",
       "59256        1.0       1.0  1629475124  1821030842           144   \n",
       "59257        1.0       1.0  1902118623  1821030842            58   \n",
       "...          ...       ...         ...         ...           ...   \n",
       "227898       1.0       1.0  1972548089  1285091330            23   \n",
       "227899       1.0       1.0  1386731404  1285091330            86   \n",
       "227900       1.0       1.0  1396882205  1285091330          1194   \n",
       "227901       1.0       1.0  1407948821  1285091330            18   \n",
       "227902       1.0       1.0  1417291550  1285091330           275   \n",
       "\n",
       "       transaction_count average_day_wait std_day_wait  \\\n",
       "59253                198            0.000        0.000   \n",
       "59254                250            2.516        2.545   \n",
       "59255                 71            7.944        7.500   \n",
       "59256                175            5.200        9.228   \n",
       "59257                 60            6.450       15.256   \n",
       "...                  ...              ...          ...   \n",
       "227898                87           16.782       24.607   \n",
       "227899               108           31.889       44.884   \n",
       "227900              5359            9.470       12.874   \n",
       "227901                58           12.310       28.435   \n",
       "227902               409           14.421       20.908   \n",
       "\n",
       "                               provider_name  \n",
       "59253   VANDERBILT UNIVERSITY MEDICAL CENTER  \n",
       "59254   VANDERBILT UNIVERSITY MEDICAL CENTER  \n",
       "59255   VANDERBILT UNIVERSITY MEDICAL CENTER  \n",
       "59256   VANDERBILT UNIVERSITY MEDICAL CENTER  \n",
       "59257   VANDERBILT UNIVERSITY MEDICAL CENTER  \n",
       "...                                      ...  \n",
       "227898  VANDERBILT UNIVERSITY MEDICAL CENTER  \n",
       "227899  VANDERBILT UNIVERSITY MEDICAL CENTER  \n",
       "227900  VANDERBILT UNIVERSITY MEDICAL CENTER  \n",
       "227901  VANDERBILT UNIVERSITY MEDICAL CENTER  \n",
       "227902  VANDERBILT UNIVERSITY MEDICAL CENTER  \n",
       "\n",
       "[9337 rows x 38 columns]"
      ]
     },
     "execution_count": 23,
     "metadata": {},
     "output_type": "execute_result"
    }
   ],
   "source": [
    "nashnpi_to_npi[nashnpi_to_npi[\"provider_name\"] == \"VANDERBILT UNIVERSITY MEDICAL CENTER\"]"
   ]
  },
  {
   "cell_type": "markdown",
   "id": "4b56e860",
   "metadata": {},
   "source": [
    "Which providers refer the most?"
   ]
  },
  {
   "cell_type": "code",
   "execution_count": 24,
   "id": "5608c943",
   "metadata": {
    "scrolled": true
   },
   "outputs": [
    {
     "data": {
      "text/html": [
       "<div>\n",
       "<style scoped>\n",
       "    .dataframe tbody tr th:only-of-type {\n",
       "        vertical-align: middle;\n",
       "    }\n",
       "\n",
       "    .dataframe tbody tr th {\n",
       "        vertical-align: top;\n",
       "    }\n",
       "\n",
       "    .dataframe thead th {\n",
       "        text-align: right;\n",
       "    }\n",
       "</style>\n",
       "<table border=\"1\" class=\"dataframe\">\n",
       "  <thead>\n",
       "    <tr style=\"text-align: right;\">\n",
       "      <th></th>\n",
       "      <th>provider_name</th>\n",
       "      <th>count</th>\n",
       "    </tr>\n",
       "  </thead>\n",
       "  <tbody>\n",
       "    <tr>\n",
       "      <th>8567</th>\n",
       "      <td>VANDERBILT UNIVERSITY MEDICAL CENTER</td>\n",
       "      <td>8759</td>\n",
       "    </tr>\n",
       "    <tr>\n",
       "      <th>735</th>\n",
       "      <td>ASSOCIATED PATHOLOGISTS, LLC</td>\n",
       "      <td>5852</td>\n",
       "    </tr>\n",
       "    <tr>\n",
       "      <th>8182</th>\n",
       "      <td>TENNESSEE ONCOLOGY PLLC</td>\n",
       "      <td>5562</td>\n",
       "    </tr>\n",
       "    <tr>\n",
       "      <th>6531</th>\n",
       "      <td>PATHGROUP LABS, LLC</td>\n",
       "      <td>4981</td>\n",
       "    </tr>\n",
       "    <tr>\n",
       "      <th>734</th>\n",
       "      <td>ASSOCIATED PATHOLOGISTS LLC</td>\n",
       "      <td>3893</td>\n",
       "    </tr>\n",
       "    <tr>\n",
       "      <th>84</th>\n",
       "      <td>ADVANCED DIAGNOSTIC IMAGING, PC</td>\n",
       "      <td>3724</td>\n",
       "    </tr>\n",
       "    <tr>\n",
       "      <th>7335</th>\n",
       "      <td>SAINT THOMAS MEDICAL PARTNERS</td>\n",
       "      <td>3504</td>\n",
       "    </tr>\n",
       "    <tr>\n",
       "      <th>6803</th>\n",
       "      <td>RADIOLOGY ALLIANCE PC</td>\n",
       "      <td>3288</td>\n",
       "    </tr>\n",
       "    <tr>\n",
       "      <th>94</th>\n",
       "      <td>AEGIS SCIENCES CORPORATION</td>\n",
       "      <td>3203</td>\n",
       "    </tr>\n",
       "    <tr>\n",
       "      <th>8587</th>\n",
       "      <td>VERUS HEALTHCARE, LLC</td>\n",
       "      <td>3101</td>\n",
       "    </tr>\n",
       "    <tr>\n",
       "      <th>2159</th>\n",
       "      <td>DEREK WELCH</td>\n",
       "      <td>2814</td>\n",
       "    </tr>\n",
       "    <tr>\n",
       "      <th>3030</th>\n",
       "      <td>HCA HEALTH SERVICES OF TENNESSEE, INC.</td>\n",
       "      <td>2714</td>\n",
       "    </tr>\n",
       "    <tr>\n",
       "      <th>1301</th>\n",
       "      <td>CENTENNIAL HEART LLC</td>\n",
       "      <td>1918</td>\n",
       "    </tr>\n",
       "    <tr>\n",
       "      <th>509</th>\n",
       "      <td>ANESTHESIA MEDICAL GROUP, PC</td>\n",
       "      <td>1866</td>\n",
       "    </tr>\n",
       "    <tr>\n",
       "      <th>6297</th>\n",
       "      <td>NEPHROLOGY ASSOCIATES, PC</td>\n",
       "      <td>1794</td>\n",
       "    </tr>\n",
       "    <tr>\n",
       "      <th>7340</th>\n",
       "      <td>SAINT THOMAS WEST HOSPITAL</td>\n",
       "      <td>1741</td>\n",
       "    </tr>\n",
       "    <tr>\n",
       "      <th>8699</th>\n",
       "      <td>WELLNESS SOLUTIONS GERIATRICS, PLLC</td>\n",
       "      <td>1619</td>\n",
       "    </tr>\n",
       "    <tr>\n",
       "      <th>2082</th>\n",
       "      <td>DCI LABORATORY LLC</td>\n",
       "      <td>1369</td>\n",
       "    </tr>\n",
       "    <tr>\n",
       "      <th>3105</th>\n",
       "      <td>HERITAGE MEDICAL ASSOCIATES PC</td>\n",
       "      <td>1123</td>\n",
       "    </tr>\n",
       "    <tr>\n",
       "      <th>8186</th>\n",
       "      <td>TENNESSEE ORTHOPAEDIC ALLIANCE PA</td>\n",
       "      <td>1045</td>\n",
       "    </tr>\n",
       "  </tbody>\n",
       "</table>\n",
       "</div>"
      ],
      "text/plain": [
       "                               provider_name  count\n",
       "8567    VANDERBILT UNIVERSITY MEDICAL CENTER   8759\n",
       "735             ASSOCIATED PATHOLOGISTS, LLC   5852\n",
       "8182                 TENNESSEE ONCOLOGY PLLC   5562\n",
       "6531                     PATHGROUP LABS, LLC   4981\n",
       "734              ASSOCIATED PATHOLOGISTS LLC   3893\n",
       "84           ADVANCED DIAGNOSTIC IMAGING, PC   3724\n",
       "7335           SAINT THOMAS MEDICAL PARTNERS   3504\n",
       "6803                   RADIOLOGY ALLIANCE PC   3288\n",
       "94                AEGIS SCIENCES CORPORATION   3203\n",
       "8587                   VERUS HEALTHCARE, LLC   3101\n",
       "2159                             DEREK WELCH   2814\n",
       "3030  HCA HEALTH SERVICES OF TENNESSEE, INC.   2714\n",
       "1301                    CENTENNIAL HEART LLC   1918\n",
       "509             ANESTHESIA MEDICAL GROUP, PC   1866\n",
       "6297               NEPHROLOGY ASSOCIATES, PC   1794\n",
       "7340              SAINT THOMAS WEST HOSPITAL   1741\n",
       "8699     WELLNESS SOLUTIONS GERIATRICS, PLLC   1619\n",
       "2082                      DCI LABORATORY LLC   1369\n",
       "3105          HERITAGE MEDICAL ASSOCIATES PC   1123\n",
       "8186       TENNESSEE ORTHOPAEDIC ALLIANCE PA   1045"
      ]
     },
     "execution_count": 24,
     "metadata": {},
     "output_type": "execute_result"
    }
   ],
   "source": [
    "top_give_referrals = nashnpi_from_npi.groupby(\"provider_name\")[\"npi\"].count().reset_index(name = \"count\")\n",
    "\n",
    "top_give_referrals.sort_values(by = \"count\", ascending = False).head(20)"
   ]
  },
  {
   "cell_type": "markdown",
   "id": "f9862c57",
   "metadata": {},
   "source": [
    "Who is DEREK WELCH?"
   ]
  },
  {
   "cell_type": "code",
   "execution_count": 25,
   "id": "6653e318",
   "metadata": {
    "scrolled": false
   },
   "outputs": [
    {
     "data": {
      "text/html": [
       "<div>\n",
       "<style scoped>\n",
       "    .dataframe tbody tr th:only-of-type {\n",
       "        vertical-align: middle;\n",
       "    }\n",
       "\n",
       "    .dataframe tbody tr th {\n",
       "        vertical-align: top;\n",
       "    }\n",
       "\n",
       "    .dataframe thead th {\n",
       "        text-align: right;\n",
       "    }\n",
       "</style>\n",
       "<table border=\"1\" class=\"dataframe\">\n",
       "  <thead>\n",
       "    <tr style=\"text-align: right;\">\n",
       "      <th></th>\n",
       "      <th>npi</th>\n",
       "      <th>entity_type_code</th>\n",
       "      <th>provider_name</th>\n",
       "      <th>provider_business_practice_location_address_city_name</th>\n",
       "      <th>code</th>\n",
       "      <th>grouping</th>\n",
       "      <th>classification</th>\n",
       "      <th>specialization</th>\n",
       "      <th>definition</th>\n",
       "      <th>notes</th>\n",
       "      <th>...</th>\n",
       "      <th>res_ratio</th>\n",
       "      <th>bus_ratio</th>\n",
       "      <th>oth_ratio</th>\n",
       "      <th>tot_ratio</th>\n",
       "      <th>from_npi</th>\n",
       "      <th>to_npi</th>\n",
       "      <th>patient_count</th>\n",
       "      <th>transaction_count</th>\n",
       "      <th>average_day_wait</th>\n",
       "      <th>std_day_wait</th>\n",
       "    </tr>\n",
       "  </thead>\n",
       "  <tbody>\n",
       "    <tr>\n",
       "      <th>192349</th>\n",
       "      <td>1093753303</td>\n",
       "      <td>1.0</td>\n",
       "      <td>DEREK WELCH</td>\n",
       "      <td>NASHVILLE</td>\n",
       "      <td>207ZP0102X</td>\n",
       "      <td>Allopathic &amp; Osteopathic Physicians</td>\n",
       "      <td>Pathology</td>\n",
       "      <td>Anatomic Pathology &amp; Clinical Pathology</td>\n",
       "      <td>A pathologist deals with the causes and nature...</td>\n",
       "      <td>Source: American Board of Medical Specialties,...</td>\n",
       "      <td>...</td>\n",
       "      <td>1.0</td>\n",
       "      <td>1.0</td>\n",
       "      <td>1.0</td>\n",
       "      <td>1.0</td>\n",
       "      <td>1518302983</td>\n",
       "      <td>1093753303</td>\n",
       "      <td>153</td>\n",
       "      <td>361</td>\n",
       "      <td>22.864</td>\n",
       "      <td>36.255</td>\n",
       "    </tr>\n",
       "  </tbody>\n",
       "</table>\n",
       "<p>1 rows × 27 columns</p>\n",
       "</div>"
      ],
      "text/plain": [
       "               npi  entity_type_code provider_name  \\\n",
       "192349  1093753303               1.0   DEREK WELCH   \n",
       "\n",
       "       provider_business_practice_location_address_city_name        code  \\\n",
       "192349                                          NASHVILLE     207ZP0102X   \n",
       "\n",
       "                                   grouping classification  \\\n",
       "192349  Allopathic & Osteopathic Physicians      Pathology   \n",
       "\n",
       "                                 specialization  \\\n",
       "192349  Anatomic Pathology & Clinical Pathology   \n",
       "\n",
       "                                               definition  \\\n",
       "192349  A pathologist deals with the causes and nature...   \n",
       "\n",
       "                                                    notes  ... res_ratio  \\\n",
       "192349  Source: American Board of Medical Specialties,...  ...       1.0   \n",
       "\n",
       "       bus_ratio  oth_ratio  tot_ratio    from_npi      to_npi patient_count  \\\n",
       "192349       1.0        1.0        1.0  1518302983  1093753303           153   \n",
       "\n",
       "        transaction_count  average_day_wait  std_day_wait  \n",
       "192349                361            22.864        36.255  \n",
       "\n",
       "[1 rows x 27 columns]"
      ]
     },
     "execution_count": 25,
     "metadata": {},
     "output_type": "execute_result"
    }
   ],
   "source": [
    "derek_welch = nashnpi_to_npi[nashnpi_to_npi[\"provider_name\"] == \"DEREK WELCH\"]\n",
    "derek_welch.columns\n",
    "select_columns = [\n",
    "    'npi', \n",
    "    'entity_type_code', \n",
    "    'provider_name',\n",
    "    'provider_business_practice_location_address_city_name',\n",
    "    'code', 'grouping',\n",
    "    'classification', 'specialization', 'definition', 'notes',\n",
    "    'display_name', 'section', 'zip', 'cbsa', 'usps_zip_pref_city',\n",
    "    'usps_zip_pref_state', 'res_ratio', 'bus_ratio', 'oth_ratio',\n",
    "    'tot_ratio', 'from_npi', 'to_npi', 'patient_count', 'transaction_count',\n",
    "    'average_day_wait', 'std_day_wait'\n",
    "]\n",
    "\n",
    "derek_welch[select_columns].head(1)"
   ]
  },
  {
   "cell_type": "code",
   "execution_count": 27,
   "id": "13a2f4e8",
   "metadata": {
    "scrolled": false
   },
   "outputs": [
    {
     "data": {
      "text/html": [
       "<div>\n",
       "<style scoped>\n",
       "    .dataframe tbody tr th:only-of-type {\n",
       "        vertical-align: middle;\n",
       "    }\n",
       "\n",
       "    .dataframe tbody tr th {\n",
       "        vertical-align: top;\n",
       "    }\n",
       "\n",
       "    .dataframe thead th {\n",
       "        text-align: right;\n",
       "    }\n",
       "</style>\n",
       "<table border=\"1\" class=\"dataframe\">\n",
       "  <thead>\n",
       "    <tr style=\"text-align: right;\">\n",
       "      <th></th>\n",
       "      <th>res_ratio</th>\n",
       "      <th>bus_ratio</th>\n",
       "      <th>oth_ratio</th>\n",
       "      <th>tot_ratio</th>\n",
       "      <th>from_npi</th>\n",
       "      <th>to_npi</th>\n",
       "      <th>patient_count</th>\n",
       "      <th>transaction_count</th>\n",
       "      <th>average_day_wait</th>\n",
       "      <th>std_day_wait</th>\n",
       "    </tr>\n",
       "  </thead>\n",
       "  <tbody>\n",
       "    <tr>\n",
       "      <th>count</th>\n",
       "      <td>2330.0</td>\n",
       "      <td>2330.0</td>\n",
       "      <td>2330.0</td>\n",
       "      <td>2330.0</td>\n",
       "      <td>2.330000e+03</td>\n",
       "      <td>2.330000e+03</td>\n",
       "      <td>2330.000000</td>\n",
       "      <td>2330.000000</td>\n",
       "      <td>2330.000000</td>\n",
       "      <td>2330.000000</td>\n",
       "    </tr>\n",
       "    <tr>\n",
       "      <th>mean</th>\n",
       "      <td>1.0</td>\n",
       "      <td>1.0</td>\n",
       "      <td>1.0</td>\n",
       "      <td>1.0</td>\n",
       "      <td>1.507029e+09</td>\n",
       "      <td>1.093753e+09</td>\n",
       "      <td>335.183262</td>\n",
       "      <td>558.554506</td>\n",
       "      <td>29.304361</td>\n",
       "      <td>41.833895</td>\n",
       "    </tr>\n",
       "    <tr>\n",
       "      <th>std</th>\n",
       "      <td>0.0</td>\n",
       "      <td>0.0</td>\n",
       "      <td>0.0</td>\n",
       "      <td>0.0</td>\n",
       "      <td>2.874740e+08</td>\n",
       "      <td>0.000000e+00</td>\n",
       "      <td>4381.274320</td>\n",
       "      <td>7997.433974</td>\n",
       "      <td>15.956248</td>\n",
       "      <td>14.851013</td>\n",
       "    </tr>\n",
       "    <tr>\n",
       "      <th>min</th>\n",
       "      <td>1.0</td>\n",
       "      <td>1.0</td>\n",
       "      <td>1.0</td>\n",
       "      <td>1.0</td>\n",
       "      <td>1.003025e+09</td>\n",
       "      <td>1.093753e+09</td>\n",
       "      <td>20.000000</td>\n",
       "      <td>50.000000</td>\n",
       "      <td>0.000000</td>\n",
       "      <td>0.000000</td>\n",
       "    </tr>\n",
       "    <tr>\n",
       "      <th>25%</th>\n",
       "      <td>1.0</td>\n",
       "      <td>1.0</td>\n",
       "      <td>1.0</td>\n",
       "      <td>1.0</td>\n",
       "      <td>1.265610e+09</td>\n",
       "      <td>1.093753e+09</td>\n",
       "      <td>54.000000</td>\n",
       "      <td>73.000000</td>\n",
       "      <td>14.758750</td>\n",
       "      <td>33.042250</td>\n",
       "    </tr>\n",
       "    <tr>\n",
       "      <th>50%</th>\n",
       "      <td>1.0</td>\n",
       "      <td>1.0</td>\n",
       "      <td>1.0</td>\n",
       "      <td>1.0</td>\n",
       "      <td>1.508888e+09</td>\n",
       "      <td>1.093753e+09</td>\n",
       "      <td>94.000000</td>\n",
       "      <td>128.500000</td>\n",
       "      <td>33.414500</td>\n",
       "      <td>44.144500</td>\n",
       "    </tr>\n",
       "    <tr>\n",
       "      <th>75%</th>\n",
       "      <td>1.0</td>\n",
       "      <td>1.0</td>\n",
       "      <td>1.0</td>\n",
       "      <td>1.0</td>\n",
       "      <td>1.758025e+09</td>\n",
       "      <td>1.093753e+09</td>\n",
       "      <td>186.750000</td>\n",
       "      <td>284.000000</td>\n",
       "      <td>43.944000</td>\n",
       "      <td>52.051500</td>\n",
       "    </tr>\n",
       "    <tr>\n",
       "      <th>max</th>\n",
       "      <td>1.0</td>\n",
       "      <td>1.0</td>\n",
       "      <td>1.0</td>\n",
       "      <td>1.0</td>\n",
       "      <td>1.992986e+09</td>\n",
       "      <td>1.093753e+09</td>\n",
       "      <td>127792.000000</td>\n",
       "      <td>234741.000000</td>\n",
       "      <td>50.000000</td>\n",
       "      <td>84.285000</td>\n",
       "    </tr>\n",
       "  </tbody>\n",
       "</table>\n",
       "</div>"
      ],
      "text/plain": [
       "       res_ratio  bus_ratio  oth_ratio  tot_ratio      from_npi        to_npi  \\\n",
       "count     2330.0     2330.0     2330.0     2330.0  2.330000e+03  2.330000e+03   \n",
       "mean         1.0        1.0        1.0        1.0  1.507029e+09  1.093753e+09   \n",
       "std          0.0        0.0        0.0        0.0  2.874740e+08  0.000000e+00   \n",
       "min          1.0        1.0        1.0        1.0  1.003025e+09  1.093753e+09   \n",
       "25%          1.0        1.0        1.0        1.0  1.265610e+09  1.093753e+09   \n",
       "50%          1.0        1.0        1.0        1.0  1.508888e+09  1.093753e+09   \n",
       "75%          1.0        1.0        1.0        1.0  1.758025e+09  1.093753e+09   \n",
       "max          1.0        1.0        1.0        1.0  1.992986e+09  1.093753e+09   \n",
       "\n",
       "       patient_count  transaction_count  average_day_wait  std_day_wait  \n",
       "count    2330.000000        2330.000000       2330.000000   2330.000000  \n",
       "mean      335.183262         558.554506         29.304361     41.833895  \n",
       "std      4381.274320        7997.433974         15.956248     14.851013  \n",
       "min        20.000000          50.000000          0.000000      0.000000  \n",
       "25%        54.000000          73.000000         14.758750     33.042250  \n",
       "50%        94.000000         128.500000         33.414500     44.144500  \n",
       "75%       186.750000         284.000000         43.944000     52.051500  \n",
       "max    127792.000000      234741.000000         50.000000     84.285000  "
      ]
     },
     "execution_count": 27,
     "metadata": {},
     "output_type": "execute_result"
    }
   ],
   "source": [
    "summary = derek_welch[['res_ratio', 'bus_ratio', 'oth_ratio',\n",
    "       'tot_ratio', 'from_npi', 'to_npi', 'patient_count', 'transaction_count',\n",
    "       'average_day_wait', 'std_day_wait']].describe()\n",
    "\n",
    "summary"
   ]
  },
  {
   "cell_type": "markdown",
   "id": "0d918258",
   "metadata": {},
   "source": [
    "How many unique npi's were there in the dataset? \n",
    "\n",
    "There are more npi's than list of providers since some npi's can be affiliated with a hospital. "
   ]
  },
  {
   "cell_type": "code",
   "execution_count": 29,
   "id": "feb62f12",
   "metadata": {},
   "outputs": [
    {
     "name": "stdout",
     "output_type": "stream",
     "text": [
      "nashnpi_to_npi df: 9271\n",
      "nashnpi_from_npi df: 9368\n",
      "npi_nash df: 50824\n"
     ]
    }
   ],
   "source": [
    "print(\"nashnpi_to_npi df:\", nashnpi_to_npi['npi'].nunique())\n",
    "print(\"nashnpi_from_npi df:\", nashnpi_from_npi['npi'].nunique())\n",
    "print(\"npi_nash df:\", npi_nash['npi'].nunique())"
   ]
  },
  {
   "cell_type": "markdown",
   "id": "4bd7d5b1",
   "metadata": {},
   "source": [
    "How many unique names of hospitals and providers were there in each df? "
   ]
  },
  {
   "cell_type": "code",
   "execution_count": 30,
   "id": "1b2c0ed9",
   "metadata": {
    "scrolled": false
   },
   "outputs": [
    {
     "name": "stdout",
     "output_type": "stream",
     "text": [
      "provider_name:\n",
      "nashnpi_to_npi df 8917\n",
      "nashnpi_from_npi df 8919\n",
      "npi_nash df 47599\n",
      "----\n"
     ]
    }
   ],
   "source": [
    "print(\"provider_name:\")\n",
    "print(\"nashnpi_to_npi df\", nashnpi_to_npi['provider_name'].nunique())\n",
    "print(\"nashnpi_from_npi df\", nashnpi_from_npi['provider_name'].nunique())\n",
    "print(\"npi_nash df\", npi_nash['provider_name'].nunique())\n",
    "print('----')"
   ]
  },
  {
   "cell_type": "code",
   "execution_count": 230,
   "id": "809f272d",
   "metadata": {
    "scrolled": true
   },
   "outputs": [
    {
     "data": {
      "text/html": [
       "<div>\n",
       "<style scoped>\n",
       "    .dataframe tbody tr th:only-of-type {\n",
       "        vertical-align: middle;\n",
       "    }\n",
       "\n",
       "    .dataframe tbody tr th {\n",
       "        vertical-align: top;\n",
       "    }\n",
       "\n",
       "    .dataframe thead th {\n",
       "        text-align: right;\n",
       "    }\n",
       "</style>\n",
       "<table border=\"1\" class=\"dataframe\">\n",
       "  <thead>\n",
       "    <tr style=\"text-align: right;\">\n",
       "      <th></th>\n",
       "      <th>entity_type_code</th>\n",
       "      <th>count</th>\n",
       "    </tr>\n",
       "  </thead>\n",
       "  <tbody>\n",
       "    <tr>\n",
       "      <th>0</th>\n",
       "      <td>1.0</td>\n",
       "      <td>7592</td>\n",
       "    </tr>\n",
       "    <tr>\n",
       "      <th>1</th>\n",
       "      <td>2.0</td>\n",
       "      <td>1327</td>\n",
       "    </tr>\n",
       "  </tbody>\n",
       "</table>\n",
       "</div>"
      ],
      "text/plain": [
       "  entity_type_code  count\n",
       "0              1.0   7592\n",
       "1              2.0   1327"
      ]
     },
     "execution_count": 230,
     "metadata": {},
     "output_type": "execute_result"
    }
   ],
   "source": [
    "type_count = nashnpi_to_npi.groupby(\"entity_type_code\")[\"provider_name\"].nunique().reset_index(name = \"count\")\n",
    "type_count['entity_type_code'] = type_count['entity_type_code'].astype(str)\n",
    "type_count"
   ]
  },
  {
   "cell_type": "code",
   "execution_count": 247,
   "id": "1a8fdc08",
   "metadata": {},
   "outputs": [
    {
     "data": {
      "application/vnd.plotly.v1+json": {
       "config": {
        "plotlyServerURL": "https://plot.ly"
       },
       "data": [
        {
         "alignmentgroup": "True",
         "hovertemplate": "entity_type_code=%{x}<br>count=%{text}<extra></extra>",
         "legendgroup": "",
         "marker": {
          "color": "#636efa",
          "pattern": {
           "shape": ""
          }
         },
         "name": "",
         "offsetgroup": "",
         "orientation": "v",
         "showlegend": false,
         "text": [
          7592,
          1327
         ],
         "textangle": 0,
         "textfont": {
          "size": 12
         },
         "textposition": "outside",
         "texttemplate": "%{text:.2s}",
         "type": "bar",
         "x": [
          "1.0",
          "2.0"
         ],
         "xaxis": "x",
         "y": [
          7592,
          1327
         ],
         "yaxis": "y"
        }
       ],
       "layout": {
        "barmode": "relative",
        "height": 500,
        "legend": {
         "tracegroupgap": 0
        },
        "margin": {
         "t": 60
        },
        "template": {
         "data": {
          "bar": [
           {
            "error_x": {
             "color": "#2a3f5f"
            },
            "error_y": {
             "color": "#2a3f5f"
            },
            "marker": {
             "line": {
              "color": "#E5ECF6",
              "width": 0.5
             },
             "pattern": {
              "fillmode": "overlay",
              "size": 10,
              "solidity": 0.2
             }
            },
            "type": "bar"
           }
          ],
          "barpolar": [
           {
            "marker": {
             "line": {
              "color": "#E5ECF6",
              "width": 0.5
             },
             "pattern": {
              "fillmode": "overlay",
              "size": 10,
              "solidity": 0.2
             }
            },
            "type": "barpolar"
           }
          ],
          "carpet": [
           {
            "aaxis": {
             "endlinecolor": "#2a3f5f",
             "gridcolor": "white",
             "linecolor": "white",
             "minorgridcolor": "white",
             "startlinecolor": "#2a3f5f"
            },
            "baxis": {
             "endlinecolor": "#2a3f5f",
             "gridcolor": "white",
             "linecolor": "white",
             "minorgridcolor": "white",
             "startlinecolor": "#2a3f5f"
            },
            "type": "carpet"
           }
          ],
          "choropleth": [
           {
            "colorbar": {
             "outlinewidth": 0,
             "ticks": ""
            },
            "type": "choropleth"
           }
          ],
          "contour": [
           {
            "colorbar": {
             "outlinewidth": 0,
             "ticks": ""
            },
            "colorscale": [
             [
              0,
              "#0d0887"
             ],
             [
              0.1111111111111111,
              "#46039f"
             ],
             [
              0.2222222222222222,
              "#7201a8"
             ],
             [
              0.3333333333333333,
              "#9c179e"
             ],
             [
              0.4444444444444444,
              "#bd3786"
             ],
             [
              0.5555555555555556,
              "#d8576b"
             ],
             [
              0.6666666666666666,
              "#ed7953"
             ],
             [
              0.7777777777777778,
              "#fb9f3a"
             ],
             [
              0.8888888888888888,
              "#fdca26"
             ],
             [
              1,
              "#f0f921"
             ]
            ],
            "type": "contour"
           }
          ],
          "contourcarpet": [
           {
            "colorbar": {
             "outlinewidth": 0,
             "ticks": ""
            },
            "type": "contourcarpet"
           }
          ],
          "heatmap": [
           {
            "colorbar": {
             "outlinewidth": 0,
             "ticks": ""
            },
            "colorscale": [
             [
              0,
              "#0d0887"
             ],
             [
              0.1111111111111111,
              "#46039f"
             ],
             [
              0.2222222222222222,
              "#7201a8"
             ],
             [
              0.3333333333333333,
              "#9c179e"
             ],
             [
              0.4444444444444444,
              "#bd3786"
             ],
             [
              0.5555555555555556,
              "#d8576b"
             ],
             [
              0.6666666666666666,
              "#ed7953"
             ],
             [
              0.7777777777777778,
              "#fb9f3a"
             ],
             [
              0.8888888888888888,
              "#fdca26"
             ],
             [
              1,
              "#f0f921"
             ]
            ],
            "type": "heatmap"
           }
          ],
          "heatmapgl": [
           {
            "colorbar": {
             "outlinewidth": 0,
             "ticks": ""
            },
            "colorscale": [
             [
              0,
              "#0d0887"
             ],
             [
              0.1111111111111111,
              "#46039f"
             ],
             [
              0.2222222222222222,
              "#7201a8"
             ],
             [
              0.3333333333333333,
              "#9c179e"
             ],
             [
              0.4444444444444444,
              "#bd3786"
             ],
             [
              0.5555555555555556,
              "#d8576b"
             ],
             [
              0.6666666666666666,
              "#ed7953"
             ],
             [
              0.7777777777777778,
              "#fb9f3a"
             ],
             [
              0.8888888888888888,
              "#fdca26"
             ],
             [
              1,
              "#f0f921"
             ]
            ],
            "type": "heatmapgl"
           }
          ],
          "histogram": [
           {
            "marker": {
             "pattern": {
              "fillmode": "overlay",
              "size": 10,
              "solidity": 0.2
             }
            },
            "type": "histogram"
           }
          ],
          "histogram2d": [
           {
            "colorbar": {
             "outlinewidth": 0,
             "ticks": ""
            },
            "colorscale": [
             [
              0,
              "#0d0887"
             ],
             [
              0.1111111111111111,
              "#46039f"
             ],
             [
              0.2222222222222222,
              "#7201a8"
             ],
             [
              0.3333333333333333,
              "#9c179e"
             ],
             [
              0.4444444444444444,
              "#bd3786"
             ],
             [
              0.5555555555555556,
              "#d8576b"
             ],
             [
              0.6666666666666666,
              "#ed7953"
             ],
             [
              0.7777777777777778,
              "#fb9f3a"
             ],
             [
              0.8888888888888888,
              "#fdca26"
             ],
             [
              1,
              "#f0f921"
             ]
            ],
            "type": "histogram2d"
           }
          ],
          "histogram2dcontour": [
           {
            "colorbar": {
             "outlinewidth": 0,
             "ticks": ""
            },
            "colorscale": [
             [
              0,
              "#0d0887"
             ],
             [
              0.1111111111111111,
              "#46039f"
             ],
             [
              0.2222222222222222,
              "#7201a8"
             ],
             [
              0.3333333333333333,
              "#9c179e"
             ],
             [
              0.4444444444444444,
              "#bd3786"
             ],
             [
              0.5555555555555556,
              "#d8576b"
             ],
             [
              0.6666666666666666,
              "#ed7953"
             ],
             [
              0.7777777777777778,
              "#fb9f3a"
             ],
             [
              0.8888888888888888,
              "#fdca26"
             ],
             [
              1,
              "#f0f921"
             ]
            ],
            "type": "histogram2dcontour"
           }
          ],
          "mesh3d": [
           {
            "colorbar": {
             "outlinewidth": 0,
             "ticks": ""
            },
            "type": "mesh3d"
           }
          ],
          "parcoords": [
           {
            "line": {
             "colorbar": {
              "outlinewidth": 0,
              "ticks": ""
             }
            },
            "type": "parcoords"
           }
          ],
          "pie": [
           {
            "automargin": true,
            "type": "pie"
           }
          ],
          "scatter": [
           {
            "fillpattern": {
             "fillmode": "overlay",
             "size": 10,
             "solidity": 0.2
            },
            "type": "scatter"
           }
          ],
          "scatter3d": [
           {
            "line": {
             "colorbar": {
              "outlinewidth": 0,
              "ticks": ""
             }
            },
            "marker": {
             "colorbar": {
              "outlinewidth": 0,
              "ticks": ""
             }
            },
            "type": "scatter3d"
           }
          ],
          "scattercarpet": [
           {
            "marker": {
             "colorbar": {
              "outlinewidth": 0,
              "ticks": ""
             }
            },
            "type": "scattercarpet"
           }
          ],
          "scattergeo": [
           {
            "marker": {
             "colorbar": {
              "outlinewidth": 0,
              "ticks": ""
             }
            },
            "type": "scattergeo"
           }
          ],
          "scattergl": [
           {
            "marker": {
             "colorbar": {
              "outlinewidth": 0,
              "ticks": ""
             }
            },
            "type": "scattergl"
           }
          ],
          "scattermapbox": [
           {
            "marker": {
             "colorbar": {
              "outlinewidth": 0,
              "ticks": ""
             }
            },
            "type": "scattermapbox"
           }
          ],
          "scatterpolar": [
           {
            "marker": {
             "colorbar": {
              "outlinewidth": 0,
              "ticks": ""
             }
            },
            "type": "scatterpolar"
           }
          ],
          "scatterpolargl": [
           {
            "marker": {
             "colorbar": {
              "outlinewidth": 0,
              "ticks": ""
             }
            },
            "type": "scatterpolargl"
           }
          ],
          "scatterternary": [
           {
            "marker": {
             "colorbar": {
              "outlinewidth": 0,
              "ticks": ""
             }
            },
            "type": "scatterternary"
           }
          ],
          "surface": [
           {
            "colorbar": {
             "outlinewidth": 0,
             "ticks": ""
            },
            "colorscale": [
             [
              0,
              "#0d0887"
             ],
             [
              0.1111111111111111,
              "#46039f"
             ],
             [
              0.2222222222222222,
              "#7201a8"
             ],
             [
              0.3333333333333333,
              "#9c179e"
             ],
             [
              0.4444444444444444,
              "#bd3786"
             ],
             [
              0.5555555555555556,
              "#d8576b"
             ],
             [
              0.6666666666666666,
              "#ed7953"
             ],
             [
              0.7777777777777778,
              "#fb9f3a"
             ],
             [
              0.8888888888888888,
              "#fdca26"
             ],
             [
              1,
              "#f0f921"
             ]
            ],
            "type": "surface"
           }
          ],
          "table": [
           {
            "cells": {
             "fill": {
              "color": "#EBF0F8"
             },
             "line": {
              "color": "white"
             }
            },
            "header": {
             "fill": {
              "color": "#C8D4E3"
             },
             "line": {
              "color": "white"
             }
            },
            "type": "table"
           }
          ]
         },
         "layout": {
          "annotationdefaults": {
           "arrowcolor": "#2a3f5f",
           "arrowhead": 0,
           "arrowwidth": 1
          },
          "autotypenumbers": "strict",
          "coloraxis": {
           "colorbar": {
            "outlinewidth": 0,
            "ticks": ""
           }
          },
          "colorscale": {
           "diverging": [
            [
             0,
             "#8e0152"
            ],
            [
             0.1,
             "#c51b7d"
            ],
            [
             0.2,
             "#de77ae"
            ],
            [
             0.3,
             "#f1b6da"
            ],
            [
             0.4,
             "#fde0ef"
            ],
            [
             0.5,
             "#f7f7f7"
            ],
            [
             0.6,
             "#e6f5d0"
            ],
            [
             0.7,
             "#b8e186"
            ],
            [
             0.8,
             "#7fbc41"
            ],
            [
             0.9,
             "#4d9221"
            ],
            [
             1,
             "#276419"
            ]
           ],
           "sequential": [
            [
             0,
             "#0d0887"
            ],
            [
             0.1111111111111111,
             "#46039f"
            ],
            [
             0.2222222222222222,
             "#7201a8"
            ],
            [
             0.3333333333333333,
             "#9c179e"
            ],
            [
             0.4444444444444444,
             "#bd3786"
            ],
            [
             0.5555555555555556,
             "#d8576b"
            ],
            [
             0.6666666666666666,
             "#ed7953"
            ],
            [
             0.7777777777777778,
             "#fb9f3a"
            ],
            [
             0.8888888888888888,
             "#fdca26"
            ],
            [
             1,
             "#f0f921"
            ]
           ],
           "sequentialminus": [
            [
             0,
             "#0d0887"
            ],
            [
             0.1111111111111111,
             "#46039f"
            ],
            [
             0.2222222222222222,
             "#7201a8"
            ],
            [
             0.3333333333333333,
             "#9c179e"
            ],
            [
             0.4444444444444444,
             "#bd3786"
            ],
            [
             0.5555555555555556,
             "#d8576b"
            ],
            [
             0.6666666666666666,
             "#ed7953"
            ],
            [
             0.7777777777777778,
             "#fb9f3a"
            ],
            [
             0.8888888888888888,
             "#fdca26"
            ],
            [
             1,
             "#f0f921"
            ]
           ]
          },
          "colorway": [
           "#636efa",
           "#EF553B",
           "#00cc96",
           "#ab63fa",
           "#FFA15A",
           "#19d3f3",
           "#FF6692",
           "#B6E880",
           "#FF97FF",
           "#FECB52"
          ],
          "font": {
           "color": "#2a3f5f"
          },
          "geo": {
           "bgcolor": "white",
           "lakecolor": "white",
           "landcolor": "#E5ECF6",
           "showlakes": true,
           "showland": true,
           "subunitcolor": "white"
          },
          "hoverlabel": {
           "align": "left"
          },
          "hovermode": "closest",
          "mapbox": {
           "style": "light"
          },
          "paper_bgcolor": "white",
          "plot_bgcolor": "#E5ECF6",
          "polar": {
           "angularaxis": {
            "gridcolor": "white",
            "linecolor": "white",
            "ticks": ""
           },
           "bgcolor": "#E5ECF6",
           "radialaxis": {
            "gridcolor": "white",
            "linecolor": "white",
            "ticks": ""
           }
          },
          "scene": {
           "xaxis": {
            "backgroundcolor": "#E5ECF6",
            "gridcolor": "white",
            "gridwidth": 2,
            "linecolor": "white",
            "showbackground": true,
            "ticks": "",
            "zerolinecolor": "white"
           },
           "yaxis": {
            "backgroundcolor": "#E5ECF6",
            "gridcolor": "white",
            "gridwidth": 2,
            "linecolor": "white",
            "showbackground": true,
            "ticks": "",
            "zerolinecolor": "white"
           },
           "zaxis": {
            "backgroundcolor": "#E5ECF6",
            "gridcolor": "white",
            "gridwidth": 2,
            "linecolor": "white",
            "showbackground": true,
            "ticks": "",
            "zerolinecolor": "white"
           }
          },
          "shapedefaults": {
           "line": {
            "color": "#2a3f5f"
           }
          },
          "ternary": {
           "aaxis": {
            "gridcolor": "white",
            "linecolor": "white",
            "ticks": ""
           },
           "baxis": {
            "gridcolor": "white",
            "linecolor": "white",
            "ticks": ""
           },
           "bgcolor": "#E5ECF6",
           "caxis": {
            "gridcolor": "white",
            "linecolor": "white",
            "ticks": ""
           }
          },
          "title": {
           "x": 0.05
          },
          "xaxis": {
           "automargin": true,
           "gridcolor": "white",
           "linecolor": "white",
           "ticks": "",
           "title": {
            "standoff": 15
           },
           "zerolinecolor": "white",
           "zerolinewidth": 2
          },
          "yaxis": {
           "automargin": true,
           "gridcolor": "white",
           "linecolor": "white",
           "ticks": "",
           "title": {
            "standoff": 15
           },
           "zerolinecolor": "white",
           "zerolinewidth": 2
          }
         }
        },
        "width": 250,
        "xaxis": {
         "anchor": "y",
         "domain": [
          0,
          1
         ],
         "title": {
          "text": "entity_type_code"
         }
        },
        "yaxis": {
         "anchor": "x",
         "domain": [
          0,
          1
         ],
         "title": {
          "text": "count"
         }
        }
       }
      },
      "text/html": [
       "<div>                            <div id=\"9845d380-4b8a-4fbc-a843-d978a8ae9dfe\" class=\"plotly-graph-div\" style=\"height:500px; width:250px;\"></div>            <script type=\"text/javascript\">                require([\"plotly\"], function(Plotly) {                    window.PLOTLYENV=window.PLOTLYENV || {};                                    if (document.getElementById(\"9845d380-4b8a-4fbc-a843-d978a8ae9dfe\")) {                    Plotly.newPlot(                        \"9845d380-4b8a-4fbc-a843-d978a8ae9dfe\",                        [{\"alignmentgroup\":\"True\",\"hovertemplate\":\"entity_type_code=%{x}<br>count=%{text}<extra></extra>\",\"legendgroup\":\"\",\"marker\":{\"color\":\"#636efa\",\"pattern\":{\"shape\":\"\"}},\"name\":\"\",\"offsetgroup\":\"\",\"orientation\":\"v\",\"showlegend\":false,\"text\":[7592.0,1327.0],\"textposition\":\"outside\",\"x\":[\"1.0\",\"2.0\"],\"xaxis\":\"x\",\"y\":[7592,1327],\"yaxis\":\"y\",\"type\":\"bar\",\"textfont\":{\"size\":12},\"textangle\":0,\"texttemplate\":\"%{text:.2s}\"}],                        {\"template\":{\"data\":{\"histogram2dcontour\":[{\"type\":\"histogram2dcontour\",\"colorbar\":{\"outlinewidth\":0,\"ticks\":\"\"},\"colorscale\":[[0.0,\"#0d0887\"],[0.1111111111111111,\"#46039f\"],[0.2222222222222222,\"#7201a8\"],[0.3333333333333333,\"#9c179e\"],[0.4444444444444444,\"#bd3786\"],[0.5555555555555556,\"#d8576b\"],[0.6666666666666666,\"#ed7953\"],[0.7777777777777778,\"#fb9f3a\"],[0.8888888888888888,\"#fdca26\"],[1.0,\"#f0f921\"]]}],\"choropleth\":[{\"type\":\"choropleth\",\"colorbar\":{\"outlinewidth\":0,\"ticks\":\"\"}}],\"histogram2d\":[{\"type\":\"histogram2d\",\"colorbar\":{\"outlinewidth\":0,\"ticks\":\"\"},\"colorscale\":[[0.0,\"#0d0887\"],[0.1111111111111111,\"#46039f\"],[0.2222222222222222,\"#7201a8\"],[0.3333333333333333,\"#9c179e\"],[0.4444444444444444,\"#bd3786\"],[0.5555555555555556,\"#d8576b\"],[0.6666666666666666,\"#ed7953\"],[0.7777777777777778,\"#fb9f3a\"],[0.8888888888888888,\"#fdca26\"],[1.0,\"#f0f921\"]]}],\"heatmap\":[{\"type\":\"heatmap\",\"colorbar\":{\"outlinewidth\":0,\"ticks\":\"\"},\"colorscale\":[[0.0,\"#0d0887\"],[0.1111111111111111,\"#46039f\"],[0.2222222222222222,\"#7201a8\"],[0.3333333333333333,\"#9c179e\"],[0.4444444444444444,\"#bd3786\"],[0.5555555555555556,\"#d8576b\"],[0.6666666666666666,\"#ed7953\"],[0.7777777777777778,\"#fb9f3a\"],[0.8888888888888888,\"#fdca26\"],[1.0,\"#f0f921\"]]}],\"heatmapgl\":[{\"type\":\"heatmapgl\",\"colorbar\":{\"outlinewidth\":0,\"ticks\":\"\"},\"colorscale\":[[0.0,\"#0d0887\"],[0.1111111111111111,\"#46039f\"],[0.2222222222222222,\"#7201a8\"],[0.3333333333333333,\"#9c179e\"],[0.4444444444444444,\"#bd3786\"],[0.5555555555555556,\"#d8576b\"],[0.6666666666666666,\"#ed7953\"],[0.7777777777777778,\"#fb9f3a\"],[0.8888888888888888,\"#fdca26\"],[1.0,\"#f0f921\"]]}],\"contourcarpet\":[{\"type\":\"contourcarpet\",\"colorbar\":{\"outlinewidth\":0,\"ticks\":\"\"}}],\"contour\":[{\"type\":\"contour\",\"colorbar\":{\"outlinewidth\":0,\"ticks\":\"\"},\"colorscale\":[[0.0,\"#0d0887\"],[0.1111111111111111,\"#46039f\"],[0.2222222222222222,\"#7201a8\"],[0.3333333333333333,\"#9c179e\"],[0.4444444444444444,\"#bd3786\"],[0.5555555555555556,\"#d8576b\"],[0.6666666666666666,\"#ed7953\"],[0.7777777777777778,\"#fb9f3a\"],[0.8888888888888888,\"#fdca26\"],[1.0,\"#f0f921\"]]}],\"surface\":[{\"type\":\"surface\",\"colorbar\":{\"outlinewidth\":0,\"ticks\":\"\"},\"colorscale\":[[0.0,\"#0d0887\"],[0.1111111111111111,\"#46039f\"],[0.2222222222222222,\"#7201a8\"],[0.3333333333333333,\"#9c179e\"],[0.4444444444444444,\"#bd3786\"],[0.5555555555555556,\"#d8576b\"],[0.6666666666666666,\"#ed7953\"],[0.7777777777777778,\"#fb9f3a\"],[0.8888888888888888,\"#fdca26\"],[1.0,\"#f0f921\"]]}],\"mesh3d\":[{\"type\":\"mesh3d\",\"colorbar\":{\"outlinewidth\":0,\"ticks\":\"\"}}],\"scatter\":[{\"fillpattern\":{\"fillmode\":\"overlay\",\"size\":10,\"solidity\":0.2},\"type\":\"scatter\"}],\"parcoords\":[{\"type\":\"parcoords\",\"line\":{\"colorbar\":{\"outlinewidth\":0,\"ticks\":\"\"}}}],\"scatterpolargl\":[{\"type\":\"scatterpolargl\",\"marker\":{\"colorbar\":{\"outlinewidth\":0,\"ticks\":\"\"}}}],\"bar\":[{\"error_x\":{\"color\":\"#2a3f5f\"},\"error_y\":{\"color\":\"#2a3f5f\"},\"marker\":{\"line\":{\"color\":\"#E5ECF6\",\"width\":0.5},\"pattern\":{\"fillmode\":\"overlay\",\"size\":10,\"solidity\":0.2}},\"type\":\"bar\"}],\"scattergeo\":[{\"type\":\"scattergeo\",\"marker\":{\"colorbar\":{\"outlinewidth\":0,\"ticks\":\"\"}}}],\"scatterpolar\":[{\"type\":\"scatterpolar\",\"marker\":{\"colorbar\":{\"outlinewidth\":0,\"ticks\":\"\"}}}],\"histogram\":[{\"marker\":{\"pattern\":{\"fillmode\":\"overlay\",\"size\":10,\"solidity\":0.2}},\"type\":\"histogram\"}],\"scattergl\":[{\"type\":\"scattergl\",\"marker\":{\"colorbar\":{\"outlinewidth\":0,\"ticks\":\"\"}}}],\"scatter3d\":[{\"type\":\"scatter3d\",\"line\":{\"colorbar\":{\"outlinewidth\":0,\"ticks\":\"\"}},\"marker\":{\"colorbar\":{\"outlinewidth\":0,\"ticks\":\"\"}}}],\"scattermapbox\":[{\"type\":\"scattermapbox\",\"marker\":{\"colorbar\":{\"outlinewidth\":0,\"ticks\":\"\"}}}],\"scatterternary\":[{\"type\":\"scatterternary\",\"marker\":{\"colorbar\":{\"outlinewidth\":0,\"ticks\":\"\"}}}],\"scattercarpet\":[{\"type\":\"scattercarpet\",\"marker\":{\"colorbar\":{\"outlinewidth\":0,\"ticks\":\"\"}}}],\"carpet\":[{\"aaxis\":{\"endlinecolor\":\"#2a3f5f\",\"gridcolor\":\"white\",\"linecolor\":\"white\",\"minorgridcolor\":\"white\",\"startlinecolor\":\"#2a3f5f\"},\"baxis\":{\"endlinecolor\":\"#2a3f5f\",\"gridcolor\":\"white\",\"linecolor\":\"white\",\"minorgridcolor\":\"white\",\"startlinecolor\":\"#2a3f5f\"},\"type\":\"carpet\"}],\"table\":[{\"cells\":{\"fill\":{\"color\":\"#EBF0F8\"},\"line\":{\"color\":\"white\"}},\"header\":{\"fill\":{\"color\":\"#C8D4E3\"},\"line\":{\"color\":\"white\"}},\"type\":\"table\"}],\"barpolar\":[{\"marker\":{\"line\":{\"color\":\"#E5ECF6\",\"width\":0.5},\"pattern\":{\"fillmode\":\"overlay\",\"size\":10,\"solidity\":0.2}},\"type\":\"barpolar\"}],\"pie\":[{\"automargin\":true,\"type\":\"pie\"}]},\"layout\":{\"autotypenumbers\":\"strict\",\"colorway\":[\"#636efa\",\"#EF553B\",\"#00cc96\",\"#ab63fa\",\"#FFA15A\",\"#19d3f3\",\"#FF6692\",\"#B6E880\",\"#FF97FF\",\"#FECB52\"],\"font\":{\"color\":\"#2a3f5f\"},\"hovermode\":\"closest\",\"hoverlabel\":{\"align\":\"left\"},\"paper_bgcolor\":\"white\",\"plot_bgcolor\":\"#E5ECF6\",\"polar\":{\"bgcolor\":\"#E5ECF6\",\"angularaxis\":{\"gridcolor\":\"white\",\"linecolor\":\"white\",\"ticks\":\"\"},\"radialaxis\":{\"gridcolor\":\"white\",\"linecolor\":\"white\",\"ticks\":\"\"}},\"ternary\":{\"bgcolor\":\"#E5ECF6\",\"aaxis\":{\"gridcolor\":\"white\",\"linecolor\":\"white\",\"ticks\":\"\"},\"baxis\":{\"gridcolor\":\"white\",\"linecolor\":\"white\",\"ticks\":\"\"},\"caxis\":{\"gridcolor\":\"white\",\"linecolor\":\"white\",\"ticks\":\"\"}},\"coloraxis\":{\"colorbar\":{\"outlinewidth\":0,\"ticks\":\"\"}},\"colorscale\":{\"sequential\":[[0.0,\"#0d0887\"],[0.1111111111111111,\"#46039f\"],[0.2222222222222222,\"#7201a8\"],[0.3333333333333333,\"#9c179e\"],[0.4444444444444444,\"#bd3786\"],[0.5555555555555556,\"#d8576b\"],[0.6666666666666666,\"#ed7953\"],[0.7777777777777778,\"#fb9f3a\"],[0.8888888888888888,\"#fdca26\"],[1.0,\"#f0f921\"]],\"sequentialminus\":[[0.0,\"#0d0887\"],[0.1111111111111111,\"#46039f\"],[0.2222222222222222,\"#7201a8\"],[0.3333333333333333,\"#9c179e\"],[0.4444444444444444,\"#bd3786\"],[0.5555555555555556,\"#d8576b\"],[0.6666666666666666,\"#ed7953\"],[0.7777777777777778,\"#fb9f3a\"],[0.8888888888888888,\"#fdca26\"],[1.0,\"#f0f921\"]],\"diverging\":[[0,\"#8e0152\"],[0.1,\"#c51b7d\"],[0.2,\"#de77ae\"],[0.3,\"#f1b6da\"],[0.4,\"#fde0ef\"],[0.5,\"#f7f7f7\"],[0.6,\"#e6f5d0\"],[0.7,\"#b8e186\"],[0.8,\"#7fbc41\"],[0.9,\"#4d9221\"],[1,\"#276419\"]]},\"xaxis\":{\"gridcolor\":\"white\",\"linecolor\":\"white\",\"ticks\":\"\",\"title\":{\"standoff\":15},\"zerolinecolor\":\"white\",\"automargin\":true,\"zerolinewidth\":2},\"yaxis\":{\"gridcolor\":\"white\",\"linecolor\":\"white\",\"ticks\":\"\",\"title\":{\"standoff\":15},\"zerolinecolor\":\"white\",\"automargin\":true,\"zerolinewidth\":2},\"scene\":{\"xaxis\":{\"backgroundcolor\":\"#E5ECF6\",\"gridcolor\":\"white\",\"linecolor\":\"white\",\"showbackground\":true,\"ticks\":\"\",\"zerolinecolor\":\"white\",\"gridwidth\":2},\"yaxis\":{\"backgroundcolor\":\"#E5ECF6\",\"gridcolor\":\"white\",\"linecolor\":\"white\",\"showbackground\":true,\"ticks\":\"\",\"zerolinecolor\":\"white\",\"gridwidth\":2},\"zaxis\":{\"backgroundcolor\":\"#E5ECF6\",\"gridcolor\":\"white\",\"linecolor\":\"white\",\"showbackground\":true,\"ticks\":\"\",\"zerolinecolor\":\"white\",\"gridwidth\":2}},\"shapedefaults\":{\"line\":{\"color\":\"#2a3f5f\"}},\"annotationdefaults\":{\"arrowcolor\":\"#2a3f5f\",\"arrowhead\":0,\"arrowwidth\":1},\"geo\":{\"bgcolor\":\"white\",\"landcolor\":\"#E5ECF6\",\"subunitcolor\":\"white\",\"showland\":true,\"showlakes\":true,\"lakecolor\":\"white\"},\"title\":{\"x\":0.05},\"mapbox\":{\"style\":\"light\"}}},\"xaxis\":{\"anchor\":\"y\",\"domain\":[0.0,1.0],\"title\":{\"text\":\"entity_type_code\"}},\"yaxis\":{\"anchor\":\"x\",\"domain\":[0.0,1.0],\"title\":{\"text\":\"count\"}},\"legend\":{\"tracegroupgap\":0},\"margin\":{\"t\":60},\"barmode\":\"relative\",\"height\":500,\"width\":250},                        {\"responsive\": true}                    ).then(function(){\n",
       "                            \n",
       "var gd = document.getElementById('9845d380-4b8a-4fbc-a843-d978a8ae9dfe');\n",
       "var x = new MutationObserver(function (mutations, observer) {{\n",
       "        var display = window.getComputedStyle(gd).display;\n",
       "        if (!display || display === 'none') {{\n",
       "            console.log([gd, 'removed!']);\n",
       "            Plotly.purge(gd);\n",
       "            observer.disconnect();\n",
       "        }}\n",
       "}});\n",
       "\n",
       "// Listen for the removal of the full notebook cells\n",
       "var notebookContainer = gd.closest('#notebook-container');\n",
       "if (notebookContainer) {{\n",
       "    x.observe(notebookContainer, {childList: true});\n",
       "}}\n",
       "\n",
       "// Listen for the clearing of the current output cell\n",
       "var outputEl = gd.closest('.output');\n",
       "if (outputEl) {{\n",
       "    x.observe(outputEl, {childList: true});\n",
       "}}\n",
       "\n",
       "                        })                };                });            </script>        </div>"
      ]
     },
     "metadata": {},
     "output_type": "display_data"
    }
   ],
   "source": [
    "fig = px.bar(type_count, x = 'entity_type_code', y = 'count', width = 250, height = 500, text = 'count')\n",
    "fig.update_traces(texttemplate = '%{text:.2s}', textposition=\"outside\", textangle = 0, textfont_size=12)\n",
    "fig.show()"
   ]
  },
  {
   "cell_type": "code",
   "execution_count": 31,
   "id": "5880689f",
   "metadata": {
    "scrolled": true
   },
   "outputs": [],
   "source": [
    "# This code groups the nashnpi_from_npi by classification then by legal business name \n",
    "referral_patterns = nashnpi_from_npi.groupby([\"classification\", \"provider_name\"]).size().reset_index(name = \"referral_count\")\n",
    "\n",
    "# referral_patterns.sort_values(by = \"referral_count\", ascending = False).head(20)"
   ]
  },
  {
   "cell_type": "code",
   "execution_count": 32,
   "id": "02eb93e5",
   "metadata": {
    "scrolled": true
   },
   "outputs": [
    {
     "data": {
      "text/html": [
       "<div>\n",
       "<style scoped>\n",
       "    .dataframe tbody tr th:only-of-type {\n",
       "        vertical-align: middle;\n",
       "    }\n",
       "\n",
       "    .dataframe tbody tr th {\n",
       "        vertical-align: top;\n",
       "    }\n",
       "\n",
       "    .dataframe thead th {\n",
       "        text-align: right;\n",
       "    }\n",
       "</style>\n",
       "<table border=\"1\" class=\"dataframe\">\n",
       "  <thead>\n",
       "    <tr style=\"text-align: right;\">\n",
       "      <th></th>\n",
       "      <th>classification</th>\n",
       "      <th>provider_name</th>\n",
       "      <th>referral_count</th>\n",
       "    </tr>\n",
       "  </thead>\n",
       "  <tbody>\n",
       "    <tr>\n",
       "      <th>0</th>\n",
       "      <td>Advanced Practice Midwife</td>\n",
       "      <td>HEATHER POTTS</td>\n",
       "      <td>1</td>\n",
       "    </tr>\n",
       "    <tr>\n",
       "      <th>1</th>\n",
       "      <td>Advanced Practice Midwife</td>\n",
       "      <td>MICHELE GIBSON-O'GRADY</td>\n",
       "      <td>4</td>\n",
       "    </tr>\n",
       "    <tr>\n",
       "      <th>2</th>\n",
       "      <td>Advanced Practice Midwife</td>\n",
       "      <td>REGINA BARUKH</td>\n",
       "      <td>1</td>\n",
       "    </tr>\n",
       "    <tr>\n",
       "      <th>3</th>\n",
       "      <td>Advanced Practice Midwife</td>\n",
       "      <td>SHANDRA ANDRY</td>\n",
       "      <td>1</td>\n",
       "    </tr>\n",
       "    <tr>\n",
       "      <th>4</th>\n",
       "      <td>Advanced Practice Midwife</td>\n",
       "      <td>TERRY ZIMMER</td>\n",
       "      <td>1</td>\n",
       "    </tr>\n",
       "    <tr>\n",
       "      <th>...</th>\n",
       "      <td>...</td>\n",
       "      <td>...</td>\n",
       "      <td>...</td>\n",
       "    </tr>\n",
       "    <tr>\n",
       "      <th>8998</th>\n",
       "      <td>Urology</td>\n",
       "      <td>WHITSON LOWE</td>\n",
       "      <td>5</td>\n",
       "    </tr>\n",
       "    <tr>\n",
       "      <th>8999</th>\n",
       "      <td>Urology</td>\n",
       "      <td>WILLIAM BINKLEY</td>\n",
       "      <td>6</td>\n",
       "    </tr>\n",
       "    <tr>\n",
       "      <th>9000</th>\n",
       "      <td>Urology</td>\n",
       "      <td>WILLIAM J. BINKLEY, M.D. LLC</td>\n",
       "      <td>5</td>\n",
       "    </tr>\n",
       "    <tr>\n",
       "      <th>9001</th>\n",
       "      <td>Urology</td>\n",
       "      <td>WILLIAM REYNOLDS</td>\n",
       "      <td>4</td>\n",
       "    </tr>\n",
       "    <tr>\n",
       "      <th>9002</th>\n",
       "      <td>Urology</td>\n",
       "      <td>WILLIAM TISSOT</td>\n",
       "      <td>16</td>\n",
       "    </tr>\n",
       "  </tbody>\n",
       "</table>\n",
       "<p>9003 rows × 3 columns</p>\n",
       "</div>"
      ],
      "text/plain": [
       "                 classification                 provider_name  referral_count\n",
       "0     Advanced Practice Midwife                 HEATHER POTTS               1\n",
       "1     Advanced Practice Midwife        MICHELE GIBSON-O'GRADY               4\n",
       "2     Advanced Practice Midwife                 REGINA BARUKH               1\n",
       "3     Advanced Practice Midwife                 SHANDRA ANDRY               1\n",
       "4     Advanced Practice Midwife                  TERRY ZIMMER               1\n",
       "...                         ...                           ...             ...\n",
       "8998                    Urology                  WHITSON LOWE               5\n",
       "8999                    Urology               WILLIAM BINKLEY               6\n",
       "9000                    Urology  WILLIAM J. BINKLEY, M.D. LLC               5\n",
       "9001                    Urology              WILLIAM REYNOLDS               4\n",
       "9002                    Urology                WILLIAM TISSOT              16\n",
       "\n",
       "[9003 rows x 3 columns]"
      ]
     },
     "execution_count": 32,
     "metadata": {},
     "output_type": "execute_result"
    }
   ],
   "source": [
    "referral_patterns"
   ]
  },
  {
   "cell_type": "code",
   "execution_count": 33,
   "id": "1c02c197",
   "metadata": {
    "scrolled": true
   },
   "outputs": [
    {
     "data": {
      "text/html": [
       "<div>\n",
       "<style scoped>\n",
       "    .dataframe tbody tr th:only-of-type {\n",
       "        vertical-align: middle;\n",
       "    }\n",
       "\n",
       "    .dataframe tbody tr th {\n",
       "        vertical-align: top;\n",
       "    }\n",
       "\n",
       "    .dataframe thead th {\n",
       "        text-align: right;\n",
       "    }\n",
       "</style>\n",
       "<table border=\"1\" class=\"dataframe\">\n",
       "  <thead>\n",
       "    <tr style=\"text-align: right;\">\n",
       "      <th></th>\n",
       "      <th>classification</th>\n",
       "      <th>provider_name</th>\n",
       "      <th>referral_count</th>\n",
       "      <th>referral_percentage</th>\n",
       "    </tr>\n",
       "  </thead>\n",
       "  <tbody>\n",
       "    <tr>\n",
       "      <th>0</th>\n",
       "      <td>Advanced Practice Midwife</td>\n",
       "      <td>HEATHER POTTS</td>\n",
       "      <td>1</td>\n",
       "      <td>12.500000</td>\n",
       "    </tr>\n",
       "    <tr>\n",
       "      <th>1</th>\n",
       "      <td>Advanced Practice Midwife</td>\n",
       "      <td>MICHELE GIBSON-O'GRADY</td>\n",
       "      <td>4</td>\n",
       "      <td>50.000000</td>\n",
       "    </tr>\n",
       "    <tr>\n",
       "      <th>2</th>\n",
       "      <td>Advanced Practice Midwife</td>\n",
       "      <td>REGINA BARUKH</td>\n",
       "      <td>1</td>\n",
       "      <td>12.500000</td>\n",
       "    </tr>\n",
       "    <tr>\n",
       "      <th>3</th>\n",
       "      <td>Advanced Practice Midwife</td>\n",
       "      <td>SHANDRA ANDRY</td>\n",
       "      <td>1</td>\n",
       "      <td>12.500000</td>\n",
       "    </tr>\n",
       "    <tr>\n",
       "      <th>4</th>\n",
       "      <td>Advanced Practice Midwife</td>\n",
       "      <td>TERRY ZIMMER</td>\n",
       "      <td>1</td>\n",
       "      <td>12.500000</td>\n",
       "    </tr>\n",
       "    <tr>\n",
       "      <th>...</th>\n",
       "      <td>...</td>\n",
       "      <td>...</td>\n",
       "      <td>...</td>\n",
       "      <td>...</td>\n",
       "    </tr>\n",
       "    <tr>\n",
       "      <th>8998</th>\n",
       "      <td>Urology</td>\n",
       "      <td>WHITSON LOWE</td>\n",
       "      <td>5</td>\n",
       "      <td>0.258398</td>\n",
       "    </tr>\n",
       "    <tr>\n",
       "      <th>8999</th>\n",
       "      <td>Urology</td>\n",
       "      <td>WILLIAM BINKLEY</td>\n",
       "      <td>6</td>\n",
       "      <td>0.310078</td>\n",
       "    </tr>\n",
       "    <tr>\n",
       "      <th>9000</th>\n",
       "      <td>Urology</td>\n",
       "      <td>WILLIAM J. BINKLEY, M.D. LLC</td>\n",
       "      <td>5</td>\n",
       "      <td>0.258398</td>\n",
       "    </tr>\n",
       "    <tr>\n",
       "      <th>9001</th>\n",
       "      <td>Urology</td>\n",
       "      <td>WILLIAM REYNOLDS</td>\n",
       "      <td>4</td>\n",
       "      <td>0.206718</td>\n",
       "    </tr>\n",
       "    <tr>\n",
       "      <th>9002</th>\n",
       "      <td>Urology</td>\n",
       "      <td>WILLIAM TISSOT</td>\n",
       "      <td>16</td>\n",
       "      <td>0.826873</td>\n",
       "    </tr>\n",
       "  </tbody>\n",
       "</table>\n",
       "<p>9003 rows × 4 columns</p>\n",
       "</div>"
      ],
      "text/plain": [
       "                 classification                 provider_name  referral_count  \\\n",
       "0     Advanced Practice Midwife                 HEATHER POTTS               1   \n",
       "1     Advanced Practice Midwife        MICHELE GIBSON-O'GRADY               4   \n",
       "2     Advanced Practice Midwife                 REGINA BARUKH               1   \n",
       "3     Advanced Practice Midwife                 SHANDRA ANDRY               1   \n",
       "4     Advanced Practice Midwife                  TERRY ZIMMER               1   \n",
       "...                         ...                           ...             ...   \n",
       "8998                    Urology                  WHITSON LOWE               5   \n",
       "8999                    Urology               WILLIAM BINKLEY               6   \n",
       "9000                    Urology  WILLIAM J. BINKLEY, M.D. LLC               5   \n",
       "9001                    Urology              WILLIAM REYNOLDS               4   \n",
       "9002                    Urology                WILLIAM TISSOT              16   \n",
       "\n",
       "      referral_percentage  \n",
       "0               12.500000  \n",
       "1               50.000000  \n",
       "2               12.500000  \n",
       "3               12.500000  \n",
       "4               12.500000  \n",
       "...                   ...  \n",
       "8998             0.258398  \n",
       "8999             0.310078  \n",
       "9000             0.258398  \n",
       "9001             0.206718  \n",
       "9002             0.826873  \n",
       "\n",
       "[9003 rows x 4 columns]"
      ]
     },
     "execution_count": 33,
     "metadata": {},
     "output_type": "execute_result"
    }
   ],
   "source": [
    "# Step 1: Calculate the total number of referrals for each classification\n",
    "total_referrals = referral_patterns.groupby(\"classification\")[\"referral_count\"].sum().reset_index(name=\"total_referrals\")\n",
    "\n",
    "# Step 2: Merge the total number of referrals back to the referral_patterns dataframe\n",
    "referral_patterns = referral_patterns.merge(total_referrals, on=\"classification\")\n",
    "\n",
    "# Step 3: Calculate the percentage of referrals for each provider within each classification\n",
    "referral_patterns[\"referral_percentage\"] = (referral_patterns[\"referral_count\"] / referral_patterns[\"total_referrals\"]) * 100\n",
    "# referral_patterns[\"referral_percentage\"] = referral_patterns[\"referral_percentage\"].round(2).astype(str)+\"%\"\n",
    "\n",
    "# Drop the total_referrals column if it's no longer needed\n",
    "referral_patterns.drop(columns=[\"total_referrals\"], inplace=True)\n",
    "\n",
    "# Display or use the referral_patterns dataframe with the calculated percentage\n",
    "referral_patterns\n"
   ]
  },
  {
   "cell_type": "code",
   "execution_count": 34,
   "id": "68e76455",
   "metadata": {},
   "outputs": [],
   "source": [
    "# # Pivot the dataframe to have provider names as columns and referral_percentage as values\n",
    "# pivot_df = referral_patterns.pivot(index=\"classification\", columns=\"provider_name\", values=\"referral_percentage\")\n",
    "\n",
    "# # Plot a stacked bar plot\n",
    "# pivot_df.plot(kind=\"bar\", stacked=True, figsize=(10, 6))\n",
    "# plt.title(\"Referral Percentage by Provider and Classification\")\n",
    "# plt.xlabel(\"Classification\")\n",
    "# plt.ylabel(\"Referral Percentage\")\n",
    "# plt.legend(title=\"Provider\", bbox_to_anchor=(1.05, 1), loc='upper left')\n",
    "# plt.xticks(rotation=90)\n",
    "# plt.show()"
   ]
  },
  {
   "cell_type": "markdown",
   "id": "faf71945",
   "metadata": {},
   "source": [
    "Goal: \n",
    "Pull a subset of top providers and classifications from each DataFrame and create a visual of referrals. \n",
    "\n",
    "Note: \n",
    "- top_give_referrals comes from **nashnpi_from_npi** DataFrame.\n",
    "- top_give_referrals comes from **nashnpi_to_npi** DataFrame."
   ]
  },
  {
   "cell_type": "code",
   "execution_count": 35,
   "id": "2be7f446",
   "metadata": {},
   "outputs": [
    {
     "name": "stdout",
     "output_type": "stream",
     "text": [
      "['VANDERBILT UNIVERSITY MEDICAL CENTER', 'TENNESSEE ONCOLOGY PLLC', 'ASSOCIATED PATHOLOGISTS, LLC', 'PATHGROUP LABS, LLC', 'SAINT THOMAS MEDICAL PARTNERS', 'ADVANCED DIAGNOSTIC IMAGING, PC', 'ASSOCIATED PATHOLOGISTS LLC', 'VERUS HEALTHCARE, LLC', 'AEGIS SCIENCES CORPORATION', 'RADIOLOGY ALLIANCE PC', 'HCA HEALTH SERVICES OF TENNESSEE, INC.', 'DEREK WELCH', 'ANESTHESIA MEDICAL GROUP, PC', 'WELLNESS SOLUTIONS GERIATRICS, PLLC', 'NEPHROLOGY ASSOCIATES, PC', 'CENTENNIAL HEART LLC', 'SAINT THOMAS WEST HOSPITAL', 'DCI LABORATORY LLC', 'ANESTHESIA SERVICES ASSOCIATES PLLC', 'HERITAGE MEDICAL ASSOCIATES PC']\n",
      "------------------\n",
      "['VANDERBILT UNIVERSITY MEDICAL CENTER', 'ASSOCIATED PATHOLOGISTS, LLC', 'TENNESSEE ONCOLOGY PLLC', 'PATHGROUP LABS, LLC', 'ASSOCIATED PATHOLOGISTS LLC', 'ADVANCED DIAGNOSTIC IMAGING, PC', 'SAINT THOMAS MEDICAL PARTNERS', 'RADIOLOGY ALLIANCE PC', 'AEGIS SCIENCES CORPORATION', 'VERUS HEALTHCARE, LLC', 'DEREK WELCH', 'HCA HEALTH SERVICES OF TENNESSEE, INC.', 'CENTENNIAL HEART LLC', 'ANESTHESIA MEDICAL GROUP, PC', 'NEPHROLOGY ASSOCIATES, PC', 'SAINT THOMAS WEST HOSPITAL', 'WELLNESS SOLUTIONS GERIATRICS, PLLC', 'DCI LABORATORY LLC', 'HERITAGE MEDICAL ASSOCIATES PC', 'TENNESSEE ORTHOPAEDIC ALLIANCE PA']\n"
     ]
    }
   ],
   "source": [
    "# top_give_referrals.sort_values(by = \"count\", ascending = False).head(20)\n",
    "top_20_providers_receive = top_receive_referrals.sort_values(by='count', ascending=False)['provider_name'].head(20).tolist()\n",
    "top_20_providers_give = top_give_referrals.sort_values(by='count', ascending=False)['provider_name'].head(20).tolist()\n",
    "\n",
    "print(top_20_providers_receive)\n",
    "print('------------------')\n",
    "print(top_20_providers_give)"
   ]
  },
  {
   "cell_type": "code",
   "execution_count": 36,
   "id": "99c9d1c0",
   "metadata": {
    "scrolled": true
   },
   "outputs": [],
   "source": [
    "# # Filter referral_patterns DataFrame to include only the top 20 providers\n",
    "# referral_patterns_top_20 = referral_patterns[referral_patterns[\"provider_name\"].isin(top_20_providers_receive)]\n",
    "\n",
    "# # Pivot the filtered dataframe to have provider names as columns and referral_percentage as values\n",
    "# pivot_df_top_20_from = referral_patterns_top_20.pivot(index=\"classification\", columns=\"provider_name\", values=\"referral_percentage\")\n",
    "\n",
    "# # Plot a stacked bar plot for the filtered data\n",
    "# pivot_df_top_20_from.plot(kind=\"bar\", stacked=True, figsize=(10, 6))\n",
    "# plt.title(\"Referral Percentage by Provider and Classification (Top 20 Providers That Receive Referrals)\")\n",
    "# plt.xlabel(\"Classification\")\n",
    "# plt.ylabel(\"Referral Percentage\")\n",
    "# plt.legend(title=\"Provider\", bbox_to_anchor=(1.05, 1), loc='upper left')\n",
    "# plt.xticks(rotation=90)\n",
    "# plt.show()\n"
   ]
  },
  {
   "cell_type": "markdown",
   "id": "06c44226",
   "metadata": {},
   "source": [
    "**Using the entity_type_code column, visualize how many referrals comes from businesses (2.0) or from individual entities (1.0).**"
   ]
  },
  {
   "cell_type": "code",
   "execution_count": 264,
   "id": "6f3988d7",
   "metadata": {
    "scrolled": true
   },
   "outputs": [
    {
     "data": {
      "text/html": [
       "<div>\n",
       "<style scoped>\n",
       "    .dataframe tbody tr th:only-of-type {\n",
       "        vertical-align: middle;\n",
       "    }\n",
       "\n",
       "    .dataframe tbody tr th {\n",
       "        vertical-align: top;\n",
       "    }\n",
       "\n",
       "    .dataframe thead th {\n",
       "        text-align: right;\n",
       "    }\n",
       "</style>\n",
       "<table border=\"1\" class=\"dataframe\">\n",
       "  <thead>\n",
       "    <tr style=\"text-align: right;\">\n",
       "      <th></th>\n",
       "      <th>classification</th>\n",
       "      <th>entity_type_code</th>\n",
       "      <th>referral_count</th>\n",
       "    </tr>\n",
       "  </thead>\n",
       "  <tbody>\n",
       "    <tr>\n",
       "      <th>50</th>\n",
       "      <td>Internal Medicine</td>\n",
       "      <td>1.0</td>\n",
       "      <td>33100</td>\n",
       "    </tr>\n",
       "    <tr>\n",
       "      <th>51</th>\n",
       "      <td>Internal Medicine</td>\n",
       "      <td>2.0</td>\n",
       "      <td>28345</td>\n",
       "    </tr>\n",
       "    <tr>\n",
       "      <th>112</th>\n",
       "      <td>Radiology</td>\n",
       "      <td>1.0</td>\n",
       "      <td>27801</td>\n",
       "    </tr>\n",
       "    <tr>\n",
       "      <th>16</th>\n",
       "      <td>Clinical Medical Laboratory</td>\n",
       "      <td>2.0</td>\n",
       "      <td>14596</td>\n",
       "    </tr>\n",
       "    <tr>\n",
       "      <th>40</th>\n",
       "      <td>General Acute Care Hospital</td>\n",
       "      <td>2.0</td>\n",
       "      <td>13796</td>\n",
       "    </tr>\n",
       "    <tr>\n",
       "      <th>65</th>\n",
       "      <td>Nurse Practitioner</td>\n",
       "      <td>1.0</td>\n",
       "      <td>9836</td>\n",
       "    </tr>\n",
       "    <tr>\n",
       "      <th>84</th>\n",
       "      <td>Pathology</td>\n",
       "      <td>1.0</td>\n",
       "      <td>7487</td>\n",
       "    </tr>\n",
       "    <tr>\n",
       "      <th>85</th>\n",
       "      <td>Pathology</td>\n",
       "      <td>2.0</td>\n",
       "      <td>7015</td>\n",
       "    </tr>\n",
       "    <tr>\n",
       "      <th>33</th>\n",
       "      <td>Durable Medical Equipment &amp; Medical Supplies</td>\n",
       "      <td>2.0</td>\n",
       "      <td>7013</td>\n",
       "    </tr>\n",
       "    <tr>\n",
       "      <th>113</th>\n",
       "      <td>Radiology</td>\n",
       "      <td>2.0</td>\n",
       "      <td>6681</td>\n",
       "    </tr>\n",
       "    <tr>\n",
       "      <th>38</th>\n",
       "      <td>Family Medicine</td>\n",
       "      <td>1.0</td>\n",
       "      <td>6487</td>\n",
       "    </tr>\n",
       "    <tr>\n",
       "      <th>126</th>\n",
       "      <td>Specialist</td>\n",
       "      <td>2.0</td>\n",
       "      <td>5053</td>\n",
       "    </tr>\n",
       "    <tr>\n",
       "      <th>34</th>\n",
       "      <td>Emergency Medicine</td>\n",
       "      <td>1.0</td>\n",
       "      <td>4958</td>\n",
       "    </tr>\n",
       "    <tr>\n",
       "      <th>35</th>\n",
       "      <td>Emergency Medicine</td>\n",
       "      <td>2.0</td>\n",
       "      <td>4731</td>\n",
       "    </tr>\n",
       "    <tr>\n",
       "      <th>6</th>\n",
       "      <td>Anesthesiology</td>\n",
       "      <td>2.0</td>\n",
       "      <td>4259</td>\n",
       "    </tr>\n",
       "    <tr>\n",
       "      <th>39</th>\n",
       "      <td>Family Medicine</td>\n",
       "      <td>2.0</td>\n",
       "      <td>3982</td>\n",
       "    </tr>\n",
       "    <tr>\n",
       "      <th>15</th>\n",
       "      <td>Clinic/Center</td>\n",
       "      <td>2.0</td>\n",
       "      <td>3758</td>\n",
       "    </tr>\n",
       "    <tr>\n",
       "      <th>3</th>\n",
       "      <td>Ambulance</td>\n",
       "      <td>2.0</td>\n",
       "      <td>3753</td>\n",
       "    </tr>\n",
       "    <tr>\n",
       "      <th>63</th>\n",
       "      <td>Nurse Anesthetist, Certified Registered</td>\n",
       "      <td>1.0</td>\n",
       "      <td>3492</td>\n",
       "    </tr>\n",
       "    <tr>\n",
       "      <th>5</th>\n",
       "      <td>Anesthesiology</td>\n",
       "      <td>1.0</td>\n",
       "      <td>2731</td>\n",
       "    </tr>\n",
       "  </tbody>\n",
       "</table>\n",
       "</div>"
      ],
      "text/plain": [
       "                                   classification  entity_type_code  \\\n",
       "50                              Internal Medicine               1.0   \n",
       "51                              Internal Medicine               2.0   \n",
       "112                                     Radiology               1.0   \n",
       "16                    Clinical Medical Laboratory               2.0   \n",
       "40                    General Acute Care Hospital               2.0   \n",
       "65                             Nurse Practitioner               1.0   \n",
       "84                                      Pathology               1.0   \n",
       "85                                      Pathology               2.0   \n",
       "33   Durable Medical Equipment & Medical Supplies               2.0   \n",
       "113                                     Radiology               2.0   \n",
       "38                                Family Medicine               1.0   \n",
       "126                                    Specialist               2.0   \n",
       "34                             Emergency Medicine               1.0   \n",
       "35                             Emergency Medicine               2.0   \n",
       "6                                  Anesthesiology               2.0   \n",
       "39                                Family Medicine               2.0   \n",
       "15                                  Clinic/Center               2.0   \n",
       "3                                       Ambulance               2.0   \n",
       "63        Nurse Anesthetist, Certified Registered               1.0   \n",
       "5                                  Anesthesiology               1.0   \n",
       "\n",
       "     referral_count  \n",
       "50            33100  \n",
       "51            28345  \n",
       "112           27801  \n",
       "16            14596  \n",
       "40            13796  \n",
       "65             9836  \n",
       "84             7487  \n",
       "85             7015  \n",
       "33             7013  \n",
       "113            6681  \n",
       "38             6487  \n",
       "126            5053  \n",
       "34             4958  \n",
       "35             4731  \n",
       "6              4259  \n",
       "39             3982  \n",
       "15             3758  \n",
       "3              3753  \n",
       "63             3492  \n",
       "5              2731  "
      ]
     },
     "execution_count": 264,
     "metadata": {},
     "output_type": "execute_result"
    }
   ],
   "source": [
    "type_referrals_from = nashnpi_from_npi.groupby([\"classification\", \"entity_type_code\"]).size().reset_index(name = \"referral_count\")\n",
    "type_referrals_from.sort_values(by = \"referral_count\", ascending = False).head(20)"
   ]
  },
  {
   "cell_type": "code",
   "execution_count": 267,
   "id": "a5865566",
   "metadata": {},
   "outputs": [
    {
     "data": {
      "text/html": [
       "<div>\n",
       "<style scoped>\n",
       "    .dataframe tbody tr th:only-of-type {\n",
       "        vertical-align: middle;\n",
       "    }\n",
       "\n",
       "    .dataframe tbody tr th {\n",
       "        vertical-align: top;\n",
       "    }\n",
       "\n",
       "    .dataframe thead th {\n",
       "        text-align: right;\n",
       "    }\n",
       "</style>\n",
       "<table border=\"1\" class=\"dataframe\">\n",
       "  <thead>\n",
       "    <tr style=\"text-align: right;\">\n",
       "      <th></th>\n",
       "      <th>classification</th>\n",
       "      <th>entity_type_code</th>\n",
       "      <th>referral_count</th>\n",
       "    </tr>\n",
       "  </thead>\n",
       "  <tbody>\n",
       "    <tr>\n",
       "      <th>50</th>\n",
       "      <td>Internal Medicine</td>\n",
       "      <td>1.0</td>\n",
       "      <td>33100</td>\n",
       "    </tr>\n",
       "    <tr>\n",
       "      <th>51</th>\n",
       "      <td>Internal Medicine</td>\n",
       "      <td>2.0</td>\n",
       "      <td>28345</td>\n",
       "    </tr>\n",
       "    <tr>\n",
       "      <th>112</th>\n",
       "      <td>Radiology</td>\n",
       "      <td>1.0</td>\n",
       "      <td>27801</td>\n",
       "    </tr>\n",
       "    <tr>\n",
       "      <th>16</th>\n",
       "      <td>Clinical Medical Laboratory</td>\n",
       "      <td>2.0</td>\n",
       "      <td>14596</td>\n",
       "    </tr>\n",
       "    <tr>\n",
       "      <th>40</th>\n",
       "      <td>General Acute Care Hospital</td>\n",
       "      <td>2.0</td>\n",
       "      <td>13796</td>\n",
       "    </tr>\n",
       "    <tr>\n",
       "      <th>65</th>\n",
       "      <td>Nurse Practitioner</td>\n",
       "      <td>1.0</td>\n",
       "      <td>9836</td>\n",
       "    </tr>\n",
       "    <tr>\n",
       "      <th>84</th>\n",
       "      <td>Pathology</td>\n",
       "      <td>1.0</td>\n",
       "      <td>7487</td>\n",
       "    </tr>\n",
       "    <tr>\n",
       "      <th>85</th>\n",
       "      <td>Pathology</td>\n",
       "      <td>2.0</td>\n",
       "      <td>7015</td>\n",
       "    </tr>\n",
       "    <tr>\n",
       "      <th>33</th>\n",
       "      <td>Durable Medical Equipment &amp; Medical Supplies</td>\n",
       "      <td>2.0</td>\n",
       "      <td>7013</td>\n",
       "    </tr>\n",
       "    <tr>\n",
       "      <th>113</th>\n",
       "      <td>Radiology</td>\n",
       "      <td>2.0</td>\n",
       "      <td>6681</td>\n",
       "    </tr>\n",
       "    <tr>\n",
       "      <th>38</th>\n",
       "      <td>Family Medicine</td>\n",
       "      <td>1.0</td>\n",
       "      <td>6487</td>\n",
       "    </tr>\n",
       "    <tr>\n",
       "      <th>126</th>\n",
       "      <td>Specialist</td>\n",
       "      <td>2.0</td>\n",
       "      <td>5053</td>\n",
       "    </tr>\n",
       "    <tr>\n",
       "      <th>34</th>\n",
       "      <td>Emergency Medicine</td>\n",
       "      <td>1.0</td>\n",
       "      <td>4958</td>\n",
       "    </tr>\n",
       "    <tr>\n",
       "      <th>35</th>\n",
       "      <td>Emergency Medicine</td>\n",
       "      <td>2.0</td>\n",
       "      <td>4731</td>\n",
       "    </tr>\n",
       "    <tr>\n",
       "      <th>6</th>\n",
       "      <td>Anesthesiology</td>\n",
       "      <td>2.0</td>\n",
       "      <td>4259</td>\n",
       "    </tr>\n",
       "    <tr>\n",
       "      <th>39</th>\n",
       "      <td>Family Medicine</td>\n",
       "      <td>2.0</td>\n",
       "      <td>3982</td>\n",
       "    </tr>\n",
       "    <tr>\n",
       "      <th>15</th>\n",
       "      <td>Clinic/Center</td>\n",
       "      <td>2.0</td>\n",
       "      <td>3758</td>\n",
       "    </tr>\n",
       "    <tr>\n",
       "      <th>3</th>\n",
       "      <td>Ambulance</td>\n",
       "      <td>2.0</td>\n",
       "      <td>3753</td>\n",
       "    </tr>\n",
       "    <tr>\n",
       "      <th>63</th>\n",
       "      <td>Nurse Anesthetist, Certified Registered</td>\n",
       "      <td>1.0</td>\n",
       "      <td>3492</td>\n",
       "    </tr>\n",
       "    <tr>\n",
       "      <th>5</th>\n",
       "      <td>Anesthesiology</td>\n",
       "      <td>1.0</td>\n",
       "      <td>2731</td>\n",
       "    </tr>\n",
       "  </tbody>\n",
       "</table>\n",
       "</div>"
      ],
      "text/plain": [
       "                                   classification  entity_type_code  \\\n",
       "50                              Internal Medicine               1.0   \n",
       "51                              Internal Medicine               2.0   \n",
       "112                                     Radiology               1.0   \n",
       "16                    Clinical Medical Laboratory               2.0   \n",
       "40                    General Acute Care Hospital               2.0   \n",
       "65                             Nurse Practitioner               1.0   \n",
       "84                                      Pathology               1.0   \n",
       "85                                      Pathology               2.0   \n",
       "33   Durable Medical Equipment & Medical Supplies               2.0   \n",
       "113                                     Radiology               2.0   \n",
       "38                                Family Medicine               1.0   \n",
       "126                                    Specialist               2.0   \n",
       "34                             Emergency Medicine               1.0   \n",
       "35                             Emergency Medicine               2.0   \n",
       "6                                  Anesthesiology               2.0   \n",
       "39                                Family Medicine               2.0   \n",
       "15                                  Clinic/Center               2.0   \n",
       "3                                       Ambulance               2.0   \n",
       "63        Nurse Anesthetist, Certified Registered               1.0   \n",
       "5                                  Anesthesiology               1.0   \n",
       "\n",
       "     referral_count  \n",
       "50            33100  \n",
       "51            28345  \n",
       "112           27801  \n",
       "16            14596  \n",
       "40            13796  \n",
       "65             9836  \n",
       "84             7487  \n",
       "85             7015  \n",
       "33             7013  \n",
       "113            6681  \n",
       "38             6487  \n",
       "126            5053  \n",
       "34             4958  \n",
       "35             4731  \n",
       "6              4259  \n",
       "39             3982  \n",
       "15             3758  \n",
       "3              3753  \n",
       "63             3492  \n",
       "5              2731  "
      ]
     },
     "execution_count": 267,
     "metadata": {},
     "output_type": "execute_result"
    }
   ],
   "source": [
    "top20_classifications = [\n",
    "    \n",
    "]"
   ]
  },
  {
   "cell_type": "markdown",
   "id": "bf96235f",
   "metadata": {},
   "source": [
    "For those providers with more than 1,000 referrals. Who did they refer to the most? \n",
    "- Look at the from_npi DataFrame (nashnpi_from_npi). \n",
    "- How often did they refer within their hospital or business? "
   ]
  },
  {
   "cell_type": "markdown",
   "id": "fd991468",
   "metadata": {},
   "source": [
    "Questions:\n",
    "- How often do providers do an in-referral? \n",
    "    - Create a column signifying if a provider did an in-referral or not. \n",
    "    - Look at the from_npi DataFrame (nashnpi_from_npi). \n",
    "- For those providers, which specializations get an in-referral the most? "
   ]
  },
  {
   "cell_type": "code",
   "execution_count": 46,
   "id": "133952a1",
   "metadata": {
    "scrolled": true
   },
   "outputs": [
    {
     "data": {
      "text/html": [
       "<div>\n",
       "<style scoped>\n",
       "    .dataframe tbody tr th:only-of-type {\n",
       "        vertical-align: middle;\n",
       "    }\n",
       "\n",
       "    .dataframe tbody tr th {\n",
       "        vertical-align: top;\n",
       "    }\n",
       "\n",
       "    .dataframe thead th {\n",
       "        text-align: right;\n",
       "    }\n",
       "</style>\n",
       "<table border=\"1\" class=\"dataframe\">\n",
       "  <thead>\n",
       "    <tr style=\"text-align: right;\">\n",
       "      <th></th>\n",
       "      <th>npi</th>\n",
       "      <th>provider_name</th>\n",
       "      <th>classification</th>\n",
       "    </tr>\n",
       "  </thead>\n",
       "  <tbody>\n",
       "    <tr>\n",
       "      <th>0</th>\n",
       "      <td>1013983808</td>\n",
       "      <td>BEVERLY SMITH</td>\n",
       "      <td>Nurse Practitioner</td>\n",
       "    </tr>\n",
       "    <tr>\n",
       "      <th>1</th>\n",
       "      <td>1346216199</td>\n",
       "      <td>STEVEN GERTONSON</td>\n",
       "      <td>Nurse Anesthetist, Certified Registered</td>\n",
       "    </tr>\n",
       "    <tr>\n",
       "      <th>2</th>\n",
       "      <td>1649660085</td>\n",
       "      <td>KALEENA SMITH</td>\n",
       "      <td>Speech-Language Pathologist</td>\n",
       "    </tr>\n",
       "    <tr>\n",
       "      <th>3</th>\n",
       "      <td>1811367980</td>\n",
       "      <td>RENE GRAMLICK</td>\n",
       "      <td>Dietitian, Registered</td>\n",
       "    </tr>\n",
       "    <tr>\n",
       "      <th>4</th>\n",
       "      <td>1760929236</td>\n",
       "      <td>SYDNEY HUFF</td>\n",
       "      <td>Student in an Organized Health Care Education/...</td>\n",
       "    </tr>\n",
       "    <tr>\n",
       "      <th>...</th>\n",
       "      <td>...</td>\n",
       "      <td>...</td>\n",
       "      <td>...</td>\n",
       "    </tr>\n",
       "    <tr>\n",
       "      <th>50819</th>\n",
       "      <td>1740918630</td>\n",
       "      <td>SUMNER PHYSICIAN PRACTICES LLC</td>\n",
       "      <td>Clinic/Center</td>\n",
       "    </tr>\n",
       "    <tr>\n",
       "      <th>50820</th>\n",
       "      <td>1023736394</td>\n",
       "      <td>COMMUNITY TRANSPORT SERVICE LLC</td>\n",
       "      <td>Non-emergency Medical Transport (VAN)</td>\n",
       "    </tr>\n",
       "    <tr>\n",
       "      <th>50821</th>\n",
       "      <td>1831561059</td>\n",
       "      <td>CYNTHIA MONTALBO</td>\n",
       "      <td>Occupational Therapy Assistant</td>\n",
       "    </tr>\n",
       "    <tr>\n",
       "      <th>50822</th>\n",
       "      <td>1558875468</td>\n",
       "      <td>BLUE HERON TRANSPORTATION, LLC</td>\n",
       "      <td>Non-emergency Medical Transport (VAN)</td>\n",
       "    </tr>\n",
       "    <tr>\n",
       "      <th>50823</th>\n",
       "      <td>1730364720</td>\n",
       "      <td>CARMELO SEMBRANO</td>\n",
       "      <td>Physical Therapist</td>\n",
       "    </tr>\n",
       "  </tbody>\n",
       "</table>\n",
       "<p>50824 rows × 3 columns</p>\n",
       "</div>"
      ],
      "text/plain": [
       "              npi                    provider_name  \\\n",
       "0      1013983808                    BEVERLY SMITH   \n",
       "1      1346216199                 STEVEN GERTONSON   \n",
       "2      1649660085                    KALEENA SMITH   \n",
       "3      1811367980                    RENE GRAMLICK   \n",
       "4      1760929236                      SYDNEY HUFF   \n",
       "...           ...                              ...   \n",
       "50819  1740918630   SUMNER PHYSICIAN PRACTICES LLC   \n",
       "50820  1023736394  COMMUNITY TRANSPORT SERVICE LLC   \n",
       "50821  1831561059                 CYNTHIA MONTALBO   \n",
       "50822  1558875468   BLUE HERON TRANSPORTATION, LLC   \n",
       "50823  1730364720                 CARMELO SEMBRANO   \n",
       "\n",
       "                                          classification  \n",
       "0                                     Nurse Practitioner  \n",
       "1                Nurse Anesthetist, Certified Registered  \n",
       "2                            Speech-Language Pathologist  \n",
       "3                                  Dietitian, Registered  \n",
       "4      Student in an Organized Health Care Education/...  \n",
       "...                                                  ...  \n",
       "50819                                      Clinic/Center  \n",
       "50820              Non-emergency Medical Transport (VAN)  \n",
       "50821                     Occupational Therapy Assistant  \n",
       "50822              Non-emergency Medical Transport (VAN)  \n",
       "50823                                 Physical Therapist  \n",
       "\n",
       "[50824 rows x 3 columns]"
      ]
     },
     "execution_count": 46,
     "metadata": {},
     "output_type": "execute_result"
    }
   ],
   "source": [
    "list_of_npis = npi_nash[[\"npi\", \"provider_name\", \"classification\"]]\n",
    "list_of_npis"
   ]
  },
  {
   "cell_type": "code",
   "execution_count": 47,
   "id": "b8910fd2",
   "metadata": {
    "scrolled": false
   },
   "outputs": [
    {
     "data": {
      "text/plain": [
       "242490"
      ]
     },
     "execution_count": 47,
     "metadata": {},
     "output_type": "execute_result"
    }
   ],
   "source": [
    "len(nashnpi_from_npi)"
   ]
  },
  {
   "cell_type": "code",
   "execution_count": 178,
   "id": "54691655",
   "metadata": {
    "scrolled": true
   },
   "outputs": [
    {
     "data": {
      "text/html": [
       "<div>\n",
       "<style scoped>\n",
       "    .dataframe tbody tr th:only-of-type {\n",
       "        vertical-align: middle;\n",
       "    }\n",
       "\n",
       "    .dataframe tbody tr th {\n",
       "        vertical-align: top;\n",
       "    }\n",
       "\n",
       "    .dataframe thead th {\n",
       "        text-align: right;\n",
       "    }\n",
       "</style>\n",
       "<table border=\"1\" class=\"dataframe\">\n",
       "  <thead>\n",
       "    <tr style=\"text-align: right;\">\n",
       "      <th></th>\n",
       "      <th>npi</th>\n",
       "      <th>provider_name</th>\n",
       "      <th>from_npi</th>\n",
       "      <th>to_npi</th>\n",
       "    </tr>\n",
       "  </thead>\n",
       "  <tbody>\n",
       "    <tr>\n",
       "      <th>242488</th>\n",
       "      <td>1053867184</td>\n",
       "      <td>SMITH COUNTY FAMILY MEDICAL LLC</td>\n",
       "      <td>1053867184</td>\n",
       "      <td>1912156696</td>\n",
       "    </tr>\n",
       "    <tr>\n",
       "      <th>242489</th>\n",
       "      <td>1053867184</td>\n",
       "      <td>SMITH COUNTY FAMILY MEDICAL LLC</td>\n",
       "      <td>1053867184</td>\n",
       "      <td>1922319037</td>\n",
       "    </tr>\n",
       "  </tbody>\n",
       "</table>\n",
       "</div>"
      ],
      "text/plain": [
       "               npi                    provider_name    from_npi      to_npi\n",
       "242488  1053867184  SMITH COUNTY FAMILY MEDICAL LLC  1053867184  1912156696\n",
       "242489  1053867184  SMITH COUNTY FAMILY MEDICAL LLC  1053867184  1922319037"
      ]
     },
     "execution_count": 178,
     "metadata": {},
     "output_type": "execute_result"
    }
   ],
   "source": [
    "list_of_from_npis = nashnpi_from_npi[[\"npi\", \"provider_name\", \"from_npi\", \"to_npi\"]]\n",
    "list_of_from_npis.tail(2)"
   ]
  },
  {
   "cell_type": "code",
   "execution_count": 49,
   "id": "c9c62292",
   "metadata": {
    "scrolled": true
   },
   "outputs": [
    {
     "data": {
      "text/html": [
       "<div>\n",
       "<style scoped>\n",
       "    .dataframe tbody tr th:only-of-type {\n",
       "        vertical-align: middle;\n",
       "    }\n",
       "\n",
       "    .dataframe tbody tr th {\n",
       "        vertical-align: top;\n",
       "    }\n",
       "\n",
       "    .dataframe thead th {\n",
       "        text-align: right;\n",
       "    }\n",
       "</style>\n",
       "<table border=\"1\" class=\"dataframe\">\n",
       "  <thead>\n",
       "    <tr style=\"text-align: right;\">\n",
       "      <th></th>\n",
       "      <th>npi</th>\n",
       "      <th>provider_name</th>\n",
       "      <th>from_npi</th>\n",
       "      <th>to_npi</th>\n",
       "    </tr>\n",
       "  </thead>\n",
       "  <tbody>\n",
       "    <tr>\n",
       "      <th>241710</th>\n",
       "      <td>1053867184</td>\n",
       "      <td>SMITH COUNTY FAMILY MEDICAL LLC</td>\n",
       "      <td>1912156696</td>\n",
       "      <td>1053867184</td>\n",
       "    </tr>\n",
       "    <tr>\n",
       "      <th>241711</th>\n",
       "      <td>1053867184</td>\n",
       "      <td>SMITH COUNTY FAMILY MEDICAL LLC</td>\n",
       "      <td>1922319037</td>\n",
       "      <td>1053867184</td>\n",
       "    </tr>\n",
       "  </tbody>\n",
       "</table>\n",
       "</div>"
      ],
      "text/plain": [
       "               npi                    provider_name    from_npi      to_npi\n",
       "241710  1053867184  SMITH COUNTY FAMILY MEDICAL LLC  1912156696  1053867184\n",
       "241711  1053867184  SMITH COUNTY FAMILY MEDICAL LLC  1922319037  1053867184"
      ]
     },
     "execution_count": 49,
     "metadata": {},
     "output_type": "execute_result"
    }
   ],
   "source": [
    "list_of_to_npis = nashnpi_to_npi[[\"npi\", \"provider_name\", \"from_npi\", \"to_npi\"]]\n",
    "list_of_to_npis.tail(2)"
   ]
  },
  {
   "cell_type": "code",
   "execution_count": 186,
   "id": "cf7388f6",
   "metadata": {
    "scrolled": true
   },
   "outputs": [
    {
     "data": {
      "text/html": [
       "<div>\n",
       "<style scoped>\n",
       "    .dataframe tbody tr th:only-of-type {\n",
       "        vertical-align: middle;\n",
       "    }\n",
       "\n",
       "    .dataframe tbody tr th {\n",
       "        vertical-align: top;\n",
       "    }\n",
       "\n",
       "    .dataframe thead th {\n",
       "        text-align: right;\n",
       "    }\n",
       "</style>\n",
       "<table border=\"1\" class=\"dataframe\">\n",
       "  <thead>\n",
       "    <tr style=\"text-align: right;\">\n",
       "      <th></th>\n",
       "      <th>provider_from_npi</th>\n",
       "      <th>provider_from_name</th>\n",
       "      <th>npi</th>\n",
       "      <th>transaction_count</th>\n",
       "      <th>classification_from_provider</th>\n",
       "      <th>provider_to_name</th>\n",
       "      <th>classification_to_provider</th>\n",
       "    </tr>\n",
       "  </thead>\n",
       "  <tbody>\n",
       "    <tr>\n",
       "      <th>242485</th>\n",
       "      <td>1669872735</td>\n",
       "      <td>RIVERVIEW PHYSICIAN PRACTICES, LLC</td>\n",
       "      <td>1972648319</td>\n",
       "      <td>50</td>\n",
       "      <td>Nurse Practitioner</td>\n",
       "      <td>NaN</td>\n",
       "      <td>NaN</td>\n",
       "    </tr>\n",
       "    <tr>\n",
       "      <th>242486</th>\n",
       "      <td>1053867184</td>\n",
       "      <td>SMITH COUNTY FAMILY MEDICAL LLC</td>\n",
       "      <td>1639541295</td>\n",
       "      <td>83</td>\n",
       "      <td>Nurse Practitioner</td>\n",
       "      <td>NaN</td>\n",
       "      <td>NaN</td>\n",
       "    </tr>\n",
       "    <tr>\n",
       "      <th>242487</th>\n",
       "      <td>1053867184</td>\n",
       "      <td>SMITH COUNTY FAMILY MEDICAL LLC</td>\n",
       "      <td>1861433633</td>\n",
       "      <td>50</td>\n",
       "      <td>Nurse Practitioner</td>\n",
       "      <td>SUMNER RADIOLOGY, PC</td>\n",
       "      <td>Radiology</td>\n",
       "    </tr>\n",
       "    <tr>\n",
       "      <th>242488</th>\n",
       "      <td>1053867184</td>\n",
       "      <td>SMITH COUNTY FAMILY MEDICAL LLC</td>\n",
       "      <td>1912156696</td>\n",
       "      <td>428</td>\n",
       "      <td>Nurse Practitioner</td>\n",
       "      <td>KIMBERLY GREGORY</td>\n",
       "      <td>Nurse Practitioner</td>\n",
       "    </tr>\n",
       "    <tr>\n",
       "      <th>242489</th>\n",
       "      <td>1053867184</td>\n",
       "      <td>SMITH COUNTY FAMILY MEDICAL LLC</td>\n",
       "      <td>1922319037</td>\n",
       "      <td>75</td>\n",
       "      <td>Nurse Practitioner</td>\n",
       "      <td>RIVERVIEW MEDICAL CENTER LLC</td>\n",
       "      <td>General Acute Care Hospital</td>\n",
       "    </tr>\n",
       "  </tbody>\n",
       "</table>\n",
       "</div>"
      ],
      "text/plain": [
       "        provider_from_npi                  provider_from_name         npi  \\\n",
       "242485         1669872735  RIVERVIEW PHYSICIAN PRACTICES, LLC  1972648319   \n",
       "242486         1053867184     SMITH COUNTY FAMILY MEDICAL LLC  1639541295   \n",
       "242487         1053867184     SMITH COUNTY FAMILY MEDICAL LLC  1861433633   \n",
       "242488         1053867184     SMITH COUNTY FAMILY MEDICAL LLC  1912156696   \n",
       "242489         1053867184     SMITH COUNTY FAMILY MEDICAL LLC  1922319037   \n",
       "\n",
       "        transaction_count classification_from_provider  \\\n",
       "242485                 50           Nurse Practitioner   \n",
       "242486                 83           Nurse Practitioner   \n",
       "242487                 50           Nurse Practitioner   \n",
       "242488                428           Nurse Practitioner   \n",
       "242489                 75           Nurse Practitioner   \n",
       "\n",
       "                    provider_to_name   classification_to_provider  \n",
       "242485                           NaN                          NaN  \n",
       "242486                           NaN                          NaN  \n",
       "242487          SUMNER RADIOLOGY, PC                    Radiology  \n",
       "242488              KIMBERLY GREGORY           Nurse Practitioner  \n",
       "242489  RIVERVIEW MEDICAL CENTER LLC  General Acute Care Hospital  "
      ]
     },
     "execution_count": 186,
     "metadata": {},
     "output_type": "execute_result"
    }
   ],
   "source": [
    "# Select npi, provider_name (associated name of npi), to_npi, transaction_count, and classification\n",
    "referral_patterns = nashnpi_from_npi[[\"npi\", \"provider_name\", \"to_npi\", \"transaction_count\", \"classification\"]]\n",
    "\n",
    "# Rename columns \n",
    "referral_patterns = referral_patterns.rename(columns = {\"npi\": \"provider_from_npi\", \"provider_name\": \"provider_from_name\", \n",
    "                                                        \"to_npi\": \"npi\", \"classification\": \"classification_from_provider\"})\n",
    "referral_patterns.head(50)\n",
    "# Merge this new df with the list of npis df to see the name of the provider in the to_npi column \n",
    "referral_patterns_merge = referral_patterns.merge(list_of_npis, on=\"npi\", how=\"left\")\n",
    "\n",
    "# # Drop referral_count column and rename the last column \n",
    "referral_patterns_merge = referral_patterns_merge.rename(columns = {\"provider_name\": \"provider_to_name\", \n",
    "                                                                                                    \"classification\": \"classification_to_provider\"})\n",
    "\n",
    "referral_patterns_merge.tail(5)"
   ]
  },
  {
   "cell_type": "code",
   "execution_count": 188,
   "id": "7cb6c568",
   "metadata": {},
   "outputs": [
    {
     "name": "stdout",
     "output_type": "stream",
     "text": [
      "242490\n",
      "242490\n",
      "50824\n"
     ]
    }
   ],
   "source": [
    "print(len(referral_patterns_merge))\n",
    "print(len(nashnpi_from_npi))\n",
    "print(len(npi_nash))"
   ]
  },
  {
   "cell_type": "markdown",
   "id": "3d14d4ba",
   "metadata": {},
   "source": [
    "Goal: For each classification, how much of their transactions were inside Nashville? How much of it was outside of Nashville? "
   ]
  },
  {
   "cell_type": "code",
   "execution_count": 196,
   "id": "19553457",
   "metadata": {},
   "outputs": [
    {
     "data": {
      "application/vnd.plotly.v1+json": {
       "config": {
        "plotlyServerURL": "https://plot.ly"
       },
       "data": [
        {
         "alignmentgroup": "True",
         "hovertemplate": "In_Nashville=True<br>classification_from_provider=%{x}<br>transactions=%{text}<extra></extra>",
         "legendgroup": "True",
         "marker": {
          "color": "#636efa",
          "pattern": {
           "shape": ""
          }
         },
         "name": "True",
         "offsetgroup": "True",
         "orientation": "v",
         "showlegend": true,
         "text": [
          13626196,
          5313807,
          4771540,
          3009253,
          2209117,
          2003307,
          1658086,
          1444557,
          1357286,
          1133311,
          935577,
          706505,
          542796,
          481967,
          458584,
          444141,
          440815,
          422414,
          369942,
          342454,
          302098,
          290030,
          272011,
          247973,
          232174,
          226093,
          208647,
          156391,
          115800,
          113824,
          112681,
          101933,
          90167,
          67788,
          66927,
          60531,
          55773,
          51317,
          51088,
          45776,
          36232,
          32300,
          28451,
          25132,
          17812,
          16881,
          15313,
          14434,
          14388,
          12744,
          11106,
          9440,
          9213,
          8752,
          8435,
          8188,
          7614,
          7132,
          6393,
          5254,
          4698,
          4293,
          4277,
          4026,
          2984,
          2263,
          2238,
          2010,
          1983,
          1532,
          1205,
          1081,
          1057,
          1011,
          778,
          624,
          606,
          553,
          549,
          409,
          405,
          346,
          316,
          279,
          257,
          177,
          168,
          134,
          109
         ],
         "textangle": 0,
         "textfont": {
          "size": 12
         },
         "textposition": "outside",
         "texttemplate": "%{text:.2s}",
         "type": "bar",
         "x": [
          "Internal Medicine",
          "Radiology",
          "General Acute Care Hospital",
          "Pathology",
          "Clinical Medical Laboratory",
          "Family Medicine",
          "Specialist",
          "Nurse Practitioner",
          "Emergency Medicine",
          "Anesthesiology",
          "Orthopaedic Surgery",
          "Clinic/Center",
          "Ambulance",
          "Urology",
          "Ophthalmology",
          "Psychiatry & Neurology",
          "Surgery",
          "Durable Medical Equipment & Medical Supplies",
          "Nurse Anesthetist, Certified Registered",
          "Skilled Nursing Facility",
          "Podiatrist",
          "Hospitalist",
          "Dermatology",
          "Physician Assistant",
          "Physical Therapist",
          "Physical Medicine & Rehabilitation",
          "Pain Medicine",
          "Otolaryngology",
          "Pharmacy",
          "Neurological Surgery",
          "Chiropractor",
          "Home Health",
          "Optometrist",
          "Psychologist",
          "Obstetrics & Gynecology",
          "Psychiatric Unit",
          "Nursing Facility/Intermediate Care Facility",
          "General Practice",
          "Nuclear Medicine",
          "Thoracic Surgery (Cardiothoracic Vascular Surgery)",
          "Allergy & Immunology",
          "Social Worker",
          "Hospice Care, Community Based",
          "Pediatrics",
          "Medicare Defined Swing Bed Unit",
          "Counselor",
          "Special Hospital",
          "Registered Nurse",
          "Long Term Care Hospital",
          "Rehabilitation Unit",
          "Rehabilitation Hospital",
          "Transplant Surgery",
          "Psychiatric Hospital",
          "Clinical Nurse Specialist",
          "Portable X-ray and/or Other Portable Diagnostic Imaging Supplier",
          "Audiologist",
          "Clinical Neuropsychologist",
          "Colon & Rectal Surgery",
          "Occupational Therapist",
          "Plastic Surgery",
          "Student in an Organized Health Care Education/Training Program",
          "Rehabilitation Practitioner",
          "Neuromusculoskeletal Medicine, Sports Medicine",
          "Assisted Living Facility",
          "Audiologist-Hearing Aid Fitter",
          "Preventive Medicine",
          "Legal Medicine",
          "Phlebology",
          "Oral & Maxillofacial Surgery",
          "Prosthetic/Orthotic Supplier",
          "Home Infusion",
          "Physiological Laboratory",
          "Dentist",
          "Residential Treatment Facility, Intellectual and/or Developmental Disabilities",
          "Dietitian, Registered",
          "Licensed Practical Nurse",
          "Eyewear Supplier",
          "Intermediate Care Facility, Intellectual Disabilities",
          "Community Based Residential Treatment Facility, Intellectual and/or Developmental Disabilities",
          "Advanced Practice Midwife",
          "Preferred Provider Organization",
          "Clinical Pharmacology",
          "Anesthesiologist Assistant",
          "Exclusive Provider Organization",
          "Public Health or Welfare",
          "Personal Emergency Response Attendant",
          "Independent Medical Examiner",
          "Medical Genetics",
          "Contractor"
         ],
         "xaxis": "x",
         "y": [
          13626196,
          5313807,
          4771540,
          3009253,
          2209117,
          2003307,
          1658086,
          1444557,
          1357286,
          1133311,
          935577,
          706505,
          542796,
          481967,
          458584,
          444141,
          440815,
          422414,
          369942,
          342454,
          302098,
          290030,
          272011,
          247973,
          232174,
          226093,
          208647,
          156391,
          115800,
          113824,
          112681,
          101933,
          90167,
          67788,
          66927,
          60531,
          55773,
          51317,
          51088,
          45776,
          36232,
          32300,
          28451,
          25132,
          17812,
          16881,
          15313,
          14434,
          14388,
          12744,
          11106,
          9440,
          9213,
          8752,
          8435,
          8188,
          7614,
          7132,
          6393,
          5254,
          4698,
          4293,
          4277,
          4026,
          2984,
          2263,
          2238,
          2010,
          1983,
          1532,
          1205,
          1081,
          1057,
          1011,
          778,
          624,
          606,
          553,
          549,
          409,
          405,
          346,
          316,
          279,
          257,
          177,
          168,
          134,
          109
         ],
         "yaxis": "y"
        },
        {
         "alignmentgroup": "True",
         "hovertemplate": "In_Nashville=False<br>classification_from_provider=%{x}<br>transactions=%{text}<extra></extra>",
         "legendgroup": "False",
         "marker": {
          "color": "#EF553B",
          "pattern": {
           "shape": ""
          }
         },
         "name": "False",
         "offsetgroup": "False",
         "orientation": "v",
         "showlegend": true,
         "text": [
          3337972,
          2810510,
          2682922,
          2298106,
          928509,
          807254,
          733536,
          679577,
          507191,
          426648,
          262477,
          216304,
          201712,
          159248,
          143165,
          142883,
          134191,
          122239,
          120564,
          110717,
          109780,
          99836,
          91224,
          83677,
          82215,
          80082,
          71146,
          63083,
          51695,
          33471,
          30746,
          21897,
          21351,
          20297,
          19197,
          17252,
          16675,
          14937,
          12495,
          11876,
          11462,
          10096,
          9449,
          5908,
          5593,
          4310,
          4229,
          4021,
          3736,
          3409,
          2981,
          2810,
          1997,
          1908,
          1869,
          1685,
          1392,
          1135,
          1129,
          1034,
          546,
          538,
          512,
          500,
          394,
          370,
          296,
          289,
          226,
          220,
          159,
          137,
          135,
          128,
          104,
          92,
          81,
          68,
          62
         ],
         "textangle": 0,
         "textfont": {
          "size": 12
         },
         "textposition": "outside",
         "texttemplate": "%{text:.2s}",
         "type": "bar",
         "x": [
          "Internal Medicine",
          "Clinical Medical Laboratory",
          "Radiology",
          "Pathology",
          "Nurse Practitioner",
          "Emergency Medicine",
          "General Acute Care Hospital",
          "Durable Medical Equipment & Medical Supplies",
          "Family Medicine",
          "Anesthesiology",
          "Specialist",
          "Psychiatry & Neurology",
          "Clinic/Center",
          "Physician Assistant",
          "Nurse Anesthetist, Certified Registered",
          "Physical Therapist",
          "Orthopaedic Surgery",
          "Pain Medicine",
          "Surgery",
          "Ambulance",
          "Hospitalist",
          "General Practice",
          "Urology",
          "Ophthalmology",
          "Skilled Nursing Facility",
          "Dermatology",
          "Psychologist",
          "Podiatrist",
          "Physical Medicine & Rehabilitation",
          "Optometrist",
          "Counselor",
          "Social Worker",
          "Home Health",
          "Otolaryngology",
          "Pharmacy",
          "Allergy & Immunology",
          "Hospice Care, Community Based",
          "Nursing Facility/Intermediate Care Facility",
          "Neurological Surgery",
          "Chiropractor",
          "Thoracic Surgery (Cardiothoracic Vascular Surgery)",
          "Obstetrics & Gynecology",
          "Nuclear Medicine",
          "Physiological Laboratory",
          "Registered Nurse",
          "Medicare Defined Swing Bed Unit",
          "Occupational Therapist",
          "Pediatrics",
          "Psychiatric Unit",
          "Transplant Surgery",
          "Student in an Organized Health Care Education/Training Program",
          "Neuromusculoskeletal Medicine, Sports Medicine",
          "Medical Genetics",
          "Clinical Nurse Specialist",
          "Audiologist",
          "Assisted Living Facility",
          "Preventive Medicine",
          "Rehabilitation Unit",
          "Colon & Rectal Surgery",
          "Special Hospital",
          "Portable X-ray and/or Other Portable Diagnostic Imaging Supplier",
          "Long Term Care Hospital",
          "Psychiatric Hospital",
          "Speech-Language Pathologist",
          "Public Health or Welfare",
          "Legal Medicine",
          "Rehabilitation Hospital",
          "Prosthetic/Orthotic Supplier",
          "Advanced Practice Midwife",
          "Plastic Surgery",
          "Preferred Provider Organization",
          "Community/Behavioral Health",
          "Residential Treatment Facility, Intellectual and/or Developmental Disabilities",
          "Clinical Neuropsychologist",
          "Dietitian, Registered",
          "Intermediate Care Facility, Intellectual Disabilities",
          "Personal Emergency Response Attendant",
          "Home Infusion",
          "Community Based Residential Treatment Facility, Intellectual and/or Developmental Disabilities"
         ],
         "xaxis": "x",
         "y": [
          3337972,
          2810510,
          2682922,
          2298106,
          928509,
          807254,
          733536,
          679577,
          507191,
          426648,
          262477,
          216304,
          201712,
          159248,
          143165,
          142883,
          134191,
          122239,
          120564,
          110717,
          109780,
          99836,
          91224,
          83677,
          82215,
          80082,
          71146,
          63083,
          51695,
          33471,
          30746,
          21897,
          21351,
          20297,
          19197,
          17252,
          16675,
          14937,
          12495,
          11876,
          11462,
          10096,
          9449,
          5908,
          5593,
          4310,
          4229,
          4021,
          3736,
          3409,
          2981,
          2810,
          1997,
          1908,
          1869,
          1685,
          1392,
          1135,
          1129,
          1034,
          546,
          538,
          512,
          500,
          394,
          370,
          296,
          289,
          226,
          220,
          159,
          137,
          135,
          128,
          104,
          92,
          81,
          68,
          62
         ],
         "yaxis": "y"
        }
       ],
       "layout": {
        "barmode": "relative",
        "height": 1000,
        "legend": {
         "title": {
          "text": "In_Nashville"
         },
         "tracegroupgap": 0
        },
        "template": {
         "data": {
          "bar": [
           {
            "error_x": {
             "color": "#2a3f5f"
            },
            "error_y": {
             "color": "#2a3f5f"
            },
            "marker": {
             "line": {
              "color": "#E5ECF6",
              "width": 0.5
             },
             "pattern": {
              "fillmode": "overlay",
              "size": 10,
              "solidity": 0.2
             }
            },
            "type": "bar"
           }
          ],
          "barpolar": [
           {
            "marker": {
             "line": {
              "color": "#E5ECF6",
              "width": 0.5
             },
             "pattern": {
              "fillmode": "overlay",
              "size": 10,
              "solidity": 0.2
             }
            },
            "type": "barpolar"
           }
          ],
          "carpet": [
           {
            "aaxis": {
             "endlinecolor": "#2a3f5f",
             "gridcolor": "white",
             "linecolor": "white",
             "minorgridcolor": "white",
             "startlinecolor": "#2a3f5f"
            },
            "baxis": {
             "endlinecolor": "#2a3f5f",
             "gridcolor": "white",
             "linecolor": "white",
             "minorgridcolor": "white",
             "startlinecolor": "#2a3f5f"
            },
            "type": "carpet"
           }
          ],
          "choropleth": [
           {
            "colorbar": {
             "outlinewidth": 0,
             "ticks": ""
            },
            "type": "choropleth"
           }
          ],
          "contour": [
           {
            "colorbar": {
             "outlinewidth": 0,
             "ticks": ""
            },
            "colorscale": [
             [
              0,
              "#0d0887"
             ],
             [
              0.1111111111111111,
              "#46039f"
             ],
             [
              0.2222222222222222,
              "#7201a8"
             ],
             [
              0.3333333333333333,
              "#9c179e"
             ],
             [
              0.4444444444444444,
              "#bd3786"
             ],
             [
              0.5555555555555556,
              "#d8576b"
             ],
             [
              0.6666666666666666,
              "#ed7953"
             ],
             [
              0.7777777777777778,
              "#fb9f3a"
             ],
             [
              0.8888888888888888,
              "#fdca26"
             ],
             [
              1,
              "#f0f921"
             ]
            ],
            "type": "contour"
           }
          ],
          "contourcarpet": [
           {
            "colorbar": {
             "outlinewidth": 0,
             "ticks": ""
            },
            "type": "contourcarpet"
           }
          ],
          "heatmap": [
           {
            "colorbar": {
             "outlinewidth": 0,
             "ticks": ""
            },
            "colorscale": [
             [
              0,
              "#0d0887"
             ],
             [
              0.1111111111111111,
              "#46039f"
             ],
             [
              0.2222222222222222,
              "#7201a8"
             ],
             [
              0.3333333333333333,
              "#9c179e"
             ],
             [
              0.4444444444444444,
              "#bd3786"
             ],
             [
              0.5555555555555556,
              "#d8576b"
             ],
             [
              0.6666666666666666,
              "#ed7953"
             ],
             [
              0.7777777777777778,
              "#fb9f3a"
             ],
             [
              0.8888888888888888,
              "#fdca26"
             ],
             [
              1,
              "#f0f921"
             ]
            ],
            "type": "heatmap"
           }
          ],
          "heatmapgl": [
           {
            "colorbar": {
             "outlinewidth": 0,
             "ticks": ""
            },
            "colorscale": [
             [
              0,
              "#0d0887"
             ],
             [
              0.1111111111111111,
              "#46039f"
             ],
             [
              0.2222222222222222,
              "#7201a8"
             ],
             [
              0.3333333333333333,
              "#9c179e"
             ],
             [
              0.4444444444444444,
              "#bd3786"
             ],
             [
              0.5555555555555556,
              "#d8576b"
             ],
             [
              0.6666666666666666,
              "#ed7953"
             ],
             [
              0.7777777777777778,
              "#fb9f3a"
             ],
             [
              0.8888888888888888,
              "#fdca26"
             ],
             [
              1,
              "#f0f921"
             ]
            ],
            "type": "heatmapgl"
           }
          ],
          "histogram": [
           {
            "marker": {
             "pattern": {
              "fillmode": "overlay",
              "size": 10,
              "solidity": 0.2
             }
            },
            "type": "histogram"
           }
          ],
          "histogram2d": [
           {
            "colorbar": {
             "outlinewidth": 0,
             "ticks": ""
            },
            "colorscale": [
             [
              0,
              "#0d0887"
             ],
             [
              0.1111111111111111,
              "#46039f"
             ],
             [
              0.2222222222222222,
              "#7201a8"
             ],
             [
              0.3333333333333333,
              "#9c179e"
             ],
             [
              0.4444444444444444,
              "#bd3786"
             ],
             [
              0.5555555555555556,
              "#d8576b"
             ],
             [
              0.6666666666666666,
              "#ed7953"
             ],
             [
              0.7777777777777778,
              "#fb9f3a"
             ],
             [
              0.8888888888888888,
              "#fdca26"
             ],
             [
              1,
              "#f0f921"
             ]
            ],
            "type": "histogram2d"
           }
          ],
          "histogram2dcontour": [
           {
            "colorbar": {
             "outlinewidth": 0,
             "ticks": ""
            },
            "colorscale": [
             [
              0,
              "#0d0887"
             ],
             [
              0.1111111111111111,
              "#46039f"
             ],
             [
              0.2222222222222222,
              "#7201a8"
             ],
             [
              0.3333333333333333,
              "#9c179e"
             ],
             [
              0.4444444444444444,
              "#bd3786"
             ],
             [
              0.5555555555555556,
              "#d8576b"
             ],
             [
              0.6666666666666666,
              "#ed7953"
             ],
             [
              0.7777777777777778,
              "#fb9f3a"
             ],
             [
              0.8888888888888888,
              "#fdca26"
             ],
             [
              1,
              "#f0f921"
             ]
            ],
            "type": "histogram2dcontour"
           }
          ],
          "mesh3d": [
           {
            "colorbar": {
             "outlinewidth": 0,
             "ticks": ""
            },
            "type": "mesh3d"
           }
          ],
          "parcoords": [
           {
            "line": {
             "colorbar": {
              "outlinewidth": 0,
              "ticks": ""
             }
            },
            "type": "parcoords"
           }
          ],
          "pie": [
           {
            "automargin": true,
            "type": "pie"
           }
          ],
          "scatter": [
           {
            "fillpattern": {
             "fillmode": "overlay",
             "size": 10,
             "solidity": 0.2
            },
            "type": "scatter"
           }
          ],
          "scatter3d": [
           {
            "line": {
             "colorbar": {
              "outlinewidth": 0,
              "ticks": ""
             }
            },
            "marker": {
             "colorbar": {
              "outlinewidth": 0,
              "ticks": ""
             }
            },
            "type": "scatter3d"
           }
          ],
          "scattercarpet": [
           {
            "marker": {
             "colorbar": {
              "outlinewidth": 0,
              "ticks": ""
             }
            },
            "type": "scattercarpet"
           }
          ],
          "scattergeo": [
           {
            "marker": {
             "colorbar": {
              "outlinewidth": 0,
              "ticks": ""
             }
            },
            "type": "scattergeo"
           }
          ],
          "scattergl": [
           {
            "marker": {
             "colorbar": {
              "outlinewidth": 0,
              "ticks": ""
             }
            },
            "type": "scattergl"
           }
          ],
          "scattermapbox": [
           {
            "marker": {
             "colorbar": {
              "outlinewidth": 0,
              "ticks": ""
             }
            },
            "type": "scattermapbox"
           }
          ],
          "scatterpolar": [
           {
            "marker": {
             "colorbar": {
              "outlinewidth": 0,
              "ticks": ""
             }
            },
            "type": "scatterpolar"
           }
          ],
          "scatterpolargl": [
           {
            "marker": {
             "colorbar": {
              "outlinewidth": 0,
              "ticks": ""
             }
            },
            "type": "scatterpolargl"
           }
          ],
          "scatterternary": [
           {
            "marker": {
             "colorbar": {
              "outlinewidth": 0,
              "ticks": ""
             }
            },
            "type": "scatterternary"
           }
          ],
          "surface": [
           {
            "colorbar": {
             "outlinewidth": 0,
             "ticks": ""
            },
            "colorscale": [
             [
              0,
              "#0d0887"
             ],
             [
              0.1111111111111111,
              "#46039f"
             ],
             [
              0.2222222222222222,
              "#7201a8"
             ],
             [
              0.3333333333333333,
              "#9c179e"
             ],
             [
              0.4444444444444444,
              "#bd3786"
             ],
             [
              0.5555555555555556,
              "#d8576b"
             ],
             [
              0.6666666666666666,
              "#ed7953"
             ],
             [
              0.7777777777777778,
              "#fb9f3a"
             ],
             [
              0.8888888888888888,
              "#fdca26"
             ],
             [
              1,
              "#f0f921"
             ]
            ],
            "type": "surface"
           }
          ],
          "table": [
           {
            "cells": {
             "fill": {
              "color": "#EBF0F8"
             },
             "line": {
              "color": "white"
             }
            },
            "header": {
             "fill": {
              "color": "#C8D4E3"
             },
             "line": {
              "color": "white"
             }
            },
            "type": "table"
           }
          ]
         },
         "layout": {
          "annotationdefaults": {
           "arrowcolor": "#2a3f5f",
           "arrowhead": 0,
           "arrowwidth": 1
          },
          "autotypenumbers": "strict",
          "coloraxis": {
           "colorbar": {
            "outlinewidth": 0,
            "ticks": ""
           }
          },
          "colorscale": {
           "diverging": [
            [
             0,
             "#8e0152"
            ],
            [
             0.1,
             "#c51b7d"
            ],
            [
             0.2,
             "#de77ae"
            ],
            [
             0.3,
             "#f1b6da"
            ],
            [
             0.4,
             "#fde0ef"
            ],
            [
             0.5,
             "#f7f7f7"
            ],
            [
             0.6,
             "#e6f5d0"
            ],
            [
             0.7,
             "#b8e186"
            ],
            [
             0.8,
             "#7fbc41"
            ],
            [
             0.9,
             "#4d9221"
            ],
            [
             1,
             "#276419"
            ]
           ],
           "sequential": [
            [
             0,
             "#0d0887"
            ],
            [
             0.1111111111111111,
             "#46039f"
            ],
            [
             0.2222222222222222,
             "#7201a8"
            ],
            [
             0.3333333333333333,
             "#9c179e"
            ],
            [
             0.4444444444444444,
             "#bd3786"
            ],
            [
             0.5555555555555556,
             "#d8576b"
            ],
            [
             0.6666666666666666,
             "#ed7953"
            ],
            [
             0.7777777777777778,
             "#fb9f3a"
            ],
            [
             0.8888888888888888,
             "#fdca26"
            ],
            [
             1,
             "#f0f921"
            ]
           ],
           "sequentialminus": [
            [
             0,
             "#0d0887"
            ],
            [
             0.1111111111111111,
             "#46039f"
            ],
            [
             0.2222222222222222,
             "#7201a8"
            ],
            [
             0.3333333333333333,
             "#9c179e"
            ],
            [
             0.4444444444444444,
             "#bd3786"
            ],
            [
             0.5555555555555556,
             "#d8576b"
            ],
            [
             0.6666666666666666,
             "#ed7953"
            ],
            [
             0.7777777777777778,
             "#fb9f3a"
            ],
            [
             0.8888888888888888,
             "#fdca26"
            ],
            [
             1,
             "#f0f921"
            ]
           ]
          },
          "colorway": [
           "#636efa",
           "#EF553B",
           "#00cc96",
           "#ab63fa",
           "#FFA15A",
           "#19d3f3",
           "#FF6692",
           "#B6E880",
           "#FF97FF",
           "#FECB52"
          ],
          "font": {
           "color": "#2a3f5f"
          },
          "geo": {
           "bgcolor": "white",
           "lakecolor": "white",
           "landcolor": "#E5ECF6",
           "showlakes": true,
           "showland": true,
           "subunitcolor": "white"
          },
          "hoverlabel": {
           "align": "left"
          },
          "hovermode": "closest",
          "mapbox": {
           "style": "light"
          },
          "paper_bgcolor": "white",
          "plot_bgcolor": "#E5ECF6",
          "polar": {
           "angularaxis": {
            "gridcolor": "white",
            "linecolor": "white",
            "ticks": ""
           },
           "bgcolor": "#E5ECF6",
           "radialaxis": {
            "gridcolor": "white",
            "linecolor": "white",
            "ticks": ""
           }
          },
          "scene": {
           "xaxis": {
            "backgroundcolor": "#E5ECF6",
            "gridcolor": "white",
            "gridwidth": 2,
            "linecolor": "white",
            "showbackground": true,
            "ticks": "",
            "zerolinecolor": "white"
           },
           "yaxis": {
            "backgroundcolor": "#E5ECF6",
            "gridcolor": "white",
            "gridwidth": 2,
            "linecolor": "white",
            "showbackground": true,
            "ticks": "",
            "zerolinecolor": "white"
           },
           "zaxis": {
            "backgroundcolor": "#E5ECF6",
            "gridcolor": "white",
            "gridwidth": 2,
            "linecolor": "white",
            "showbackground": true,
            "ticks": "",
            "zerolinecolor": "white"
           }
          },
          "shapedefaults": {
           "line": {
            "color": "#2a3f5f"
           }
          },
          "ternary": {
           "aaxis": {
            "gridcolor": "white",
            "linecolor": "white",
            "ticks": ""
           },
           "baxis": {
            "gridcolor": "white",
            "linecolor": "white",
            "ticks": ""
           },
           "bgcolor": "#E5ECF6",
           "caxis": {
            "gridcolor": "white",
            "linecolor": "white",
            "ticks": ""
           }
          },
          "title": {
           "x": 0.05
          },
          "xaxis": {
           "automargin": true,
           "gridcolor": "white",
           "linecolor": "white",
           "ticks": "",
           "title": {
            "standoff": 15
           },
           "zerolinecolor": "white",
           "zerolinewidth": 2
          },
          "yaxis": {
           "automargin": true,
           "gridcolor": "white",
           "linecolor": "white",
           "ticks": "",
           "title": {
            "standoff": 15
           },
           "zerolinecolor": "white",
           "zerolinewidth": 2
          }
         }
        },
        "title": {
         "text": "Referral Transactions by Classification"
        },
        "uniformtext": {
         "minsize": 50
        },
        "width": 1600,
        "xaxis": {
         "anchor": "y",
         "domain": [
          0,
          1
         ],
         "tickangle": -45,
         "title": {
          "text": "classification_from_provider"
         }
        },
        "yaxis": {
         "anchor": "x",
         "domain": [
          0,
          1
         ],
         "title": {
          "text": "transactions"
         }
        }
       }
      },
      "text/html": [
       "<div>                            <div id=\"2c3ea387-b9d3-424a-84db-2f325dfe0210\" class=\"plotly-graph-div\" style=\"height:1000px; width:1600px;\"></div>            <script type=\"text/javascript\">                require([\"plotly\"], function(Plotly) {                    window.PLOTLYENV=window.PLOTLYENV || {};                                    if (document.getElementById(\"2c3ea387-b9d3-424a-84db-2f325dfe0210\")) {                    Plotly.newPlot(                        \"2c3ea387-b9d3-424a-84db-2f325dfe0210\",                        [{\"alignmentgroup\":\"True\",\"hovertemplate\":\"In_Nashville=True<br>classification_from_provider=%{x}<br>transactions=%{text}<extra></extra>\",\"legendgroup\":\"True\",\"marker\":{\"color\":\"#636efa\",\"pattern\":{\"shape\":\"\"}},\"name\":\"True\",\"offsetgroup\":\"True\",\"orientation\":\"v\",\"showlegend\":true,\"text\":[13626196.0,5313807.0,4771540.0,3009253.0,2209117.0,2003307.0,1658086.0,1444557.0,1357286.0,1133311.0,935577.0,706505.0,542796.0,481967.0,458584.0,444141.0,440815.0,422414.0,369942.0,342454.0,302098.0,290030.0,272011.0,247973.0,232174.0,226093.0,208647.0,156391.0,115800.0,113824.0,112681.0,101933.0,90167.0,67788.0,66927.0,60531.0,55773.0,51317.0,51088.0,45776.0,36232.0,32300.0,28451.0,25132.0,17812.0,16881.0,15313.0,14434.0,14388.0,12744.0,11106.0,9440.0,9213.0,8752.0,8435.0,8188.0,7614.0,7132.0,6393.0,5254.0,4698.0,4293.0,4277.0,4026.0,2984.0,2263.0,2238.0,2010.0,1983.0,1532.0,1205.0,1081.0,1057.0,1011.0,778.0,624.0,606.0,553.0,549.0,409.0,405.0,346.0,316.0,279.0,257.0,177.0,168.0,134.0,109.0],\"textposition\":\"outside\",\"x\":[\"Internal Medicine\",\"Radiology\",\"General Acute Care Hospital\",\"Pathology\",\"Clinical Medical Laboratory\",\"Family Medicine\",\"Specialist\",\"Nurse Practitioner\",\"Emergency Medicine\",\"Anesthesiology\",\"Orthopaedic Surgery\",\"Clinic/Center\",\"Ambulance\",\"Urology\",\"Ophthalmology\",\"Psychiatry & Neurology\",\"Surgery\",\"Durable Medical Equipment & Medical Supplies\",\"Nurse Anesthetist, Certified Registered\",\"Skilled Nursing Facility\",\"Podiatrist\",\"Hospitalist\",\"Dermatology\",\"Physician Assistant\",\"Physical Therapist\",\"Physical Medicine & Rehabilitation\",\"Pain Medicine\",\"Otolaryngology\",\"Pharmacy\",\"Neurological Surgery\",\"Chiropractor\",\"Home Health\",\"Optometrist\",\"Psychologist\",\"Obstetrics & Gynecology\",\"Psychiatric Unit\",\"Nursing Facility/Intermediate Care Facility\",\"General Practice\",\"Nuclear Medicine\",\"Thoracic Surgery (Cardiothoracic Vascular Surgery)\",\"Allergy & Immunology\",\"Social Worker\",\"Hospice Care, Community Based\",\"Pediatrics\",\"Medicare Defined Swing Bed Unit\",\"Counselor\",\"Special Hospital\",\"Registered Nurse\",\"Long Term Care Hospital\",\"Rehabilitation Unit\",\"Rehabilitation Hospital\",\"Transplant Surgery\",\"Psychiatric Hospital\",\"Clinical Nurse Specialist\",\"Portable X-ray and/or Other Portable Diagnostic Imaging Supplier\",\"Audiologist\",\"Clinical Neuropsychologist\",\"Colon & Rectal Surgery\",\"Occupational Therapist\",\"Plastic Surgery\",\"Student in an Organized Health Care Education/Training Program\",\"Rehabilitation Practitioner\",\"Neuromusculoskeletal Medicine, Sports Medicine\",\"Assisted Living Facility\",\"Audiologist-Hearing Aid Fitter\",\"Preventive Medicine\",\"Legal Medicine\",\"Phlebology\",\"Oral & Maxillofacial Surgery\",\"Prosthetic/Orthotic Supplier\",\"Home Infusion\",\"Physiological Laboratory\",\"Dentist\",\"Residential Treatment Facility, Intellectual and/or Developmental Disabilities\",\"Dietitian, Registered\",\"Licensed Practical Nurse\",\"Eyewear Supplier\",\"Intermediate Care Facility, Intellectual Disabilities\",\"Community Based Residential Treatment Facility, Intellectual and/or Developmental Disabilities\",\"Advanced Practice Midwife\",\"Preferred Provider Organization\",\"Clinical Pharmacology\",\"Anesthesiologist Assistant\",\"Exclusive Provider Organization\",\"Public Health or Welfare\",\"Personal Emergency Response Attendant\",\"Independent Medical Examiner\",\"Medical Genetics\",\"Contractor\"],\"xaxis\":\"x\",\"y\":[13626196,5313807,4771540,3009253,2209117,2003307,1658086,1444557,1357286,1133311,935577,706505,542796,481967,458584,444141,440815,422414,369942,342454,302098,290030,272011,247973,232174,226093,208647,156391,115800,113824,112681,101933,90167,67788,66927,60531,55773,51317,51088,45776,36232,32300,28451,25132,17812,16881,15313,14434,14388,12744,11106,9440,9213,8752,8435,8188,7614,7132,6393,5254,4698,4293,4277,4026,2984,2263,2238,2010,1983,1532,1205,1081,1057,1011,778,624,606,553,549,409,405,346,316,279,257,177,168,134,109],\"yaxis\":\"y\",\"type\":\"bar\",\"textfont\":{\"size\":12},\"textangle\":0,\"texttemplate\":\"%{text:.2s}\"},{\"alignmentgroup\":\"True\",\"hovertemplate\":\"In_Nashville=False<br>classification_from_provider=%{x}<br>transactions=%{text}<extra></extra>\",\"legendgroup\":\"False\",\"marker\":{\"color\":\"#EF553B\",\"pattern\":{\"shape\":\"\"}},\"name\":\"False\",\"offsetgroup\":\"False\",\"orientation\":\"v\",\"showlegend\":true,\"text\":[3337972.0,2810510.0,2682922.0,2298106.0,928509.0,807254.0,733536.0,679577.0,507191.0,426648.0,262477.0,216304.0,201712.0,159248.0,143165.0,142883.0,134191.0,122239.0,120564.0,110717.0,109780.0,99836.0,91224.0,83677.0,82215.0,80082.0,71146.0,63083.0,51695.0,33471.0,30746.0,21897.0,21351.0,20297.0,19197.0,17252.0,16675.0,14937.0,12495.0,11876.0,11462.0,10096.0,9449.0,5908.0,5593.0,4310.0,4229.0,4021.0,3736.0,3409.0,2981.0,2810.0,1997.0,1908.0,1869.0,1685.0,1392.0,1135.0,1129.0,1034.0,546.0,538.0,512.0,500.0,394.0,370.0,296.0,289.0,226.0,220.0,159.0,137.0,135.0,128.0,104.0,92.0,81.0,68.0,62.0],\"textposition\":\"outside\",\"x\":[\"Internal Medicine\",\"Clinical Medical Laboratory\",\"Radiology\",\"Pathology\",\"Nurse Practitioner\",\"Emergency Medicine\",\"General Acute Care Hospital\",\"Durable Medical Equipment & Medical Supplies\",\"Family Medicine\",\"Anesthesiology\",\"Specialist\",\"Psychiatry & Neurology\",\"Clinic/Center\",\"Physician Assistant\",\"Nurse Anesthetist, Certified Registered\",\"Physical Therapist\",\"Orthopaedic Surgery\",\"Pain Medicine\",\"Surgery\",\"Ambulance\",\"Hospitalist\",\"General Practice\",\"Urology\",\"Ophthalmology\",\"Skilled Nursing Facility\",\"Dermatology\",\"Psychologist\",\"Podiatrist\",\"Physical Medicine & Rehabilitation\",\"Optometrist\",\"Counselor\",\"Social Worker\",\"Home Health\",\"Otolaryngology\",\"Pharmacy\",\"Allergy & Immunology\",\"Hospice Care, Community Based\",\"Nursing Facility/Intermediate Care Facility\",\"Neurological Surgery\",\"Chiropractor\",\"Thoracic Surgery (Cardiothoracic Vascular Surgery)\",\"Obstetrics & Gynecology\",\"Nuclear Medicine\",\"Physiological Laboratory\",\"Registered Nurse\",\"Medicare Defined Swing Bed Unit\",\"Occupational Therapist\",\"Pediatrics\",\"Psychiatric Unit\",\"Transplant Surgery\",\"Student in an Organized Health Care Education/Training Program\",\"Neuromusculoskeletal Medicine, Sports Medicine\",\"Medical Genetics\",\"Clinical Nurse Specialist\",\"Audiologist\",\"Assisted Living Facility\",\"Preventive Medicine\",\"Rehabilitation Unit\",\"Colon & Rectal Surgery\",\"Special Hospital\",\"Portable X-ray and/or Other Portable Diagnostic Imaging Supplier\",\"Long Term Care Hospital\",\"Psychiatric Hospital\",\"Speech-Language Pathologist\",\"Public Health or Welfare\",\"Legal Medicine\",\"Rehabilitation Hospital\",\"Prosthetic/Orthotic Supplier\",\"Advanced Practice Midwife\",\"Plastic Surgery\",\"Preferred Provider Organization\",\"Community/Behavioral Health\",\"Residential Treatment Facility, Intellectual and/or Developmental Disabilities\",\"Clinical Neuropsychologist\",\"Dietitian, Registered\",\"Intermediate Care Facility, Intellectual Disabilities\",\"Personal Emergency Response Attendant\",\"Home Infusion\",\"Community Based Residential Treatment Facility, Intellectual and/or Developmental Disabilities\"],\"xaxis\":\"x\",\"y\":[3337972,2810510,2682922,2298106,928509,807254,733536,679577,507191,426648,262477,216304,201712,159248,143165,142883,134191,122239,120564,110717,109780,99836,91224,83677,82215,80082,71146,63083,51695,33471,30746,21897,21351,20297,19197,17252,16675,14937,12495,11876,11462,10096,9449,5908,5593,4310,4229,4021,3736,3409,2981,2810,1997,1908,1869,1685,1392,1135,1129,1034,546,538,512,500,394,370,296,289,226,220,159,137,135,128,104,92,81,68,62],\"yaxis\":\"y\",\"type\":\"bar\",\"textfont\":{\"size\":12},\"textangle\":0,\"texttemplate\":\"%{text:.2s}\"}],                        {\"template\":{\"data\":{\"histogram2dcontour\":[{\"type\":\"histogram2dcontour\",\"colorbar\":{\"outlinewidth\":0,\"ticks\":\"\"},\"colorscale\":[[0.0,\"#0d0887\"],[0.1111111111111111,\"#46039f\"],[0.2222222222222222,\"#7201a8\"],[0.3333333333333333,\"#9c179e\"],[0.4444444444444444,\"#bd3786\"],[0.5555555555555556,\"#d8576b\"],[0.6666666666666666,\"#ed7953\"],[0.7777777777777778,\"#fb9f3a\"],[0.8888888888888888,\"#fdca26\"],[1.0,\"#f0f921\"]]}],\"choropleth\":[{\"type\":\"choropleth\",\"colorbar\":{\"outlinewidth\":0,\"ticks\":\"\"}}],\"histogram2d\":[{\"type\":\"histogram2d\",\"colorbar\":{\"outlinewidth\":0,\"ticks\":\"\"},\"colorscale\":[[0.0,\"#0d0887\"],[0.1111111111111111,\"#46039f\"],[0.2222222222222222,\"#7201a8\"],[0.3333333333333333,\"#9c179e\"],[0.4444444444444444,\"#bd3786\"],[0.5555555555555556,\"#d8576b\"],[0.6666666666666666,\"#ed7953\"],[0.7777777777777778,\"#fb9f3a\"],[0.8888888888888888,\"#fdca26\"],[1.0,\"#f0f921\"]]}],\"heatmap\":[{\"type\":\"heatmap\",\"colorbar\":{\"outlinewidth\":0,\"ticks\":\"\"},\"colorscale\":[[0.0,\"#0d0887\"],[0.1111111111111111,\"#46039f\"],[0.2222222222222222,\"#7201a8\"],[0.3333333333333333,\"#9c179e\"],[0.4444444444444444,\"#bd3786\"],[0.5555555555555556,\"#d8576b\"],[0.6666666666666666,\"#ed7953\"],[0.7777777777777778,\"#fb9f3a\"],[0.8888888888888888,\"#fdca26\"],[1.0,\"#f0f921\"]]}],\"heatmapgl\":[{\"type\":\"heatmapgl\",\"colorbar\":{\"outlinewidth\":0,\"ticks\":\"\"},\"colorscale\":[[0.0,\"#0d0887\"],[0.1111111111111111,\"#46039f\"],[0.2222222222222222,\"#7201a8\"],[0.3333333333333333,\"#9c179e\"],[0.4444444444444444,\"#bd3786\"],[0.5555555555555556,\"#d8576b\"],[0.6666666666666666,\"#ed7953\"],[0.7777777777777778,\"#fb9f3a\"],[0.8888888888888888,\"#fdca26\"],[1.0,\"#f0f921\"]]}],\"contourcarpet\":[{\"type\":\"contourcarpet\",\"colorbar\":{\"outlinewidth\":0,\"ticks\":\"\"}}],\"contour\":[{\"type\":\"contour\",\"colorbar\":{\"outlinewidth\":0,\"ticks\":\"\"},\"colorscale\":[[0.0,\"#0d0887\"],[0.1111111111111111,\"#46039f\"],[0.2222222222222222,\"#7201a8\"],[0.3333333333333333,\"#9c179e\"],[0.4444444444444444,\"#bd3786\"],[0.5555555555555556,\"#d8576b\"],[0.6666666666666666,\"#ed7953\"],[0.7777777777777778,\"#fb9f3a\"],[0.8888888888888888,\"#fdca26\"],[1.0,\"#f0f921\"]]}],\"surface\":[{\"type\":\"surface\",\"colorbar\":{\"outlinewidth\":0,\"ticks\":\"\"},\"colorscale\":[[0.0,\"#0d0887\"],[0.1111111111111111,\"#46039f\"],[0.2222222222222222,\"#7201a8\"],[0.3333333333333333,\"#9c179e\"],[0.4444444444444444,\"#bd3786\"],[0.5555555555555556,\"#d8576b\"],[0.6666666666666666,\"#ed7953\"],[0.7777777777777778,\"#fb9f3a\"],[0.8888888888888888,\"#fdca26\"],[1.0,\"#f0f921\"]]}],\"mesh3d\":[{\"type\":\"mesh3d\",\"colorbar\":{\"outlinewidth\":0,\"ticks\":\"\"}}],\"scatter\":[{\"fillpattern\":{\"fillmode\":\"overlay\",\"size\":10,\"solidity\":0.2},\"type\":\"scatter\"}],\"parcoords\":[{\"type\":\"parcoords\",\"line\":{\"colorbar\":{\"outlinewidth\":0,\"ticks\":\"\"}}}],\"scatterpolargl\":[{\"type\":\"scatterpolargl\",\"marker\":{\"colorbar\":{\"outlinewidth\":0,\"ticks\":\"\"}}}],\"bar\":[{\"error_x\":{\"color\":\"#2a3f5f\"},\"error_y\":{\"color\":\"#2a3f5f\"},\"marker\":{\"line\":{\"color\":\"#E5ECF6\",\"width\":0.5},\"pattern\":{\"fillmode\":\"overlay\",\"size\":10,\"solidity\":0.2}},\"type\":\"bar\"}],\"scattergeo\":[{\"type\":\"scattergeo\",\"marker\":{\"colorbar\":{\"outlinewidth\":0,\"ticks\":\"\"}}}],\"scatterpolar\":[{\"type\":\"scatterpolar\",\"marker\":{\"colorbar\":{\"outlinewidth\":0,\"ticks\":\"\"}}}],\"histogram\":[{\"marker\":{\"pattern\":{\"fillmode\":\"overlay\",\"size\":10,\"solidity\":0.2}},\"type\":\"histogram\"}],\"scattergl\":[{\"type\":\"scattergl\",\"marker\":{\"colorbar\":{\"outlinewidth\":0,\"ticks\":\"\"}}}],\"scatter3d\":[{\"type\":\"scatter3d\",\"line\":{\"colorbar\":{\"outlinewidth\":0,\"ticks\":\"\"}},\"marker\":{\"colorbar\":{\"outlinewidth\":0,\"ticks\":\"\"}}}],\"scattermapbox\":[{\"type\":\"scattermapbox\",\"marker\":{\"colorbar\":{\"outlinewidth\":0,\"ticks\":\"\"}}}],\"scatterternary\":[{\"type\":\"scatterternary\",\"marker\":{\"colorbar\":{\"outlinewidth\":0,\"ticks\":\"\"}}}],\"scattercarpet\":[{\"type\":\"scattercarpet\",\"marker\":{\"colorbar\":{\"outlinewidth\":0,\"ticks\":\"\"}}}],\"carpet\":[{\"aaxis\":{\"endlinecolor\":\"#2a3f5f\",\"gridcolor\":\"white\",\"linecolor\":\"white\",\"minorgridcolor\":\"white\",\"startlinecolor\":\"#2a3f5f\"},\"baxis\":{\"endlinecolor\":\"#2a3f5f\",\"gridcolor\":\"white\",\"linecolor\":\"white\",\"minorgridcolor\":\"white\",\"startlinecolor\":\"#2a3f5f\"},\"type\":\"carpet\"}],\"table\":[{\"cells\":{\"fill\":{\"color\":\"#EBF0F8\"},\"line\":{\"color\":\"white\"}},\"header\":{\"fill\":{\"color\":\"#C8D4E3\"},\"line\":{\"color\":\"white\"}},\"type\":\"table\"}],\"barpolar\":[{\"marker\":{\"line\":{\"color\":\"#E5ECF6\",\"width\":0.5},\"pattern\":{\"fillmode\":\"overlay\",\"size\":10,\"solidity\":0.2}},\"type\":\"barpolar\"}],\"pie\":[{\"automargin\":true,\"type\":\"pie\"}]},\"layout\":{\"autotypenumbers\":\"strict\",\"colorway\":[\"#636efa\",\"#EF553B\",\"#00cc96\",\"#ab63fa\",\"#FFA15A\",\"#19d3f3\",\"#FF6692\",\"#B6E880\",\"#FF97FF\",\"#FECB52\"],\"font\":{\"color\":\"#2a3f5f\"},\"hovermode\":\"closest\",\"hoverlabel\":{\"align\":\"left\"},\"paper_bgcolor\":\"white\",\"plot_bgcolor\":\"#E5ECF6\",\"polar\":{\"bgcolor\":\"#E5ECF6\",\"angularaxis\":{\"gridcolor\":\"white\",\"linecolor\":\"white\",\"ticks\":\"\"},\"radialaxis\":{\"gridcolor\":\"white\",\"linecolor\":\"white\",\"ticks\":\"\"}},\"ternary\":{\"bgcolor\":\"#E5ECF6\",\"aaxis\":{\"gridcolor\":\"white\",\"linecolor\":\"white\",\"ticks\":\"\"},\"baxis\":{\"gridcolor\":\"white\",\"linecolor\":\"white\",\"ticks\":\"\"},\"caxis\":{\"gridcolor\":\"white\",\"linecolor\":\"white\",\"ticks\":\"\"}},\"coloraxis\":{\"colorbar\":{\"outlinewidth\":0,\"ticks\":\"\"}},\"colorscale\":{\"sequential\":[[0.0,\"#0d0887\"],[0.1111111111111111,\"#46039f\"],[0.2222222222222222,\"#7201a8\"],[0.3333333333333333,\"#9c179e\"],[0.4444444444444444,\"#bd3786\"],[0.5555555555555556,\"#d8576b\"],[0.6666666666666666,\"#ed7953\"],[0.7777777777777778,\"#fb9f3a\"],[0.8888888888888888,\"#fdca26\"],[1.0,\"#f0f921\"]],\"sequentialminus\":[[0.0,\"#0d0887\"],[0.1111111111111111,\"#46039f\"],[0.2222222222222222,\"#7201a8\"],[0.3333333333333333,\"#9c179e\"],[0.4444444444444444,\"#bd3786\"],[0.5555555555555556,\"#d8576b\"],[0.6666666666666666,\"#ed7953\"],[0.7777777777777778,\"#fb9f3a\"],[0.8888888888888888,\"#fdca26\"],[1.0,\"#f0f921\"]],\"diverging\":[[0,\"#8e0152\"],[0.1,\"#c51b7d\"],[0.2,\"#de77ae\"],[0.3,\"#f1b6da\"],[0.4,\"#fde0ef\"],[0.5,\"#f7f7f7\"],[0.6,\"#e6f5d0\"],[0.7,\"#b8e186\"],[0.8,\"#7fbc41\"],[0.9,\"#4d9221\"],[1,\"#276419\"]]},\"xaxis\":{\"gridcolor\":\"white\",\"linecolor\":\"white\",\"ticks\":\"\",\"title\":{\"standoff\":15},\"zerolinecolor\":\"white\",\"automargin\":true,\"zerolinewidth\":2},\"yaxis\":{\"gridcolor\":\"white\",\"linecolor\":\"white\",\"ticks\":\"\",\"title\":{\"standoff\":15},\"zerolinecolor\":\"white\",\"automargin\":true,\"zerolinewidth\":2},\"scene\":{\"xaxis\":{\"backgroundcolor\":\"#E5ECF6\",\"gridcolor\":\"white\",\"linecolor\":\"white\",\"showbackground\":true,\"ticks\":\"\",\"zerolinecolor\":\"white\",\"gridwidth\":2},\"yaxis\":{\"backgroundcolor\":\"#E5ECF6\",\"gridcolor\":\"white\",\"linecolor\":\"white\",\"showbackground\":true,\"ticks\":\"\",\"zerolinecolor\":\"white\",\"gridwidth\":2},\"zaxis\":{\"backgroundcolor\":\"#E5ECF6\",\"gridcolor\":\"white\",\"linecolor\":\"white\",\"showbackground\":true,\"ticks\":\"\",\"zerolinecolor\":\"white\",\"gridwidth\":2}},\"shapedefaults\":{\"line\":{\"color\":\"#2a3f5f\"}},\"annotationdefaults\":{\"arrowcolor\":\"#2a3f5f\",\"arrowhead\":0,\"arrowwidth\":1},\"geo\":{\"bgcolor\":\"white\",\"landcolor\":\"#E5ECF6\",\"subunitcolor\":\"white\",\"showland\":true,\"showlakes\":true,\"lakecolor\":\"white\"},\"title\":{\"x\":0.05},\"mapbox\":{\"style\":\"light\"}}},\"xaxis\":{\"anchor\":\"y\",\"domain\":[0.0,1.0],\"title\":{\"text\":\"classification_from_provider\"},\"tickangle\":-45},\"yaxis\":{\"anchor\":\"x\",\"domain\":[0.0,1.0],\"title\":{\"text\":\"transactions\"}},\"legend\":{\"title\":{\"text\":\"In_Nashville\"},\"tracegroupgap\":0},\"title\":{\"text\":\"Referral Transactions by Classification\"},\"barmode\":\"relative\",\"height\":1000,\"width\":1600,\"uniformtext\":{\"minsize\":50}},                        {\"responsive\": true}                    ).then(function(){\n",
       "                            \n",
       "var gd = document.getElementById('2c3ea387-b9d3-424a-84db-2f325dfe0210');\n",
       "var x = new MutationObserver(function (mutations, observer) {{\n",
       "        var display = window.getComputedStyle(gd).display;\n",
       "        if (!display || display === 'none') {{\n",
       "            console.log([gd, 'removed!']);\n",
       "            Plotly.purge(gd);\n",
       "            observer.disconnect();\n",
       "        }}\n",
       "}});\n",
       "\n",
       "// Listen for the removal of the full notebook cells\n",
       "var notebookContainer = gd.closest('#notebook-container');\n",
       "if (notebookContainer) {{\n",
       "    x.observe(notebookContainer, {childList: true});\n",
       "}}\n",
       "\n",
       "// Listen for the clearing of the current output cell\n",
       "var outputEl = gd.closest('.output');\n",
       "if (outputEl) {{\n",
       "    x.observe(outputEl, {childList: true});\n",
       "}}\n",
       "\n",
       "                        })                };                });            </script>        </div>"
      ]
     },
     "metadata": {},
     "output_type": "display_data"
    }
   ],
   "source": [
    "# Create a new column that identifies if the to_provider is inside Nashville or outside\n",
    "referral_patterns_merge['In_Nashville'] = np.where(pd.isnull(referral_patterns_merge['provider_to_name']), False, True)\n",
    "\n",
    "# Group referral_patterns_merge by classification_from_provider and In_Nashville columns. \n",
    "# Then take the sum of the transaction_count column for each classification and whether it was in Nashville\n",
    "referral_patterns_location = referral_patterns_merge.groupby([\"classification_from_provider\", \"In_Nashville\"])[\"transaction_count\"].sum().reset_index(name=\"transactions\")\n",
    "\n",
    "# Sort the DataFrame by transactions in descending order\n",
    "referral_patterns_location = referral_patterns_location.sort_values(by=\"transactions\", ascending=False)\n",
    "\n",
    "# Group the DataFrame by classification_from_provider and take the top 20 records for each group\n",
    "referral_patterns_location = referral_patterns_location.groupby(\"classification_from_provider\").head(20)\n",
    "\n",
    "# Plot the data\n",
    "fig = px.bar(referral_patterns_location, x=\"classification_from_provider\", y=\"transactions\", \n",
    "             color=\"In_Nashville\", title=\"Referral Transactions by Classification\",\n",
    "             width=1600, height=1000, text = 'transactions')\n",
    "fig.update_traces(texttemplate = '%{text:.2s}', textposition=\"outside\", textangle = 0, textfont_size=12)\n",
    "fig.update_layout(xaxis_tickangle=-45, uniformtext_minsize=50)\n",
    "fig.show()\n"
   ]
  },
  {
   "cell_type": "code",
   "execution_count": 254,
   "id": "0abc4109",
   "metadata": {},
   "outputs": [
    {
     "data": {
      "application/vnd.plotly.v1+json": {
       "config": {
        "plotlyServerURL": "https://plot.ly"
       },
       "data": [
        {
         "alignmentgroup": "True",
         "hovertemplate": "In_Nashville=True<br>classification_from_provider=%{x}<br>referral_count=%{text}<extra></extra>",
         "legendgroup": "True",
         "marker": {
          "color": "#3468C0",
          "pattern": {
           "shape": ""
          }
         },
         "name": "True",
         "offsetgroup": "True",
         "orientation": "v",
         "showlegend": true,
         "text": [
          46166,
          21344,
          10831,
          8083,
          8022,
          6308,
          4938,
          4674,
          4453,
          3610,
          3081,
          2951,
          2917,
          2560,
          2362,
          2263,
          2081,
          1538,
          1511,
          1464,
          1391,
          1350,
          1308,
          1077,
          1045,
          904,
          798,
          743,
          658,
          578,
          518,
          498,
          469,
          446,
          359,
          316,
          295,
          235,
          195,
          192,
          187,
          161,
          147,
          136,
          85,
          84,
          81,
          69,
          67,
          63,
          61,
          61,
          60,
          56,
          45,
          45,
          44,
          42,
          37,
          35,
          35,
          28,
          26,
          22,
          18,
          14,
          13,
          13,
          12,
          12,
          10,
          10,
          9,
          9,
          8,
          6,
          5,
          5,
          4,
          4,
          3,
          3,
          2,
          2,
          2,
          2,
          2,
          1,
          1
         ],
         "textangle": 0,
         "textfont": {
          "size": 12
         },
         "textposition": "outside",
         "texttemplate": "%{text:.2s}",
         "type": "bar",
         "x": [
          "Internal Medicine",
          "Radiology",
          "General Acute Care Hospital",
          "Nurse Practitioner",
          "Family Medicine",
          "Emergency Medicine",
          "Specialist",
          "Anesthesiology",
          "Pathology",
          "Orthopaedic Surgery",
          "Clinic/Center",
          "Ambulance",
          "Nurse Anesthetist, Certified Registered",
          "Durable Medical Equipment & Medical Supplies",
          "Clinical Medical Laboratory",
          "Surgery",
          "Psychiatry & Neurology",
          "Podiatrist",
          "Urology",
          "Physician Assistant",
          "Ophthalmology",
          "Hospitalist",
          "Skilled Nursing Facility",
          "Pharmacy",
          "Physical Medicine & Rehabilitation",
          "Physical Therapist",
          "Home Health",
          "Pain Medicine",
          "Dermatology",
          "Neurological Surgery",
          "Otolaryngology",
          "Optometrist",
          "Chiropractor",
          "Obstetrics & Gynecology",
          "Psychologist",
          "General Practice",
          "Thoracic Surgery (Cardiothoracic Vascular Surgery)",
          "Nuclear Medicine",
          "Allergy & Immunology",
          "Nursing Facility/Intermediate Care Facility",
          "Social Worker",
          "Psychiatric Unit",
          "Hospice Care, Community Based",
          "Pediatrics",
          "Medicare Defined Swing Bed Unit",
          "Rehabilitation Unit",
          "Counselor",
          "Audiologist",
          "Registered Nurse",
          "Clinical Nurse Specialist",
          "Portable X-ray and/or Other Portable Diagnostic Imaging Supplier",
          "Long Term Care Hospital",
          "Special Hospital",
          "Transplant Surgery",
          "Clinical Neuropsychologist",
          "Plastic Surgery",
          "Rehabilitation Hospital",
          "Colon & Rectal Surgery",
          "Psychiatric Hospital",
          "Assisted Living Facility",
          "Occupational Therapist",
          "Neuromusculoskeletal Medicine, Sports Medicine",
          "Student in an Organized Health Care Education/Training Program",
          "Audiologist-Hearing Aid Fitter",
          "Rehabilitation Practitioner",
          "Preventive Medicine",
          "Legal Medicine",
          "Prosthetic/Orthotic Supplier",
          "Dentist",
          "Home Infusion",
          "Residential Treatment Facility, Intellectual and/or Developmental Disabilities",
          "Physiological Laboratory",
          "Oral & Maxillofacial Surgery",
          "Phlebology",
          "Community Based Residential Treatment Facility, Intellectual and/or Developmental Disabilities",
          "Dietitian, Registered",
          "Intermediate Care Facility, Intellectual Disabilities",
          "Advanced Practice Midwife",
          "Anesthesiologist Assistant",
          "Public Health or Welfare",
          "Clinical Pharmacology",
          "Eyewear Supplier",
          "Medical Genetics",
          "Preferred Provider Organization",
          "Exclusive Provider Organization",
          "Licensed Practical Nurse",
          "Independent Medical Examiner",
          "Personal Emergency Response Attendant",
          "Contractor"
         ],
         "xaxis": "x",
         "y": [
          46166,
          21344,
          10831,
          8083,
          8022,
          6308,
          4938,
          4674,
          4453,
          3610,
          3081,
          2951,
          2917,
          2560,
          2362,
          2263,
          2081,
          1538,
          1511,
          1464,
          1391,
          1350,
          1308,
          1077,
          1045,
          904,
          798,
          743,
          658,
          578,
          518,
          498,
          469,
          446,
          359,
          316,
          295,
          235,
          195,
          192,
          187,
          161,
          147,
          136,
          85,
          84,
          81,
          69,
          67,
          63,
          61,
          61,
          60,
          56,
          45,
          45,
          44,
          42,
          37,
          35,
          35,
          28,
          26,
          22,
          18,
          14,
          13,
          13,
          12,
          12,
          10,
          10,
          9,
          9,
          8,
          6,
          5,
          5,
          4,
          4,
          3,
          3,
          2,
          2,
          2,
          2,
          2,
          1,
          1
         ],
         "yaxis": "y"
        },
        {
         "alignmentgroup": "True",
         "hovertemplate": "In_Nashville=False<br>classification_from_provider=%{x}<br>referral_count=%{text}<extra></extra>",
         "legendgroup": "False",
         "marker": {
          "color": "#80BCBD",
          "pattern": {
           "shape": ""
          }
         },
         "name": "False",
         "offsetgroup": "False",
         "orientation": "v",
         "showlegend": true,
         "text": [
          15279,
          13138,
          12234,
          10049,
          4453,
          4443,
          3381,
          2965,
          2447,
          2316,
          1595,
          1134,
          996,
          988,
          868,
          848,
          802,
          715,
          636,
          628,
          535,
          479,
          441,
          424,
          423,
          406,
          387,
          382,
          288,
          271,
          194,
          187,
          186,
          137,
          113,
          96,
          89,
          84,
          83,
          81,
          68,
          64,
          61,
          49,
          38,
          32,
          30,
          27,
          23,
          20,
          19,
          19,
          18,
          17,
          17,
          12,
          11,
          9,
          9,
          5,
          5,
          4,
          4,
          4,
          3,
          3,
          3,
          2,
          2,
          2,
          2,
          2,
          1,
          1,
          1,
          1,
          1,
          1,
          1
         ],
         "textangle": 0,
         "textfont": {
          "size": 12
         },
         "textposition": "outside",
         "texttemplate": "%{text:.2s}",
         "type": "bar",
         "x": [
          "Internal Medicine",
          "Radiology",
          "Clinical Medical Laboratory",
          "Pathology",
          "Durable Medical Equipment & Medical Supplies",
          "Nurse Practitioner",
          "Emergency Medicine",
          "General Acute Care Hospital",
          "Family Medicine",
          "Anesthesiology",
          "Psychiatry & Neurology",
          "Specialist",
          "Physician Assistant",
          "Nurse Anesthetist, Certified Registered",
          "Orthopaedic Surgery",
          "Surgery",
          "Ambulance",
          "Clinic/Center",
          "Hospitalist",
          "Pain Medicine",
          "Ophthalmology",
          "Psychologist",
          "Skilled Nursing Facility",
          "Urology",
          "Dermatology",
          "Physical Therapist",
          "Podiatrist",
          "General Practice",
          "Physical Medicine & Rehabilitation",
          "Optometrist",
          "Home Health",
          "Pharmacy",
          "Counselor",
          "Otolaryngology",
          "Neurological Surgery",
          "Social Worker",
          "Thoracic Surgery (Cardiothoracic Vascular Surgery)",
          "Obstetrics & Gynecology",
          "Hospice Care, Community Based",
          "Chiropractor",
          "Nuclear Medicine",
          "Nursing Facility/Intermediate Care Facility",
          "Allergy & Immunology",
          "Physiological Laboratory",
          "Registered Nurse",
          "Transplant Surgery",
          "Pediatrics",
          "Student in an Organized Health Care Education/Training Program",
          "Occupational Therapist",
          "Neuromusculoskeletal Medicine, Sports Medicine",
          "Medicare Defined Swing Bed Unit",
          "Assisted Living Facility",
          "Audiologist",
          "Clinical Nurse Specialist",
          "Psychiatric Unit",
          "Medical Genetics",
          "Special Hospital",
          "Rehabilitation Unit",
          "Preventive Medicine",
          "Portable X-ray and/or Other Portable Diagnostic Imaging Supplier",
          "Long Term Care Hospital",
          "Psychiatric Hospital",
          "Public Health or Welfare",
          "Speech-Language Pathologist",
          "Prosthetic/Orthotic Supplier",
          "Rehabilitation Hospital",
          "Advanced Practice Midwife",
          "Clinical Neuropsychologist",
          "Preferred Provider Organization",
          "Plastic Surgery",
          "Colon & Rectal Surgery",
          "Legal Medicine",
          "Community Based Residential Treatment Facility, Intellectual and/or Developmental Disabilities",
          "Personal Emergency Response Attendant",
          "Intermediate Care Facility, Intellectual Disabilities",
          "Residential Treatment Facility, Intellectual and/or Developmental Disabilities",
          "Home Infusion",
          "Community/Behavioral Health",
          "Dietitian, Registered"
         ],
         "xaxis": "x",
         "y": [
          15279,
          13138,
          12234,
          10049,
          4453,
          4443,
          3381,
          2965,
          2447,
          2316,
          1595,
          1134,
          996,
          988,
          868,
          848,
          802,
          715,
          636,
          628,
          535,
          479,
          441,
          424,
          423,
          406,
          387,
          382,
          288,
          271,
          194,
          187,
          186,
          137,
          113,
          96,
          89,
          84,
          83,
          81,
          68,
          64,
          61,
          49,
          38,
          32,
          30,
          27,
          23,
          20,
          19,
          19,
          18,
          17,
          17,
          12,
          11,
          9,
          9,
          5,
          5,
          4,
          4,
          4,
          3,
          3,
          3,
          2,
          2,
          2,
          2,
          2,
          1,
          1,
          1,
          1,
          1,
          1,
          1
         ],
         "yaxis": "y"
        }
       ],
       "layout": {
        "barmode": "relative",
        "height": 1000,
        "legend": {
         "title": {
          "text": "In_Nashville"
         },
         "tracegroupgap": 0
        },
        "template": {
         "data": {
          "bar": [
           {
            "error_x": {
             "color": "#2a3f5f"
            },
            "error_y": {
             "color": "#2a3f5f"
            },
            "marker": {
             "line": {
              "color": "#E5ECF6",
              "width": 0.5
             },
             "pattern": {
              "fillmode": "overlay",
              "size": 10,
              "solidity": 0.2
             }
            },
            "type": "bar"
           }
          ],
          "barpolar": [
           {
            "marker": {
             "line": {
              "color": "#E5ECF6",
              "width": 0.5
             },
             "pattern": {
              "fillmode": "overlay",
              "size": 10,
              "solidity": 0.2
             }
            },
            "type": "barpolar"
           }
          ],
          "carpet": [
           {
            "aaxis": {
             "endlinecolor": "#2a3f5f",
             "gridcolor": "white",
             "linecolor": "white",
             "minorgridcolor": "white",
             "startlinecolor": "#2a3f5f"
            },
            "baxis": {
             "endlinecolor": "#2a3f5f",
             "gridcolor": "white",
             "linecolor": "white",
             "minorgridcolor": "white",
             "startlinecolor": "#2a3f5f"
            },
            "type": "carpet"
           }
          ],
          "choropleth": [
           {
            "colorbar": {
             "outlinewidth": 0,
             "ticks": ""
            },
            "type": "choropleth"
           }
          ],
          "contour": [
           {
            "colorbar": {
             "outlinewidth": 0,
             "ticks": ""
            },
            "colorscale": [
             [
              0,
              "#0d0887"
             ],
             [
              0.1111111111111111,
              "#46039f"
             ],
             [
              0.2222222222222222,
              "#7201a8"
             ],
             [
              0.3333333333333333,
              "#9c179e"
             ],
             [
              0.4444444444444444,
              "#bd3786"
             ],
             [
              0.5555555555555556,
              "#d8576b"
             ],
             [
              0.6666666666666666,
              "#ed7953"
             ],
             [
              0.7777777777777778,
              "#fb9f3a"
             ],
             [
              0.8888888888888888,
              "#fdca26"
             ],
             [
              1,
              "#f0f921"
             ]
            ],
            "type": "contour"
           }
          ],
          "contourcarpet": [
           {
            "colorbar": {
             "outlinewidth": 0,
             "ticks": ""
            },
            "type": "contourcarpet"
           }
          ],
          "heatmap": [
           {
            "colorbar": {
             "outlinewidth": 0,
             "ticks": ""
            },
            "colorscale": [
             [
              0,
              "#0d0887"
             ],
             [
              0.1111111111111111,
              "#46039f"
             ],
             [
              0.2222222222222222,
              "#7201a8"
             ],
             [
              0.3333333333333333,
              "#9c179e"
             ],
             [
              0.4444444444444444,
              "#bd3786"
             ],
             [
              0.5555555555555556,
              "#d8576b"
             ],
             [
              0.6666666666666666,
              "#ed7953"
             ],
             [
              0.7777777777777778,
              "#fb9f3a"
             ],
             [
              0.8888888888888888,
              "#fdca26"
             ],
             [
              1,
              "#f0f921"
             ]
            ],
            "type": "heatmap"
           }
          ],
          "heatmapgl": [
           {
            "colorbar": {
             "outlinewidth": 0,
             "ticks": ""
            },
            "colorscale": [
             [
              0,
              "#0d0887"
             ],
             [
              0.1111111111111111,
              "#46039f"
             ],
             [
              0.2222222222222222,
              "#7201a8"
             ],
             [
              0.3333333333333333,
              "#9c179e"
             ],
             [
              0.4444444444444444,
              "#bd3786"
             ],
             [
              0.5555555555555556,
              "#d8576b"
             ],
             [
              0.6666666666666666,
              "#ed7953"
             ],
             [
              0.7777777777777778,
              "#fb9f3a"
             ],
             [
              0.8888888888888888,
              "#fdca26"
             ],
             [
              1,
              "#f0f921"
             ]
            ],
            "type": "heatmapgl"
           }
          ],
          "histogram": [
           {
            "marker": {
             "pattern": {
              "fillmode": "overlay",
              "size": 10,
              "solidity": 0.2
             }
            },
            "type": "histogram"
           }
          ],
          "histogram2d": [
           {
            "colorbar": {
             "outlinewidth": 0,
             "ticks": ""
            },
            "colorscale": [
             [
              0,
              "#0d0887"
             ],
             [
              0.1111111111111111,
              "#46039f"
             ],
             [
              0.2222222222222222,
              "#7201a8"
             ],
             [
              0.3333333333333333,
              "#9c179e"
             ],
             [
              0.4444444444444444,
              "#bd3786"
             ],
             [
              0.5555555555555556,
              "#d8576b"
             ],
             [
              0.6666666666666666,
              "#ed7953"
             ],
             [
              0.7777777777777778,
              "#fb9f3a"
             ],
             [
              0.8888888888888888,
              "#fdca26"
             ],
             [
              1,
              "#f0f921"
             ]
            ],
            "type": "histogram2d"
           }
          ],
          "histogram2dcontour": [
           {
            "colorbar": {
             "outlinewidth": 0,
             "ticks": ""
            },
            "colorscale": [
             [
              0,
              "#0d0887"
             ],
             [
              0.1111111111111111,
              "#46039f"
             ],
             [
              0.2222222222222222,
              "#7201a8"
             ],
             [
              0.3333333333333333,
              "#9c179e"
             ],
             [
              0.4444444444444444,
              "#bd3786"
             ],
             [
              0.5555555555555556,
              "#d8576b"
             ],
             [
              0.6666666666666666,
              "#ed7953"
             ],
             [
              0.7777777777777778,
              "#fb9f3a"
             ],
             [
              0.8888888888888888,
              "#fdca26"
             ],
             [
              1,
              "#f0f921"
             ]
            ],
            "type": "histogram2dcontour"
           }
          ],
          "mesh3d": [
           {
            "colorbar": {
             "outlinewidth": 0,
             "ticks": ""
            },
            "type": "mesh3d"
           }
          ],
          "parcoords": [
           {
            "line": {
             "colorbar": {
              "outlinewidth": 0,
              "ticks": ""
             }
            },
            "type": "parcoords"
           }
          ],
          "pie": [
           {
            "automargin": true,
            "type": "pie"
           }
          ],
          "scatter": [
           {
            "fillpattern": {
             "fillmode": "overlay",
             "size": 10,
             "solidity": 0.2
            },
            "type": "scatter"
           }
          ],
          "scatter3d": [
           {
            "line": {
             "colorbar": {
              "outlinewidth": 0,
              "ticks": ""
             }
            },
            "marker": {
             "colorbar": {
              "outlinewidth": 0,
              "ticks": ""
             }
            },
            "type": "scatter3d"
           }
          ],
          "scattercarpet": [
           {
            "marker": {
             "colorbar": {
              "outlinewidth": 0,
              "ticks": ""
             }
            },
            "type": "scattercarpet"
           }
          ],
          "scattergeo": [
           {
            "marker": {
             "colorbar": {
              "outlinewidth": 0,
              "ticks": ""
             }
            },
            "type": "scattergeo"
           }
          ],
          "scattergl": [
           {
            "marker": {
             "colorbar": {
              "outlinewidth": 0,
              "ticks": ""
             }
            },
            "type": "scattergl"
           }
          ],
          "scattermapbox": [
           {
            "marker": {
             "colorbar": {
              "outlinewidth": 0,
              "ticks": ""
             }
            },
            "type": "scattermapbox"
           }
          ],
          "scatterpolar": [
           {
            "marker": {
             "colorbar": {
              "outlinewidth": 0,
              "ticks": ""
             }
            },
            "type": "scatterpolar"
           }
          ],
          "scatterpolargl": [
           {
            "marker": {
             "colorbar": {
              "outlinewidth": 0,
              "ticks": ""
             }
            },
            "type": "scatterpolargl"
           }
          ],
          "scatterternary": [
           {
            "marker": {
             "colorbar": {
              "outlinewidth": 0,
              "ticks": ""
             }
            },
            "type": "scatterternary"
           }
          ],
          "surface": [
           {
            "colorbar": {
             "outlinewidth": 0,
             "ticks": ""
            },
            "colorscale": [
             [
              0,
              "#0d0887"
             ],
             [
              0.1111111111111111,
              "#46039f"
             ],
             [
              0.2222222222222222,
              "#7201a8"
             ],
             [
              0.3333333333333333,
              "#9c179e"
             ],
             [
              0.4444444444444444,
              "#bd3786"
             ],
             [
              0.5555555555555556,
              "#d8576b"
             ],
             [
              0.6666666666666666,
              "#ed7953"
             ],
             [
              0.7777777777777778,
              "#fb9f3a"
             ],
             [
              0.8888888888888888,
              "#fdca26"
             ],
             [
              1,
              "#f0f921"
             ]
            ],
            "type": "surface"
           }
          ],
          "table": [
           {
            "cells": {
             "fill": {
              "color": "#EBF0F8"
             },
             "line": {
              "color": "white"
             }
            },
            "header": {
             "fill": {
              "color": "#C8D4E3"
             },
             "line": {
              "color": "white"
             }
            },
            "type": "table"
           }
          ]
         },
         "layout": {
          "annotationdefaults": {
           "arrowcolor": "#2a3f5f",
           "arrowhead": 0,
           "arrowwidth": 1
          },
          "autotypenumbers": "strict",
          "coloraxis": {
           "colorbar": {
            "outlinewidth": 0,
            "ticks": ""
           }
          },
          "colorscale": {
           "diverging": [
            [
             0,
             "#8e0152"
            ],
            [
             0.1,
             "#c51b7d"
            ],
            [
             0.2,
             "#de77ae"
            ],
            [
             0.3,
             "#f1b6da"
            ],
            [
             0.4,
             "#fde0ef"
            ],
            [
             0.5,
             "#f7f7f7"
            ],
            [
             0.6,
             "#e6f5d0"
            ],
            [
             0.7,
             "#b8e186"
            ],
            [
             0.8,
             "#7fbc41"
            ],
            [
             0.9,
             "#4d9221"
            ],
            [
             1,
             "#276419"
            ]
           ],
           "sequential": [
            [
             0,
             "#0d0887"
            ],
            [
             0.1111111111111111,
             "#46039f"
            ],
            [
             0.2222222222222222,
             "#7201a8"
            ],
            [
             0.3333333333333333,
             "#9c179e"
            ],
            [
             0.4444444444444444,
             "#bd3786"
            ],
            [
             0.5555555555555556,
             "#d8576b"
            ],
            [
             0.6666666666666666,
             "#ed7953"
            ],
            [
             0.7777777777777778,
             "#fb9f3a"
            ],
            [
             0.8888888888888888,
             "#fdca26"
            ],
            [
             1,
             "#f0f921"
            ]
           ],
           "sequentialminus": [
            [
             0,
             "#0d0887"
            ],
            [
             0.1111111111111111,
             "#46039f"
            ],
            [
             0.2222222222222222,
             "#7201a8"
            ],
            [
             0.3333333333333333,
             "#9c179e"
            ],
            [
             0.4444444444444444,
             "#bd3786"
            ],
            [
             0.5555555555555556,
             "#d8576b"
            ],
            [
             0.6666666666666666,
             "#ed7953"
            ],
            [
             0.7777777777777778,
             "#fb9f3a"
            ],
            [
             0.8888888888888888,
             "#fdca26"
            ],
            [
             1,
             "#f0f921"
            ]
           ]
          },
          "colorway": [
           "#636efa",
           "#EF553B",
           "#00cc96",
           "#ab63fa",
           "#FFA15A",
           "#19d3f3",
           "#FF6692",
           "#B6E880",
           "#FF97FF",
           "#FECB52"
          ],
          "font": {
           "color": "#2a3f5f"
          },
          "geo": {
           "bgcolor": "white",
           "lakecolor": "white",
           "landcolor": "#E5ECF6",
           "showlakes": true,
           "showland": true,
           "subunitcolor": "white"
          },
          "hoverlabel": {
           "align": "left"
          },
          "hovermode": "closest",
          "mapbox": {
           "style": "light"
          },
          "paper_bgcolor": "white",
          "plot_bgcolor": "#E5ECF6",
          "polar": {
           "angularaxis": {
            "gridcolor": "white",
            "linecolor": "white",
            "ticks": ""
           },
           "bgcolor": "#E5ECF6",
           "radialaxis": {
            "gridcolor": "white",
            "linecolor": "white",
            "ticks": ""
           }
          },
          "scene": {
           "xaxis": {
            "backgroundcolor": "#E5ECF6",
            "gridcolor": "white",
            "gridwidth": 2,
            "linecolor": "white",
            "showbackground": true,
            "ticks": "",
            "zerolinecolor": "white"
           },
           "yaxis": {
            "backgroundcolor": "#E5ECF6",
            "gridcolor": "white",
            "gridwidth": 2,
            "linecolor": "white",
            "showbackground": true,
            "ticks": "",
            "zerolinecolor": "white"
           },
           "zaxis": {
            "backgroundcolor": "#E5ECF6",
            "gridcolor": "white",
            "gridwidth": 2,
            "linecolor": "white",
            "showbackground": true,
            "ticks": "",
            "zerolinecolor": "white"
           }
          },
          "shapedefaults": {
           "line": {
            "color": "#2a3f5f"
           }
          },
          "ternary": {
           "aaxis": {
            "gridcolor": "white",
            "linecolor": "white",
            "ticks": ""
           },
           "baxis": {
            "gridcolor": "white",
            "linecolor": "white",
            "ticks": ""
           },
           "bgcolor": "#E5ECF6",
           "caxis": {
            "gridcolor": "white",
            "linecolor": "white",
            "ticks": ""
           }
          },
          "title": {
           "x": 0.05
          },
          "xaxis": {
           "automargin": true,
           "gridcolor": "white",
           "linecolor": "white",
           "ticks": "",
           "title": {
            "standoff": 15
           },
           "zerolinecolor": "white",
           "zerolinewidth": 2
          },
          "yaxis": {
           "automargin": true,
           "gridcolor": "white",
           "linecolor": "white",
           "ticks": "",
           "title": {
            "standoff": 15
           },
           "zerolinecolor": "white",
           "zerolinewidth": 2
          }
         }
        },
        "title": {
         "text": "Referrals by Classification"
        },
        "uniformtext": {
         "minsize": 50
        },
        "width": 1600,
        "xaxis": {
         "anchor": "y",
         "domain": [
          0,
          1
         ],
         "tickangle": -45,
         "title": {
          "text": "classification_from_provider"
         }
        },
        "yaxis": {
         "anchor": "x",
         "domain": [
          0,
          1
         ],
         "title": {
          "text": "referral_count"
         }
        }
       }
      },
      "text/html": [
       "<div>                            <div id=\"5eb7c1a1-875e-4c02-8075-4669f1ef5459\" class=\"plotly-graph-div\" style=\"height:1000px; width:1600px;\"></div>            <script type=\"text/javascript\">                require([\"plotly\"], function(Plotly) {                    window.PLOTLYENV=window.PLOTLYENV || {};                                    if (document.getElementById(\"5eb7c1a1-875e-4c02-8075-4669f1ef5459\")) {                    Plotly.newPlot(                        \"5eb7c1a1-875e-4c02-8075-4669f1ef5459\",                        [{\"alignmentgroup\":\"True\",\"hovertemplate\":\"In_Nashville=True<br>classification_from_provider=%{x}<br>referral_count=%{text}<extra></extra>\",\"legendgroup\":\"True\",\"marker\":{\"color\":\"#3468C0\",\"pattern\":{\"shape\":\"\"}},\"name\":\"True\",\"offsetgroup\":\"True\",\"orientation\":\"v\",\"showlegend\":true,\"text\":[46166.0,21344.0,10831.0,8083.0,8022.0,6308.0,4938.0,4674.0,4453.0,3610.0,3081.0,2951.0,2917.0,2560.0,2362.0,2263.0,2081.0,1538.0,1511.0,1464.0,1391.0,1350.0,1308.0,1077.0,1045.0,904.0,798.0,743.0,658.0,578.0,518.0,498.0,469.0,446.0,359.0,316.0,295.0,235.0,195.0,192.0,187.0,161.0,147.0,136.0,85.0,84.0,81.0,69.0,67.0,63.0,61.0,61.0,60.0,56.0,45.0,45.0,44.0,42.0,37.0,35.0,35.0,28.0,26.0,22.0,18.0,14.0,13.0,13.0,12.0,12.0,10.0,10.0,9.0,9.0,8.0,6.0,5.0,5.0,4.0,4.0,3.0,3.0,2.0,2.0,2.0,2.0,2.0,1.0,1.0],\"textposition\":\"outside\",\"x\":[\"Internal Medicine\",\"Radiology\",\"General Acute Care Hospital\",\"Nurse Practitioner\",\"Family Medicine\",\"Emergency Medicine\",\"Specialist\",\"Anesthesiology\",\"Pathology\",\"Orthopaedic Surgery\",\"Clinic/Center\",\"Ambulance\",\"Nurse Anesthetist, Certified Registered\",\"Durable Medical Equipment & Medical Supplies\",\"Clinical Medical Laboratory\",\"Surgery\",\"Psychiatry & Neurology\",\"Podiatrist\",\"Urology\",\"Physician Assistant\",\"Ophthalmology\",\"Hospitalist\",\"Skilled Nursing Facility\",\"Pharmacy\",\"Physical Medicine & Rehabilitation\",\"Physical Therapist\",\"Home Health\",\"Pain Medicine\",\"Dermatology\",\"Neurological Surgery\",\"Otolaryngology\",\"Optometrist\",\"Chiropractor\",\"Obstetrics & Gynecology\",\"Psychologist\",\"General Practice\",\"Thoracic Surgery (Cardiothoracic Vascular Surgery)\",\"Nuclear Medicine\",\"Allergy & Immunology\",\"Nursing Facility/Intermediate Care Facility\",\"Social Worker\",\"Psychiatric Unit\",\"Hospice Care, Community Based\",\"Pediatrics\",\"Medicare Defined Swing Bed Unit\",\"Rehabilitation Unit\",\"Counselor\",\"Audiologist\",\"Registered Nurse\",\"Clinical Nurse Specialist\",\"Portable X-ray and/or Other Portable Diagnostic Imaging Supplier\",\"Long Term Care Hospital\",\"Special Hospital\",\"Transplant Surgery\",\"Clinical Neuropsychologist\",\"Plastic Surgery\",\"Rehabilitation Hospital\",\"Colon & Rectal Surgery\",\"Psychiatric Hospital\",\"Assisted Living Facility\",\"Occupational Therapist\",\"Neuromusculoskeletal Medicine, Sports Medicine\",\"Student in an Organized Health Care Education/Training Program\",\"Audiologist-Hearing Aid Fitter\",\"Rehabilitation Practitioner\",\"Preventive Medicine\",\"Legal Medicine\",\"Prosthetic/Orthotic Supplier\",\"Dentist\",\"Home Infusion\",\"Residential Treatment Facility, Intellectual and/or Developmental Disabilities\",\"Physiological Laboratory\",\"Oral & Maxillofacial Surgery\",\"Phlebology\",\"Community Based Residential Treatment Facility, Intellectual and/or Developmental Disabilities\",\"Dietitian, Registered\",\"Intermediate Care Facility, Intellectual Disabilities\",\"Advanced Practice Midwife\",\"Anesthesiologist Assistant\",\"Public Health or Welfare\",\"Clinical Pharmacology\",\"Eyewear Supplier\",\"Medical Genetics\",\"Preferred Provider Organization\",\"Exclusive Provider Organization\",\"Licensed Practical Nurse\",\"Independent Medical Examiner\",\"Personal Emergency Response Attendant\",\"Contractor\"],\"xaxis\":\"x\",\"y\":[46166,21344,10831,8083,8022,6308,4938,4674,4453,3610,3081,2951,2917,2560,2362,2263,2081,1538,1511,1464,1391,1350,1308,1077,1045,904,798,743,658,578,518,498,469,446,359,316,295,235,195,192,187,161,147,136,85,84,81,69,67,63,61,61,60,56,45,45,44,42,37,35,35,28,26,22,18,14,13,13,12,12,10,10,9,9,8,6,5,5,4,4,3,3,2,2,2,2,2,1,1],\"yaxis\":\"y\",\"type\":\"bar\",\"textfont\":{\"size\":12},\"textangle\":0,\"texttemplate\":\"%{text:.2s}\"},{\"alignmentgroup\":\"True\",\"hovertemplate\":\"In_Nashville=False<br>classification_from_provider=%{x}<br>referral_count=%{text}<extra></extra>\",\"legendgroup\":\"False\",\"marker\":{\"color\":\"#80BCBD\",\"pattern\":{\"shape\":\"\"}},\"name\":\"False\",\"offsetgroup\":\"False\",\"orientation\":\"v\",\"showlegend\":true,\"text\":[15279.0,13138.0,12234.0,10049.0,4453.0,4443.0,3381.0,2965.0,2447.0,2316.0,1595.0,1134.0,996.0,988.0,868.0,848.0,802.0,715.0,636.0,628.0,535.0,479.0,441.0,424.0,423.0,406.0,387.0,382.0,288.0,271.0,194.0,187.0,186.0,137.0,113.0,96.0,89.0,84.0,83.0,81.0,68.0,64.0,61.0,49.0,38.0,32.0,30.0,27.0,23.0,20.0,19.0,19.0,18.0,17.0,17.0,12.0,11.0,9.0,9.0,5.0,5.0,4.0,4.0,4.0,3.0,3.0,3.0,2.0,2.0,2.0,2.0,2.0,1.0,1.0,1.0,1.0,1.0,1.0,1.0],\"textposition\":\"outside\",\"x\":[\"Internal Medicine\",\"Radiology\",\"Clinical Medical Laboratory\",\"Pathology\",\"Durable Medical Equipment & Medical Supplies\",\"Nurse Practitioner\",\"Emergency Medicine\",\"General Acute Care Hospital\",\"Family Medicine\",\"Anesthesiology\",\"Psychiatry & Neurology\",\"Specialist\",\"Physician Assistant\",\"Nurse Anesthetist, Certified Registered\",\"Orthopaedic Surgery\",\"Surgery\",\"Ambulance\",\"Clinic/Center\",\"Hospitalist\",\"Pain Medicine\",\"Ophthalmology\",\"Psychologist\",\"Skilled Nursing Facility\",\"Urology\",\"Dermatology\",\"Physical Therapist\",\"Podiatrist\",\"General Practice\",\"Physical Medicine & Rehabilitation\",\"Optometrist\",\"Home Health\",\"Pharmacy\",\"Counselor\",\"Otolaryngology\",\"Neurological Surgery\",\"Social Worker\",\"Thoracic Surgery (Cardiothoracic Vascular Surgery)\",\"Obstetrics & Gynecology\",\"Hospice Care, Community Based\",\"Chiropractor\",\"Nuclear Medicine\",\"Nursing Facility/Intermediate Care Facility\",\"Allergy & Immunology\",\"Physiological Laboratory\",\"Registered Nurse\",\"Transplant Surgery\",\"Pediatrics\",\"Student in an Organized Health Care Education/Training Program\",\"Occupational Therapist\",\"Neuromusculoskeletal Medicine, Sports Medicine\",\"Medicare Defined Swing Bed Unit\",\"Assisted Living Facility\",\"Audiologist\",\"Clinical Nurse Specialist\",\"Psychiatric Unit\",\"Medical Genetics\",\"Special Hospital\",\"Rehabilitation Unit\",\"Preventive Medicine\",\"Portable X-ray and/or Other Portable Diagnostic Imaging Supplier\",\"Long Term Care Hospital\",\"Psychiatric Hospital\",\"Public Health or Welfare\",\"Speech-Language Pathologist\",\"Prosthetic/Orthotic Supplier\",\"Rehabilitation Hospital\",\"Advanced Practice Midwife\",\"Clinical Neuropsychologist\",\"Preferred Provider Organization\",\"Plastic Surgery\",\"Colon & Rectal Surgery\",\"Legal Medicine\",\"Community Based Residential Treatment Facility, Intellectual and/or Developmental Disabilities\",\"Personal Emergency Response Attendant\",\"Intermediate Care Facility, Intellectual Disabilities\",\"Residential Treatment Facility, Intellectual and/or Developmental Disabilities\",\"Home Infusion\",\"Community/Behavioral Health\",\"Dietitian, Registered\"],\"xaxis\":\"x\",\"y\":[15279,13138,12234,10049,4453,4443,3381,2965,2447,2316,1595,1134,996,988,868,848,802,715,636,628,535,479,441,424,423,406,387,382,288,271,194,187,186,137,113,96,89,84,83,81,68,64,61,49,38,32,30,27,23,20,19,19,18,17,17,12,11,9,9,5,5,4,4,4,3,3,3,2,2,2,2,2,1,1,1,1,1,1,1],\"yaxis\":\"y\",\"type\":\"bar\",\"textfont\":{\"size\":12},\"textangle\":0,\"texttemplate\":\"%{text:.2s}\"}],                        {\"template\":{\"data\":{\"histogram2dcontour\":[{\"type\":\"histogram2dcontour\",\"colorbar\":{\"outlinewidth\":0,\"ticks\":\"\"},\"colorscale\":[[0.0,\"#0d0887\"],[0.1111111111111111,\"#46039f\"],[0.2222222222222222,\"#7201a8\"],[0.3333333333333333,\"#9c179e\"],[0.4444444444444444,\"#bd3786\"],[0.5555555555555556,\"#d8576b\"],[0.6666666666666666,\"#ed7953\"],[0.7777777777777778,\"#fb9f3a\"],[0.8888888888888888,\"#fdca26\"],[1.0,\"#f0f921\"]]}],\"choropleth\":[{\"type\":\"choropleth\",\"colorbar\":{\"outlinewidth\":0,\"ticks\":\"\"}}],\"histogram2d\":[{\"type\":\"histogram2d\",\"colorbar\":{\"outlinewidth\":0,\"ticks\":\"\"},\"colorscale\":[[0.0,\"#0d0887\"],[0.1111111111111111,\"#46039f\"],[0.2222222222222222,\"#7201a8\"],[0.3333333333333333,\"#9c179e\"],[0.4444444444444444,\"#bd3786\"],[0.5555555555555556,\"#d8576b\"],[0.6666666666666666,\"#ed7953\"],[0.7777777777777778,\"#fb9f3a\"],[0.8888888888888888,\"#fdca26\"],[1.0,\"#f0f921\"]]}],\"heatmap\":[{\"type\":\"heatmap\",\"colorbar\":{\"outlinewidth\":0,\"ticks\":\"\"},\"colorscale\":[[0.0,\"#0d0887\"],[0.1111111111111111,\"#46039f\"],[0.2222222222222222,\"#7201a8\"],[0.3333333333333333,\"#9c179e\"],[0.4444444444444444,\"#bd3786\"],[0.5555555555555556,\"#d8576b\"],[0.6666666666666666,\"#ed7953\"],[0.7777777777777778,\"#fb9f3a\"],[0.8888888888888888,\"#fdca26\"],[1.0,\"#f0f921\"]]}],\"heatmapgl\":[{\"type\":\"heatmapgl\",\"colorbar\":{\"outlinewidth\":0,\"ticks\":\"\"},\"colorscale\":[[0.0,\"#0d0887\"],[0.1111111111111111,\"#46039f\"],[0.2222222222222222,\"#7201a8\"],[0.3333333333333333,\"#9c179e\"],[0.4444444444444444,\"#bd3786\"],[0.5555555555555556,\"#d8576b\"],[0.6666666666666666,\"#ed7953\"],[0.7777777777777778,\"#fb9f3a\"],[0.8888888888888888,\"#fdca26\"],[1.0,\"#f0f921\"]]}],\"contourcarpet\":[{\"type\":\"contourcarpet\",\"colorbar\":{\"outlinewidth\":0,\"ticks\":\"\"}}],\"contour\":[{\"type\":\"contour\",\"colorbar\":{\"outlinewidth\":0,\"ticks\":\"\"},\"colorscale\":[[0.0,\"#0d0887\"],[0.1111111111111111,\"#46039f\"],[0.2222222222222222,\"#7201a8\"],[0.3333333333333333,\"#9c179e\"],[0.4444444444444444,\"#bd3786\"],[0.5555555555555556,\"#d8576b\"],[0.6666666666666666,\"#ed7953\"],[0.7777777777777778,\"#fb9f3a\"],[0.8888888888888888,\"#fdca26\"],[1.0,\"#f0f921\"]]}],\"surface\":[{\"type\":\"surface\",\"colorbar\":{\"outlinewidth\":0,\"ticks\":\"\"},\"colorscale\":[[0.0,\"#0d0887\"],[0.1111111111111111,\"#46039f\"],[0.2222222222222222,\"#7201a8\"],[0.3333333333333333,\"#9c179e\"],[0.4444444444444444,\"#bd3786\"],[0.5555555555555556,\"#d8576b\"],[0.6666666666666666,\"#ed7953\"],[0.7777777777777778,\"#fb9f3a\"],[0.8888888888888888,\"#fdca26\"],[1.0,\"#f0f921\"]]}],\"mesh3d\":[{\"type\":\"mesh3d\",\"colorbar\":{\"outlinewidth\":0,\"ticks\":\"\"}}],\"scatter\":[{\"fillpattern\":{\"fillmode\":\"overlay\",\"size\":10,\"solidity\":0.2},\"type\":\"scatter\"}],\"parcoords\":[{\"type\":\"parcoords\",\"line\":{\"colorbar\":{\"outlinewidth\":0,\"ticks\":\"\"}}}],\"scatterpolargl\":[{\"type\":\"scatterpolargl\",\"marker\":{\"colorbar\":{\"outlinewidth\":0,\"ticks\":\"\"}}}],\"bar\":[{\"error_x\":{\"color\":\"#2a3f5f\"},\"error_y\":{\"color\":\"#2a3f5f\"},\"marker\":{\"line\":{\"color\":\"#E5ECF6\",\"width\":0.5},\"pattern\":{\"fillmode\":\"overlay\",\"size\":10,\"solidity\":0.2}},\"type\":\"bar\"}],\"scattergeo\":[{\"type\":\"scattergeo\",\"marker\":{\"colorbar\":{\"outlinewidth\":0,\"ticks\":\"\"}}}],\"scatterpolar\":[{\"type\":\"scatterpolar\",\"marker\":{\"colorbar\":{\"outlinewidth\":0,\"ticks\":\"\"}}}],\"histogram\":[{\"marker\":{\"pattern\":{\"fillmode\":\"overlay\",\"size\":10,\"solidity\":0.2}},\"type\":\"histogram\"}],\"scattergl\":[{\"type\":\"scattergl\",\"marker\":{\"colorbar\":{\"outlinewidth\":0,\"ticks\":\"\"}}}],\"scatter3d\":[{\"type\":\"scatter3d\",\"line\":{\"colorbar\":{\"outlinewidth\":0,\"ticks\":\"\"}},\"marker\":{\"colorbar\":{\"outlinewidth\":0,\"ticks\":\"\"}}}],\"scattermapbox\":[{\"type\":\"scattermapbox\",\"marker\":{\"colorbar\":{\"outlinewidth\":0,\"ticks\":\"\"}}}],\"scatterternary\":[{\"type\":\"scatterternary\",\"marker\":{\"colorbar\":{\"outlinewidth\":0,\"ticks\":\"\"}}}],\"scattercarpet\":[{\"type\":\"scattercarpet\",\"marker\":{\"colorbar\":{\"outlinewidth\":0,\"ticks\":\"\"}}}],\"carpet\":[{\"aaxis\":{\"endlinecolor\":\"#2a3f5f\",\"gridcolor\":\"white\",\"linecolor\":\"white\",\"minorgridcolor\":\"white\",\"startlinecolor\":\"#2a3f5f\"},\"baxis\":{\"endlinecolor\":\"#2a3f5f\",\"gridcolor\":\"white\",\"linecolor\":\"white\",\"minorgridcolor\":\"white\",\"startlinecolor\":\"#2a3f5f\"},\"type\":\"carpet\"}],\"table\":[{\"cells\":{\"fill\":{\"color\":\"#EBF0F8\"},\"line\":{\"color\":\"white\"}},\"header\":{\"fill\":{\"color\":\"#C8D4E3\"},\"line\":{\"color\":\"white\"}},\"type\":\"table\"}],\"barpolar\":[{\"marker\":{\"line\":{\"color\":\"#E5ECF6\",\"width\":0.5},\"pattern\":{\"fillmode\":\"overlay\",\"size\":10,\"solidity\":0.2}},\"type\":\"barpolar\"}],\"pie\":[{\"automargin\":true,\"type\":\"pie\"}]},\"layout\":{\"autotypenumbers\":\"strict\",\"colorway\":[\"#636efa\",\"#EF553B\",\"#00cc96\",\"#ab63fa\",\"#FFA15A\",\"#19d3f3\",\"#FF6692\",\"#B6E880\",\"#FF97FF\",\"#FECB52\"],\"font\":{\"color\":\"#2a3f5f\"},\"hovermode\":\"closest\",\"hoverlabel\":{\"align\":\"left\"},\"paper_bgcolor\":\"white\",\"plot_bgcolor\":\"#E5ECF6\",\"polar\":{\"bgcolor\":\"#E5ECF6\",\"angularaxis\":{\"gridcolor\":\"white\",\"linecolor\":\"white\",\"ticks\":\"\"},\"radialaxis\":{\"gridcolor\":\"white\",\"linecolor\":\"white\",\"ticks\":\"\"}},\"ternary\":{\"bgcolor\":\"#E5ECF6\",\"aaxis\":{\"gridcolor\":\"white\",\"linecolor\":\"white\",\"ticks\":\"\"},\"baxis\":{\"gridcolor\":\"white\",\"linecolor\":\"white\",\"ticks\":\"\"},\"caxis\":{\"gridcolor\":\"white\",\"linecolor\":\"white\",\"ticks\":\"\"}},\"coloraxis\":{\"colorbar\":{\"outlinewidth\":0,\"ticks\":\"\"}},\"colorscale\":{\"sequential\":[[0.0,\"#0d0887\"],[0.1111111111111111,\"#46039f\"],[0.2222222222222222,\"#7201a8\"],[0.3333333333333333,\"#9c179e\"],[0.4444444444444444,\"#bd3786\"],[0.5555555555555556,\"#d8576b\"],[0.6666666666666666,\"#ed7953\"],[0.7777777777777778,\"#fb9f3a\"],[0.8888888888888888,\"#fdca26\"],[1.0,\"#f0f921\"]],\"sequentialminus\":[[0.0,\"#0d0887\"],[0.1111111111111111,\"#46039f\"],[0.2222222222222222,\"#7201a8\"],[0.3333333333333333,\"#9c179e\"],[0.4444444444444444,\"#bd3786\"],[0.5555555555555556,\"#d8576b\"],[0.6666666666666666,\"#ed7953\"],[0.7777777777777778,\"#fb9f3a\"],[0.8888888888888888,\"#fdca26\"],[1.0,\"#f0f921\"]],\"diverging\":[[0,\"#8e0152\"],[0.1,\"#c51b7d\"],[0.2,\"#de77ae\"],[0.3,\"#f1b6da\"],[0.4,\"#fde0ef\"],[0.5,\"#f7f7f7\"],[0.6,\"#e6f5d0\"],[0.7,\"#b8e186\"],[0.8,\"#7fbc41\"],[0.9,\"#4d9221\"],[1,\"#276419\"]]},\"xaxis\":{\"gridcolor\":\"white\",\"linecolor\":\"white\",\"ticks\":\"\",\"title\":{\"standoff\":15},\"zerolinecolor\":\"white\",\"automargin\":true,\"zerolinewidth\":2},\"yaxis\":{\"gridcolor\":\"white\",\"linecolor\":\"white\",\"ticks\":\"\",\"title\":{\"standoff\":15},\"zerolinecolor\":\"white\",\"automargin\":true,\"zerolinewidth\":2},\"scene\":{\"xaxis\":{\"backgroundcolor\":\"#E5ECF6\",\"gridcolor\":\"white\",\"linecolor\":\"white\",\"showbackground\":true,\"ticks\":\"\",\"zerolinecolor\":\"white\",\"gridwidth\":2},\"yaxis\":{\"backgroundcolor\":\"#E5ECF6\",\"gridcolor\":\"white\",\"linecolor\":\"white\",\"showbackground\":true,\"ticks\":\"\",\"zerolinecolor\":\"white\",\"gridwidth\":2},\"zaxis\":{\"backgroundcolor\":\"#E5ECF6\",\"gridcolor\":\"white\",\"linecolor\":\"white\",\"showbackground\":true,\"ticks\":\"\",\"zerolinecolor\":\"white\",\"gridwidth\":2}},\"shapedefaults\":{\"line\":{\"color\":\"#2a3f5f\"}},\"annotationdefaults\":{\"arrowcolor\":\"#2a3f5f\",\"arrowhead\":0,\"arrowwidth\":1},\"geo\":{\"bgcolor\":\"white\",\"landcolor\":\"#E5ECF6\",\"subunitcolor\":\"white\",\"showland\":true,\"showlakes\":true,\"lakecolor\":\"white\"},\"title\":{\"x\":0.05},\"mapbox\":{\"style\":\"light\"}}},\"xaxis\":{\"anchor\":\"y\",\"domain\":[0.0,1.0],\"title\":{\"text\":\"classification_from_provider\"},\"tickangle\":-45},\"yaxis\":{\"anchor\":\"x\",\"domain\":[0.0,1.0],\"title\":{\"text\":\"referral_count\"}},\"legend\":{\"title\":{\"text\":\"In_Nashville\"},\"tracegroupgap\":0},\"title\":{\"text\":\"Referrals by Classification\"},\"barmode\":\"relative\",\"height\":1000,\"width\":1600,\"uniformtext\":{\"minsize\":50}},                        {\"responsive\": true}                    ).then(function(){\n",
       "                            \n",
       "var gd = document.getElementById('5eb7c1a1-875e-4c02-8075-4669f1ef5459');\n",
       "var x = new MutationObserver(function (mutations, observer) {{\n",
       "        var display = window.getComputedStyle(gd).display;\n",
       "        if (!display || display === 'none') {{\n",
       "            console.log([gd, 'removed!']);\n",
       "            Plotly.purge(gd);\n",
       "            observer.disconnect();\n",
       "        }}\n",
       "}});\n",
       "\n",
       "// Listen for the removal of the full notebook cells\n",
       "var notebookContainer = gd.closest('#notebook-container');\n",
       "if (notebookContainer) {{\n",
       "    x.observe(notebookContainer, {childList: true});\n",
       "}}\n",
       "\n",
       "// Listen for the clearing of the current output cell\n",
       "var outputEl = gd.closest('.output');\n",
       "if (outputEl) {{\n",
       "    x.observe(outputEl, {childList: true});\n",
       "}}\n",
       "\n",
       "                        })                };                });            </script>        </div>"
      ]
     },
     "metadata": {},
     "output_type": "display_data"
    }
   ],
   "source": [
    "# Group referral_patterns_merge by classification_from_provider and In_Nashville columns. \n",
    "# Then take the sum of the transaction_count column for each classification and whether it was in Nashville\n",
    "referral_patterns_location = referral_patterns_merge.groupby([\"classification_from_provider\", \"In_Nashville\"])[\"npi\"].size().reset_index(name=\"referral_count\")\n",
    "\n",
    "# Sort the DataFrame by transactions in descending order\n",
    "referral_patterns_location = referral_patterns_location.sort_values(by=\"referral_count\", ascending=False)\n",
    "\n",
    "# Group the DataFrame by classification_from_provider and take the top 20 records for each group\n",
    "referral_patterns_location = referral_patterns_location.groupby(\"classification_from_provider\").head(20)\n",
    "\n",
    "# Plot the data\n",
    "fig = px.bar(referral_patterns_location, x=\"classification_from_provider\", y=\"referral_count\", \n",
    "             color=\"In_Nashville\", title=\"Referrals by Classification\",\n",
    "             width=1600, height=1000, text = 'referral_count',\n",
    "             color_discrete_map={True: '#3468C0', False: '#80BCBD'})\n",
    "fig.update_traces(texttemplate = '%{text:.2s}', textposition=\"outside\", textangle = 0, textfont_size=12)\n",
    "fig.update_layout(xaxis_tickangle=-45, uniformtext_minsize=50)\n",
    "fig.show()"
   ]
  },
  {
   "cell_type": "markdown",
   "id": "5d978d22",
   "metadata": {},
   "source": [
    "What is internal medicine?"
   ]
  },
  {
   "cell_type": "code",
   "execution_count": 258,
   "id": "3db14179",
   "metadata": {},
   "outputs": [
    {
     "data": {
      "text/plain": [
       "array([\"An internist who has special knowledge of the aging process and special skills in the diagnostic, therapeutic, preventive and rehabilitative aspects of illness in the elderly. This specialist cares for geriatric patients in the patient's home, the office, long-term care settings such as nursing homes and the hospital.\",\n",
       "       'A physician who provides long-term, comprehensive care in the office and the hospital, managing both common and complex illness of adolescents, adults and the elderly. Internists are trained in the diagnosis and treatment of cancer, infections and diseases affecting the heart, blood, kidneys, joints and digestive, respiratory and vascular systems. They are also trained in the essentials of primary care internal medicine, which incorporates an understanding of disease prevention, wellness, substance abuse, mental health and effective treatment of common problems of the eyes, ears, skin, nervous system and reproductive organs.'],\n",
       "      dtype=object)"
      ]
     },
     "execution_count": 258,
     "metadata": {},
     "output_type": "execute_result"
    }
   ],
   "source": [
    "nashnpi_from_npi[nashnpi_from_npi[\"classification\"]==\"Internal Medicine\"]['definition'].unique()[:2]\n"
   ]
  },
  {
   "cell_type": "code",
   "execution_count": 201,
   "id": "1253194c",
   "metadata": {},
   "outputs": [
    {
     "data": {
      "text/html": [
       "<div>\n",
       "<style scoped>\n",
       "    .dataframe tbody tr th:only-of-type {\n",
       "        vertical-align: middle;\n",
       "    }\n",
       "\n",
       "    .dataframe tbody tr th {\n",
       "        vertical-align: top;\n",
       "    }\n",
       "\n",
       "    .dataframe thead th {\n",
       "        text-align: right;\n",
       "    }\n",
       "</style>\n",
       "<table border=\"1\" class=\"dataframe\">\n",
       "  <thead>\n",
       "    <tr style=\"text-align: right;\">\n",
       "      <th></th>\n",
       "      <th>provider_from_name</th>\n",
       "      <th>provider_to_name</th>\n",
       "      <th>In_Nashville</th>\n",
       "      <th>total_transactions</th>\n",
       "    </tr>\n",
       "  </thead>\n",
       "  <tbody>\n",
       "    <tr>\n",
       "      <th>34508</th>\n",
       "      <td>TENNESSEE ONCOLOGY PLLC</td>\n",
       "      <td>TENNESSEE ONCOLOGY PLLC</td>\n",
       "      <td>True</td>\n",
       "      <td>436746</td>\n",
       "    </tr>\n",
       "    <tr>\n",
       "      <th>39496</th>\n",
       "      <td>VANDERBILT UNIVERSITY MEDICAL CENTER</td>\n",
       "      <td>VANDERBILT UNIVERSITY MEDICAL CENTER</td>\n",
       "      <td>True</td>\n",
       "      <td>238711</td>\n",
       "    </tr>\n",
       "    <tr>\n",
       "      <th>29674</th>\n",
       "      <td>SAINT THOMAS MEDICAL PARTNERS</td>\n",
       "      <td>SAINT THOMAS WEST HOSPITAL</td>\n",
       "      <td>True</td>\n",
       "      <td>83787</td>\n",
       "    </tr>\n",
       "    <tr>\n",
       "      <th>2373</th>\n",
       "      <td>ADVANCED DIAGNOSTIC IMAGING, PC</td>\n",
       "      <td>SAINT THOMAS WEST HOSPITAL</td>\n",
       "      <td>True</td>\n",
       "      <td>63482</td>\n",
       "    </tr>\n",
       "    <tr>\n",
       "      <th>27805</th>\n",
       "      <td>SAINT THOMAS MEDICAL PARTNERS</td>\n",
       "      <td>ADVANCED DIAGNOSTIC IMAGING, PC</td>\n",
       "      <td>True</td>\n",
       "      <td>62561</td>\n",
       "    </tr>\n",
       "    <tr>\n",
       "      <th>...</th>\n",
       "      <td>...</td>\n",
       "      <td>...</td>\n",
       "      <td>...</td>\n",
       "      <td>...</td>\n",
       "    </tr>\n",
       "    <tr>\n",
       "      <th>10833</th>\n",
       "      <td>GAYLON HARRIS</td>\n",
       "      <td>BRICE BOUGHNER</td>\n",
       "      <td>True</td>\n",
       "      <td>50</td>\n",
       "    </tr>\n",
       "    <tr>\n",
       "      <th>3975</th>\n",
       "      <td>ANURADHA MANN</td>\n",
       "      <td>MARVIN SMITH</td>\n",
       "      <td>True</td>\n",
       "      <td>50</td>\n",
       "    </tr>\n",
       "    <tr>\n",
       "      <th>28709</th>\n",
       "      <td>SAINT THOMAS MEDICAL PARTNERS</td>\n",
       "      <td>JEFFREY JORDAN</td>\n",
       "      <td>True</td>\n",
       "      <td>50</td>\n",
       "    </tr>\n",
       "    <tr>\n",
       "      <th>25180</th>\n",
       "      <td>PETER ROBERTSON</td>\n",
       "      <td>MEDICAL ELECTRO-THERAPEUTICS INC</td>\n",
       "      <td>True</td>\n",
       "      <td>50</td>\n",
       "    </tr>\n",
       "    <tr>\n",
       "      <th>20990</th>\n",
       "      <td>MICHAEL BAKER</td>\n",
       "      <td>CLAYTON KAISER</td>\n",
       "      <td>True</td>\n",
       "      <td>50</td>\n",
       "    </tr>\n",
       "  </tbody>\n",
       "</table>\n",
       "<p>41623 rows × 4 columns</p>\n",
       "</div>"
      ],
      "text/plain": [
       "                         provider_from_name  \\\n",
       "34508               TENNESSEE ONCOLOGY PLLC   \n",
       "39496  VANDERBILT UNIVERSITY MEDICAL CENTER   \n",
       "29674         SAINT THOMAS MEDICAL PARTNERS   \n",
       "2373        ADVANCED DIAGNOSTIC IMAGING, PC   \n",
       "27805         SAINT THOMAS MEDICAL PARTNERS   \n",
       "...                                     ...   \n",
       "10833                         GAYLON HARRIS   \n",
       "3975                          ANURADHA MANN   \n",
       "28709         SAINT THOMAS MEDICAL PARTNERS   \n",
       "25180                       PETER ROBERTSON   \n",
       "20990                         MICHAEL BAKER   \n",
       "\n",
       "                           provider_to_name  In_Nashville  total_transactions  \n",
       "34508               TENNESSEE ONCOLOGY PLLC          True              436746  \n",
       "39496  VANDERBILT UNIVERSITY MEDICAL CENTER          True              238711  \n",
       "29674            SAINT THOMAS WEST HOSPITAL          True               83787  \n",
       "2373             SAINT THOMAS WEST HOSPITAL          True               63482  \n",
       "27805       ADVANCED DIAGNOSTIC IMAGING, PC          True               62561  \n",
       "...                                     ...           ...                 ...  \n",
       "10833                        BRICE BOUGHNER          True                  50  \n",
       "3975                           MARVIN SMITH          True                  50  \n",
       "28709                        JEFFREY JORDAN          True                  50  \n",
       "25180      MEDICAL ELECTRO-THERAPEUTICS INC          True                  50  \n",
       "20990                        CLAYTON KAISER          True                  50  \n",
       "\n",
       "[41623 rows x 4 columns]"
      ]
     },
     "execution_count": 201,
     "metadata": {},
     "output_type": "execute_result"
    }
   ],
   "source": [
    "internal_medicine = referral_patterns_merge[referral_patterns_merge[\"classification_from_provider\"]==\"Internal Medicine\"].groupby([\"provider_from_name\", \"provider_to_name\", \"In_Nashville\"])[\"transaction_count\"].sum().reset_index(name = \"total_transactions\")\n",
    "internal_medicine.sort_values(by = \"total_transactions\", ascending = False)"
   ]
  },
  {
   "cell_type": "markdown",
   "id": "57e1cb21",
   "metadata": {},
   "source": [
    "**Use Sourish's rename dictionary**\n",
    "\n",
    "- Update the referrals stacked bar chart and see how much of the consolidated hospitals make up the referrals. "
   ]
  },
  {
   "cell_type": "code",
   "execution_count": null,
   "id": "6e18aed3",
   "metadata": {},
   "outputs": [],
   "source": [
    "renames = {\n",
    "    \"BAPTIST WOMEN'S HEALTH CENTER LLC\": 'Ascension Saint Thomas',\n",
    "    'SHELBYVILLE HOSPITAL COMPANY LLC': 'Vanderbilt',\n",
    "    'HCA HEALTH SERVICES OF TENNESSEE, INC.': 'HCA Healthcare TriStar',\n",
    "    'VANDERBILT STALLWORTH REHABILITATION HOSPITAL LP': 'Vanderbilt',\n",
    "    'RIVER PARK HOSPITAL LLC': 'Ascension Saint Thomas',\n",
    "    'HTI MEMORIAL HOSPITAL CORPORATION': 'HCA Healthcare TriStar',\n",
    "    'CENTRAL TENNESSEE HOSPITAL CORPORATION': 'HCA Healthcare TriStar',\n",
    "    'HENDERSONVILLE HOSPITAL CORPORATION': 'HCA Healthcare TriStar',\n",
    "    'SAINT THOMAS WEST HOSPITAL': 'Ascension Saint Thomas',\n",
    "    'VANDERBILT UNIVERSITY MEDICAL CENTER': 'Vanderbilt',\n",
    "    'SMITH COUNTY MEMORIAL HOSPITAL, LLC': 'Ascension Saint Thomas',\n",
    "    'SUMNER REGIONAL HEALTH SYSTEMS, INC': 'Ascension Saint Thomas',\n",
    "    'NORTHCREST MEDICAL CENTER': 'HCA Healthcare TriStar',\n",
    "    'NASHVILLE GENERAL HOSPITAL': 'Nashville General',\n",
    "    'SAINT THOMAS RUTHERFORD HOSPITAL': 'Ascension Saint Thomas',\n",
    "    'SETON CORPORATION': 'Ascension Saint Thomas',\n",
    "    'SUMNER REGIONAL MEDICAL CENTER LLC': 'Ascension Saint Thomas',\n",
    "    'RIVERVIEW MEDICAL CENTER LLC': 'Ascension Saint Thomas',\n",
    "    'SMITH COUNTY MEMORIAL HOSPITAL LLC': 'Ascension Saint Thomas',\n",
    "    'TROUSDALE MEDICAL CENTER LLC': 'Ascension Saint Thomas',\n",
    "    'RIVERVIEW MEDICAL CENTER, LLC': 'Ascension Saint Thomas',\n",
    "    'SAINT THOMAS RIVER PARK HOSPITAL, LLC': 'Ascension Saint Thomas',\n",
    "    'SAINT THOMAS STONES RIVER HOSPITAL, LLC': 'Ascension Saint Thomas',\n",
    "    'SAINT THOMAS DEKALB HOSPITAL, LLC': 'Ascension Saint Thomas',\n",
    "}\n",
    "\n",
    "# Create a new column with renamed hospital names and whether the referral was to a provider in Nashville \n",
    "# referral_patterns_merge['provider_type'] = referral_patterns_merge['to_hospital_name'].apply(lambda x: renames[x] if x in renames else x).copy()\n",
    "# referral_patterns_merge = referral_patterns_merge[referral_patterns_merge['to_hospital_name'].isin(['Ascension Saint Thomas', 'Vanderbilt', 'HCA Healthcare TriStar'])].copy()\n",
    "\n",
    "\n",
    "# # Group referral_patterns_merge by classification_from_provider and In_Nashville columns. \n",
    "# # Then take the sum of the transaction_count column for each classification and whether it was in Nashville\n",
    "# referral_patterns_location = referral_patterns_merge.groupby([\"classification_from_provider\", \"In_Nashville\"])[\"npi\"].size().reset_index(name=\"referral_count\")\n",
    "\n",
    "# # Sort the DataFrame by transactions in descending order\n",
    "# referral_patterns_location = referral_patterns_location.sort_values(by=\"referral_count\", ascending=False)\n",
    "\n",
    "# # Group the DataFrame by classification_from_provider and take the top 20 records for each group\n",
    "# referral_patterns_location = referral_patterns_location.groupby(\"classification_from_provider\").head(20)\n",
    "\n",
    "# # Plot the data\n",
    "# fig = px.bar(referral_patterns_location, x=\"classification_from_provider\", y=\"referral_count\", \n",
    "#              color=\"In_Nashville\", title=\"Referrals by Classification\",\n",
    "#              width=1600, height=1000, text = 'referral_count',\n",
    "#              color_discrete_map={True: '#3468C0', False: '#80BCBD'})\n",
    "# fig.update_traces(texttemplate = '%{text:.2s}', textposition=\"outside\", textangle = 0, textfont_size=12)\n",
    "# fig.update_layout(xaxis_tickangle=-45, uniformtext_minsize=50)\n",
    "# fig.show()"
   ]
  },
  {
   "cell_type": "code",
   "execution_count": 276,
   "id": "c93715c2",
   "metadata": {},
   "outputs": [
    {
     "data": {
      "text/html": [
       "<div>\n",
       "<style scoped>\n",
       "    .dataframe tbody tr th:only-of-type {\n",
       "        vertical-align: middle;\n",
       "    }\n",
       "\n",
       "    .dataframe tbody tr th {\n",
       "        vertical-align: top;\n",
       "    }\n",
       "\n",
       "    .dataframe thead th {\n",
       "        text-align: right;\n",
       "    }\n",
       "</style>\n",
       "<table border=\"1\" class=\"dataframe\">\n",
       "  <thead>\n",
       "    <tr style=\"text-align: right;\">\n",
       "      <th></th>\n",
       "      <th>provider_from_npi</th>\n",
       "      <th>provider_from_name</th>\n",
       "      <th>npi</th>\n",
       "      <th>transaction_count</th>\n",
       "      <th>classification_from_provider</th>\n",
       "      <th>provider_to_name</th>\n",
       "      <th>classification_to_provider</th>\n",
       "      <th>In_Nashville</th>\n",
       "    </tr>\n",
       "  </thead>\n",
       "  <tbody>\n",
       "    <tr>\n",
       "      <th>0</th>\n",
       "      <td>1013012616</td>\n",
       "      <td>CRIPPS, HOOPER &amp; RHODY, PLLC</td>\n",
       "      <td>1093741464</td>\n",
       "      <td>72</td>\n",
       "      <td>Family Medicine</td>\n",
       "      <td>ADVANCED DIAGNOSTIC IMAGING, PC</td>\n",
       "      <td>Internal Medicine</td>\n",
       "      <td>True</td>\n",
       "    </tr>\n",
       "    <tr>\n",
       "      <th>1</th>\n",
       "      <td>1013012616</td>\n",
       "      <td>CRIPPS, HOOPER &amp; RHODY, PLLC</td>\n",
       "      <td>1104202761</td>\n",
       "      <td>65</td>\n",
       "      <td>Family Medicine</td>\n",
       "      <td>VANDERBILT UNIVERSITY MEDICAL CENTER</td>\n",
       "      <td>Internal Medicine</td>\n",
       "      <td>True</td>\n",
       "    </tr>\n",
       "    <tr>\n",
       "      <th>2</th>\n",
       "      <td>1013012616</td>\n",
       "      <td>CRIPPS, HOOPER &amp; RHODY, PLLC</td>\n",
       "      <td>1295726032</td>\n",
       "      <td>303</td>\n",
       "      <td>Family Medicine</td>\n",
       "      <td>NaN</td>\n",
       "      <td>NaN</td>\n",
       "      <td>False</td>\n",
       "    </tr>\n",
       "    <tr>\n",
       "      <th>3</th>\n",
       "      <td>1013012616</td>\n",
       "      <td>CRIPPS, HOOPER &amp; RHODY, PLLC</td>\n",
       "      <td>1316043524</td>\n",
       "      <td>69</td>\n",
       "      <td>Family Medicine</td>\n",
       "      <td>MURFREESBORO RADIOLOGY &amp; NUCLEAR MEDICINE CONS...</td>\n",
       "      <td>Radiology</td>\n",
       "      <td>True</td>\n",
       "    </tr>\n",
       "    <tr>\n",
       "      <th>4</th>\n",
       "      <td>1013012616</td>\n",
       "      <td>CRIPPS, HOOPER &amp; RHODY, PLLC</td>\n",
       "      <td>1437194669</td>\n",
       "      <td>79</td>\n",
       "      <td>Family Medicine</td>\n",
       "      <td>SAINT THOMAS MEDICAL PARTNERS</td>\n",
       "      <td>Internal Medicine</td>\n",
       "      <td>True</td>\n",
       "    </tr>\n",
       "  </tbody>\n",
       "</table>\n",
       "</div>"
      ],
      "text/plain": [
       "   provider_from_npi            provider_from_name         npi  \\\n",
       "0         1013012616  CRIPPS, HOOPER & RHODY, PLLC  1093741464   \n",
       "1         1013012616  CRIPPS, HOOPER & RHODY, PLLC  1104202761   \n",
       "2         1013012616  CRIPPS, HOOPER & RHODY, PLLC  1295726032   \n",
       "3         1013012616  CRIPPS, HOOPER & RHODY, PLLC  1316043524   \n",
       "4         1013012616  CRIPPS, HOOPER & RHODY, PLLC  1437194669   \n",
       "\n",
       "   transaction_count classification_from_provider  \\\n",
       "0                 72              Family Medicine   \n",
       "1                 65              Family Medicine   \n",
       "2                303              Family Medicine   \n",
       "3                 69              Family Medicine   \n",
       "4                 79              Family Medicine   \n",
       "\n",
       "                                    provider_to_name  \\\n",
       "0                    ADVANCED DIAGNOSTIC IMAGING, PC   \n",
       "1               VANDERBILT UNIVERSITY MEDICAL CENTER   \n",
       "2                                                NaN   \n",
       "3  MURFREESBORO RADIOLOGY & NUCLEAR MEDICINE CONS...   \n",
       "4                      SAINT THOMAS MEDICAL PARTNERS   \n",
       "\n",
       "  classification_to_provider  In_Nashville  \n",
       "0          Internal Medicine          True  \n",
       "1          Internal Medicine          True  \n",
       "2                        NaN         False  \n",
       "3                  Radiology          True  \n",
       "4          Internal Medicine          True  "
      ]
     },
     "execution_count": 276,
     "metadata": {},
     "output_type": "execute_result"
    }
   ],
   "source": [
    "referral_patterns_merge.head(5)"
   ]
  },
  {
   "cell_type": "code",
   "execution_count": 53,
   "id": "2b4e96d0",
   "metadata": {
    "scrolled": true
   },
   "outputs": [
    {
     "data": {
      "image/png": "[encoded data removed]",
      "text/plain": [
       "<Figure size 1200x800 with 1 Axes>"
      ]
     },
     "metadata": {},
     "output_type": "display_data"
    }
   ],
   "source": [
    "df_sorted = classification_from_to_transactions.sort_values(by='total_transactions', ascending=False).head(50)\n",
    "\n",
    "# Pivot the dataframe for easy plotting\n",
    "pivot_df = df_sorted.pivot(index='classification_from_provider', columns='classification_to_provider', values='total_transactions')\n",
    "\n",
    "# Plot the stacked bar chart\n",
    "pivot_df.plot(kind='bar', stacked=True, figsize=(12, 8))\n",
    "plt.title('Total Transactions Between Specialties')\n",
    "plt.xlabel('From Provider Classification')\n",
    "plt.ylabel('Total Transactions')\n",
    "plt.legend(title='To Provider Classification', bbox_to_anchor=(1.05, 1), loc='upper left')\n",
    "plt.xticks(rotation=45, ha='right')\n",
    "plt.tight_layout()\n",
    "plt.show()"
   ]
  },
  {
   "cell_type": "code",
   "execution_count": 54,
   "id": "29660ac2",
   "metadata": {},
   "outputs": [
    {
     "data": {
      "text/html": [
       "<div>\n",
       "<style scoped>\n",
       "    .dataframe tbody tr th:only-of-type {\n",
       "        vertical-align: middle;\n",
       "    }\n",
       "\n",
       "    .dataframe tbody tr th {\n",
       "        vertical-align: top;\n",
       "    }\n",
       "\n",
       "    .dataframe thead th {\n",
       "        text-align: right;\n",
       "    }\n",
       "</style>\n",
       "<table border=\"1\" class=\"dataframe\">\n",
       "  <thead>\n",
       "    <tr style=\"text-align: right;\">\n",
       "      <th></th>\n",
       "      <th>provider_from_name</th>\n",
       "      <th>provider_to_name</th>\n",
       "      <th>total_transactions</th>\n",
       "    </tr>\n",
       "  </thead>\n",
       "  <tbody>\n",
       "    <tr>\n",
       "      <th>0</th>\n",
       "      <td>(RIVERSIDE FAMILY MEDICINE)</td>\n",
       "      <td>ADVANCED DIAGNOSTIC IMAGING, PC</td>\n",
       "      <td>294</td>\n",
       "    </tr>\n",
       "    <tr>\n",
       "      <th>1</th>\n",
       "      <td>(RIVERSIDE FAMILY MEDICINE)</td>\n",
       "      <td>ANESTHESIA MEDICAL GROUP, PC</td>\n",
       "      <td>136</td>\n",
       "    </tr>\n",
       "    <tr>\n",
       "      <th>2</th>\n",
       "      <td>(RIVERSIDE FAMILY MEDICINE)</td>\n",
       "      <td>APRIA HEALTHCARE LLC</td>\n",
       "      <td>53</td>\n",
       "    </tr>\n",
       "    <tr>\n",
       "      <th>3</th>\n",
       "      <td>(RIVERSIDE FAMILY MEDICINE)</td>\n",
       "      <td>ASSOCIATED PATHOLOGISTS LLC</td>\n",
       "      <td>756</td>\n",
       "    </tr>\n",
       "    <tr>\n",
       "      <th>4</th>\n",
       "      <td>(RIVERSIDE FAMILY MEDICINE)</td>\n",
       "      <td>ASSOCIATED PATHOLOGISTS, LLC</td>\n",
       "      <td>784</td>\n",
       "    </tr>\n",
       "    <tr>\n",
       "      <th>...</th>\n",
       "      <td>...</td>\n",
       "      <td>...</td>\n",
       "      <td>...</td>\n",
       "    </tr>\n",
       "    <tr>\n",
       "      <th>140812</th>\n",
       "      <td>ZERENE STEPHEN</td>\n",
       "      <td>VANDERBILT UNIVERSITY MEDICAL CENTER</td>\n",
       "      <td>234</td>\n",
       "    </tr>\n",
       "    <tr>\n",
       "      <th>140813</th>\n",
       "      <td>ZHIJIAN WANG</td>\n",
       "      <td>THOMAS GOLPER</td>\n",
       "      <td>473</td>\n",
       "    </tr>\n",
       "    <tr>\n",
       "      <th>140814</th>\n",
       "      <td>ZHIJIAN WANG</td>\n",
       "      <td>VANDERBILT UNIVERSITY MEDICAL CENTER</td>\n",
       "      <td>1282</td>\n",
       "    </tr>\n",
       "    <tr>\n",
       "      <th>140815</th>\n",
       "      <td>ZINAH HADIDI</td>\n",
       "      <td>VANDERBILT UNIVERSITY MEDICAL CENTER</td>\n",
       "      <td>65</td>\n",
       "    </tr>\n",
       "    <tr>\n",
       "      <th>140816</th>\n",
       "      <td>ZSOLT MULLER</td>\n",
       "      <td>HEALTH4LIFE CHIROPRACTIC, INC</td>\n",
       "      <td>308</td>\n",
       "    </tr>\n",
       "  </tbody>\n",
       "</table>\n",
       "<p>140817 rows × 3 columns</p>\n",
       "</div>"
      ],
      "text/plain": [
       "                 provider_from_name                      provider_to_name  \\\n",
       "0       (RIVERSIDE FAMILY MEDICINE)       ADVANCED DIAGNOSTIC IMAGING, PC   \n",
       "1       (RIVERSIDE FAMILY MEDICINE)          ANESTHESIA MEDICAL GROUP, PC   \n",
       "2       (RIVERSIDE FAMILY MEDICINE)                  APRIA HEALTHCARE LLC   \n",
       "3       (RIVERSIDE FAMILY MEDICINE)           ASSOCIATED PATHOLOGISTS LLC   \n",
       "4       (RIVERSIDE FAMILY MEDICINE)          ASSOCIATED PATHOLOGISTS, LLC   \n",
       "...                             ...                                   ...   \n",
       "140812               ZERENE STEPHEN  VANDERBILT UNIVERSITY MEDICAL CENTER   \n",
       "140813                 ZHIJIAN WANG                         THOMAS GOLPER   \n",
       "140814                 ZHIJIAN WANG  VANDERBILT UNIVERSITY MEDICAL CENTER   \n",
       "140815                 ZINAH HADIDI  VANDERBILT UNIVERSITY MEDICAL CENTER   \n",
       "140816                 ZSOLT MULLER         HEALTH4LIFE CHIROPRACTIC, INC   \n",
       "\n",
       "        total_transactions  \n",
       "0                      294  \n",
       "1                      136  \n",
       "2                       53  \n",
       "3                      756  \n",
       "4                      784  \n",
       "...                    ...  \n",
       "140812                 234  \n",
       "140813                 473  \n",
       "140814                1282  \n",
       "140815                  65  \n",
       "140816                 308  \n",
       "\n",
       "[140817 rows x 3 columns]"
      ]
     },
     "execution_count": 54,
     "metadata": {},
     "output_type": "execute_result"
    }
   ],
   "source": [
    "# What is the percentage of the next specialty a type of provider/ hopsital would refer to? \n",
    "provider_from_to_transactions = referral_patterns_merge.groupby([\"provider_from_name\", \"provider_to_name\"])[\"transaction_count\"].sum().reset_index(name = \"total_transactions\")\n",
    "\n",
    "provider_from_to_transactions"
   ]
  },
  {
   "cell_type": "code",
   "execution_count": 56,
   "id": "f75b8fe7",
   "metadata": {},
   "outputs": [],
   "source": [
    "referral_patterns = nashnpi_from_npi.groupby([\"classification\", \"provider_name\"]).size().reset_index(name = \"referral_count\")\n",
    "\n",
    "\n",
    "# This code groups the nashnpi_from_npi by classification then by legal business name \n",
    "referral_patterns = nashnpi_from_npi.groupby([\"classification\", \"provider_name\"]).size().reset_index(name = \"referral_count\")\n",
    "\n",
    "# Step 1: Calculate the total number of referrals for each classification\n",
    "total_referrals = referral_patterns.groupby(\"classification\")[\"referral_count\"].sum().reset_index(name=\"total_referrals\")\n",
    "\n"
   ]
  },
  {
   "cell_type": "code",
   "execution_count": 58,
   "id": "abbcd6cc",
   "metadata": {
    "scrolled": true
   },
   "outputs": [
    {
     "data": {
      "text/html": [
       "<div>\n",
       "<style scoped>\n",
       "    .dataframe tbody tr th:only-of-type {\n",
       "        vertical-align: middle;\n",
       "    }\n",
       "\n",
       "    .dataframe tbody tr th {\n",
       "        vertical-align: top;\n",
       "    }\n",
       "\n",
       "    .dataframe thead th {\n",
       "        text-align: right;\n",
       "    }\n",
       "</style>\n",
       "<table border=\"1\" class=\"dataframe\">\n",
       "  <thead>\n",
       "    <tr style=\"text-align: right;\">\n",
       "      <th></th>\n",
       "      <th>classification</th>\n",
       "      <th>provider_name</th>\n",
       "      <th>referral_count</th>\n",
       "      <th>referral_percentage</th>\n",
       "    </tr>\n",
       "  </thead>\n",
       "  <tbody>\n",
       "    <tr>\n",
       "      <th>0</th>\n",
       "      <td>Advanced Practice Midwife</td>\n",
       "      <td>HEATHER POTTS</td>\n",
       "      <td>1</td>\n",
       "      <td>12.500000</td>\n",
       "    </tr>\n",
       "    <tr>\n",
       "      <th>1</th>\n",
       "      <td>Advanced Practice Midwife</td>\n",
       "      <td>MICHELE GIBSON-O'GRADY</td>\n",
       "      <td>4</td>\n",
       "      <td>50.000000</td>\n",
       "    </tr>\n",
       "    <tr>\n",
       "      <th>2</th>\n",
       "      <td>Advanced Practice Midwife</td>\n",
       "      <td>REGINA BARUKH</td>\n",
       "      <td>1</td>\n",
       "      <td>12.500000</td>\n",
       "    </tr>\n",
       "    <tr>\n",
       "      <th>3</th>\n",
       "      <td>Advanced Practice Midwife</td>\n",
       "      <td>SHANDRA ANDRY</td>\n",
       "      <td>1</td>\n",
       "      <td>12.500000</td>\n",
       "    </tr>\n",
       "    <tr>\n",
       "      <th>4</th>\n",
       "      <td>Advanced Practice Midwife</td>\n",
       "      <td>TERRY ZIMMER</td>\n",
       "      <td>1</td>\n",
       "      <td>12.500000</td>\n",
       "    </tr>\n",
       "    <tr>\n",
       "      <th>...</th>\n",
       "      <td>...</td>\n",
       "      <td>...</td>\n",
       "      <td>...</td>\n",
       "      <td>...</td>\n",
       "    </tr>\n",
       "    <tr>\n",
       "      <th>8998</th>\n",
       "      <td>Urology</td>\n",
       "      <td>WHITSON LOWE</td>\n",
       "      <td>5</td>\n",
       "      <td>0.258398</td>\n",
       "    </tr>\n",
       "    <tr>\n",
       "      <th>8999</th>\n",
       "      <td>Urology</td>\n",
       "      <td>WILLIAM BINKLEY</td>\n",
       "      <td>6</td>\n",
       "      <td>0.310078</td>\n",
       "    </tr>\n",
       "    <tr>\n",
       "      <th>9000</th>\n",
       "      <td>Urology</td>\n",
       "      <td>WILLIAM J. BINKLEY, M.D. LLC</td>\n",
       "      <td>5</td>\n",
       "      <td>0.258398</td>\n",
       "    </tr>\n",
       "    <tr>\n",
       "      <th>9001</th>\n",
       "      <td>Urology</td>\n",
       "      <td>WILLIAM REYNOLDS</td>\n",
       "      <td>4</td>\n",
       "      <td>0.206718</td>\n",
       "    </tr>\n",
       "    <tr>\n",
       "      <th>9002</th>\n",
       "      <td>Urology</td>\n",
       "      <td>WILLIAM TISSOT</td>\n",
       "      <td>16</td>\n",
       "      <td>0.826873</td>\n",
       "    </tr>\n",
       "  </tbody>\n",
       "</table>\n",
       "<p>9003 rows × 4 columns</p>\n",
       "</div>"
      ],
      "text/plain": [
       "                 classification                 provider_name  referral_count  \\\n",
       "0     Advanced Practice Midwife                 HEATHER POTTS               1   \n",
       "1     Advanced Practice Midwife        MICHELE GIBSON-O'GRADY               4   \n",
       "2     Advanced Practice Midwife                 REGINA BARUKH               1   \n",
       "3     Advanced Practice Midwife                 SHANDRA ANDRY               1   \n",
       "4     Advanced Practice Midwife                  TERRY ZIMMER               1   \n",
       "...                         ...                           ...             ...   \n",
       "8998                    Urology                  WHITSON LOWE               5   \n",
       "8999                    Urology               WILLIAM BINKLEY               6   \n",
       "9000                    Urology  WILLIAM J. BINKLEY, M.D. LLC               5   \n",
       "9001                    Urology              WILLIAM REYNOLDS               4   \n",
       "9002                    Urology                WILLIAM TISSOT              16   \n",
       "\n",
       "      referral_percentage  \n",
       "0               12.500000  \n",
       "1               50.000000  \n",
       "2               12.500000  \n",
       "3               12.500000  \n",
       "4               12.500000  \n",
       "...                   ...  \n",
       "8998             0.258398  \n",
       "8999             0.310078  \n",
       "9000             0.258398  \n",
       "9001             0.206718  \n",
       "9002             0.826873  \n",
       "\n",
       "[9003 rows x 4 columns]"
      ]
     },
     "execution_count": 58,
     "metadata": {},
     "output_type": "execute_result"
    }
   ],
   "source": [
    "# Calculate the total number of referrals for each classification\n",
    "total_referrals = referral_patterns.groupby(\"classification\")[\"referral_count\"].sum().reset_index(name=\"total_referrals\")\n",
    "\n",
    "# Merge the total number of referrals back to the referral_patterns dataframe\n",
    "referral_patterns = referral_patterns.merge(total_referrals, on=\"classification\")\n",
    "\n",
    "# Calculate the percentage of referrals for each provider within each classification\n",
    "referral_patterns[\"referral_percentage\"] = (referral_patterns[\"referral_count\"] / referral_patterns[\"total_referrals\"]) * 100\n",
    "# referral_patterns[\"referral_percentage\"] = referral_patterns[\"referral_percentage\"].round(2).astype(str)+\"%\"\n",
    "\n",
    "# Drop unneeded columns\n",
    "referral_patterns.drop(columns=[\"total_referrals\"], inplace=True)\n",
    "\n",
    "referral_patterns\n"
   ]
  },
  {
   "cell_type": "code",
   "execution_count": 59,
   "id": "af018522",
   "metadata": {},
   "outputs": [
    {
     "data": {
      "text/plain": [
       "9003"
      ]
     },
     "execution_count": 59,
     "metadata": {},
     "output_type": "execute_result"
    }
   ],
   "source": [
    "len(referral_patterns)"
   ]
  },
  {
   "cell_type": "code",
   "execution_count": 60,
   "id": "d1f9e93f",
   "metadata": {},
   "outputs": [
    {
     "data": {
      "text/plain": [
       "242171"
      ]
     },
     "execution_count": 60,
     "metadata": {},
     "output_type": "execute_result"
    }
   ],
   "source": [
    "len(referral_patterns_merge)"
   ]
  },
  {
   "cell_type": "markdown",
   "id": "6116f399",
   "metadata": {},
   "source": [
    "Notes: \n",
    "- Merging referral patterns (list of provider from names) to list of npis (from npi_nash df) resulted in less records (total of 156638 rows). \n",
    "    - This was because I used pd.merge, which is an inner join. Do a left join instead to keep the same amount of records.\n",
    "    - Using a left join, I have some missing values in the merge data. \n",
    "        - 85,852 rows had NaN provider_to_names. \n",
    "- What would it look like merging it with list of npis from the to providers?\n",
    "- Why are the list of from providers and to providers uneven? Is there more than referral_count of 1? "
   ]
  },
  {
   "cell_type": "code",
   "execution_count": 61,
   "id": "b34a7d4a",
   "metadata": {
    "scrolled": true
   },
   "outputs": [
    {
     "data": {
      "text/html": [
       "<div>\n",
       "<style scoped>\n",
       "    .dataframe tbody tr th:only-of-type {\n",
       "        vertical-align: middle;\n",
       "    }\n",
       "\n",
       "    .dataframe tbody tr th {\n",
       "        vertical-align: top;\n",
       "    }\n",
       "\n",
       "    .dataframe thead th {\n",
       "        text-align: right;\n",
       "    }\n",
       "</style>\n",
       "<table border=\"1\" class=\"dataframe\">\n",
       "  <thead>\n",
       "    <tr style=\"text-align: right;\">\n",
       "      <th></th>\n",
       "      <th>provider_from_name</th>\n",
       "      <th>provider_to_name</th>\n",
       "      <th>referral_count</th>\n",
       "    </tr>\n",
       "  </thead>\n",
       "  <tbody>\n",
       "    <tr>\n",
       "      <th>0</th>\n",
       "      <td>(RIVERSIDE FAMILY MEDICINE)</td>\n",
       "      <td>ADVANCED DIAGNOSTIC IMAGING, PC</td>\n",
       "      <td>1</td>\n",
       "    </tr>\n",
       "    <tr>\n",
       "      <th>1</th>\n",
       "      <td>(RIVERSIDE FAMILY MEDICINE)</td>\n",
       "      <td>ANESTHESIA MEDICAL GROUP, PC</td>\n",
       "      <td>1</td>\n",
       "    </tr>\n",
       "    <tr>\n",
       "      <th>2</th>\n",
       "      <td>(RIVERSIDE FAMILY MEDICINE)</td>\n",
       "      <td>APRIA HEALTHCARE LLC</td>\n",
       "      <td>1</td>\n",
       "    </tr>\n",
       "    <tr>\n",
       "      <th>3</th>\n",
       "      <td>(RIVERSIDE FAMILY MEDICINE)</td>\n",
       "      <td>ASSOCIATED PATHOLOGISTS LLC</td>\n",
       "      <td>1</td>\n",
       "    </tr>\n",
       "    <tr>\n",
       "      <th>4</th>\n",
       "      <td>(RIVERSIDE FAMILY MEDICINE)</td>\n",
       "      <td>ASSOCIATED PATHOLOGISTS, LLC</td>\n",
       "      <td>1</td>\n",
       "    </tr>\n",
       "    <tr>\n",
       "      <th>5</th>\n",
       "      <td>(RIVERSIDE FAMILY MEDICINE)</td>\n",
       "      <td>CENTENNIAL HEART LLC</td>\n",
       "      <td>1</td>\n",
       "    </tr>\n",
       "    <tr>\n",
       "      <th>6</th>\n",
       "      <td>(RIVERSIDE FAMILY MEDICINE)</td>\n",
       "      <td>CHRISTOPHER CONLEY</td>\n",
       "      <td>1</td>\n",
       "    </tr>\n",
       "    <tr>\n",
       "      <th>7</th>\n",
       "      <td>(RIVERSIDE FAMILY MEDICINE)</td>\n",
       "      <td>DANIEL WUNDER</td>\n",
       "      <td>1</td>\n",
       "    </tr>\n",
       "    <tr>\n",
       "      <th>8</th>\n",
       "      <td>(RIVERSIDE FAMILY MEDICINE)</td>\n",
       "      <td>DEREK WELCH</td>\n",
       "      <td>1</td>\n",
       "    </tr>\n",
       "    <tr>\n",
       "      <th>9</th>\n",
       "      <td>(RIVERSIDE FAMILY MEDICINE)</td>\n",
       "      <td>DOVERSIDE EMERGENCY PHYSICIANS PLLC</td>\n",
       "      <td>1</td>\n",
       "    </tr>\n",
       "    <tr>\n",
       "      <th>10</th>\n",
       "      <td>(RIVERSIDE FAMILY MEDICINE)</td>\n",
       "      <td>HENDERSONVILLE HOSPITAL CORPORATION</td>\n",
       "      <td>1</td>\n",
       "    </tr>\n",
       "    <tr>\n",
       "      <th>11</th>\n",
       "      <td>(RIVERSIDE FAMILY MEDICINE)</td>\n",
       "      <td>HTI MEMORIAL HOSPITAL CORPORATION</td>\n",
       "      <td>1</td>\n",
       "    </tr>\n",
       "    <tr>\n",
       "      <th>12</th>\n",
       "      <td>(RIVERSIDE FAMILY MEDICINE)</td>\n",
       "      <td>JAMES C. LODEN, MD PC</td>\n",
       "      <td>1</td>\n",
       "    </tr>\n",
       "    <tr>\n",
       "      <th>13</th>\n",
       "      <td>(RIVERSIDE FAMILY MEDICINE)</td>\n",
       "      <td>KENNETH DOZIER</td>\n",
       "      <td>1</td>\n",
       "    </tr>\n",
       "    <tr>\n",
       "      <th>14</th>\n",
       "      <td>(RIVERSIDE FAMILY MEDICINE)</td>\n",
       "      <td>METROPOLITAN GOVERNMENT OF NASHVILLE &amp; DAVIDSO...</td>\n",
       "      <td>1</td>\n",
       "    </tr>\n",
       "    <tr>\n",
       "      <th>15</th>\n",
       "      <td>(RIVERSIDE FAMILY MEDICINE)</td>\n",
       "      <td>MIDDLE TENNESSEE HOSPITALIST, PLC</td>\n",
       "      <td>1</td>\n",
       "    </tr>\n",
       "    <tr>\n",
       "      <th>16</th>\n",
       "      <td>(RIVERSIDE FAMILY MEDICINE)</td>\n",
       "      <td>MIDDLE TENNESSEE PULMONARY ASSOCIATES, LLC</td>\n",
       "      <td>1</td>\n",
       "    </tr>\n",
       "    <tr>\n",
       "      <th>17</th>\n",
       "      <td>(RIVERSIDE FAMILY MEDICINE)</td>\n",
       "      <td>NEPHROLOGY ASSOCIATES, PC</td>\n",
       "      <td>1</td>\n",
       "    </tr>\n",
       "    <tr>\n",
       "      <th>18</th>\n",
       "      <td>(RIVERSIDE FAMILY MEDICINE)</td>\n",
       "      <td>NOL, LLC</td>\n",
       "      <td>1</td>\n",
       "    </tr>\n",
       "    <tr>\n",
       "      <th>19</th>\n",
       "      <td>(RIVERSIDE FAMILY MEDICINE)</td>\n",
       "      <td>OXYGEN AND SLEEP ASSOCIATES, INC.</td>\n",
       "      <td>1</td>\n",
       "    </tr>\n",
       "    <tr>\n",
       "      <th>20</th>\n",
       "      <td>(RIVERSIDE FAMILY MEDICINE)</td>\n",
       "      <td>PATHGROUP LABS, LLC</td>\n",
       "      <td>1</td>\n",
       "    </tr>\n",
       "    <tr>\n",
       "      <th>21</th>\n",
       "      <td>(RIVERSIDE FAMILY MEDICINE)</td>\n",
       "      <td>PETER GELESKIE</td>\n",
       "      <td>1</td>\n",
       "    </tr>\n",
       "    <tr>\n",
       "      <th>22</th>\n",
       "      <td>(RIVERSIDE FAMILY MEDICINE)</td>\n",
       "      <td>RADIOLOGY ALLIANCE PC</td>\n",
       "      <td>1</td>\n",
       "    </tr>\n",
       "    <tr>\n",
       "      <th>23</th>\n",
       "      <td>(RIVERSIDE FAMILY MEDICINE)</td>\n",
       "      <td>ROXANNE BROWN</td>\n",
       "      <td>1</td>\n",
       "    </tr>\n",
       "    <tr>\n",
       "      <th>24</th>\n",
       "      <td>(RIVERSIDE FAMILY MEDICINE)</td>\n",
       "      <td>SAINT THOMAS MEDICAL PARTNERS</td>\n",
       "      <td>1</td>\n",
       "    </tr>\n",
       "    <tr>\n",
       "      <th>25</th>\n",
       "      <td>(RIVERSIDE FAMILY MEDICINE)</td>\n",
       "      <td>SUNIL KAZA</td>\n",
       "      <td>1</td>\n",
       "    </tr>\n",
       "    <tr>\n",
       "      <th>26</th>\n",
       "      <td>(RIVERSIDE FAMILY MEDICINE)</td>\n",
       "      <td>TENNESSEE ONCOLOGY PLLC</td>\n",
       "      <td>3</td>\n",
       "    </tr>\n",
       "    <tr>\n",
       "      <th>27</th>\n",
       "      <td>(RIVERSIDE FAMILY MEDICINE)</td>\n",
       "      <td>TENNESSEE ORTHOPAEDIC ALLIANCE PA</td>\n",
       "      <td>1</td>\n",
       "    </tr>\n",
       "    <tr>\n",
       "      <th>28</th>\n",
       "      <td>(RIVERSIDE FAMILY MEDICINE)</td>\n",
       "      <td>TERRY KETCH</td>\n",
       "      <td>1</td>\n",
       "    </tr>\n",
       "    <tr>\n",
       "      <th>29</th>\n",
       "      <td>(RIVERSIDE FAMILY MEDICINE)</td>\n",
       "      <td>THE SURGICAL CLINIC PLLC</td>\n",
       "      <td>1</td>\n",
       "    </tr>\n",
       "    <tr>\n",
       "      <th>30</th>\n",
       "      <td>(RIVERSIDE FAMILY MEDICINE)</td>\n",
       "      <td>TONY FREEMAN</td>\n",
       "      <td>1</td>\n",
       "    </tr>\n",
       "    <tr>\n",
       "      <th>31</th>\n",
       "      <td>(RIVERSIDE FAMILY MEDICINE)</td>\n",
       "      <td>UROLOGY ASSOCIATES PC</td>\n",
       "      <td>1</td>\n",
       "    </tr>\n",
       "    <tr>\n",
       "      <th>32</th>\n",
       "      <td>(RIVERSIDE FAMILY MEDICINE)</td>\n",
       "      <td>VANDERBILT UNIVERSITY MEDICAL CENTER</td>\n",
       "      <td>1</td>\n",
       "    </tr>\n",
       "    <tr>\n",
       "      <th>33</th>\n",
       "      <td>1ST CHOICE CHIROPRACTIC INC.</td>\n",
       "      <td>STEPHEN SCHEITEL</td>\n",
       "      <td>1</td>\n",
       "    </tr>\n",
       "    <tr>\n",
       "      <th>34</th>\n",
       "      <td>A1 HEALTHCARE</td>\n",
       "      <td>MARY LINVILLE</td>\n",
       "      <td>1</td>\n",
       "    </tr>\n",
       "    <tr>\n",
       "      <th>35</th>\n",
       "      <td>AARON ALLRED</td>\n",
       "      <td>ACCURATE HEALTHCARE, INC.</td>\n",
       "      <td>1</td>\n",
       "    </tr>\n",
       "    <tr>\n",
       "      <th>36</th>\n",
       "      <td>AARON ALLRED</td>\n",
       "      <td>ADVANCED DIAGNOSTIC IMAGING, PC</td>\n",
       "      <td>1</td>\n",
       "    </tr>\n",
       "    <tr>\n",
       "      <th>37</th>\n",
       "      <td>AARON ALLRED</td>\n",
       "      <td>ALICIA A VICTORY, PSYD, LLC</td>\n",
       "      <td>1</td>\n",
       "    </tr>\n",
       "    <tr>\n",
       "      <th>38</th>\n",
       "      <td>AARON ALLRED</td>\n",
       "      <td>ALICIA VICTORY</td>\n",
       "      <td>1</td>\n",
       "    </tr>\n",
       "    <tr>\n",
       "      <th>39</th>\n",
       "      <td>AARON ALLRED</td>\n",
       "      <td>BLAKEFORD AT GREEN HILLS CORPORATION</td>\n",
       "      <td>1</td>\n",
       "    </tr>\n",
       "    <tr>\n",
       "      <th>40</th>\n",
       "      <td>AARON ALLRED</td>\n",
       "      <td>BRITTNEY WHITMORE</td>\n",
       "      <td>1</td>\n",
       "    </tr>\n",
       "    <tr>\n",
       "      <th>41</th>\n",
       "      <td>AARON ALLRED</td>\n",
       "      <td>CENTENNIAL HEART LLC</td>\n",
       "      <td>1</td>\n",
       "    </tr>\n",
       "    <tr>\n",
       "      <th>42</th>\n",
       "      <td>AARON ALLRED</td>\n",
       "      <td>COLUMBIA OPERATIONS, LLC</td>\n",
       "      <td>1</td>\n",
       "    </tr>\n",
       "    <tr>\n",
       "      <th>43</th>\n",
       "      <td>AARON ALLRED</td>\n",
       "      <td>DONALD VOLLMER</td>\n",
       "      <td>1</td>\n",
       "    </tr>\n",
       "    <tr>\n",
       "      <th>44</th>\n",
       "      <td>AARON ALLRED</td>\n",
       "      <td>FAMILY MEDICAL PC</td>\n",
       "      <td>1</td>\n",
       "    </tr>\n",
       "    <tr>\n",
       "      <th>45</th>\n",
       "      <td>AARON ALLRED</td>\n",
       "      <td>GIBRAN NADDY</td>\n",
       "      <td>1</td>\n",
       "    </tr>\n",
       "    <tr>\n",
       "      <th>46</th>\n",
       "      <td>AARON ALLRED</td>\n",
       "      <td>JAMES COUCH</td>\n",
       "      <td>1</td>\n",
       "    </tr>\n",
       "    <tr>\n",
       "      <th>47</th>\n",
       "      <td>AARON ALLRED</td>\n",
       "      <td>JIM HARRIS</td>\n",
       "      <td>1</td>\n",
       "    </tr>\n",
       "    <tr>\n",
       "      <th>48</th>\n",
       "      <td>AARON ALLRED</td>\n",
       "      <td>JIN QIAN</td>\n",
       "      <td>1</td>\n",
       "    </tr>\n",
       "    <tr>\n",
       "      <th>49</th>\n",
       "      <td>AARON ALLRED</td>\n",
       "      <td>JOHN WILLIAMS</td>\n",
       "      <td>1</td>\n",
       "    </tr>\n",
       "  </tbody>\n",
       "</table>\n",
       "</div>"
      ],
      "text/plain": [
       "              provider_from_name  \\\n",
       "0    (RIVERSIDE FAMILY MEDICINE)   \n",
       "1    (RIVERSIDE FAMILY MEDICINE)   \n",
       "2    (RIVERSIDE FAMILY MEDICINE)   \n",
       "3    (RIVERSIDE FAMILY MEDICINE)   \n",
       "4    (RIVERSIDE FAMILY MEDICINE)   \n",
       "5    (RIVERSIDE FAMILY MEDICINE)   \n",
       "6    (RIVERSIDE FAMILY MEDICINE)   \n",
       "7    (RIVERSIDE FAMILY MEDICINE)   \n",
       "8    (RIVERSIDE FAMILY MEDICINE)   \n",
       "9    (RIVERSIDE FAMILY MEDICINE)   \n",
       "10   (RIVERSIDE FAMILY MEDICINE)   \n",
       "11   (RIVERSIDE FAMILY MEDICINE)   \n",
       "12   (RIVERSIDE FAMILY MEDICINE)   \n",
       "13   (RIVERSIDE FAMILY MEDICINE)   \n",
       "14   (RIVERSIDE FAMILY MEDICINE)   \n",
       "15   (RIVERSIDE FAMILY MEDICINE)   \n",
       "16   (RIVERSIDE FAMILY MEDICINE)   \n",
       "17   (RIVERSIDE FAMILY MEDICINE)   \n",
       "18   (RIVERSIDE FAMILY MEDICINE)   \n",
       "19   (RIVERSIDE FAMILY MEDICINE)   \n",
       "20   (RIVERSIDE FAMILY MEDICINE)   \n",
       "21   (RIVERSIDE FAMILY MEDICINE)   \n",
       "22   (RIVERSIDE FAMILY MEDICINE)   \n",
       "23   (RIVERSIDE FAMILY MEDICINE)   \n",
       "24   (RIVERSIDE FAMILY MEDICINE)   \n",
       "25   (RIVERSIDE FAMILY MEDICINE)   \n",
       "26   (RIVERSIDE FAMILY MEDICINE)   \n",
       "27   (RIVERSIDE FAMILY MEDICINE)   \n",
       "28   (RIVERSIDE FAMILY MEDICINE)   \n",
       "29   (RIVERSIDE FAMILY MEDICINE)   \n",
       "30   (RIVERSIDE FAMILY MEDICINE)   \n",
       "31   (RIVERSIDE FAMILY MEDICINE)   \n",
       "32   (RIVERSIDE FAMILY MEDICINE)   \n",
       "33  1ST CHOICE CHIROPRACTIC INC.   \n",
       "34                 A1 HEALTHCARE   \n",
       "35                  AARON ALLRED   \n",
       "36                  AARON ALLRED   \n",
       "37                  AARON ALLRED   \n",
       "38                  AARON ALLRED   \n",
       "39                  AARON ALLRED   \n",
       "40                  AARON ALLRED   \n",
       "41                  AARON ALLRED   \n",
       "42                  AARON ALLRED   \n",
       "43                  AARON ALLRED   \n",
       "44                  AARON ALLRED   \n",
       "45                  AARON ALLRED   \n",
       "46                  AARON ALLRED   \n",
       "47                  AARON ALLRED   \n",
       "48                  AARON ALLRED   \n",
       "49                  AARON ALLRED   \n",
       "\n",
       "                                     provider_to_name  referral_count  \n",
       "0                     ADVANCED DIAGNOSTIC IMAGING, PC               1  \n",
       "1                        ANESTHESIA MEDICAL GROUP, PC               1  \n",
       "2                                APRIA HEALTHCARE LLC               1  \n",
       "3                         ASSOCIATED PATHOLOGISTS LLC               1  \n",
       "4                        ASSOCIATED PATHOLOGISTS, LLC               1  \n",
       "5                                CENTENNIAL HEART LLC               1  \n",
       "6                                  CHRISTOPHER CONLEY               1  \n",
       "7                                       DANIEL WUNDER               1  \n",
       "8                                         DEREK WELCH               1  \n",
       "9                 DOVERSIDE EMERGENCY PHYSICIANS PLLC               1  \n",
       "10                HENDERSONVILLE HOSPITAL CORPORATION               1  \n",
       "11                  HTI MEMORIAL HOSPITAL CORPORATION               1  \n",
       "12                              JAMES C. LODEN, MD PC               1  \n",
       "13                                     KENNETH DOZIER               1  \n",
       "14  METROPOLITAN GOVERNMENT OF NASHVILLE & DAVIDSO...               1  \n",
       "15                  MIDDLE TENNESSEE HOSPITALIST, PLC               1  \n",
       "16         MIDDLE TENNESSEE PULMONARY ASSOCIATES, LLC               1  \n",
       "17                          NEPHROLOGY ASSOCIATES, PC               1  \n",
       "18                                           NOL, LLC               1  \n",
       "19                  OXYGEN AND SLEEP ASSOCIATES, INC.               1  \n",
       "20                                PATHGROUP LABS, LLC               1  \n",
       "21                                     PETER GELESKIE               1  \n",
       "22                              RADIOLOGY ALLIANCE PC               1  \n",
       "23                                      ROXANNE BROWN               1  \n",
       "24                      SAINT THOMAS MEDICAL PARTNERS               1  \n",
       "25                                         SUNIL KAZA               1  \n",
       "26                            TENNESSEE ONCOLOGY PLLC               3  \n",
       "27                  TENNESSEE ORTHOPAEDIC ALLIANCE PA               1  \n",
       "28                                        TERRY KETCH               1  \n",
       "29                           THE SURGICAL CLINIC PLLC               1  \n",
       "30                                       TONY FREEMAN               1  \n",
       "31                              UROLOGY ASSOCIATES PC               1  \n",
       "32               VANDERBILT UNIVERSITY MEDICAL CENTER               1  \n",
       "33                                   STEPHEN SCHEITEL               1  \n",
       "34                                      MARY LINVILLE               1  \n",
       "35                          ACCURATE HEALTHCARE, INC.               1  \n",
       "36                    ADVANCED DIAGNOSTIC IMAGING, PC               1  \n",
       "37                        ALICIA A VICTORY, PSYD, LLC               1  \n",
       "38                                     ALICIA VICTORY               1  \n",
       "39               BLAKEFORD AT GREEN HILLS CORPORATION               1  \n",
       "40                                  BRITTNEY WHITMORE               1  \n",
       "41                               CENTENNIAL HEART LLC               1  \n",
       "42                           COLUMBIA OPERATIONS, LLC               1  \n",
       "43                                     DONALD VOLLMER               1  \n",
       "44                                  FAMILY MEDICAL PC               1  \n",
       "45                                       GIBRAN NADDY               1  \n",
       "46                                        JAMES COUCH               1  \n",
       "47                                         JIM HARRIS               1  \n",
       "48                                           JIN QIAN               1  \n",
       "49                                      JOHN WILLIAMS               1  "
      ]
     },
     "execution_count": 61,
     "metadata": {},
     "output_type": "execute_result"
    }
   ],
   "source": [
    "referral_patterns_merge_count = referral_patterns_merge.groupby([\"provider_from_name\", \"provider_to_name\"]).size().reset_index(name = \"referral_count\")\n",
    "\n",
    "\n",
    "referral_patterns_merge_count.head(50)"
   ]
  }
 ],
 "metadata": {
  "kernelspec": {
   "display_name": "Python 3 (ipykernel)",
   "language": "python",
   "name": "python3"
  },
  "language_info": {
   "codemirror_mode": {
    "name": "ipython",
    "version": 3
   },
   "file_extension": ".py",
   "mimetype": "text/x-python",
   "name": "python",
   "nbconvert_exporter": "python",
   "pygments_lexer": "ipython3",
   "version": "3.11.4"
  }
 },
 "nbformat": 4,
 "nbformat_minor": 5
}
