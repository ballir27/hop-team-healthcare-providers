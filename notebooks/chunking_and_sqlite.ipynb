{
 "cells": [
  {
   "cell_type": "markdown",
   "metadata": {},
   "source": [
    "# Chunking and SQLite\n",
    "\n",
    "In this notebook, we'll see a couple of techniques that can be used whe working with large file in Python.\n",
    "\n",
    "Specifically, we'll be looking at the dataset of Metro Nashville Police Department Calls for Service (https://data.nashville.gov/Police/Metro-Nashville-Police-Department-Calls-for-Servic/kwnd-qrrm) with the goal being to look at specific types of calls for service and to bring in additional information, when possible, from the Metro Nashville Police Department Incidents file (https://data.nashville.gov/Police/Metro-Nashville-Police-Department-Incidents/2u6v-ujjs)."
   ]
  },
  {
   "cell_type": "code",
   "execution_count": 1,
   "metadata": {},
   "outputs": [],
   "source": [
    "import pandas as pd"
   ]
  },
  {
   "cell_type": "markdown",
   "metadata": {},
   "source": [
    "We can start by reading in just a few rows to get an idea of what the dataset we are working with looks like. This can be done using the `nrows` argument."
   ]
  },
  {
   "cell_type": "code",
   "execution_count": 2,
   "metadata": {},
   "outputs": [
    {
     "data": {
      "text/html": [
       "<div>\n",
       "<style scoped>\n",
       "    .dataframe tbody tr th:only-of-type {\n",
       "        vertical-align: middle;\n",
       "    }\n",
       "\n",
       "    .dataframe tbody tr th {\n",
       "        vertical-align: top;\n",
       "    }\n",
       "\n",
       "    .dataframe thead th {\n",
       "        text-align: right;\n",
       "    }\n",
       "</style>\n",
       "<table border=\"1\" class=\"dataframe\">\n",
       "  <thead>\n",
       "    <tr style=\"text-align: right;\">\n",
       "      <th></th>\n",
       "      <th>Event Number</th>\n",
       "      <th>Call Received</th>\n",
       "      <th>Complaint Number</th>\n",
       "      <th>Tencode</th>\n",
       "      <th>Tencode Description</th>\n",
       "      <th>Tencode Suffix</th>\n",
       "      <th>Tencode Suffix Description</th>\n",
       "      <th>Disposition Code</th>\n",
       "      <th>Disposition Description</th>\n",
       "      <th>Block</th>\n",
       "      <th>Street Name</th>\n",
       "      <th>Unit Dispatched</th>\n",
       "      <th>Shift</th>\n",
       "      <th>Sector</th>\n",
       "      <th>Zone</th>\n",
       "      <th>RPA</th>\n",
       "      <th>Latitude</th>\n",
       "      <th>Longitude</th>\n",
       "      <th>Mapped Location</th>\n",
       "    </tr>\n",
       "  </thead>\n",
       "  <tbody>\n",
       "    <tr>\n",
       "      <th>0</th>\n",
       "      <td>PD202100625493</td>\n",
       "      <td>10/02/2021 07:13:21 PM</td>\n",
       "      <td>NaN</td>\n",
       "      <td>71</td>\n",
       "      <td>BURGLARY - NON-RESIDENCE</td>\n",
       "      <td>A</td>\n",
       "      <td>ALARM</td>\n",
       "      <td>11</td>\n",
       "      <td>DISREGARD / SIGNAL 9</td>\n",
       "      <td>NaN</td>\n",
       "      <td>NaN</td>\n",
       "      <td>NaN</td>\n",
       "      <td>B</td>\n",
       "      <td>H</td>\n",
       "      <td>523</td>\n",
       "      <td>9557.0</td>\n",
       "      <td>NaN</td>\n",
       "      <td>NaN</td>\n",
       "      <td>NaN</td>\n",
       "    </tr>\n",
       "    <tr>\n",
       "      <th>1</th>\n",
       "      <td>PD202100626631</td>\n",
       "      <td>10/03/2021 11:25:42 AM</td>\n",
       "      <td>NaN</td>\n",
       "      <td>43</td>\n",
       "      <td>WANT OFFICER FOR INVESTIGATION / ASSISTA</td>\n",
       "      <td>P</td>\n",
       "      <td>PROGRESS</td>\n",
       "      <td>4</td>\n",
       "      <td>ASSISTED CITIZEN</td>\n",
       "      <td>NaN</td>\n",
       "      <td>NaN</td>\n",
       "      <td>513A</td>\n",
       "      <td>A</td>\n",
       "      <td>H</td>\n",
       "      <td>513</td>\n",
       "      <td>9033.0</td>\n",
       "      <td>NaN</td>\n",
       "      <td>NaN</td>\n",
       "      <td>NaN</td>\n",
       "    </tr>\n",
       "    <tr>\n",
       "      <th>2</th>\n",
       "      <td>PD202100626031</td>\n",
       "      <td>10/03/2021 12:54:02 AM</td>\n",
       "      <td>NaN</td>\n",
       "      <td>46</td>\n",
       "      <td>VEHICLE ACCIDENT - PERSONAL INJURY</td>\n",
       "      <td>P</td>\n",
       "      <td>PROGRESS</td>\n",
       "      <td>11</td>\n",
       "      <td>DISREGARD / SIGNAL 9</td>\n",
       "      <td>NaN</td>\n",
       "      <td>NaN</td>\n",
       "      <td>NaN</td>\n",
       "      <td>C</td>\n",
       "      <td>S</td>\n",
       "      <td>323</td>\n",
       "      <td>8889.0</td>\n",
       "      <td>NaN</td>\n",
       "      <td>NaN</td>\n",
       "      <td>NaN</td>\n",
       "    </tr>\n",
       "    <tr>\n",
       "      <th>3</th>\n",
       "      <td>PD202100622285</td>\n",
       "      <td>10/01/2021 08:05:43 AM</td>\n",
       "      <td>NaN</td>\n",
       "      <td>43</td>\n",
       "      <td>WANT OFFICER FOR INVESTIGATION / ASSISTA</td>\n",
       "      <td>P</td>\n",
       "      <td>PROGRESS</td>\n",
       "      <td>5</td>\n",
       "      <td>GONE ON ARRIVAL</td>\n",
       "      <td>200.0</td>\n",
       "      <td>OLD HICKORY BLVD</td>\n",
       "      <td>123A</td>\n",
       "      <td>A</td>\n",
       "      <td>NaN</td>\n",
       "      <td>136W</td>\n",
       "      <td>0.0</td>\n",
       "      <td>36.079</td>\n",
       "      <td>-86.919</td>\n",
       "      <td>POINT (-86.919 36.079)</td>\n",
       "    </tr>\n",
       "    <tr>\n",
       "      <th>4</th>\n",
       "      <td>PD202100621219</td>\n",
       "      <td>09/30/2021 06:48:20 PM</td>\n",
       "      <td>2.021051e+10</td>\n",
       "      <td>40</td>\n",
       "      <td>SUSPICIOUS PERSON</td>\n",
       "      <td>TS</td>\n",
       "      <td>TERRY STOP</td>\n",
       "      <td>6</td>\n",
       "      <td>ASSISTED OTHER UNIT</td>\n",
       "      <td>NaN</td>\n",
       "      <td>NaN</td>\n",
       "      <td>2P63</td>\n",
       "      <td>B</td>\n",
       "      <td>NaN</td>\n",
       "      <td>NaN</td>\n",
       "      <td>NaN</td>\n",
       "      <td>NaN</td>\n",
       "      <td>NaN</td>\n",
       "      <td>NaN</td>\n",
       "    </tr>\n",
       "  </tbody>\n",
       "</table>\n",
       "</div>"
      ],
      "text/plain": [
       "     Event Number           Call Received  Complaint Number  Tencode  \\\n",
       "0  PD202100625493  10/02/2021 07:13:21 PM               NaN       71   \n",
       "1  PD202100626631  10/03/2021 11:25:42 AM               NaN       43   \n",
       "2  PD202100626031  10/03/2021 12:54:02 AM               NaN       46   \n",
       "3  PD202100622285  10/01/2021 08:05:43 AM               NaN       43   \n",
       "4  PD202100621219  09/30/2021 06:48:20 PM      2.021051e+10       40   \n",
       "\n",
       "                        Tencode Description Tencode Suffix  \\\n",
       "0                  BURGLARY - NON-RESIDENCE              A   \n",
       "1  WANT OFFICER FOR INVESTIGATION / ASSISTA              P   \n",
       "2        VEHICLE ACCIDENT - PERSONAL INJURY              P   \n",
       "3  WANT OFFICER FOR INVESTIGATION / ASSISTA              P   \n",
       "4                         SUSPICIOUS PERSON             TS   \n",
       "\n",
       "  Tencode Suffix Description Disposition Code Disposition Description  Block  \\\n",
       "0                      ALARM               11    DISREGARD / SIGNAL 9    NaN   \n",
       "1                   PROGRESS                4        ASSISTED CITIZEN    NaN   \n",
       "2                   PROGRESS               11    DISREGARD / SIGNAL 9    NaN   \n",
       "3                   PROGRESS                5         GONE ON ARRIVAL  200.0   \n",
       "4                 TERRY STOP                6     ASSISTED OTHER UNIT    NaN   \n",
       "\n",
       "        Street Name Unit Dispatched Shift Sector  Zone     RPA  Latitude  \\\n",
       "0               NaN             NaN     B      H   523  9557.0       NaN   \n",
       "1               NaN            513A     A      H   513  9033.0       NaN   \n",
       "2               NaN             NaN     C      S   323  8889.0       NaN   \n",
       "3  OLD HICKORY BLVD            123A     A    NaN  136W     0.0    36.079   \n",
       "4               NaN            2P63     B    NaN   NaN     NaN       NaN   \n",
       "\n",
       "   Longitude         Mapped Location  \n",
       "0        NaN                     NaN  \n",
       "1        NaN                     NaN  \n",
       "2        NaN                     NaN  \n",
       "3    -86.919  POINT (-86.919 36.079)  \n",
       "4        NaN                     NaN  "
      ]
     },
     "execution_count": 2,
     "metadata": {},
     "output_type": "execute_result"
    }
   ],
   "source": [
    "metro_calls = pd.read_csv('../data/Metro_Nashville_Police_Department_Calls_for_Service_20240222.csv', \n",
    "                          nrows = 100)\n",
    "\n",
    "metro_calls.head()"
   ]
  },
  {
   "cell_type": "markdown",
   "metadata": {},
   "source": [
    "Let's say that our goal is to find all incidents where the Tencode Description was 'SHOTS FIRED'.\n",
    "\n",
    "One thing we could try is to use the chunksize argument in our pd.read_csv call. What this does is to create an iterable which returns just the specified number of rows at a time.\n",
    "\n",
    "Iterating through a file using chunks can look like this, but can also be structured differently (for example, using a list comprehension).\n",
    "\n",
    "``` \n",
    "chunks = pd.read_csv('data/Metro_Nashville_Police_Department_Calls_for_Service.csv', chunksize = 10000)\n",
    "\n",
    "for chunk in chunks:\n",
    "    # Do something \n",
    "```"
   ]
  },
  {
   "cell_type": "markdown",
   "metadata": {},
   "source": [
    "Here is what we need to do:\n",
    "\n",
    "1. Create an iterable by using the chunksize argument.\n",
    "\n",
    "2. For each chunk, filter to just the rows where the 'Tencode Description' column is 'SHOTS FIRED'. Store these rows.\n",
    "\n",
    "3. Concatenate all the results together into a single dataframe."
   ]
  },
  {
   "cell_type": "code",
   "execution_count": 5,
   "metadata": {},
   "outputs": [],
   "source": [
    "chunks = pd.read_csv('../data/Metro_Nashville_Police_Department_Calls_for_Service_20240222.csv', \n",
    "                     chunksize = 10000)\n",
    "\n",
    "shots_fired = []\n",
    "\n",
    "for chunk in chunks:\n",
    "    chunk = chunk[chunk['Tencode Description'] == 'SHOTS FIRED']\n",
    "    shots_fired.append(chunk)\n",
    "    \n",
    "shots_fired = pd.concat(shots_fired, ignore_index = True)"
   ]
  },
  {
   "cell_type": "code",
   "execution_count": 7,
   "metadata": {},
   "outputs": [
    {
     "data": {
      "text/plain": [
       "(53856, 19)"
      ]
     },
     "execution_count": 7,
     "metadata": {},
     "output_type": "execute_result"
    }
   ],
   "source": [
    "shots_fired.shape"
   ]
  },
  {
   "cell_type": "markdown",
   "metadata": {},
   "source": [
    "The above solution would work for one-off tasks. However, if you are going to be working extensively with a dataset or merging two large datasets, it would be a bit cumbersome to have to chunk through one or both datasets multiple times.\n",
    "\n",
    "As an alternative to working in just Python, we can use a different tool which works better on large datasets - SQL.\n",
    "\n",
    "In this notebook, we will make use of SQLite, which is a file-based relational database management system. We can interact with SQLite databases through the sqlite3 library.\n",
    "\n",
    "**Note:** You only need to set up a database once! After that, you can just connect to it and pull in the data you need."
   ]
  },
  {
   "cell_type": "code",
   "execution_count": 8,
   "metadata": {},
   "outputs": [],
   "source": [
    "import sqlite3"
   ]
  },
  {
   "cell_type": "markdown",
   "metadata": {},
   "source": [
    "First, we need to connect to our database. The connect function will either create a new database if one does not already exist or connect to an existing one."
   ]
  },
  {
   "cell_type": "code",
   "execution_count": 9,
   "metadata": {},
   "outputs": [],
   "source": [
    "db = sqlite3.connect('../data/police_calls.sqlite')\n",
    "\n",
    "for chunk in pd.read_csv('../data/Metro_Nashville_Police_Department_Calls_for_Service_20240222.csv', \n",
    "                              chunksize = 10000):\n",
    "    chunk.columns = [x.lower().replace(' ', '_') for x in chunk.columns]      # Clean up the column names\n",
    "    chunk.to_sql('calls', \n",
    "                 db, \n",
    "                 if_exists = 'append', \n",
    "                 index = False)            # Append the chunk to a calls table"
   ]
  },
  {
   "cell_type": "markdown",
   "metadata": {},
   "source": [
    "To speed up queries which use a specific column, we can create an **index** on that column. This causes the database to store that column in a way that helps it to retrieve rows quicker."
   ]
  },
  {
   "cell_type": "code",
   "execution_count": 10,
   "metadata": {},
   "outputs": [
    {
     "data": {
      "text/plain": [
       "<sqlite3.Cursor at 0x12f8fca40>"
      ]
     },
     "execution_count": 10,
     "metadata": {},
     "output_type": "execute_result"
    }
   ],
   "source": [
    "db.execute('CREATE INDEX tencode_description ON calls(tencode_description)')"
   ]
  },
  {
   "cell_type": "markdown",
   "metadata": {},
   "source": [
    "Finally, we should close our database connection."
   ]
  },
  {
   "cell_type": "code",
   "execution_count": 11,
   "metadata": {},
   "outputs": [],
   "source": [
    "db.close()"
   ]
  },
  {
   "cell_type": "markdown",
   "metadata": {},
   "source": [
    "Now, let's see how long it takes to find all rows corresponding to 'SHOTS FIRED'."
   ]
  },
  {
   "cell_type": "code",
   "execution_count": 12,
   "metadata": {},
   "outputs": [],
   "source": [
    "db = sqlite3.connect('../data/police_calls.sqlite')\n",
    "\n",
    "query = \"SELECT * FROM calls WHERE tencode_description = 'SHOTS FIRED'\"\n",
    "\n",
    "shots_sqlite = pd.read_sql(query, db)\n",
    "\n",
    "db.close()"
   ]
  },
  {
   "cell_type": "code",
   "execution_count": 13,
   "metadata": {},
   "outputs": [
    {
     "data": {
      "text/plain": [
       "(53856, 19)"
      ]
     },
     "execution_count": 13,
     "metadata": {},
     "output_type": "execute_result"
    }
   ],
   "source": [
    "shots_sqlite.shape"
   ]
  },
  {
   "cell_type": "markdown",
   "metadata": {},
   "source": [
    "You can also use a **context manager** which will take care of closing the connection for you."
   ]
  },
  {
   "cell_type": "code",
   "execution_count": null,
   "metadata": {},
   "outputs": [],
   "source": [
    "query = \"SELECT * FROM calls WHERE tencode_description = 'SHOTS FIRED'\"\n",
    "\n",
    "with sqlite3.connect('../data/police_calls.sqlite') as db: \n",
    "    shots_sqlite = pd.read_sql(query, db)"
   ]
  },
  {
   "cell_type": "markdown",
   "metadata": {},
   "source": [
    "We can also do things like find the most frequent tencode."
   ]
  },
  {
   "cell_type": "code",
   "execution_count": 14,
   "metadata": {},
   "outputs": [
    {
     "data": {
      "text/html": [
       "<div>\n",
       "<style scoped>\n",
       "    .dataframe tbody tr th:only-of-type {\n",
       "        vertical-align: middle;\n",
       "    }\n",
       "\n",
       "    .dataframe tbody tr th {\n",
       "        vertical-align: top;\n",
       "    }\n",
       "\n",
       "    .dataframe thead th {\n",
       "        text-align: right;\n",
       "    }\n",
       "</style>\n",
       "<table border=\"1\" class=\"dataframe\">\n",
       "  <thead>\n",
       "    <tr style=\"text-align: right;\">\n",
       "      <th></th>\n",
       "      <th>tencode_description</th>\n",
       "      <th>num_calls</th>\n",
       "    </tr>\n",
       "  </thead>\n",
       "  <tbody>\n",
       "    <tr>\n",
       "      <th>0</th>\n",
       "      <td>WANT OFFICER FOR INVESTIGATION / ASSISTA</td>\n",
       "      <td>1063455</td>\n",
       "    </tr>\n",
       "    <tr>\n",
       "      <th>1</th>\n",
       "      <td>BUSINESS CHECK</td>\n",
       "      <td>813425</td>\n",
       "    </tr>\n",
       "    <tr>\n",
       "      <th>2</th>\n",
       "      <td>TRAFFIC VIOLATION</td>\n",
       "      <td>604989</td>\n",
       "    </tr>\n",
       "    <tr>\n",
       "      <th>3</th>\n",
       "      <td>THEFT</td>\n",
       "      <td>280775</td>\n",
       "    </tr>\n",
       "    <tr>\n",
       "      <th>4</th>\n",
       "      <td>COMMUNITY POLICING ACTIVITY</td>\n",
       "      <td>277399</td>\n",
       "    </tr>\n",
       "  </tbody>\n",
       "</table>\n",
       "</div>"
      ],
      "text/plain": [
       "                        tencode_description  num_calls\n",
       "0  WANT OFFICER FOR INVESTIGATION / ASSISTA    1063455\n",
       "1                            BUSINESS CHECK     813425\n",
       "2                         TRAFFIC VIOLATION     604989\n",
       "3                                     THEFT     280775\n",
       "4               COMMUNITY POLICING ACTIVITY     277399"
      ]
     },
     "execution_count": 14,
     "metadata": {},
     "output_type": "execute_result"
    }
   ],
   "source": [
    "query = \"\"\"\n",
    "SELECT tencode_description, COUNT(*) AS num_calls\n",
    "FROM calls\n",
    "GROUP BY tencode_description\n",
    "ORDER BY num_calls DESC\n",
    "\"\"\"\n",
    "\n",
    "with sqlite3.connect('../data/police_calls.sqlite') as db:\n",
    "    counts = pd.read_sql(query, db)\n",
    "    \n",
    "counts.head()"
   ]
  },
  {
   "cell_type": "markdown",
   "metadata": {},
   "source": [
    "Now, let's add in the Metro Police Department Incidents database."
   ]
  },
  {
   "cell_type": "code",
   "execution_count": 16,
   "metadata": {},
   "outputs": [],
   "source": [
    "db = sqlite3.connect('../data/police_calls.sqlite')\n",
    "\n",
    "for chunk in pd.read_csv('../data/Metro_Nashville_Police_Department_Incidents_20240222.csv', \n",
    "                              chunksize = 10000):\n",
    "    chunk.columns = [x.lower().replace(' ', '_') for x in chunk.columns]      # Clean up the column names\n",
    "    chunk.to_sql('incidents', db, if_exists = 'append', index = False)            # Append the chunk to a calls table\n",
    "    \n",
    "db.close()"
   ]
  },
  {
   "cell_type": "markdown",
   "metadata": {},
   "source": [
    "If we want to match calls to incidents, we can use the complaint_number column from the calls database and the incident_number column from the incidents database.\n",
    "\n",
    "To speed up this process, we can created indexes on these two columns."
   ]
  },
  {
   "cell_type": "code",
   "execution_count": 17,
   "metadata": {},
   "outputs": [],
   "source": [
    "db = sqlite3.connect('../data/police_calls.sqlite')\n",
    "\n",
    "db.execute('CREATE INDEX complaint_number ON calls(complaint_number)')\n",
    "db.execute('CREATE INDEX incident_number ON incidents(incident_number)')\n",
    "\n",
    "db.close()"
   ]
  },
  {
   "cell_type": "markdown",
   "metadata": {},
   "source": [
    "Now, let's grab all SHOTS FIRED calls for which there is an associated incident and bring in the incident information. Note that the complaint_number from calls matches the incident_number from incidents."
   ]
  },
  {
   "cell_type": "code",
   "execution_count": null,
   "metadata": {},
   "outputs": [],
   "source": [
    "query = \"\"\"\n",
    "SELECT * FROM calls AS c \n",
    "JOIN incidents AS i \n",
    "ON c.complaint_number = i.incident_number \n",
    "WHERE tencode_description = 'SHOTS FIRED'\n",
    "\"\"\"\n",
    "\n",
    "with sqlite3.connect('../data/police_calls.sqlite') as db: \n",
    "    shots_sqlite = pd.read_sql(query, db)"
   ]
  },
  {
   "cell_type": "code",
   "execution_count": null,
   "metadata": {},
   "outputs": [],
   "source": [
    "shots_sqlite"
   ]
  }
 ],
 "metadata": {
  "kernelspec": {
   "display_name": "Python 3 (ipykernel)",
   "language": "python",
   "name": "python3"
  },
  "language_info": {
   "codemirror_mode": {
    "name": "ipython",
    "version": 3
   },
   "file_extension": ".py",
   "mimetype": "text/x-python",
   "name": "python",
   "nbconvert_exporter": "python",
   "pygments_lexer": "ipython3",
   "version": "3.11.3"
  }
 },
 "nbformat": 4,
 "nbformat_minor": 4
}
